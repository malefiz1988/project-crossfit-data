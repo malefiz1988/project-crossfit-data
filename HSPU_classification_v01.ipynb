{
 "cells": [
  {
   "cell_type": "code",
   "execution_count": 68,
   "id": "opponent-nursery",
   "metadata": {},
   "outputs": [],
   "source": [
    "import pandas as pd\n",
    "\n",
    "from sklearn.model_selection import train_test_split\n",
    "from sklearn.linear_model import LogisticRegression\n",
    "from sklearn.metrics import confusion_matrix\n",
    "\n",
    "pd.set_option('display.max_columns', None)"
   ]
  },
  {
   "cell_type": "code",
   "execution_count": 38,
   "id": "preceding-jordan",
   "metadata": {},
   "outputs": [],
   "source": [
    "df_19 = pd.read_csv('./data/2019_opens_clean.csv')\n",
    "df_19 = df_19.loc[:, ~df_19.columns.str.contains('^Unnamed')]"
   ]
  },
  {
   "cell_type": "code",
   "execution_count": 39,
   "id": "demanding-sharp",
   "metadata": {},
   "outputs": [
    {
     "data": {
      "text/plain": [
       "(338538, 76)"
      ]
     },
     "execution_count": 39,
     "metadata": {},
     "output_type": "execute_result"
    }
   ],
   "source": [
    "df_19.shape"
   ]
  },
  {
   "cell_type": "code",
   "execution_count": 55,
   "id": "sealed-chemistry",
   "metadata": {},
   "outputs": [],
   "source": [
    "df_rand = df_19.sample(frac=0.01, random_state=42)"
   ]
  },
  {
   "cell_type": "code",
   "execution_count": 56,
   "id": "important-machine",
   "metadata": {},
   "outputs": [],
   "source": [
    "cols = ['gender','age','height','weight','bs_cleanandjerk','w1_reps_total','w3_hspu_status']"
   ]
  },
  {
   "cell_type": "code",
   "execution_count": 57,
   "id": "driving-baking",
   "metadata": {},
   "outputs": [],
   "source": [
    "df_rand = df_rand[cols]"
   ]
  },
  {
   "cell_type": "code",
   "execution_count": 58,
   "id": "reserved-bride",
   "metadata": {},
   "outputs": [
    {
     "data": {
      "text/plain": [
       "(3385, 7)"
      ]
     },
     "execution_count": 58,
     "metadata": {},
     "output_type": "execute_result"
    }
   ],
   "source": [
    "df_rand.shape"
   ]
  },
  {
   "cell_type": "code",
   "execution_count": 59,
   "id": "greater-houston",
   "metadata": {},
   "outputs": [],
   "source": [
    "df_rand['gender'].replace(['M','F'],[1,0],inplace=True)\n",
    "df_rand.dropna(inplace=True)"
   ]
  },
  {
   "cell_type": "code",
   "execution_count": 60,
   "id": "expensive-journalism",
   "metadata": {},
   "outputs": [
    {
     "data": {
      "text/plain": [
       "(646, 7)"
      ]
     },
     "execution_count": 60,
     "metadata": {},
     "output_type": "execute_result"
    }
   ],
   "source": [
    "df_rand.shape"
   ]
  },
  {
   "cell_type": "code",
   "execution_count": null,
   "id": "compliant-bahamas",
   "metadata": {},
   "outputs": [],
   "source": []
  },
  {
   "cell_type": "code",
   "execution_count": 61,
   "id": "bulgarian-selection",
   "metadata": {},
   "outputs": [],
   "source": [
    "y = df_rand['w3_hspu_status']\n",
    "X = df_rand.drop(axis=1,columns='w3_hspu_status')"
   ]
  },
  {
   "cell_type": "code",
   "execution_count": 62,
   "id": "atlantic-bridge",
   "metadata": {},
   "outputs": [],
   "source": [
    "X_train, X_test, y_train, y_test = train_test_split(X, y, random_state=1)"
   ]
  },
  {
   "cell_type": "code",
   "execution_count": 63,
   "id": "experimental-graham",
   "metadata": {},
   "outputs": [
    {
     "data": {
      "text/plain": [
       "LogisticRegression()"
      ]
     },
     "execution_count": 63,
     "metadata": {},
     "output_type": "execute_result"
    }
   ],
   "source": [
    "lr = LogisticRegression()\n",
    "lr.fit(X_train, y_train)"
   ]
  },
  {
   "cell_type": "code",
   "execution_count": 64,
   "id": "developmental-desktop",
   "metadata": {},
   "outputs": [
    {
     "name": "stdout",
     "output_type": "stream",
     "text": [
      "[[ 0.34593327  0.04162895 -0.78874285 -0.1172501   0.06185727  0.03230845]]\n",
      "[-3.36983932]\n"
     ]
    }
   ],
   "source": [
    "print(lr.coef_)\n",
    "print(lr.intercept_)"
   ]
  },
  {
   "cell_type": "code",
   "execution_count": 67,
   "id": "worth-coordinate",
   "metadata": {},
   "outputs": [],
   "source": [
    "y_pred = lr.predict(X_test)"
   ]
  },
  {
   "cell_type": "code",
   "execution_count": 69,
   "id": "compressed-millennium",
   "metadata": {},
   "outputs": [
    {
     "data": {
      "text/plain": [
       "array([[32, 16],\n",
       "       [19, 95]])"
      ]
     },
     "execution_count": 69,
     "metadata": {},
     "output_type": "execute_result"
    }
   ],
   "source": [
    "confusion_matrix(y_test, y_pred)"
   ]
  },
  {
   "cell_type": "code",
   "execution_count": null,
   "id": "wound-nashville",
   "metadata": {},
   "outputs": [],
   "source": []
  }
 ],
 "metadata": {
  "kernelspec": {
   "display_name": "Python 3",
   "language": "python",
   "name": "python3"
  },
  "language_info": {
   "codemirror_mode": {
    "name": "ipython",
    "version": 3
   },
   "file_extension": ".py",
   "mimetype": "text/x-python",
   "name": "python",
   "nbconvert_exporter": "python",
   "pygments_lexer": "ipython3",
   "version": "3.8.5"
  }
 },
 "nbformat": 4,
 "nbformat_minor": 5
}
