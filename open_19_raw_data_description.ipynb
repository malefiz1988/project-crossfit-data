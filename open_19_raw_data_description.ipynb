{
 "cells": [
  {
   "cell_type": "markdown",
   "id": "quiet-cathedral",
   "metadata": {},
   "source": [
    "# Raw Data Description"
   ]
  },
  {
   "cell_type": "code",
   "execution_count": 1,
   "id": "correct-affairs",
   "metadata": {},
   "outputs": [],
   "source": [
    "# import relevant libraries\n",
    "import pandas as pd\n",
    "import warnings"
   ]
  },
  {
   "cell_type": "code",
   "execution_count": 2,
   "id": "agreed-acceptance",
   "metadata": {},
   "outputs": [],
   "source": [
    "# set options\n",
    "warnings.filterwarnings('ignore')\n",
    "pd.set_option('display.max_columns', None)"
   ]
  },
  {
   "cell_type": "markdown",
   "id": "judicial-variable",
   "metadata": {},
   "source": [
    "There are two datasets for the CrossFit Open 2019. Both datasets are provided by [kaggle](https://www.kaggle.com/jeanmidev/crossfit-games). The origin of the data is from the official Reebok CrossFit website.The dataset \"2019_opens_athletes.csv\" contains information of all the athletes participated in the Open 2019 and in the dataset \"2019_opens_scores.csv\" there are the results of the five competition workouts."
   ]
  },
  {
   "cell_type": "markdown",
   "id": "divine-tuesday",
   "metadata": {},
   "source": [
    "The third dataset is created via webscraping from the official [CrossFit](https://games.crossfit.com) website and contains the benchmark statistics of athletes if provided."
   ]
  },
  {
   "cell_type": "code",
   "execution_count": 3,
   "id": "unique-pharmacy",
   "metadata": {},
   "outputs": [],
   "source": [
    "# read the two datasets of 2019 - Open Athletes & Open Scores\n",
    "df_19_ath = pd.read_csv('./data/2019_opens_athletes.csv')\n",
    "df_19_sco = pd.read_csv('./data/2019_opens_scores.csv')\n",
    "\n",
    "# read the scraped datased - Athlete's Benchmark Statistics\n",
    "df_19_bs = pd.read_csv('./data/2019_opens_bs.csv')"
   ]
  },
  {
   "cell_type": "markdown",
   "id": "sufficient-camping",
   "metadata": {},
   "source": [
    "---"
   ]
  },
  {
   "cell_type": "markdown",
   "id": "friendly-grocery",
   "metadata": {},
   "source": [
    "## Athlete Dataset"
   ]
  },
  {
   "cell_type": "markdown",
   "id": "sound-space",
   "metadata": {},
   "source": [
    "### Dataset Information"
   ]
  },
  {
   "cell_type": "code",
   "execution_count": 4,
   "id": "driven-growth",
   "metadata": {},
   "outputs": [
    {
     "data": {
      "text/plain": [
       "(572653, 19)"
      ]
     },
     "execution_count": 4,
     "metadata": {},
     "output_type": "execute_result"
    }
   ],
   "source": [
    "df_19_ath.shape"
   ]
  },
  {
   "cell_type": "code",
   "execution_count": 5,
   "id": "saving-reynolds",
   "metadata": {},
   "outputs": [
    {
     "name": "stdout",
     "output_type": "stream",
     "text": [
      "<class 'pandas.core.frame.DataFrame'>\n",
      "RangeIndex: 572653 entries, 0 to 572652\n",
      "Data columns (total 19 columns):\n",
      " #   Column               Non-Null Count   Dtype  \n",
      "---  ------               --------------   -----  \n",
      " 0   competitorid         572653 non-null  int64  \n",
      " 1   competitorname       572653 non-null  object \n",
      " 2   firstname            572653 non-null  object \n",
      " 3   lastname             572653 non-null  object \n",
      " 4   postcompstatus       302 non-null     object \n",
      " 5   gender               572653 non-null  object \n",
      " 6   profilepics3key      572653 non-null  object \n",
      " 7   countryoforigincode  572348 non-null  object \n",
      " 8   countryoforiginname  572653 non-null  object \n",
      " 9   divisionid           572653 non-null  int64  \n",
      " 10  affiliateid          572653 non-null  int64  \n",
      " 11  affiliatename        540821 non-null  object \n",
      " 12  age                  572653 non-null  int64  \n",
      " 13  height               304823 non-null  float64\n",
      " 14  weight               323754 non-null  float64\n",
      " 15  overallrank          572653 non-null  int64  \n",
      " 16  overallscore         572653 non-null  int64  \n",
      " 17  is_scaled            572653 non-null  int64  \n",
      " 18  division             572653 non-null  object \n",
      "dtypes: float64(2), int64(7), object(10)\n",
      "memory usage: 83.0+ MB\n"
     ]
    }
   ],
   "source": [
    "df_19_ath.info()"
   ]
  },
  {
   "cell_type": "markdown",
   "id": "muslim-fault",
   "metadata": {},
   "source": [
    "* 572,653 entries in the dataset\n",
    "* 19 features: 8 numeric and 11 categorical\n",
    "* 10,3 % missing cells\n",
    "* no duplicate rows\n",
    "* memory size 380 MB"
   ]
  },
  {
   "cell_type": "markdown",
   "id": "physical-korean",
   "metadata": {},
   "source": [
    "### Feature Explanation"
   ]
  },
  {
   "cell_type": "code",
   "execution_count": 6,
   "id": "southeast-column",
   "metadata": {},
   "outputs": [
    {
     "data": {
      "text/html": [
       "<div>\n",
       "<style scoped>\n",
       "    .dataframe tbody tr th:only-of-type {\n",
       "        vertical-align: middle;\n",
       "    }\n",
       "\n",
       "    .dataframe tbody tr th {\n",
       "        vertical-align: top;\n",
       "    }\n",
       "\n",
       "    .dataframe thead th {\n",
       "        text-align: right;\n",
       "    }\n",
       "</style>\n",
       "<table border=\"1\" class=\"dataframe\">\n",
       "  <thead>\n",
       "    <tr style=\"text-align: right;\">\n",
       "      <th></th>\n",
       "      <th>competitorid</th>\n",
       "      <th>competitorname</th>\n",
       "      <th>firstname</th>\n",
       "      <th>lastname</th>\n",
       "      <th>postcompstatus</th>\n",
       "      <th>gender</th>\n",
       "      <th>profilepics3key</th>\n",
       "      <th>countryoforigincode</th>\n",
       "      <th>countryoforiginname</th>\n",
       "      <th>divisionid</th>\n",
       "      <th>affiliateid</th>\n",
       "      <th>affiliatename</th>\n",
       "      <th>age</th>\n",
       "      <th>height</th>\n",
       "      <th>weight</th>\n",
       "      <th>overallrank</th>\n",
       "      <th>overallscore</th>\n",
       "      <th>is_scaled</th>\n",
       "      <th>division</th>\n",
       "    </tr>\n",
       "  </thead>\n",
       "  <tbody>\n",
       "    <tr>\n",
       "      <th>0</th>\n",
       "      <td>2536</td>\n",
       "      <td>Samantha Briggs</td>\n",
       "      <td>Samantha</td>\n",
       "      <td>Briggs</td>\n",
       "      <td>accepted</td>\n",
       "      <td>F</td>\n",
       "      <td>0e63d-P2536_14-184.jpg</td>\n",
       "      <td>GB</td>\n",
       "      <td>United Kingdom</td>\n",
       "      <td>19</td>\n",
       "      <td>4098</td>\n",
       "      <td>CrossFit Black Five</td>\n",
       "      <td>37</td>\n",
       "      <td>1.70</td>\n",
       "      <td>61.23</td>\n",
       "      <td>1</td>\n",
       "      <td>33</td>\n",
       "      <td>0</td>\n",
       "      <td>Women (35-39)</td>\n",
       "    </tr>\n",
       "    <tr>\n",
       "      <th>1</th>\n",
       "      <td>485089</td>\n",
       "      <td>Renata Pimentel</td>\n",
       "      <td>Renata</td>\n",
       "      <td>Pimentel</td>\n",
       "      <td>accepted</td>\n",
       "      <td>F</td>\n",
       "      <td>04e97-P485089_5-184.jpg</td>\n",
       "      <td>BR</td>\n",
       "      <td>Brazil</td>\n",
       "      <td>19</td>\n",
       "      <td>15868</td>\n",
       "      <td>CrossFit Gurkha</td>\n",
       "      <td>36</td>\n",
       "      <td>1.74</td>\n",
       "      <td>73.00</td>\n",
       "      <td>2</td>\n",
       "      <td>66</td>\n",
       "      <td>0</td>\n",
       "      <td>Women (35-39)</td>\n",
       "    </tr>\n",
       "    <tr>\n",
       "      <th>2</th>\n",
       "      <td>16973</td>\n",
       "      <td>Carleen Mathews</td>\n",
       "      <td>Carleen</td>\n",
       "      <td>Mathews</td>\n",
       "      <td>NaN</td>\n",
       "      <td>F</td>\n",
       "      <td>b663a-P16973_6-184.jpg</td>\n",
       "      <td>US</td>\n",
       "      <td>United States</td>\n",
       "      <td>19</td>\n",
       "      <td>10471</td>\n",
       "      <td>CrossFit Saint Helens</td>\n",
       "      <td>35</td>\n",
       "      <td>1.57</td>\n",
       "      <td>62.14</td>\n",
       "      <td>3</td>\n",
       "      <td>101</td>\n",
       "      <td>0</td>\n",
       "      <td>Women (35-39)</td>\n",
       "    </tr>\n",
       "    <tr>\n",
       "      <th>3</th>\n",
       "      <td>751083</td>\n",
       "      <td>Danila Capaccetti</td>\n",
       "      <td>Danila</td>\n",
       "      <td>Capaccetti</td>\n",
       "      <td>NaN</td>\n",
       "      <td>F</td>\n",
       "      <td>pukie.png</td>\n",
       "      <td>IT</td>\n",
       "      <td>Italy</td>\n",
       "      <td>19</td>\n",
       "      <td>9329</td>\n",
       "      <td>CrossFit Black Shark</td>\n",
       "      <td>35</td>\n",
       "      <td>1.70</td>\n",
       "      <td>71.00</td>\n",
       "      <td>4</td>\n",
       "      <td>139</td>\n",
       "      <td>0</td>\n",
       "      <td>Women (35-39)</td>\n",
       "    </tr>\n",
       "    <tr>\n",
       "      <th>4</th>\n",
       "      <td>313257</td>\n",
       "      <td>Hope Cicero</td>\n",
       "      <td>Hope</td>\n",
       "      <td>Cicero</td>\n",
       "      <td>NaN</td>\n",
       "      <td>F</td>\n",
       "      <td>f204b-P313257_1-184.jpg</td>\n",
       "      <td>US</td>\n",
       "      <td>United States</td>\n",
       "      <td>19</td>\n",
       "      <td>438</td>\n",
       "      <td>CrossFit Billings</td>\n",
       "      <td>36</td>\n",
       "      <td>1.55</td>\n",
       "      <td>61.23</td>\n",
       "      <td>5</td>\n",
       "      <td>176</td>\n",
       "      <td>0</td>\n",
       "      <td>Women (35-39)</td>\n",
       "    </tr>\n",
       "  </tbody>\n",
       "</table>\n",
       "</div>"
      ],
      "text/plain": [
       "   competitorid     competitorname firstname    lastname postcompstatus  \\\n",
       "0          2536    Samantha Briggs  Samantha      Briggs       accepted   \n",
       "1        485089    Renata Pimentel    Renata    Pimentel       accepted   \n",
       "2         16973    Carleen Mathews   Carleen     Mathews            NaN   \n",
       "3        751083  Danila Capaccetti    Danila  Capaccetti            NaN   \n",
       "4        313257        Hope Cicero      Hope      Cicero            NaN   \n",
       "\n",
       "  gender          profilepics3key countryoforigincode countryoforiginname  \\\n",
       "0      F   0e63d-P2536_14-184.jpg                  GB      United Kingdom   \n",
       "1      F  04e97-P485089_5-184.jpg                  BR              Brazil   \n",
       "2      F   b663a-P16973_6-184.jpg                  US       United States   \n",
       "3      F                pukie.png                  IT               Italy   \n",
       "4      F  f204b-P313257_1-184.jpg                  US       United States   \n",
       "\n",
       "   divisionid  affiliateid          affiliatename  age  height  weight  \\\n",
       "0          19         4098    CrossFit Black Five   37    1.70   61.23   \n",
       "1          19        15868        CrossFit Gurkha   36    1.74   73.00   \n",
       "2          19        10471  CrossFit Saint Helens   35    1.57   62.14   \n",
       "3          19         9329   CrossFit Black Shark   35    1.70   71.00   \n",
       "4          19          438      CrossFit Billings   36    1.55   61.23   \n",
       "\n",
       "   overallrank  overallscore  is_scaled       division  \n",
       "0            1            33          0  Women (35-39)  \n",
       "1            2            66          0  Women (35-39)  \n",
       "2            3           101          0  Women (35-39)  \n",
       "3            4           139          0  Women (35-39)  \n",
       "4            5           176          0  Women (35-39)  "
      ]
     },
     "execution_count": 6,
     "metadata": {},
     "output_type": "execute_result"
    }
   ],
   "source": [
    "df_19_ath.head()"
   ]
  },
  {
   "cell_type": "markdown",
   "id": "neither-causing",
   "metadata": {},
   "source": [
    "* competitorid: each athlete is identified by the unique id (also available in the other datasets)\n",
    "* competitorname: the full name of an athlete containing both first name and last name\n",
    "* firstname: the first name of an athlete\n",
    "* lastname: the last name of an athlete\n",
    "* postcompstatus: (meaning not clarified)\n",
    "* gender: gender of an athlete (male, female)\n",
    "* profilepics3key: name of the picture in athlete profile\n",
    "* countryoforigincode: the abbreviated code of an athlete's country of origin\n",
    "* countryoforiginname: full name of an athlete's country of origin\n",
    "* divisionid: redundand information of division\n",
    "* affiliateid: the unique id of an athlete's affiliate\n",
    "* affiliatename: the official name of an athlete's affiliate\n",
    "* age: the age of an athlete\n",
    "* height: the height of an athlete (in meters)\n",
    "* weight: the weight of an athlete (in kg)\n",
    "* overallrank: the rank of an athlete considering all five competition workouts\n",
    "* overallscore: the score an athlete has reached after all five workouts\n",
    "* is_scaled: displays if an athlete belongs to a scaling division (overall)\n",
    "* division: the division (grouped by age) an athlete belongs to"
   ]
  },
  {
   "cell_type": "markdown",
   "id": "presidential-criminal",
   "metadata": {},
   "source": [
    "### Neglected Features"
   ]
  },
  {
   "cell_type": "markdown",
   "id": "atmospheric-fireplace",
   "metadata": {},
   "source": [
    "* competitorname: contains the information of firstname and lastname\n",
    "* postcompstatus: almost entire data is missing\n",
    "* profilepics3key: just the name of a picture\n",
    "* countryoforiginname: contains same information as countryoforigincode\n",
    "* dividionid: information of age-grouped divisions already in division"
   ]
  },
  {
   "cell_type": "markdown",
   "id": "falling-bernard",
   "metadata": {},
   "source": [
    "---"
   ]
  },
  {
   "cell_type": "markdown",
   "id": "german-shoulder",
   "metadata": {},
   "source": [
    "## Score Dataset"
   ]
  },
  {
   "cell_type": "markdown",
   "id": "limited-income",
   "metadata": {},
   "source": [
    "### Dataset Information"
   ]
  },
  {
   "cell_type": "code",
   "execution_count": 7,
   "id": "wired-lounge",
   "metadata": {},
   "outputs": [
    {
     "data": {
      "text/plain": [
       "(2863265, 13)"
      ]
     },
     "execution_count": 7,
     "metadata": {},
     "output_type": "execute_result"
    }
   ],
   "source": [
    "df_19_sco.shape"
   ]
  },
  {
   "cell_type": "code",
   "execution_count": 8,
   "id": "designing-sequence",
   "metadata": {},
   "outputs": [
    {
     "name": "stdout",
     "output_type": "stream",
     "text": [
      "<class 'pandas.core.frame.DataFrame'>\n",
      "RangeIndex: 2863265 entries, 0 to 2863264\n",
      "Data columns (total 13 columns):\n",
      " #   Column           Dtype  \n",
      "---  ------           -----  \n",
      " 0   affiliate        object \n",
      " 1   breakdown        object \n",
      " 2   competitorid     int64  \n",
      " 3   division         object \n",
      " 4   is_scaled        int64  \n",
      " 5   judge            object \n",
      " 6   ordinal          int64  \n",
      " 7   rank             int64  \n",
      " 8   scaled           int64  \n",
      " 9   score            int64  \n",
      " 10  scoredisplay     object \n",
      " 11  scoreidentifier  object \n",
      " 12  time             float64\n",
      "dtypes: float64(1), int64(6), object(6)\n",
      "memory usage: 284.0+ MB\n"
     ]
    }
   ],
   "source": [
    "df_19_sco.info()"
   ]
  },
  {
   "cell_type": "markdown",
   "id": "exterior-scotland",
   "metadata": {},
   "source": [
    "* 572,653 athlete entries from athlete dataset with 5 competition workouts per athlete results in 2,863,265 scores observations\n",
    "* 13 features, 9 categorical & 4 numerical\n",
    "* 14.7 % missing cells\n",
    "* no duplicate rows\n",
    "* memory size 1.2 GB"
   ]
  },
  {
   "cell_type": "markdown",
   "id": "cathedral-infection",
   "metadata": {},
   "source": [
    "### Feature Explanation"
   ]
  },
  {
   "cell_type": "code",
   "execution_count": 9,
   "id": "serious-laundry",
   "metadata": {},
   "outputs": [
    {
     "data": {
      "text/html": [
       "<div>\n",
       "<style scoped>\n",
       "    .dataframe tbody tr th:only-of-type {\n",
       "        vertical-align: middle;\n",
       "    }\n",
       "\n",
       "    .dataframe tbody tr th {\n",
       "        vertical-align: top;\n",
       "    }\n",
       "\n",
       "    .dataframe thead th {\n",
       "        text-align: right;\n",
       "    }\n",
       "</style>\n",
       "<table border=\"1\" class=\"dataframe\">\n",
       "  <thead>\n",
       "    <tr style=\"text-align: right;\">\n",
       "      <th></th>\n",
       "      <th>affiliate</th>\n",
       "      <th>breakdown</th>\n",
       "      <th>competitorid</th>\n",
       "      <th>division</th>\n",
       "      <th>is_scaled</th>\n",
       "      <th>judge</th>\n",
       "      <th>ordinal</th>\n",
       "      <th>rank</th>\n",
       "      <th>scaled</th>\n",
       "      <th>score</th>\n",
       "      <th>scoredisplay</th>\n",
       "      <th>scoreidentifier</th>\n",
       "      <th>time</th>\n",
       "    </tr>\n",
       "  </thead>\n",
       "  <tbody>\n",
       "    <tr>\n",
       "      <th>0</th>\n",
       "      <td>CrossFit RDU</td>\n",
       "      <td>9 rounds +\\n10 wall-ball shots\\n</td>\n",
       "      <td>96511</td>\n",
       "      <td>Men (45-49)</td>\n",
       "      <td>0</td>\n",
       "      <td>Erin Miller</td>\n",
       "      <td>1</td>\n",
       "      <td>1</td>\n",
       "      <td>0</td>\n",
       "      <td>13520000</td>\n",
       "      <td>352 reps</td>\n",
       "      <td>27f30f9a8c0a564ae799</td>\n",
       "      <td>NaN</td>\n",
       "    </tr>\n",
       "    <tr>\n",
       "      <th>1</th>\n",
       "      <td>CrossFit RDU</td>\n",
       "      <td>Within 16 minutes:\\n3 rounds +\\n25 toes-to-bar...</td>\n",
       "      <td>96511</td>\n",
       "      <td>Men (45-49)</td>\n",
       "      <td>0</td>\n",
       "      <td>Harper Thorsen</td>\n",
       "      <td>2</td>\n",
       "      <td>4</td>\n",
       "      <td>0</td>\n",
       "      <td>13420368</td>\n",
       "      <td>342 reps</td>\n",
       "      <td>0ed3d1264f25a8f1890d</td>\n",
       "      <td>NaN</td>\n",
       "    </tr>\n",
       "    <tr>\n",
       "      <th>2</th>\n",
       "      <td>CrossFit RDU</td>\n",
       "      <td>200-ft. OH lunge\\n50 box step-ups\\n50 strict H...</td>\n",
       "      <td>96511</td>\n",
       "      <td>Men (45-49)</td>\n",
       "      <td>0</td>\n",
       "      <td>Harper Thorsen</td>\n",
       "      <td>3</td>\n",
       "      <td>1</td>\n",
       "      <td>0</td>\n",
       "      <td>11800018</td>\n",
       "      <td>9:42</td>\n",
       "      <td>f2a143399a330c95321b</td>\n",
       "      <td>582.0</td>\n",
       "    </tr>\n",
       "    <tr>\n",
       "      <th>3</th>\n",
       "      <td>CrossFit RDU</td>\n",
       "      <td>132 reps\\n6 rounds</td>\n",
       "      <td>96511</td>\n",
       "      <td>Men (45-49)</td>\n",
       "      <td>0</td>\n",
       "      <td>Harper Thorsen</td>\n",
       "      <td>4</td>\n",
       "      <td>36</td>\n",
       "      <td>0</td>\n",
       "      <td>11320009</td>\n",
       "      <td>11:51</td>\n",
       "      <td>89101e401c6c85997363</td>\n",
       "      <td>711.0</td>\n",
       "    </tr>\n",
       "    <tr>\n",
       "      <th>4</th>\n",
       "      <td>CrossFit RDU</td>\n",
       "      <td>210 reps</td>\n",
       "      <td>96511</td>\n",
       "      <td>Men (45-49)</td>\n",
       "      <td>0</td>\n",
       "      <td>Harper Thorsen</td>\n",
       "      <td>5</td>\n",
       "      <td>1</td>\n",
       "      <td>0</td>\n",
       "      <td>12100573</td>\n",
       "      <td>10:27</td>\n",
       "      <td>f7588c9174f1fe90f5c4</td>\n",
       "      <td>627.0</td>\n",
       "    </tr>\n",
       "  </tbody>\n",
       "</table>\n",
       "</div>"
      ],
      "text/plain": [
       "      affiliate                                          breakdown  \\\n",
       "0  CrossFit RDU                   9 rounds +\\n10 wall-ball shots\\n   \n",
       "1  CrossFit RDU  Within 16 minutes:\\n3 rounds +\\n25 toes-to-bar...   \n",
       "2  CrossFit RDU  200-ft. OH lunge\\n50 box step-ups\\n50 strict H...   \n",
       "3  CrossFit RDU                                 132 reps\\n6 rounds   \n",
       "4  CrossFit RDU                                           210 reps   \n",
       "\n",
       "   competitorid     division  is_scaled           judge  ordinal  rank  \\\n",
       "0         96511  Men (45-49)          0     Erin Miller        1     1   \n",
       "1         96511  Men (45-49)          0  Harper Thorsen        2     4   \n",
       "2         96511  Men (45-49)          0  Harper Thorsen        3     1   \n",
       "3         96511  Men (45-49)          0  Harper Thorsen        4    36   \n",
       "4         96511  Men (45-49)          0  Harper Thorsen        5     1   \n",
       "\n",
       "   scaled     score scoredisplay       scoreidentifier   time  \n",
       "0       0  13520000     352 reps  27f30f9a8c0a564ae799    NaN  \n",
       "1       0  13420368     342 reps  0ed3d1264f25a8f1890d    NaN  \n",
       "2       0  11800018         9:42  f2a143399a330c95321b  582.0  \n",
       "3       0  11320009        11:51  89101e401c6c85997363  711.0  \n",
       "4       0  12100573        10:27  f7588c9174f1fe90f5c4  627.0  "
      ]
     },
     "execution_count": 9,
     "metadata": {},
     "output_type": "execute_result"
    }
   ],
   "source": [
    "df_19_sco.head()"
   ]
  },
  {
   "cell_type": "markdown",
   "id": "careful-huntington",
   "metadata": {},
   "source": [
    "* affiliate: the official name of an athlete's affiliate\n",
    "* breakdown: contains information about the completed workout, it shows the amount of rounds or reps of every exercise and in addition the tiebreak time\n",
    "* competitorid: the unique id of an athlete (also available in the other datasets)\n",
    "* division: the division (grouped by age) an athlete belongs to, same as in the other datasets\n",
    "* is_scaled: displays if an athlete belongs to a scaling division (overall), same as in athlete dataset\n",
    "* judge: the person who judged the performance of an athlete for each workout\n",
    "* ordinal: describes the workout number (1-5)\n",
    "* rank: shows the rank of an athlete regarding one specific workout\n",
    "* scaled: checks if the athleted performed a scaled version of a workout\n",
    "* score: the score an athlete reached regarding one workout\n",
    "* scoredisplay: shows the amount of total reps of a workout or the time when finished earlier than timecap\n",
    "* scoreidentifier: ???\n",
    "* time: if a workout was completed before timecap, time feature shows the time in seconds"
   ]
  },
  {
   "cell_type": "markdown",
   "id": "disciplinary-anchor",
   "metadata": {},
   "source": [
    "### Neglected Features"
   ]
  },
  {
   "cell_type": "markdown",
   "id": "posted-residence",
   "metadata": {},
   "source": [
    "* judge: name of the judge is not interesting\n",
    "* scoreidentifier: seems to contain useless information"
   ]
  },
  {
   "cell_type": "markdown",
   "id": "million-minister",
   "metadata": {},
   "source": [
    "---"
   ]
  },
  {
   "cell_type": "markdown",
   "id": "confident-lawyer",
   "metadata": {},
   "source": [
    "## Benchmark Statistics Dataset"
   ]
  },
  {
   "cell_type": "markdown",
   "id": "worst-enclosure",
   "metadata": {},
   "source": [
    "### Dataset Information"
   ]
  },
  {
   "cell_type": "code",
   "execution_count": 10,
   "id": "packed-summary",
   "metadata": {},
   "outputs": [
    {
     "data": {
      "text/plain": [
       "(338271, 21)"
      ]
     },
     "execution_count": 10,
     "metadata": {},
     "output_type": "execute_result"
    }
   ],
   "source": [
    "df_19_bs.shape"
   ]
  },
  {
   "cell_type": "code",
   "execution_count": 11,
   "id": "intimate-rugby",
   "metadata": {},
   "outputs": [
    {
     "name": "stdout",
     "output_type": "stream",
     "text": [
      "<class 'pandas.core.frame.DataFrame'>\n",
      "RangeIndex: 338271 entries, 0 to 338270\n",
      "Data columns (total 21 columns):\n",
      " #   Column           Non-Null Count   Dtype \n",
      "---  ------           --------------   ----- \n",
      " 0   Unnamed: 0       338271 non-null  int64 \n",
      " 1   fullname         338271 non-null  object\n",
      " 2   countryoforigin  101784 non-null  object\n",
      " 3   competitorid     338271 non-null  int64 \n",
      " 4   division         338271 non-null  object\n",
      " 5   age              338271 non-null  int64 \n",
      " 6   height           338271 non-null  object\n",
      " 7   weight           338271 non-null  object\n",
      " 8   affiliate        338271 non-null  object\n",
      " 9   bs_backsquat     338271 non-null  object\n",
      " 10  bs_cleanandjerk  338271 non-null  object\n",
      " 11  bs_snatch        338271 non-null  object\n",
      " 12  bs_deadlift      338271 non-null  object\n",
      " 13  bs_fightgonebad  338271 non-null  object\n",
      " 14  bs_maxpull_ups   338271 non-null  object\n",
      " 15  bs_fran          338271 non-null  object\n",
      " 16  bs_grace         338271 non-null  object\n",
      " 17  bs_helen         338271 non-null  object\n",
      " 18  bs_filthy50      338271 non-null  object\n",
      " 19  bs_sprint400m    338271 non-null  object\n",
      " 20  bs_run5k         338271 non-null  object\n",
      "dtypes: int64(3), object(18)\n",
      "memory usage: 54.2+ MB\n"
     ]
    }
   ],
   "source": [
    "df_19_bs.info()"
   ]
  },
  {
   "cell_type": "markdown",
   "id": "african-indie",
   "metadata": {},
   "source": [
    "* 338,271 entries in the dataset (for each given athlete in the database)\n",
    "* 20 features: 2 numerical and 18 categorical\n",
    "* most features given as strings\n",
    "* almost no missing values (strings are not identified as missing data)"
   ]
  },
  {
   "cell_type": "markdown",
   "id": "compact-southeast",
   "metadata": {},
   "source": [
    "### Feature Explanation"
   ]
  },
  {
   "cell_type": "code",
   "execution_count": 12,
   "id": "adaptive-attack",
   "metadata": {},
   "outputs": [
    {
     "data": {
      "text/html": [
       "<div>\n",
       "<style scoped>\n",
       "    .dataframe tbody tr th:only-of-type {\n",
       "        vertical-align: middle;\n",
       "    }\n",
       "\n",
       "    .dataframe tbody tr th {\n",
       "        vertical-align: top;\n",
       "    }\n",
       "\n",
       "    .dataframe thead th {\n",
       "        text-align: right;\n",
       "    }\n",
       "</style>\n",
       "<table border=\"1\" class=\"dataframe\">\n",
       "  <thead>\n",
       "    <tr style=\"text-align: right;\">\n",
       "      <th></th>\n",
       "      <th>Unnamed: 0</th>\n",
       "      <th>fullname</th>\n",
       "      <th>countryoforigin</th>\n",
       "      <th>competitorid</th>\n",
       "      <th>division</th>\n",
       "      <th>age</th>\n",
       "      <th>height</th>\n",
       "      <th>weight</th>\n",
       "      <th>affiliate</th>\n",
       "      <th>bs_backsquat</th>\n",
       "      <th>bs_cleanandjerk</th>\n",
       "      <th>bs_snatch</th>\n",
       "      <th>bs_deadlift</th>\n",
       "      <th>bs_fightgonebad</th>\n",
       "      <th>bs_maxpull_ups</th>\n",
       "      <th>bs_fran</th>\n",
       "      <th>bs_grace</th>\n",
       "      <th>bs_helen</th>\n",
       "      <th>bs_filthy50</th>\n",
       "      <th>bs_sprint400m</th>\n",
       "      <th>bs_run5k</th>\n",
       "    </tr>\n",
       "  </thead>\n",
       "  <tbody>\n",
       "    <tr>\n",
       "      <th>0</th>\n",
       "      <td>0</td>\n",
       "      <td>Justin Bergh</td>\n",
       "      <td>UnitedStates</td>\n",
       "      <td>86</td>\n",
       "      <td>Men(35-39)</td>\n",
       "      <td>39</td>\n",
       "      <td>6'5\"</td>\n",
       "      <td>225lb</td>\n",
       "      <td>CrossFitSS(SouthSide)</td>\n",
       "      <td>335lb</td>\n",
       "      <td>265lb</td>\n",
       "      <td>210lb</td>\n",
       "      <td>415lb</td>\n",
       "      <td>393</td>\n",
       "      <td>32</td>\n",
       "      <td>3:46</td>\n",
       "      <td>2:54</td>\n",
       "      <td>8:16</td>\n",
       "      <td>21:27</td>\n",
       "      <td>1:04</td>\n",
       "      <td>22:05</td>\n",
       "    </tr>\n",
       "    <tr>\n",
       "      <th>1</th>\n",
       "      <td>1</td>\n",
       "      <td>Cary Hair</td>\n",
       "      <td>UnitedStates</td>\n",
       "      <td>88</td>\n",
       "      <td>Men(35-39)</td>\n",
       "      <td>36</td>\n",
       "      <td>6'0\"</td>\n",
       "      <td>191lb</td>\n",
       "      <td>CrossFitRoots</td>\n",
       "      <td>455lb</td>\n",
       "      <td>315lb</td>\n",
       "      <td>265lb</td>\n",
       "      <td>518lb</td>\n",
       "      <td>407</td>\n",
       "      <td>54</td>\n",
       "      <td>2:20</td>\n",
       "      <td>1:49</td>\n",
       "      <td>7:28</td>\n",
       "      <td>18:23</td>\n",
       "      <td>0:54</td>\n",
       "      <td>21:34</td>\n",
       "    </tr>\n",
       "    <tr>\n",
       "      <th>2</th>\n",
       "      <td>2</td>\n",
       "      <td>Tim Chan</td>\n",
       "      <td>UnitedStates</td>\n",
       "      <td>92</td>\n",
       "      <td>Men(50-54)</td>\n",
       "      <td>51</td>\n",
       "      <td>5'6\"</td>\n",
       "      <td>161lb</td>\n",
       "      <td>CrossFitSoCal</td>\n",
       "      <td>225lb</td>\n",
       "      <td>205lb</td>\n",
       "      <td>155lb</td>\n",
       "      <td>305lb</td>\n",
       "      <td>--</td>\n",
       "      <td>35</td>\n",
       "      <td>4:22</td>\n",
       "      <td>4:41</td>\n",
       "      <td>10:45</td>\n",
       "      <td>27:41</td>\n",
       "      <td>--</td>\n",
       "      <td>--</td>\n",
       "    </tr>\n",
       "    <tr>\n",
       "      <th>3</th>\n",
       "      <td>3</td>\n",
       "      <td>Leif Edmundson</td>\n",
       "      <td>UnitedStates</td>\n",
       "      <td>93</td>\n",
       "      <td>Men(35-39)</td>\n",
       "      <td>38</td>\n",
       "      <td>6'0\"</td>\n",
       "      <td>205lb</td>\n",
       "      <td>CrossFitHomeOfficeScottsValley</td>\n",
       "      <td>305lb</td>\n",
       "      <td>235lb</td>\n",
       "      <td>185lb</td>\n",
       "      <td>355lb</td>\n",
       "      <td>403</td>\n",
       "      <td>45</td>\n",
       "      <td>3:40</td>\n",
       "      <td>2:34</td>\n",
       "      <td>8:13</td>\n",
       "      <td>25:00</td>\n",
       "      <td>1:02</td>\n",
       "      <td>20:39</td>\n",
       "    </tr>\n",
       "    <tr>\n",
       "      <th>4</th>\n",
       "      <td>4</td>\n",
       "      <td>John Mclaughlin</td>\n",
       "      <td>UnitedStates</td>\n",
       "      <td>1617</td>\n",
       "      <td>Men(50-54)</td>\n",
       "      <td>53</td>\n",
       "      <td>5'10\"</td>\n",
       "      <td>187lb</td>\n",
       "      <td>--</td>\n",
       "      <td>355lb</td>\n",
       "      <td>255lb</td>\n",
       "      <td>195lb</td>\n",
       "      <td>435lb</td>\n",
       "      <td>--</td>\n",
       "      <td>50</td>\n",
       "      <td>2:26</td>\n",
       "      <td>2:34</td>\n",
       "      <td>7:24</td>\n",
       "      <td>--</td>\n",
       "      <td>--</td>\n",
       "      <td>--</td>\n",
       "    </tr>\n",
       "  </tbody>\n",
       "</table>\n",
       "</div>"
      ],
      "text/plain": [
       "   Unnamed: 0         fullname countryoforigin  competitorid    division  age  \\\n",
       "0           0     Justin Bergh    UnitedStates            86  Men(35-39)   39   \n",
       "1           1        Cary Hair    UnitedStates            88  Men(35-39)   36   \n",
       "2           2         Tim Chan    UnitedStates            92  Men(50-54)   51   \n",
       "3           3   Leif Edmundson    UnitedStates            93  Men(35-39)   38   \n",
       "4           4  John Mclaughlin    UnitedStates          1617  Men(50-54)   53   \n",
       "\n",
       "  height weight                       affiliate bs_backsquat bs_cleanandjerk  \\\n",
       "0   6'5\"  225lb           CrossFitSS(SouthSide)        335lb           265lb   \n",
       "1   6'0\"  191lb                   CrossFitRoots        455lb           315lb   \n",
       "2   5'6\"  161lb                   CrossFitSoCal        225lb           205lb   \n",
       "3   6'0\"  205lb  CrossFitHomeOfficeScottsValley        305lb           235lb   \n",
       "4  5'10\"  187lb                              --        355lb           255lb   \n",
       "\n",
       "  bs_snatch bs_deadlift bs_fightgonebad bs_maxpull_ups bs_fran bs_grace  \\\n",
       "0     210lb       415lb             393             32    3:46     2:54   \n",
       "1     265lb       518lb             407             54    2:20     1:49   \n",
       "2     155lb       305lb              --             35    4:22     4:41   \n",
       "3     185lb       355lb             403             45    3:40     2:34   \n",
       "4     195lb       435lb              --             50    2:26     2:34   \n",
       "\n",
       "  bs_helen bs_filthy50 bs_sprint400m bs_run5k  \n",
       "0     8:16       21:27          1:04    22:05  \n",
       "1     7:28       18:23          0:54    21:34  \n",
       "2    10:45       27:41            --       --  \n",
       "3     8:13       25:00          1:02    20:39  \n",
       "4     7:24          --            --       --  "
      ]
     },
     "execution_count": 12,
     "metadata": {},
     "output_type": "execute_result"
    }
   ],
   "source": [
    "df_19_bs.head()"
   ]
  },
  {
   "cell_type": "markdown",
   "id": "serial-combine",
   "metadata": {},
   "source": [
    "* fullname: first and surname of the athlete\n",
    "* countryoforigin: is the country of origin\n",
    "* competitorid: each athlete is identified by the unique id (also available in the other datasets)\n",
    "* division: the division (grouped by age) an athlete belongs to, same as in the other datasets\n",
    "* age: the age of an athlete\n",
    "* height: the height of an athlete, given in feet and inches or in cm\n",
    "* weight: the weight of an athlete, given in lb or kg\n",
    "* affiliate: the official name of an athlete's affiliate\n",
    "* benchmarks:\n",
    "  - bs_backsquat: weight for 1-repetition-maximum (1RM) of Backsquat\n",
    "  - bs_cleanandjerk: weight for 1RM of Clean&Jerk\n",
    "  - bs_snatch: weight for 1RM of Snatch\n",
    "  - bs_deadlift: weight for 1RM of Deadlift\n",
    "  - bs_fightgonebad: number of total repetitions for workout \"Fight Gone Bad\", consisting of 3 rounds of: 1min Wallball Shots (20/14lb) - 1min Sume Deadlift Highpulls (75/55lb) - 1min Boxjumps (20in) - 1min Push Press (75/55lb) - 1min Rowing (calories) - 1min Rest \n",
    "  - bs_maxpull_ups: number of Pull-Ups in a row\n",
    "  - bs_fran: time for completing \"Fran\"-workout, consisting of 21-15-9 repetitions of Thrusters (95/65lb) and Pull-Ups\n",
    "  - bs_grace: time for completing \"Grace\"-workout, consisting of 30 Clean&Jerks (135/95lb)\n",
    "  - bs_helen: time for completing \"Helen\"-workout, consisting of 3 rounds of: 800m Run - 42 Kettlebell-Swings (1.5/1pood) - 24 Pull-Ups\n",
    "  - bs_filthy50: time for completing 50 Box Jumps (24/20in) - 50 Jumping Pull-Ups - 50 KB-Swings (1/0.75pood) - 50 Steps Walking Lunges - 50 Knees-to-Ellbow - 50 Push Press (45/35lb) - 50 Back Extensions - 50 Wallball Shots (20/14lb) - 50 Burpees - 50 Double Unders\n",
    "  - bs_sprint400m: time for running 400m\n",
    "  - bs_run5k: time for running 5km"
   ]
  },
  {
   "cell_type": "markdown",
   "id": "black-wichita",
   "metadata": {},
   "source": [
    "### Neglected Features"
   ]
  },
  {
   "cell_type": "markdown",
   "id": "split-importance",
   "metadata": {},
   "source": [
    "Since the benchmark statistics are interested only, the other features can be dropped. The competitor id is taken into account to assign each athlete."
   ]
  },
  {
   "cell_type": "code",
   "execution_count": null,
   "id": "prescribed-single",
   "metadata": {},
   "outputs": [],
   "source": []
  }
 ],
 "metadata": {
  "kernelspec": {
   "display_name": "Python 3",
   "language": "python",
   "name": "python3"
  },
  "language_info": {
   "codemirror_mode": {
    "name": "ipython",
    "version": 3
   },
   "file_extension": ".py",
   "mimetype": "text/x-python",
   "name": "python",
   "nbconvert_exporter": "python",
   "pygments_lexer": "ipython3",
   "version": "3.8.5"
  }
 },
 "nbformat": 4,
 "nbformat_minor": 5
}
