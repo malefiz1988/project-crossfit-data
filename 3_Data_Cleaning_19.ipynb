{
 "cells": [
  {
   "cell_type": "markdown",
   "id": "convenient-immunology",
   "metadata": {},
   "source": [
    "# Cleaning of Open 2019 Datasets"
   ]
  },
  {
   "cell_type": "code",
   "execution_count": 1,
   "id": "charitable-biotechnology",
   "metadata": {},
   "outputs": [],
   "source": [
    "# import relevant libraries\n",
    "\n",
    "import pandas as pd\n",
    "import numpy as np\n",
    "import seaborn as sns\n",
    "\n",
    "import warnings"
   ]
  },
  {
   "cell_type": "code",
   "execution_count": 2,
   "id": "perceived-caution",
   "metadata": {},
   "outputs": [],
   "source": [
    "# set options\n",
    "\n",
    "warnings.filterwarnings('ignore')\n",
    "pd.set_option('display.max_columns', None)\n",
    "ftr = [60,1] # to convert timestring into seconds"
   ]
  },
  {
   "cell_type": "code",
   "execution_count": 3,
   "id": "saving-gateway",
   "metadata": {},
   "outputs": [],
   "source": [
    "# read the two datasets of 2019 - Open Athletes & Open Scores\n",
    "# and the benchmark statistics dataset\n",
    "\n",
    "df_19_ath = pd.read_csv('./data/2019_opens_athletes.csv')\n",
    "df_19_sco = pd.read_csv('./data/2019_opens_scores.csv')\n",
    "df_bs = pd.read_csv('./data/bs_clean.csv')"
   ]
  },
  {
   "cell_type": "markdown",
   "id": "overhead-vegetarian",
   "metadata": {},
   "source": [
    "---"
   ]
  },
  {
   "cell_type": "markdown",
   "id": "annual-occupation",
   "metadata": {},
   "source": [
    "#### Drop Neglected Features:"
   ]
  },
  {
   "cell_type": "code",
   "execution_count": 4,
   "id": "cognitive-archive",
   "metadata": {},
   "outputs": [],
   "source": [
    "# from raw data description, following features can be dropped in advance:\n",
    "\n",
    "# athletes data: competitorname, postcompstatus, profilepics3key, countryoforiginname & divisionid\n",
    "ath_drop = ['competitorname', 'postcompstatus', 'profilepics3key', \\\n",
    "            'countryoforiginname', 'affiliateid', 'divisionid']\n",
    "df_19_ath.drop(columns=ath_drop, axis=1, inplace=True)\n",
    "\n",
    "# score data: judge & scoreidentifier\n",
    "sco_drop = ['judge', 'scoreidentifier']\n",
    "df_19_sco.drop(columns=sco_drop, axis=1, inplace=True)"
   ]
  },
  {
   "cell_type": "markdown",
   "id": "challenging-fellow",
   "metadata": {},
   "source": [
    "---"
   ]
  },
  {
   "cell_type": "markdown",
   "id": "tough-yemen",
   "metadata": {},
   "source": [
    "## Reshaping Score Dataset"
   ]
  },
  {
   "cell_type": "markdown",
   "id": "patent-plenty",
   "metadata": {},
   "source": [
    "Reshape the score dataset in a way that each athlete receives just one observation (=row) in the dataset. Thus, the score dataframe receives more features (=columns)."
   ]
  },
  {
   "cell_type": "code",
   "execution_count": 5,
   "id": "graduate-syndication",
   "metadata": {},
   "outputs": [],
   "source": [
    "# create a new dataframe (rs - reshape):\n",
    "df_19_sco_rs = df_19_sco.copy()"
   ]
  },
  {
   "cell_type": "markdown",
   "id": "continental-focus",
   "metadata": {},
   "source": [
    "### Extract Data from Rows & Create New Features"
   ]
  },
  {
   "cell_type": "markdown",
   "id": "hungarian-alias",
   "metadata": {},
   "source": [
    "for each ordinal value, create following features and append to the dataframe:\n",
    "* breakdown\n",
    "* rank\n",
    "* scaled\n",
    "* score\n",
    "* scoredisplay\n",
    "* time"
   ]
  },
  {
   "cell_type": "code",
   "execution_count": 6,
   "id": "pharmaceutical-scottish",
   "metadata": {},
   "outputs": [],
   "source": [
    "# create lists of feature values per observation\n",
    "ordinal = df_19_sco_rs.ordinal.to_list()\n",
    "breakdown = df_19_sco_rs.breakdown.to_list()\n",
    "rank = df_19_sco_rs['rank'].to_list()\n",
    "scoredisplay = df_19_sco_rs.scoredisplay.to_list()\n",
    "time = df_19_sco_rs.time.to_list()\n",
    "scaled = df_19_sco_rs.scaled.to_list()\n",
    "score = df_19_sco_rs.score.to_list()\n",
    "\n",
    "# create empty lists for new features\n",
    "breakdown_1,breakdown_2,breakdown_3,breakdown_4,breakdown_5 = [],[],[],[],[]\n",
    "rank_1,rank_2,rank_3,rank_4,rank_5 = [],[],[],[],[]\n",
    "scoredisplay_1,scoredisplay_2,scoredisplay_3,scoredisplay_4,scoredisplay_5 = [],[],[],[],[]\n",
    "time_2,time_3,time_4,time_5 = [],[],[],[]\n",
    "scaled_1,scaled_2,scaled_3,scaled_4,scaled_5 = [],[],[],[],[]\n",
    "score_1,score_2,score_3,score_4,score_5 = [],[],[],[],[]\n",
    "\n",
    "# for each ordinal number fill new feature lists with data\n",
    "for i in range(len(ordinal)):\n",
    "    if ordinal[i] == 1:\n",
    "        breakdown_1.append(breakdown[i])\n",
    "        rank_1.append(rank[i])\n",
    "        scoredisplay_1.append(scoredisplay[i])\n",
    "        scaled_1.append(scaled[i])\n",
    "        score_1.append(score[i])\n",
    "    elif ordinal[i] == 2:\n",
    "        breakdown_2.append(breakdown[i])\n",
    "        rank_2.append(rank[i])\n",
    "        scoredisplay_2.append(scoredisplay[i])\n",
    "        time_2.append(time[i])\n",
    "        scaled_2.append(scaled[i])\n",
    "        score_2.append(score[i])\n",
    "    elif ordinal[i] == 3:\n",
    "        breakdown_3.append(breakdown[i])\n",
    "        rank_3.append(rank[i])\n",
    "        scoredisplay_3.append(scoredisplay[i])\n",
    "        time_3.append(time[i])\n",
    "        scaled_3.append(scaled[i])\n",
    "        score_3.append(score[i])\n",
    "    elif ordinal[i] == 4:\n",
    "        breakdown_4.append(breakdown[i])\n",
    "        rank_4.append(rank[i])\n",
    "        scoredisplay_4.append(scoredisplay[i])\n",
    "        time_4.append(time[i])\n",
    "        scaled_4.append(scaled[i])\n",
    "        score_4.append(score[i])\n",
    "    elif ordinal[i] == 5:\n",
    "        breakdown_5.append(breakdown[i])\n",
    "        rank_5.append(rank[i])\n",
    "        scoredisplay_5.append(scoredisplay[i])\n",
    "        time_5.append(time[i])\n",
    "        scaled_5.append(scaled[i])\n",
    "        score_5.append(score[i])\n",
    "\n",
    "# drop features whose data has been extracted\n",
    "df_19_sco_rs.drop(columns='breakdown',axis=1,inplace=True)\n",
    "df_19_sco_rs.drop(columns='rank',axis=1,inplace=True)\n",
    "df_19_sco_rs.drop(columns='scoredisplay',axis=1,inplace=True)\n",
    "df_19_sco_rs.drop(columns='time',axis=1,inplace=True)\n",
    "df_19_sco_rs.drop(columns='scaled',axis=1,inplace=True)\n",
    "df_19_sco_rs.drop(columns='score',axis=1,inplace=True)\n",
    "\n",
    "# drop all observations with ordinal numbers besides 1\n",
    "df_19_sco_rs.drop(df_19_sco_rs.loc[df_19_sco_rs['ordinal']!=1].index, inplace=True)\n",
    "df_19_sco_rs.drop(columns='ordinal',axis=1,inplace=True)\n",
    "\n",
    "# add breakdown features for each workout to dataframe\n",
    "df_19_sco_rs['breakdown_1'] = breakdown_1\n",
    "df_19_sco_rs['breakdown_2'] = breakdown_2\n",
    "df_19_sco_rs['breakdown_3'] = breakdown_3\n",
    "df_19_sco_rs['breakdown_4'] = breakdown_4\n",
    "df_19_sco_rs['breakdown_5'] = breakdown_5\n",
    "\n",
    "# add rank features for each workout to dataframe\n",
    "df_19_sco_rs['rank_1'] = rank_1\n",
    "df_19_sco_rs['rank_2'] = rank_2\n",
    "df_19_sco_rs['rank_3'] = rank_3\n",
    "df_19_sco_rs['rank_4'] = rank_4\n",
    "df_19_sco_rs['rank_5'] = rank_5\n",
    "\n",
    "# add scoredisplay features for each workout to dataframe\n",
    "df_19_sco_rs['scoredisplay_1'] = scoredisplay_1\n",
    "df_19_sco_rs['scoredisplay_2'] = scoredisplay_2\n",
    "df_19_sco_rs['scoredisplay_3'] = scoredisplay_3\n",
    "df_19_sco_rs['scoredisplay_4'] = scoredisplay_4\n",
    "df_19_sco_rs['scoredisplay_5'] = scoredisplay_5\n",
    "\n",
    "# add time features for each workout to dataframe\n",
    "df_19_sco_rs['time_2'] = time_2\n",
    "df_19_sco_rs['time_3'] = time_3\n",
    "df_19_sco_rs['time_4'] = time_4\n",
    "df_19_sco_rs['time_5'] = time_5\n",
    "\n",
    "# add scaled features for each workout to dataframe\n",
    "df_19_sco_rs['scaled_1'] = scaled_1\n",
    "df_19_sco_rs['scaled_2'] = scaled_2\n",
    "df_19_sco_rs['scaled_3'] = scaled_3\n",
    "df_19_sco_rs['scaled_4'] = scaled_4\n",
    "df_19_sco_rs['scaled_5'] = scaled_5\n",
    "\n",
    "# add score features for each workout to dataframe\n",
    "df_19_sco_rs['score_1'] = score_1\n",
    "df_19_sco_rs['score_2'] = score_2\n",
    "df_19_sco_rs['score_3'] = score_3\n",
    "df_19_sco_rs['score_4'] = score_4\n",
    "df_19_sco_rs['score_5'] = score_5\n",
    "\n",
    "# reset index of reshaped dataframe\n",
    "df_19_sco_rs.reset_index(inplace=True)"
   ]
  },
  {
   "cell_type": "markdown",
   "id": "incident-eugene",
   "metadata": {},
   "source": [
    "---"
   ]
  },
  {
   "cell_type": "markdown",
   "id": "danish-venezuela",
   "metadata": {},
   "source": [
    "## Drop Redundant Information from Dataframes"
   ]
  },
  {
   "cell_type": "markdown",
   "id": "stopped-graphics",
   "metadata": {},
   "source": [
    "In both datasets there are many double competitorid values because of some divisions counted twice for athlete who belong to two divisions. Because of those divisions there are different values for overallscore and overallrank (in the athlete dataset) and for the ranks of each competition. We will drop double counted rows after overriding the values in a way that only the superordinate division (Men or Women) counts."
   ]
  },
  {
   "cell_type": "code",
   "execution_count": 7,
   "id": "regular-physiology",
   "metadata": {},
   "outputs": [],
   "source": [
    "# create dataframes with sorted values (by competitorid)\n",
    "\n",
    "df_19_ath_precomb = df_19_ath.sort_values(by=['competitorid','division'])\n",
    "df_19_ath_precomb = df_19_ath_precomb.reset_index(drop=True)\n",
    "\n",
    "df_19_sco_precomb = df_19_sco_rs.sort_values(by=['competitorid','division'])\n",
    "df_19_sco_precomb = df_19_sco_precomb.reset_index(drop=True)"
   ]
  },
  {
   "cell_type": "code",
   "execution_count": 8,
   "id": "sweet-found",
   "metadata": {},
   "outputs": [],
   "source": [
    "# create index-list for droping redundant division rows\n",
    "# and override values for same competitorid\n",
    "competitorid = df_19_ath_precomb['competitorid'].to_list()\n",
    "idx = []\n",
    "i = 0\n",
    "while i < len(competitorid)-1:\n",
    "    if competitorid[i] == competitorid[i+1]:\n",
    "        idx.append(i)\n",
    "        df_19_sco_precomb.at[i+1,'rank_1'] = df_19_sco_precomb.at[i,'rank_1']\n",
    "        df_19_sco_precomb.at[i+1,'rank_2'] = df_19_sco_precomb.at[i,'rank_2']\n",
    "        df_19_sco_precomb.at[i+1,'rank_3'] = df_19_sco_precomb.at[i,'rank_3']\n",
    "        df_19_sco_precomb.at[i+1,'rank_4'] = df_19_sco_precomb.at[i,'rank_4']\n",
    "        df_19_sco_precomb.at[i+1,'rank_5'] = df_19_sco_precomb.at[i,'rank_5']\n",
    "        df_19_ath_precomb.at[i+1,'overallrank'] = df_19_ath_precomb.at[i,'overallrank']\n",
    "        df_19_ath_precomb.at[i+1,'overallscore'] = df_19_ath_precomb.at[i,'overallscore']   \n",
    "    i = i+1"
   ]
  },
  {
   "cell_type": "code",
   "execution_count": 9,
   "id": "distinguished-corner",
   "metadata": {},
   "outputs": [],
   "source": [
    "# dataframe with unique competitorid values\n",
    "df_19_ath_precomb.drop(index=idx, inplace=True)\n",
    "df_19_sco_precomb.drop(index=idx, inplace=True)"
   ]
  },
  {
   "cell_type": "markdown",
   "id": "invisible-disney",
   "metadata": {},
   "source": [
    "---"
   ]
  },
  {
   "cell_type": "markdown",
   "id": "chinese-ethics",
   "metadata": {},
   "source": [
    "## Combine the Dataframes"
   ]
  },
  {
   "cell_type": "code",
   "execution_count": 10,
   "id": "global-being",
   "metadata": {},
   "outputs": [],
   "source": [
    "df_19 = pd.merge(df_19_ath_precomb, df_19_sco_precomb, on=['competitorid', 'is_scaled', 'division'], how='inner')\n",
    "df_19 = pd.merge(df_19, df_bs, on='competitorid', how='outer')\n",
    "# drop column 'Unnamed'\n",
    "df_19 = df_19.loc[:, ~df_19.columns.str.contains('^Unnamed')]"
   ]
  },
  {
   "cell_type": "markdown",
   "id": "premium-feeling",
   "metadata": {},
   "source": [
    "---"
   ]
  },
  {
   "cell_type": "markdown",
   "id": "chemical-breed",
   "metadata": {},
   "source": [
    "## Extract Breakdown Information"
   ]
  },
  {
   "cell_type": "markdown",
   "id": "perfect-newsletter",
   "metadata": {},
   "source": [
    "### 19.2 - T2B, DU & Squat-Clean"
   ]
  },
  {
   "cell_type": "code",
   "execution_count": 11,
   "id": "complete-printing",
   "metadata": {},
   "outputs": [],
   "source": [
    "# create list of scoredisplay for the 1st workout\n",
    "sc1 = df_19.scoredisplay_1.to_list()"
   ]
  },
  {
   "cell_type": "markdown",
   "id": "rapid-lingerie",
   "metadata": {},
   "source": [
    "---"
   ]
  },
  {
   "cell_type": "markdown",
   "id": "mathematical-dividend",
   "metadata": {},
   "source": [
    "### 19.2 - T2B, DU & Squat-Clean"
   ]
  },
  {
   "cell_type": "markdown",
   "id": "rural-currency",
   "metadata": {},
   "source": [
    "extract:\n",
    "* reps t2b\n",
    "* reps du\n",
    "* reps sqcl\n",
    "* tie break (after last round du)"
   ]
  },
  {
   "cell_type": "code",
   "execution_count": 12,
   "id": "intimate-alabama",
   "metadata": {},
   "outputs": [],
   "source": [
    "# create lists of breakdown and scoredisplay for the 2nd workout\n",
    "b2 = df_19.breakdown_2.to_list()\n",
    "sc2 = df_19.scoredisplay_2.to_list()"
   ]
  },
  {
   "cell_type": "code",
   "execution_count": 13,
   "id": "silver-passenger",
   "metadata": {},
   "outputs": [],
   "source": [
    "# create empty lists for the new features\n",
    "w2_reps_t2b = [] # workout 2 reps of toes to bar\n",
    "w2_reps_du = [] # workout 2 reps of double unders\n",
    "w2_reps_sqcl = [] # workout 2 reps of squat-cleans\n",
    "w2_tiebreak = [] # workout 2 tiebreak time (after last round double unders completed)"
   ]
  },
  {
   "cell_type": "code",
   "execution_count": 14,
   "id": "double-palmer",
   "metadata": {},
   "outputs": [],
   "source": [
    "# get integer numbers for the amount of reps\n",
    "for i in range(len(sc2)):\n",
    "    if sc2[i] != 'nan' and type(sc2[i]) == str:\n",
    "        if ':' not in sc2[i]:\n",
    "            x = sc2[i].split()\n",
    "            sc2[i] = int(x[0])\n",
    "        else:\n",
    "            sc2[i] = 430"
   ]
  },
  {
   "cell_type": "code",
   "execution_count": 15,
   "id": "personal-giant",
   "metadata": {},
   "outputs": [],
   "source": [
    "# filling the empty lists with results (reps of exercises) & time data if not finished before end of workout\n",
    "for i in range(len(sc2)):\n",
    "    if type(sc2[i]) == float:\n",
    "        w2_reps_t2b.append(None)\n",
    "        w2_reps_du.append(None)\n",
    "        w2_reps_sqcl.append(None)\n",
    "    elif sc2[i] <= 25:\n",
    "        w2_reps_t2b.append(sc2[i])\n",
    "        w2_reps_du.append(0)\n",
    "        w2_reps_sqcl.append(0)\n",
    "        df_19.at[i,'time_2'] = 480\n",
    "    elif sc2[i] > 25 and sc2[i] <= 75:\n",
    "        w2_reps_t2b.append(25)\n",
    "        w2_reps_du.append(sc2[i]-25)\n",
    "        w2_reps_sqcl.append(0)\n",
    "        df_19.at[i,'time_2'] = 480\n",
    "    elif sc2[i] > 75 and sc2[i] <= 90:\n",
    "        w2_reps_t2b.append(25)\n",
    "        w2_reps_du.append(50)\n",
    "        w2_reps_sqcl.append(sc2[i]-75)\n",
    "        df_19.at[i,'time_2'] = 480\n",
    "    elif sc2[i] > 90 and sc2[i] <= 115:\n",
    "        w2_reps_t2b.append(25+sc2[i]-90)\n",
    "        w2_reps_du.append(50)\n",
    "        w2_reps_sqcl.append(15)\n",
    "        df_19.at[i,'time_2'] = 480\n",
    "    elif sc2[i] > 115 and sc2[i] <= 165:\n",
    "        w2_reps_t2b.append(50)\n",
    "        w2_reps_du.append(50+sc2[i]-115)\n",
    "        w2_reps_sqcl.append(15)\n",
    "        df_19.at[i,'time_2'] = 480\n",
    "    elif sc2[i] > 165 and sc2[i] <= 178:\n",
    "        w2_reps_t2b.append(50)\n",
    "        w2_reps_du.append(100)\n",
    "        w2_reps_sqcl.append(15+sc2[i]-165)\n",
    "        df_19.at[i,'time_2'] = 480\n",
    "    elif sc2[i] > 178 and sc2[i] <= 203:\n",
    "        w2_reps_t2b.append(50+sc2[i]-178)\n",
    "        w2_reps_du.append(100)\n",
    "        w2_reps_sqcl.append(28)\n",
    "        df_19.at[i,'time_2'] = 720\n",
    "    elif sc2[i] > 203 and sc2[i] <= 253:\n",
    "        w2_reps_t2b.append(75)\n",
    "        w2_reps_du.append(100+sc2[i]-203)\n",
    "        w2_reps_sqcl.append(28)\n",
    "        df_19.at[i,'time_2'] = 720\n",
    "    elif sc2[i] > 253 and sc2[i] <= 264:\n",
    "        w2_reps_t2b.append(75)\n",
    "        w2_reps_du.append(150)\n",
    "        w2_reps_sqcl.append(28+sc2[i]-253)\n",
    "        df_19.at[i,'time_2'] = 720\n",
    "    elif sc2[i] > 264 and sc2[i] <= 289:\n",
    "        w2_reps_t2b.append(75+sc2[i]-264)\n",
    "        w2_reps_du.append(150)\n",
    "        w2_reps_sqcl.append(39)\n",
    "        df_19.at[i,'time_2'] = 960\n",
    "    elif sc2[i] > 289 and sc2[i] <= 339:\n",
    "        w2_reps_t2b.append(100)\n",
    "        w2_reps_du.append(150+sc2[i]-289)\n",
    "        w2_reps_sqcl.append(39)\n",
    "        df_19.at[i,'time_2'] = 960\n",
    "    elif sc2[i] > 339 and sc2[i] <= 348:\n",
    "        w2_reps_t2b.append(100)\n",
    "        w2_reps_du.append(200)\n",
    "        w2_reps_sqcl.append(39+sc2[i]-339)\n",
    "        df_19.at[i,'time_2'] = 960\n",
    "    elif sc2[i] > 348 and sc2[i] <= 373:\n",
    "        w2_reps_t2b.append(100+sc2[i]-348)\n",
    "        w2_reps_du.append(200)\n",
    "        w2_reps_sqcl.append(48)\n",
    "        df_19.at[i,'time_2'] = 1200\n",
    "    elif sc2[i] > 373 and sc2[i] <= 423:\n",
    "        w2_reps_t2b.append(125)\n",
    "        w2_reps_du.append(200+sc2[i]-373)\n",
    "        w2_reps_sqcl.append(48)\n",
    "        df_19.at[i,'time_2'] = 1200\n",
    "    elif sc2[i] > 423 and sc2[i] < 430:\n",
    "        w2_reps_t2b.append(125)\n",
    "        w2_reps_du.append(250)\n",
    "        w2_reps_sqcl.append(48+sc2[i]-423)\n",
    "        df_19.at[i,'time_2'] = 1200\n",
    "    elif sc2[i] == 430:\n",
    "        w2_reps_t2b.append(125)\n",
    "        w2_reps_du.append(250)\n",
    "        w2_reps_sqcl.append(55)"
   ]
  },
  {
   "cell_type": "code",
   "execution_count": 16,
   "id": "attended-porter",
   "metadata": {},
   "outputs": [],
   "source": [
    "# filling the empty list with tiebreak times\n",
    "for i in b2:\n",
    "    if type(i) == float:\n",
    "        w2_tiebreak.append(None)\n",
    "    else:\n",
    "        x = i.split()\n",
    "        if ':' in x[-1]:\n",
    "            t = x[-1]\n",
    "            w2_tiebreak.append(sum([a*b for a,b in zip(ftr, map(int,t.split(':')))]))\n",
    "        else:\n",
    "            w2_tiebreak.append(None)"
   ]
  },
  {
   "cell_type": "markdown",
   "id": "shared-computer",
   "metadata": {},
   "source": [
    "---"
   ]
  },
  {
   "cell_type": "markdown",
   "id": "conventional-species",
   "metadata": {},
   "source": [
    "### 19.3 - OH-Lunges, DB-Box-Stepups, strict HSPU & HS-Walk"
   ]
  },
  {
   "cell_type": "markdown",
   "id": "retained-tampa",
   "metadata": {},
   "source": [
    "extract:\n",
    "* 5ft reps ohl (40 total)\n",
    "* reps dbbsu (50 total)\n",
    "* reps hspu (50 total)\n",
    "* 5ft reps hsw (40 total)\n",
    "* tiebreak (after dbbsu)"
   ]
  },
  {
   "cell_type": "code",
   "execution_count": 17,
   "id": "injured-protocol",
   "metadata": {},
   "outputs": [],
   "source": [
    "# create lists of breakdown and scoredisplay for the 3rd workout\n",
    "b3 = df_19.breakdown_3.to_list()\n",
    "sc3 = df_19.scoredisplay_3.to_list()"
   ]
  },
  {
   "cell_type": "code",
   "execution_count": 18,
   "id": "veterinary-backup",
   "metadata": {},
   "outputs": [],
   "source": [
    "# create empty lists for the new features\n",
    "w3_5ft_reps_ohl = [] # workout 3 5ft lane reps of walking OH-lunges\n",
    "w3_reps_dbbsu = [] # workout 3 reps of DB Box Step-Ups\n",
    "w3_reps_hspu = [] # workout 3 reps of strict HSPU\n",
    "w3_hspu_status = [] # workout 3 ability to perform one strict HSPU (both scaled & Rx)\n",
    "w3_5ft_reps_hsw = [] # workout 3 5ft lane reps of HS-Walk\n",
    "w3_tiebreak = [] # workout 3 tiebreak time (after last rep of DB Box-Stepups)"
   ]
  },
  {
   "cell_type": "code",
   "execution_count": 19,
   "id": "statistical-universal",
   "metadata": {},
   "outputs": [],
   "source": [
    "# get integer numbers for the amount of reps\n",
    "for i in range(len(sc3)):\n",
    "    if sc3[i] != 'nan' and type(sc3[i]) == str:\n",
    "        if ':' not in sc3[i]:\n",
    "            x = sc3[i].split()\n",
    "            sc3[i] = int(x[0])\n",
    "        else:\n",
    "            sc3[i] = 180"
   ]
  },
  {
   "cell_type": "code",
   "execution_count": 20,
   "id": "behind-jenny",
   "metadata": {},
   "outputs": [],
   "source": [
    "# filling the empty lists with results (reps of exercises and rounds completed)\n",
    "# & time data if not finished before end of workout\n",
    "for i in range(len(sc3)):\n",
    "    if type(sc3[i]) == float:\n",
    "        w3_5ft_reps_ohl.append(None)\n",
    "        w3_reps_dbbsu.append(None)\n",
    "        w3_reps_hspu.append(None)\n",
    "        w3_5ft_reps_hsw.append(None)\n",
    "    elif sc3[i] <= 40:\n",
    "        w3_5ft_reps_ohl.append(sc3[i])\n",
    "        w3_reps_dbbsu.append(0)\n",
    "        w3_reps_hspu.append(0)\n",
    "        w3_5ft_reps_hsw.append(0)\n",
    "        df_19.at[i,'time_3'] = 600\n",
    "    elif sc3[i] > 40 and sc3[i] <= 90:\n",
    "        w3_5ft_reps_ohl.append(40)\n",
    "        w3_reps_dbbsu.append(sc3[i]-40)\n",
    "        w3_reps_hspu.append(0)\n",
    "        w3_5ft_reps_hsw.append(0)\n",
    "        df_19.at[i,'time_3'] = 600\n",
    "    elif sc3[i] > 90 and sc3[i] <= 140:\n",
    "        w3_5ft_reps_ohl.append(40)\n",
    "        w3_reps_dbbsu.append(50)\n",
    "        w3_reps_hspu.append(sc3[i]-90)\n",
    "        w3_5ft_reps_hsw.append(0)\n",
    "        df_19.at[i,'time_3'] = 600\n",
    "    elif sc3[i] > 140 and sc3[i] < 180:\n",
    "        w3_5ft_reps_ohl.append(40)\n",
    "        w3_reps_dbbsu.append(50)\n",
    "        w3_reps_hspu.append(50)\n",
    "        w3_5ft_reps_hsw.append(sc3[i]-140)\n",
    "        df_19.at[i,'time_3'] = 600\n",
    "    elif sc3[i] == 180:\n",
    "        w3_5ft_reps_ohl.append(40)\n",
    "        w3_reps_dbbsu.append(50)\n",
    "        w3_reps_hspu.append(50)\n",
    "        w3_5ft_reps_hsw.append(40)"
   ]
  },
  {
   "cell_type": "code",
   "execution_count": 21,
   "id": "grateful-citizenship",
   "metadata": {},
   "outputs": [],
   "source": [
    "# filling empty list with ability to perform one strict HSPU\n",
    "for i in range(len(w3_reps_hspu)):\n",
    "    if w3_reps_hspu[i] == None:\n",
    "        w3_hspu_status.append(None)\n",
    "    elif w3_reps_hspu[i] > 0:\n",
    "        w3_hspu_status.append(1)\n",
    "    else:\n",
    "        w3_hspu_status.append(0)"
   ]
  },
  {
   "cell_type": "code",
   "execution_count": 22,
   "id": "tired-communications",
   "metadata": {},
   "outputs": [],
   "source": [
    "# filling empty list with tiebreak time (after last rep of DB Box-Stepups)\n",
    "for i in b3:\n",
    "    if type(i) == float:\n",
    "        w3_tiebreak.append(None)\n",
    "    else:\n",
    "        x = i.split()\n",
    "        if ':' in x[-1]:\n",
    "            t = x[-1]\n",
    "            w3_tiebreak.append(sum([a*b for a,b in zip(ftr, map(int,t.split(':')))]))\n",
    "        else:\n",
    "            w3_tiebreak.append(None)"
   ]
  },
  {
   "cell_type": "markdown",
   "id": "yellow-material",
   "metadata": {},
   "source": [
    "---"
   ]
  },
  {
   "cell_type": "markdown",
   "id": "amended-whale",
   "metadata": {},
   "source": [
    "### 19.4 - Snatches, Bar-facing Burpees & Bar-MuscleUps"
   ]
  },
  {
   "cell_type": "markdown",
   "id": "rising-audience",
   "metadata": {},
   "source": [
    "extract:\n",
    "* reps sn\n",
    "* reps bp1 & bp2\n",
    "* reps bmu\n",
    "* tiebreak (after last bp1)"
   ]
  },
  {
   "cell_type": "code",
   "execution_count": 23,
   "id": "lovely-needle",
   "metadata": {},
   "outputs": [],
   "source": [
    "# create lists of breakdown and scoredisplay for the 4th workout\n",
    "b4 = df_19.breakdown_4.to_list()\n",
    "sc4 = df_19.scoredisplay_4.to_list()"
   ]
  },
  {
   "cell_type": "code",
   "execution_count": 24,
   "id": "secure-eugene",
   "metadata": {},
   "outputs": [],
   "source": [
    "# create empty lists for the new features\n",
    "w4_reps_sn = [] # workout 4 reps of Snatches\n",
    "w4_reps_bp = [] # workout 4 reps of barfacing burpees\n",
    "w4_reps_bmu = [] # workout 4 reps of bar MUs\n",
    "w4_bmu_status = [] # workout 4 ability to perform one bar MU (just in Rx-version)\n",
    "w4_tiebreak = [] # workout 4 tiebreak time (after last rep of burpees before MU part)\n",
    "                 # Note: if the entire workout is completed, there's no tiebreak entry (nan)"
   ]
  },
  {
   "cell_type": "code",
   "execution_count": 25,
   "id": "olympic-framing",
   "metadata": {},
   "outputs": [],
   "source": [
    "# get integer numbers for the amount of reps\n",
    "for i in range(len(sc4)):\n",
    "    if sc4[i] != 'nan' and type(sc4[i]) == str:\n",
    "        if ':' not in sc4[i]:\n",
    "            x = sc4[i].split()\n",
    "            sc4[i] = int(x[0])\n",
    "        else:\n",
    "            sc4[i] = 132"
   ]
  },
  {
   "cell_type": "code",
   "execution_count": 26,
   "id": "unusual-pharmacy",
   "metadata": {},
   "outputs": [],
   "source": [
    "# filling the empty lists with results (reps of exercises and rounds completed)\n",
    "# & time data if not finished before end of workout\n",
    "for i in range(len(sc4)):\n",
    "    if type(sc4[i]) == float:\n",
    "        w4_reps_sn.append(None)\n",
    "        w4_reps_bp.append(None)\n",
    "        w4_reps_bmu.append(None)\n",
    "    elif sc4[i] <= 10:\n",
    "        w4_reps_sn.append(sc4[i])\n",
    "        w4_reps_bp.append(0)\n",
    "        w4_reps_bmu.append(0)\n",
    "        df_19.at[i,'time_4'] = 720\n",
    "    elif sc4[i] > 10 and sc4[i] <= 22:\n",
    "        w4_reps_sn.append(10)\n",
    "        w4_reps_bp.append(sc4[i]-10)\n",
    "        w4_reps_bmu.append(0)\n",
    "        df_19.at[i,'time_4'] = 720\n",
    "    elif sc4[i] > 22 and sc4[i] <= 32:\n",
    "        w4_reps_sn.append(10+sc4[i]-22)\n",
    "        w4_reps_bp.append(12)\n",
    "        w4_reps_bmu.append(0)\n",
    "        df_19.at[i,'time_4'] = 720\n",
    "    elif sc4[i] > 32 and sc4[i] <= 44:\n",
    "        w4_reps_sn.append(20)\n",
    "        w4_reps_bp.append(12+sc4[i]-32)\n",
    "        w4_reps_bmu.append(0)\n",
    "        df_19.at[i,'time_4'] = 720\n",
    "    elif sc4[i] > 44 and sc4[i] <= 54:\n",
    "        w4_reps_sn.append(20+sc4[i]-44)\n",
    "        w4_reps_bp.append(24)\n",
    "        w4_reps_bmu.append(0)\n",
    "        df_19.at[i,'time_4'] = 720\n",
    "    elif sc4[i] > 54 and sc4[i] <= 66:\n",
    "        w4_reps_sn.append(30)\n",
    "        w4_reps_bp.append(24+sc4[i]-54)\n",
    "        w4_reps_bmu.append(0)\n",
    "        df_19.at[i,'time_4'] = 720\n",
    "    elif sc4[i] > 66 and sc4[i] <= 76:\n",
    "        w4_reps_sn.append(30)\n",
    "        w4_reps_bp.append(36)\n",
    "        w4_reps_bmu.append(sc4[i]-66)\n",
    "        df_19.at[i,'time_4'] = 720\n",
    "    elif sc4[i] > 76 and sc4[i] <= 88:\n",
    "        w4_reps_sn.append(30)\n",
    "        w4_reps_bp.append(36+sc4[i]-76)\n",
    "        w4_reps_bmu.append(10)\n",
    "        df_19.at[i,'time_4'] = 720\n",
    "    elif sc4[i] > 88 and sc4[i] <= 98:\n",
    "        w4_reps_sn.append(30)\n",
    "        w4_reps_bp.append(48)\n",
    "        w4_reps_bmu.append(10+sc4[i]-88)\n",
    "        df_19.at[i,'time_4'] = 720\n",
    "    elif sc4[i] > 98 and sc4[i] <= 110:\n",
    "        w4_reps_sn.append(30)\n",
    "        w4_reps_bp.append(48+sc4[i]-98)\n",
    "        w4_reps_bmu.append(20)\n",
    "        df_19.at[i,'time_4'] = 720\n",
    "    elif sc4[i] > 110 and sc4[i] <= 120:\n",
    "        w4_reps_sn.append(30)\n",
    "        w4_reps_bp.append(60)\n",
    "        w4_reps_bmu.append(20+sc4[i]-110)\n",
    "        df_19.at[i,'time_4'] = 720\n",
    "    elif sc4[i] > 120 and sc4[i] < 132:\n",
    "        w4_reps_sn.append(30)\n",
    "        w4_reps_bp.append(60+sc4[i]-120)\n",
    "        w4_reps_bmu.append(30)\n",
    "        df_19.at[i,'time_4'] = 720\n",
    "    elif sc4[i] == 132:\n",
    "        w4_reps_sn.append(30)\n",
    "        w4_reps_bp.append(72)\n",
    "        w4_reps_bmu.append(30)"
   ]
  },
  {
   "cell_type": "code",
   "execution_count": 27,
   "id": "designed-translation",
   "metadata": {},
   "outputs": [],
   "source": [
    "# filling empty list with the ability to perform one BMU\n",
    "for i in range(len(w4_reps_bmu)):\n",
    "    if w4_reps_bmu[i] == None:\n",
    "        w4_bmu_status.append(None)\n",
    "    elif w4_reps_bmu[i] > 0 and scaled_4[i] == 0:\n",
    "        w4_bmu_status.append(1)\n",
    "    else:\n",
    "        w4_bmu_status.append(0)"
   ]
  },
  {
   "cell_type": "code",
   "execution_count": 29,
   "id": "hollow-facial",
   "metadata": {},
   "outputs": [],
   "source": [
    "# filling empty list with tiebreak time (after last burpee before first MU)\n",
    "for i in b4:\n",
    "    if type(i) == float:\n",
    "        w4_tiebreak.append(None)\n",
    "    else:\n",
    "        x = i.split()\n",
    "        if ':' in x[-1]:\n",
    "            t = x[-1]\n",
    "            w4_tiebreak.append(sum([a*b for a,b in zip(ftr, map(int,t.split(':')))]))\n",
    "        else:\n",
    "            w4_tiebreak.append(None)"
   ]
  },
  {
   "cell_type": "markdown",
   "id": "annual-doctrine",
   "metadata": {},
   "source": [
    "---"
   ]
  },
  {
   "cell_type": "markdown",
   "id": "regular-grill",
   "metadata": {},
   "source": [
    "### 19.5 - Thrusters & C2B-PullUps"
   ]
  },
  {
   "cell_type": "markdown",
   "id": "packed-thinking",
   "metadata": {},
   "source": [
    "extract:\n",
    "* reps thr\n",
    "* reps c2bpu\n",
    "* rounds completed (one round consists of two consecutive exercises)"
   ]
  },
  {
   "cell_type": "code",
   "execution_count": 30,
   "id": "disturbed-mercury",
   "metadata": {},
   "outputs": [],
   "source": [
    "# create a list of scoredisplay for the 5th workout\n",
    "sc5 = df_19.scoredisplay_5.to_list()"
   ]
  },
  {
   "cell_type": "code",
   "execution_count": 31,
   "id": "bigger-fundamental",
   "metadata": {},
   "outputs": [],
   "source": [
    "# create empty lists for the new features\n",
    "w5_reps_thr = [] # workout 5 reps of Thrusters\n",
    "w5_reps_c2bpu = [] # workout 5 reps of Chest2Bar PullUps"
   ]
  },
  {
   "cell_type": "code",
   "execution_count": 32,
   "id": "attractive-lover",
   "metadata": {},
   "outputs": [],
   "source": [
    "# get integer numbers for the amount of reps\n",
    "for i in range(len(sc5)):\n",
    "    if sc5[i] != 'nan' and type(sc5[i]) == str:\n",
    "        if ':' not in sc5[i]:\n",
    "            x = sc5[i].split()\n",
    "            sc5[i] = int(x[0])\n",
    "        else:\n",
    "            sc5[i] = 210"
   ]
  },
  {
   "cell_type": "code",
   "execution_count": 33,
   "id": "alert-genesis",
   "metadata": {},
   "outputs": [],
   "source": [
    "# filling the empty lists with results (reps of exercises and rounds completed)\n",
    "# & time data if not finished before end of workout\n",
    "for i in range(len(sc5)):\n",
    "    if type(sc5[i]) == float:\n",
    "        w5_reps_thr.append(None)\n",
    "        w5_reps_c2bpu.append(None)\n",
    "    elif sc5[i] <= 33:\n",
    "        w5_reps_thr.append(sc5[i])\n",
    "        w5_reps_c2bpu.append(0)\n",
    "        df_19.at[i,'time_5'] = 1200\n",
    "    elif sc5[i] > 33 and sc5[i] <= 66:\n",
    "        w5_reps_thr.append(33)\n",
    "        w5_reps_c2bpu.append(sc5[i]-33)\n",
    "        df_19.at[i,'time_5'] = 1200\n",
    "    elif sc5[i] > 66 and sc5[i] <= 93:\n",
    "        w5_reps_thr.append(33+sc5[i]-66)\n",
    "        w5_reps_c2bpu.append(33)\n",
    "        df_19.at[i,'time_5'] = 1200\n",
    "    elif sc5[i] > 93 and sc5[i] <= 120:\n",
    "        w5_reps_thr.append(60)\n",
    "        w5_reps_c2bpu.append(33+sc5[i]-93)\n",
    "        df_19.at[i,'time_5'] = 1200\n",
    "    elif sc5[i] > 120 and sc5[i] <= 141:\n",
    "        w5_reps_thr.append(60+sc5[i]-120)\n",
    "        w5_reps_c2bpu.append(60)\n",
    "        df_19.at[i,'time_5'] = 1200\n",
    "    elif sc5[i] > 141 and sc5[i] <= 162:\n",
    "        w5_reps_thr.append(81)\n",
    "        w5_reps_c2bpu.append(60+sc5[i]-141)\n",
    "        df_19.at[i,'time_5'] = 1200\n",
    "    elif sc5[i] > 162 and sc5[i] <= 177:\n",
    "        w5_reps_thr.append(81+sc5[i]-162)\n",
    "        w5_reps_c2bpu.append(81)\n",
    "        df_19.at[i,'time_5'] = 1200\n",
    "    elif sc5[i] > 177 and sc5[i] <= 192:\n",
    "        w5_reps_thr.append(96)\n",
    "        w5_reps_c2bpu.append(81+sc5[i]-177)\n",
    "        df_19.at[i,'time_5'] = 1200\n",
    "    elif sc5[i] > 192 and sc5[i] <= 201:\n",
    "        w5_reps_thr.append(96+sc5[i]-192)\n",
    "        w5_reps_c2bpu.append(96)\n",
    "        df_19.at[i,'time_5'] = 1200\n",
    "    elif sc5[i] > 201 and sc5[i] < 210:\n",
    "        w5_reps_thr.append(105)\n",
    "        w5_reps_c2bpu.append(96+sc5[i]-201)\n",
    "        df_19.at[i,'time_5'] = 1200\n",
    "    elif sc5[i] == 210:\n",
    "        w5_reps_thr.append(105)\n",
    "        w5_reps_c2bpu.append(105)"
   ]
  },
  {
   "cell_type": "markdown",
   "id": "desperate-coffee",
   "metadata": {},
   "source": [
    "---"
   ]
  },
  {
   "cell_type": "markdown",
   "id": "worthy-psychology",
   "metadata": {},
   "source": [
    "### Add New Features to Combined Dataset"
   ]
  },
  {
   "cell_type": "code",
   "execution_count": 34,
   "id": "interior-wealth",
   "metadata": {},
   "outputs": [],
   "source": [
    "# Workout 19.1\n",
    "df_19['w1_reps_total'] = sc1\n",
    "\n",
    "# Workout 19.2\n",
    "df_19['w2_reps_total'] = sc2\n",
    "df_19['w2_reps_t2b'] = w2_reps_t2b\n",
    "df_19['w2_reps_du'] = w2_reps_du\n",
    "df_19['w2_reps_sqcl'] = w2_reps_sqcl\n",
    "df_19['w2_tiebreak'] = w2_tiebreak\n",
    "\n",
    "# Workout 19.3\n",
    "df_19['w3_reps_total'] = sc3\n",
    "df_19['w3_5ft_reps_ohl'] = w3_5ft_reps_ohl\n",
    "df_19['w3_reps_dbbsu'] = w3_reps_dbbsu\n",
    "df_19['w3_reps_hspu'] = w3_reps_hspu\n",
    "df_19['w3_hspu_status'] = w3_hspu_status\n",
    "df_19['w3_5ft_reps_hsw'] = w3_5ft_reps_hsw\n",
    "df_19['w3_tiebreak'] = w3_tiebreak\n",
    "\n",
    "# Workout 19.4\n",
    "df_19['w4_reps_total'] = sc4\n",
    "df_19['w4_reps_sn'] = w4_reps_sn\n",
    "df_19['w4_reps_bp'] = w4_reps_bp\n",
    "df_19['w4_reps_bmu'] = w4_reps_bmu\n",
    "df_19['w4_bmu_status'] = w4_bmu_status\n",
    "df_19['w4_tiebreak'] = w4_tiebreak\n",
    "\n",
    "# Workout 19.5\n",
    "df_19['w5_reps_total'] = sc5\n",
    "df_19['w5_reps_thr'] = w5_reps_thr\n",
    "df_19['w5_reps_c2bpu'] = w5_reps_c2bpu"
   ]
  },
  {
   "cell_type": "code",
   "execution_count": 35,
   "id": "temporal-jonathan",
   "metadata": {},
   "outputs": [],
   "source": [
    "# drop original features from where the data was extracted (+ index & affiliate)\n",
    "drop_col = ['index', \\\n",
    "            'affiliate', \\\n",
    "            'breakdown_1','breakdown_2','breakdown_3','breakdown_4','breakdown_5', \\\n",
    "            'scoredisplay_1','scoredisplay_2','scoredisplay_3','scoredisplay_4','scoredisplay_5']\n",
    "df_19.drop(columns=drop_col, axis=1, inplace=True)"
   ]
  },
  {
   "cell_type": "markdown",
   "id": "paperback-exclusive",
   "metadata": {},
   "source": [
    "---"
   ]
  },
  {
   "cell_type": "markdown",
   "id": "nasty-daughter",
   "metadata": {},
   "source": [
    "### Replace Missing Values in affiliatename"
   ]
  },
  {
   "cell_type": "code",
   "execution_count": 36,
   "id": "loved-preliminary",
   "metadata": {},
   "outputs": [],
   "source": [
    "df_19['affiliatename'].fillna('boxless', inplace=True)"
   ]
  },
  {
   "cell_type": "markdown",
   "id": "imposed-vector",
   "metadata": {},
   "source": [
    "---"
   ]
  },
  {
   "cell_type": "markdown",
   "id": "critical-contribution",
   "metadata": {},
   "source": [
    "### Drop Observations where all Workout Scores are zero"
   ]
  },
  {
   "cell_type": "code",
   "execution_count": 37,
   "id": "turned-invitation",
   "metadata": {},
   "outputs": [],
   "source": [
    "df_19.drop(df_19[(df_19['score_1']==0) & \\\n",
    "                 (df_19['score_2']==0) & \\\n",
    "                 (df_19['score_3']==0) & \\\n",
    "                 (df_19['score_4']==0) & \\\n",
    "                 (df_19['score_5']==0)].index, inplace=True)"
   ]
  },
  {
   "cell_type": "markdown",
   "id": "drawn-sheriff",
   "metadata": {},
   "source": [
    "---"
   ]
  },
  {
   "cell_type": "markdown",
   "id": "printable-threat",
   "metadata": {},
   "source": [
    "### Consider Scaling in HPSU- and BMU-Status"
   ]
  },
  {
   "cell_type": "code",
   "execution_count": 38,
   "id": "analyzed-madness",
   "metadata": {},
   "outputs": [],
   "source": [
    "# set all abilities to perform one strict HSPU or one BMU to 0.0 if the scaled version of\n",
    "# the workout was performed\n",
    "df_19.loc[(df_19['scaled_3']==1),'w3_hspu_status'] = 0.0\n",
    "df_19.loc[(df_19['scaled_4']==1),'w4_bmu_status'] = 0.0"
   ]
  },
  {
   "cell_type": "markdown",
   "id": "imported-bubble",
   "metadata": {},
   "source": [
    "---"
   ]
  },
  {
   "cell_type": "markdown",
   "id": "ancient-knowing",
   "metadata": {},
   "source": [
    "### Set Senseless height & weight + age values to NaN"
   ]
  },
  {
   "cell_type": "code",
   "execution_count": 39,
   "id": "disabled-singapore",
   "metadata": {},
   "outputs": [],
   "source": [
    "# create a new feature for BMI\n",
    "df_19['BMI'] = round( df_19['weight'] / (df_19['height'])**2, 1)"
   ]
  },
  {
   "cell_type": "code",
   "execution_count": 40,
   "id": "generous-running",
   "metadata": {},
   "outputs": [],
   "source": [
    "# set weight to np.NaN if not 40 < weight < 200\n",
    "df_19.loc[df_19['weight'] < 40, 'weight'] = np.NaN\n",
    "df_19.loc[df_19['weight'] > 200, 'weight'] = np.NaN\n",
    "df_19.loc[df_19['weight'] < 40, 'height'] = np.NaN\n",
    "df_19.loc[df_19['weight'] > 200, 'height'] = np.NaN\n",
    "df_19.loc[df_19['weight'] < 40, 'BMI'] = np.NaN\n",
    "df_19.loc[df_19['weight'] > 200, 'BMI'] = np.NaN\n",
    "\n",
    "# set height to np.NaN if not 1.3 < height < 2.3\n",
    "df_19.loc[df_19['height'] < 1.3, 'weight'] = np.NaN\n",
    "df_19.loc[df_19['height'] > 2.3, 'weight'] = np.NaN\n",
    "df_19.loc[df_19['height'] < 1.3, 'height'] = np.NaN\n",
    "df_19.loc[df_19['height'] > 2.3, 'height'] = np.NaN\n",
    "df_19.loc[df_19['height'] < 1.3, 'BMI'] = np.NaN\n",
    "df_19.loc[df_19['height'] > 2.3, 'BMI'] = np.NaN"
   ]
  },
  {
   "cell_type": "code",
   "execution_count": 41,
   "id": "dangerous-billion",
   "metadata": {},
   "outputs": [
    {
     "data": {
      "image/png": "[encoded data removed]",
      "text/plain": [
       "<Figure size 432x288 with 1 Axes>"
      ]
     },
     "metadata": {
      "needs_background": "light"
     },
     "output_type": "display_data"
    }
   ],
   "source": [
    "sns.scatterplot(data=df_19,x='height',y='weight',hue='gender',alpha=0.3);"
   ]
  },
  {
   "cell_type": "code",
   "execution_count": 42,
   "id": "cleared-lottery",
   "metadata": {},
   "outputs": [],
   "source": [
    "# set weight and height to np.NaN if not 16 < BMI < 35\n",
    "df_19.loc[df_19['BMI'] > 35, 'height'] = np.NaN\n",
    "df_19.loc[df_19['BMI'] < 16, 'height'] = np.NaN\n",
    "df_19.loc[df_19['BMI'] > 35, 'weight'] = np.NaN\n",
    "df_19.loc[df_19['BMI'] < 16, 'weight'] = np.NaN\n",
    "df_19.loc[df_19['BMI'] > 35, 'BMI'] = np.NaN\n",
    "df_19.loc[df_19['BMI'] < 16, 'BMI'] = np.NaN"
   ]
  },
  {
   "cell_type": "code",
   "execution_count": 43,
   "id": "binary-survey",
   "metadata": {},
   "outputs": [
    {
     "data": {
      "image/png": "[encoded data removed]",
      "text/plain": [
       "<Figure size 432x288 with 1 Axes>"
      ]
     },
     "metadata": {
      "needs_background": "light"
     },
     "output_type": "display_data"
    }
   ],
   "source": [
    "sns.scatterplot(data=df_19,x='height',y='weight',hue='gender',alpha=0.3);"
   ]
  },
  {
   "cell_type": "markdown",
   "id": "valid-albania",
   "metadata": {},
   "source": [
    "Plot above shows a significant BMI-seperation after excluding athletes with high obesity. This is about 2% of stated weight and height values. Since there a portion of senseless data regarding weight and height given and the fact that more than half of athletes did not give data at all, weight and height don't seem to be very trustworthy. Furthermore high weights can be explained with lbs-units instead of kg. It should be considered to drop later on."
   ]
  },
  {
   "cell_type": "code",
   "execution_count": 44,
   "id": "protected-vitamin",
   "metadata": {},
   "outputs": [],
   "source": [
    "# set age values to NaN if above 99 years\n",
    "df_19.loc[df_19['age'] > 99, 'age'] = np.NaN"
   ]
  },
  {
   "cell_type": "markdown",
   "id": "advisory-hughes",
   "metadata": {},
   "source": [
    "---"
   ]
  },
  {
   "cell_type": "markdown",
   "id": "lasting-freeware",
   "metadata": {},
   "source": [
    "### Save dataframe in csv-file"
   ]
  },
  {
   "cell_type": "code",
   "execution_count": 45,
   "id": "progressive-snapshot",
   "metadata": {},
   "outputs": [],
   "source": [
    "df_19.to_csv('./data/19_clean.csv')"
   ]
  },
  {
   "cell_type": "code",
   "execution_count": null,
   "id": "complex-armor",
   "metadata": {},
   "outputs": [],
   "source": []
  }
 ],
 "metadata": {
  "kernelspec": {
   "display_name": "Python 3",
   "language": "python",
   "name": "python3"
  },
  "language_info": {
   "codemirror_mode": {
    "name": "ipython",
    "version": 3
   },
   "file_extension": ".py",
   "mimetype": "text/x-python",
   "name": "python",
   "nbconvert_exporter": "python",
   "pygments_lexer": "ipython3",
   "version": "3.8.5"
  }
 },
 "nbformat": 4,
 "nbformat_minor": 5
}
