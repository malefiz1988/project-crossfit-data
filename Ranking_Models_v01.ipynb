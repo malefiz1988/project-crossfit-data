{
 "cells": [
  {
   "cell_type": "code",
   "execution_count": 148,
   "id": "minor-portland",
   "metadata": {},
   "outputs": [],
   "source": [
    "import numpy as np\n",
    "import pandas as pd\n",
    "\n",
    "import matplotlib.pyplot as plt\n",
    "\n",
    "from sklearn.datasets import make_regression\n",
    "from sklearn.ensemble import RandomForestRegressor\n",
    "from sklearn import model_selection\n",
    "from sklearn.model_selection import train_test_split\n",
    "from sklearn.preprocessing import StandardScaler\n",
    "\n",
    "from sklearn import linear_model\n",
    "from sklearn.linear_model import LinearRegression\n",
    "from sklearn.linear_model import Lasso\n",
    "from sklearn.linear_model import Ridge\n",
    "from sklearn.linear_model import ElasticNet\n",
    "from sklearn.neighbors import KNeighborsRegressor\n",
    "from sklearn.tree import DecisionTreeRegressor\n",
    "from sklearn.tree import DecisionTreeRegressor\n",
    "from sklearn.svm import SVR\n",
    "from sklearn.metrics import accuracy_score\n",
    "from sklearn.model_selection import GridSearchCV\n",
    "\n",
    "import warnings\n",
    "warnings.filterwarnings('ignore')\n",
    "\n",
    "pd.set_option('display.max_columns', None)\n",
    "pd.set_option('display.max_rows', None)"
   ]
  },
  {
   "cell_type": "code",
   "execution_count": 149,
   "id": "herbal-charlotte",
   "metadata": {},
   "outputs": [],
   "source": [
    "df = pd.read_csv('./data/2019_opens_clean.csv')"
   ]
  },
  {
   "cell_type": "markdown",
   "id": "manufactured-steam",
   "metadata": {},
   "source": [
    "## Data Cleaning"
   ]
  },
  {
   "cell_type": "code",
   "execution_count": 150,
   "id": "breeding-organic",
   "metadata": {},
   "outputs": [],
   "source": [
    "# just consider Men division\n",
    "df = df[\n",
    "    (df['division']=='Women') &\n",
    "    (df['scaled_1']==0) &\n",
    "    (df['scaled_2']==0) &\n",
    "    (df['scaled_3']==0) &\n",
    "    (df['scaled_4']==0) &\n",
    "    (df['scaled_5']==0)\n",
    "]\n",
    "# drop column \"Unnamed\"\n",
    "df = df.loc[:, ~df.columns.str.contains('^Unnamed')]"
   ]
  },
  {
   "cell_type": "markdown",
   "id": "honest-subscription",
   "metadata": {},
   "source": [
    "#### Scores dataframe"
   ]
  },
  {
   "cell_type": "code",
   "execution_count": 151,
   "id": "stuck-plate",
   "metadata": {},
   "outputs": [],
   "source": [
    "# dataframe without benchmarks or height & weight\n",
    "scores_cols = ['competitorid', 'age', 'overallrank', \\\n",
    "               'time_2','time_3','time_4','time_5', \\\n",
    "               'w1_reps_total', \\\n",
    "               'w2_reps_total', 'w2_reps_t2b', 'w2_reps_du', \\\n",
    "               'w2_reps_sqcl', 'w2_rounds_completed', 'w2_tiebreak', \\\n",
    "               'w3_reps_total', 'w3_tiebreak', \\\n",
    "               'w4_reps_total', 'w4_reps_bmu', 'w4_tiebreak', \\\n",
    "               'w5_reps_total']\n",
    "df_scores = df[scores_cols]\n",
    "\n",
    "# drop rows with missing age values\n",
    "df_scores = df_scores[df_scores['age'].notna()]\n",
    "# keep just rows with all 5 workouts participated\n",
    "df_scores = df_scores[df_scores['w1_reps_total'].notna()]\n",
    "df_scores = df_scores[df_scores['w2_reps_total'].notna()]\n",
    "df_scores = df_scores[df_scores['w3_reps_total'].notna()]\n",
    "df_scores = df_scores[df_scores['w4_reps_total'].notna()]\n",
    "df_scores = df_scores[df_scores['w5_reps_total'].notna()]\n",
    "# drop rows with missing time values\n",
    "df_scores = df_scores[df_scores['time_2'].notna()]\n",
    "df_scores = df_scores[df_scores['time_3'].notna()]\n",
    "df_scores = df_scores[df_scores['time_4'].notna()]\n",
    "df_scores = df_scores[df_scores['time_5'].notna()]\n",
    "# set missing tiebreak values to zero\n",
    "df_scores['w2_tiebreak'].replace(np.NaN,0,inplace=True)\n",
    "df_scores['w3_tiebreak'].replace(np.NaN,0,inplace=True)\n",
    "df_scores['w4_tiebreak'].replace(np.NaN,0,inplace=True)"
   ]
  },
  {
   "cell_type": "code",
   "execution_count": 152,
   "id": "reserved-liberty",
   "metadata": {},
   "outputs": [
    {
     "data": {
      "text/plain": [
       "(29157, 20)"
      ]
     },
     "execution_count": 152,
     "metadata": {},
     "output_type": "execute_result"
    }
   ],
   "source": [
    "df_scores.shape"
   ]
  },
  {
   "cell_type": "code",
   "execution_count": 153,
   "id": "english-pasta",
   "metadata": {},
   "outputs": [],
   "source": [
    "df_scores.to_csv('./data/rank_model_input_scores.csv')"
   ]
  },
  {
   "cell_type": "markdown",
   "id": "removable-protest",
   "metadata": {},
   "source": [
    "#### + Benchmark dataframe"
   ]
  },
  {
   "cell_type": "code",
   "execution_count": 154,
   "id": "intermediate-harrison",
   "metadata": {},
   "outputs": [],
   "source": [
    "# dataframe with benchmark statistics inclusive\n",
    "bs_cols = [\n",
    "    'competitorid', 'age', 'overallrank', \\\n",
    "    'time_2','time_3','time_4','time_5', \\\n",
    "    'w1_reps_total', 'w2_reps_total', 'w2_reps_t2b', 'w2_reps_du', \\\n",
    "    'w2_reps_sqcl', 'w2_rounds_completed', 'w2_tiebreak', \\\n",
    "    'w3_reps_total', 'w3_tiebreak', \\\n",
    "    'w4_reps_total', 'w4_reps_bmu', 'w4_tiebreak', \\\n",
    "    'w5_reps_total', \\\n",
    "    'bs_backsquat', 'bs_cleanandjerk', 'bs_snatch', 'bs_deadlift', \\\n",
    "    'bs_fightgonebad', 'bs_maxpull_ups', 'bs_fran', 'bs_grace', 'bs_helen', \\\n",
    "    'bs_filthy50', 'bs_sprint400m', 'bs_run5k']\n",
    "df_bs = df[bs_cols]\n",
    "\n",
    "# keep just rows with all 5 workouts participated\n",
    "df_bs = df_bs[df_bs['w1_reps_total'].notna()]\n",
    "df_bs = df_bs[df_bs['w2_reps_total'].notna()]\n",
    "df_bs = df_bs[df_bs['w3_reps_total'].notna()]\n",
    "df_bs = df_bs[df_bs['w4_reps_total'].notna()]\n",
    "df_bs = df_bs[df_bs['w5_reps_total'].notna()]\n",
    "\n",
    "# set missing tiebreak values to zero\n",
    "df_bs['w2_tiebreak'].replace(np.NaN,0,inplace=True)\n",
    "df_bs['w3_tiebreak'].replace(np.NaN,0,inplace=True)\n",
    "df_bs['w4_tiebreak'].replace(np.NaN,0,inplace=True)\n",
    "\n",
    "# drop na\n",
    "df_bs = df_bs.dropna()"
   ]
  },
  {
   "cell_type": "code",
   "execution_count": 155,
   "id": "standing-encyclopedia",
   "metadata": {},
   "outputs": [
    {
     "data": {
      "text/plain": [
       "(109, 32)"
      ]
     },
     "execution_count": 155,
     "metadata": {},
     "output_type": "execute_result"
    }
   ],
   "source": [
    "df_bs.shape"
   ]
  },
  {
   "cell_type": "code",
   "execution_count": 156,
   "id": "psychological-suggestion",
   "metadata": {},
   "outputs": [],
   "source": [
    "df_bs.to_csv('./data/rank_model_input_bs.csv')"
   ]
  },
  {
   "cell_type": "markdown",
   "id": "defensive-airport",
   "metadata": {},
   "source": [
    "## Data Preprocessing"
   ]
  },
  {
   "cell_type": "markdown",
   "id": "outstanding-underground",
   "metadata": {},
   "source": [
    "#### Scores"
   ]
  },
  {
   "cell_type": "code",
   "execution_count": 157,
   "id": "approximate-velvet",
   "metadata": {},
   "outputs": [],
   "source": [
    "# create train and test sets\n",
    "train_set_sc, test_set_sc = train_test_split(df_scores, test_size=0.3, random_state=42)\n",
    "\n",
    "# define target and features\n",
    "y_sc = df_scores['overallrank']\n",
    "X_sc = df_scores.drop(axis=1,columns='overallrank')\n",
    "\n",
    "# train test split for model evaluation\n",
    "X_train_sc, X_test_sc, y_train_sc, y_test_sc = train_test_split(X_sc, y_sc, random_state=42)\n",
    "\n",
    "# define numerical features for scaling\n",
    "scale_cols = ['competitorid','age','time_2','time_3', \\\n",
    "              'time_4', 'time_5', 'w1_reps_total', 'w2_reps_total', 'w2_reps_t2b', \\\n",
    "              'w2_reps_du', 'w2_reps_sqcl', 'w2_rounds_completed', 'w2_tiebreak', \\\n",
    "              'w3_reps_total', 'w3_tiebreak', 'w4_reps_total', 'w4_reps_bmu', \\\n",
    "              'w4_tiebreak', 'w5_reps_total'\n",
    "             ]\n",
    "\n",
    "# scaling numerical features\n",
    "scaler = StandardScaler()\n",
    "X_train_scaled_sc = scaler.fit_transform(X_train_sc[scale_cols])\n",
    "X_test_scaled_sc = scaler.transform(X_test_sc[scale_cols])\n",
    "\n",
    "X_train_preprocessed_sc = np.concatenate([X_train_scaled_sc, X_train_sc.drop(scale_cols, axis=1)], axis=1)\n",
    "X_test_preprocessed_sc = np.concatenate([X_test_scaled_sc, X_test_sc.drop(scale_cols, axis=1)], axis=1)"
   ]
  },
  {
   "cell_type": "markdown",
   "id": "funny-remains",
   "metadata": {},
   "source": [
    "#### benchmarks"
   ]
  },
  {
   "cell_type": "code",
   "execution_count": 158,
   "id": "premium-found",
   "metadata": {},
   "outputs": [],
   "source": [
    "# create train and test sets\n",
    "train_set_bs, test_set_bs = train_test_split(df_bs, test_size=0.3, random_state=42)\n",
    "\n",
    "# define target and features\n",
    "y_bs = df_bs['overallrank']\n",
    "X_bs = df_bs.drop(axis=1,columns='overallrank')\n",
    "\n",
    "# train test split for model evaluation\n",
    "X_train_bs, X_test_bs, y_train_bs, y_test_bs = train_test_split(X_bs, y_bs, random_state=42)\n",
    "\n",
    "# define numerical features for scaling\n",
    "scale_cols = [\n",
    "    'competitorid','age','time_2','time_3', \\\n",
    "    'time_4', 'time_5', 'w1_reps_total', 'w2_reps_total', 'w2_reps_t2b', \\\n",
    "    'w2_reps_du', 'w2_reps_sqcl', 'w2_rounds_completed', 'w2_tiebreak', \\\n",
    "    'w3_reps_total', 'w3_tiebreak', 'w4_reps_total', 'w4_reps_bmu', \\\n",
    "    'w4_tiebreak', 'w5_reps_total', \\\n",
    "    'bs_backsquat', 'bs_cleanandjerk', 'bs_snatch', 'bs_deadlift', \\\n",
    "    'bs_fightgonebad', 'bs_maxpull_ups', 'bs_fran', 'bs_grace', \\\n",
    "    'bs_helen', 'bs_filthy50', 'bs_sprint400m', 'bs_run5k'\n",
    "]\n",
    "\n",
    "# scaling numerical features\n",
    "scaler = StandardScaler()\n",
    "X_train_scaled_bs = scaler.fit_transform(X_train_bs[scale_cols])\n",
    "X_test_scaled_bs = scaler.transform(X_test_bs[scale_cols])\n",
    "\n",
    "X_train_preprocessed_bs = np.concatenate([X_train_scaled_bs, X_train_bs.drop(scale_cols, axis=1)], axis=1)\n",
    "X_test_preprocessed_bs = np.concatenate([X_test_scaled_bs, X_test_bs.drop(scale_cols, axis=1)], axis=1)"
   ]
  },
  {
   "cell_type": "markdown",
   "id": "popular-contrary",
   "metadata": {},
   "source": [
    "## Model Building"
   ]
  },
  {
   "cell_type": "markdown",
   "id": "driving-market",
   "metadata": {},
   "source": [
    "#### Scores"
   ]
  },
  {
   "cell_type": "code",
   "execution_count": 159,
   "id": "played-machine",
   "metadata": {},
   "outputs": [
    {
     "name": "stdout",
     "output_type": "stream",
     "text": [
      "LR: -1.204025 (0.219518)\n",
      "RIDGE: -1.239145 (0.190069)\n",
      "LASSO: -1.262939 (0.172376)\n",
      "ELN: -1.571499 (0.165350)\n",
      "KNN: -0.111968 (0.008298)\n",
      "DT: -0.080051 (0.000870)\n",
      "RF: -0.035170 (0.001082)\n"
     ]
    }
   ],
   "source": [
    "models_sc = []\n",
    "models_sc.append(('LR', LinearRegression()))\n",
    "models_sc.append(('RIDGE', Ridge()))\n",
    "models_sc.append(('LASSO', Lasso()))\n",
    "models_sc.append(('ELN', ElasticNet()))\n",
    "models_sc.append(('KNN', KNeighborsRegressor()))\n",
    "models_sc.append(('DT', DecisionTreeRegressor()))\n",
    "models_sc.append(('RF', RandomForestRegressor()))\n",
    "scoring = 'neg_mean_absolute_percentage_error'\n",
    "\n",
    "# evaluate each model in turn\n",
    "results_sc = []\n",
    "names = []\n",
    "for name, model in models_sc:\n",
    "    kfold = model_selection.KFold(n_splits=5, random_state=42, shuffle=True)\n",
    "    cv_results_sc = model_selection.cross_val_score(model, X_train_preprocessed_sc, y_train_sc,  cv=kfold, scoring=scoring)\n",
    "    results_sc.append(cv_results_sc)\n",
    "    names.append(name)\n",
    "    msg = \"%s: %f (%f)\" % (name, cv_results_sc.mean(), cv_results_sc.std())\n",
    "    print(msg)"
   ]
  },
  {
   "cell_type": "code",
   "execution_count": 160,
   "id": "mechanical-holiday",
   "metadata": {},
   "outputs": [
    {
     "data": {
      "image/png": "[encoded data removed]",
      "text/plain": [
       "<Figure size 576x360 with 1 Axes>"
      ]
     },
     "metadata": {
      "needs_background": "light"
     },
     "output_type": "display_data"
    }
   ],
   "source": [
    "plt.rcParams.update({'figure.figsize': (8, 5)})\n",
    "plt.rcParams.update({'font.size': 14})\n",
    "\n",
    "# Compare Algorithms\n",
    "fig = plt.figure()\n",
    "fig.suptitle('Algorithm Comparison for Workout Score Datasets')\n",
    "ax = fig.add_subplot(111)\n",
    "plt.boxplot(results_sc)\n",
    "ax.set_xticklabels(names)\n",
    "plt.show()"
   ]
  },
  {
   "cell_type": "code",
   "execution_count": 161,
   "id": "dressed-projection",
   "metadata": {},
   "outputs": [
    {
     "data": {
      "text/plain": [
       "RandomForestRegressor(n_jobs=-1, oob_score=True, random_state=42)"
      ]
     },
     "execution_count": 161,
     "metadata": {},
     "output_type": "execute_result"
    }
   ],
   "source": [
    "model_sc = RandomForestRegressor(n_estimators = 100,\n",
    "                                 n_jobs = -1,\n",
    "                                 oob_score = True,\n",
    "                                 bootstrap = True,\n",
    "                                 random_state = 42)\n",
    "model_sc.fit(X_train_preprocessed_sc, y_train_sc)"
   ]
  },
  {
   "cell_type": "code",
   "execution_count": 162,
   "id": "worst-fourth",
   "metadata": {},
   "outputs": [
    {
     "name": "stdout",
     "output_type": "stream",
     "text": [
      "R^2 Training Score: 0.9996 \n",
      "OOB Score: 0.9972 \n",
      "R^2 Validation Score: 0.9971\n"
     ]
    }
   ],
   "source": [
    "print('R^2 Training Score: {:.4f} \\nOOB Score: {:.4f} \\nR^2 Validation Score: {:.4f}'.format(model_sc.score(X_train_preprocessed_sc, y_train_sc), \n",
    "                                                                                             model_sc.oob_score_,\n",
    "                                                                                             model_sc.score(X_test_preprocessed_sc, y_test_sc)))"
   ]
  },
  {
   "cell_type": "markdown",
   "id": "lovely-commissioner",
   "metadata": {},
   "source": [
    "model is good enough!"
   ]
  },
  {
   "cell_type": "code",
   "execution_count": 163,
   "id": "challenging-motor",
   "metadata": {},
   "outputs": [],
   "source": [
    "importance_sc = model_sc.feature_importances_"
   ]
  },
  {
   "cell_type": "code",
   "execution_count": 164,
   "id": "heated-alliance",
   "metadata": {},
   "outputs": [
    {
     "data": {
      "image/png": "[encoded data removed]",
      "text/plain": [
       "<Figure size 720x1080 with 1 Axes>"
      ]
     },
     "metadata": {
      "needs_background": "light"
     },
     "output_type": "display_data"
    }
   ],
   "source": [
    "plt.rcParams.update({'figure.figsize': (10.0, 15.0)})\n",
    "plt.rcParams.update({'font.size': 14})\n",
    "\n",
    "sorted_idx = importance_sc.argsort()\n",
    "plt.barh(X_sc.columns[sorted_idx], importance_sc[sorted_idx])\n",
    "plt.xlabel(\"Random Forest Feature Importance\");"
   ]
  },
  {
   "cell_type": "markdown",
   "id": "indoor-asset",
   "metadata": {},
   "source": [
    "#### benchmarks"
   ]
  },
  {
   "cell_type": "code",
   "execution_count": 165,
   "id": "initial-homeless",
   "metadata": {},
   "outputs": [
    {
     "data": {
      "text/plain": [
       "RandomForestRegressor(n_jobs=-1, oob_score=True, random_state=42)"
      ]
     },
     "execution_count": 165,
     "metadata": {},
     "output_type": "execute_result"
    }
   ],
   "source": [
    "model_bs = RandomForestRegressor(n_estimators = 100,\n",
    "                                 n_jobs = -1,\n",
    "                                 oob_score = True,\n",
    "                                 bootstrap = True,\n",
    "                                 random_state = 42)\n",
    "model_bs.fit(X_train_preprocessed_bs, y_train_bs)"
   ]
  },
  {
   "cell_type": "code",
   "execution_count": 166,
   "id": "faced-airline",
   "metadata": {},
   "outputs": [
    {
     "name": "stdout",
     "output_type": "stream",
     "text": [
      "R^2 Training Score: 0.9866 \n",
      "OOB Score: 0.9108 \n",
      "R^2 Validation Score: 0.9613\n"
     ]
    }
   ],
   "source": [
    "print('R^2 Training Score: {:.4f} \\nOOB Score: {:.4f} \\nR^2 Validation Score: {:.4f}'.format(model_bs.score(X_train_preprocessed_bs, y_train_bs), \n",
    "                                                                                             model_bs.oob_score_,\n",
    "                                                                                             model_bs.score(X_test_preprocessed_bs, y_test_bs)))"
   ]
  },
  {
   "cell_type": "code",
   "execution_count": 167,
   "id": "opposite-drawing",
   "metadata": {},
   "outputs": [],
   "source": [
    "# Defining parameter grid (as dictionary)\n",
    "param_grid = {\"max_depth\" : [25,30,35],\n",
    "              #\"max_features\" : [20],\n",
    "              #\"max_leaf_nodes\" : [230],\n",
    "              #\"max_samples\" : [None],\n",
    "              #\"min_impurity_decrease\" : [0.5],\n",
    "              #\"min_impurity_split\" : [10],\n",
    "              #\"min_samples_leaf\" : [1],\n",
    "              #\"min_samples_split\" : [2],\n",
    "              #\"min_weight_fraction_leaf\" : [0.00000000001],\n",
    "              \"n_estimators\" : [100]\n",
    "             }\n",
    "scoring = 'neg_mean_absolute_percentage_error'\n",
    "# Instantiate gridsearch and define the metric to optimize \n",
    "gs = GridSearchCV(model, param_grid, cv=5, verbose=5, n_jobs=-1, scoring=scoring)"
   ]
  },
  {
   "cell_type": "code",
   "execution_count": 168,
   "id": "veterinary-housing",
   "metadata": {},
   "outputs": [
    {
     "name": "stdout",
     "output_type": "stream",
     "text": [
      "Fitting 5 folds for each of 3 candidates, totalling 15 fits\n"
     ]
    },
    {
     "data": {
      "text/plain": [
       "GridSearchCV(cv=5, estimator=RandomForestRegressor(), n_jobs=-1,\n",
       "             param_grid={'max_depth': [25, 30, 35], 'n_estimators': [100]},\n",
       "             scoring='neg_mean_absolute_percentage_error', verbose=5)"
      ]
     },
     "execution_count": 168,
     "metadata": {},
     "output_type": "execute_result"
    }
   ],
   "source": [
    "gs.fit(X_train_preprocessed_bs, y_train_bs)"
   ]
  },
  {
   "cell_type": "code",
   "execution_count": 169,
   "id": "exact-groove",
   "metadata": {},
   "outputs": [
    {
     "name": "stdout",
     "output_type": "stream",
     "text": [
      " Results from Grid Search \n",
      "\n",
      " The best estimator across ALL searched params:\n",
      " RandomForestRegressor(max_depth=25)\n",
      "\n",
      " The best score across ALL searched params:\n",
      " -0.8273437654654874\n",
      "\n",
      " The best parameters across ALL searched params:\n",
      " {'max_depth': 25, 'n_estimators': 100}\n"
     ]
    }
   ],
   "source": [
    "print(\" Results from Grid Search \" )\n",
    "print(\"\\n The best estimator across ALL searched params:\\n\",gs.best_estimator_)\n",
    "print(\"\\n The best score across ALL searched params:\\n\",gs.best_score_)\n",
    "print(\"\\n The best parameters across ALL searched params:\\n\",gs.best_params_)"
   ]
  },
  {
   "cell_type": "code",
   "execution_count": 170,
   "id": "interpreted-conference",
   "metadata": {},
   "outputs": [
    {
     "data": {
      "text/plain": [
       "RandomForestRegressor(max_depth=30, n_jobs=-1, oob_score=True, random_state=42)"
      ]
     },
     "execution_count": 170,
     "metadata": {},
     "output_type": "execute_result"
    }
   ],
   "source": [
    "model_bs = RandomForestRegressor(\n",
    "    max_depth = 30,\n",
    "    n_estimators = 100,\n",
    "    n_jobs = -1,\n",
    "    oob_score = True,\n",
    "    bootstrap = True,\n",
    "    random_state = 42\n",
    ")\n",
    "model_bs.fit(X_train_preprocessed_bs, y_train_bs)"
   ]
  },
  {
   "cell_type": "code",
   "execution_count": 171,
   "id": "attended-carter",
   "metadata": {},
   "outputs": [
    {
     "name": "stdout",
     "output_type": "stream",
     "text": [
      "R^2 Training Score: 0.9866 \n",
      "OOB Score: 0.9108 \n",
      "R^2 Validation Score: 0.9613\n"
     ]
    }
   ],
   "source": [
    "print('R^2 Training Score: {:.4f} \\nOOB Score: {:.4f} \\nR^2 Validation Score: {:.4f}'.format(model_bs.score(X_train_preprocessed_bs, y_train_bs), \n",
    "                                                                                             model_bs.oob_score_,\n",
    "                                                                                             model_bs.score(X_test_preprocessed_bs, y_test_bs)))"
   ]
  },
  {
   "cell_type": "code",
   "execution_count": 172,
   "id": "formal-trinidad",
   "metadata": {},
   "outputs": [],
   "source": [
    "importance_bs = model_bs.feature_importances_"
   ]
  },
  {
   "cell_type": "code",
   "execution_count": 173,
   "id": "heavy-recommendation",
   "metadata": {},
   "outputs": [
    {
     "data": {
      "image/png": "[encoded data removed]",
      "text/plain": [
       "<Figure size 720x1080 with 1 Axes>"
      ]
     },
     "metadata": {
      "needs_background": "light"
     },
     "output_type": "display_data"
    }
   ],
   "source": [
    "plt.rcParams.update({'figure.figsize': (10.0, 15.0)})\n",
    "plt.rcParams.update({'font.size': 14})\n",
    "\n",
    "sorted_idx = importance_bs.argsort()\n",
    "plt.barh(X_bs.columns[sorted_idx], importance_bs[sorted_idx])\n",
    "plt.xlabel(\"Random Forest Feature Importance\");"
   ]
  },
  {
   "cell_type": "markdown",
   "id": "respective-chorus",
   "metadata": {},
   "source": [
    "## Sensitivities"
   ]
  },
  {
   "cell_type": "markdown",
   "id": "lesser-glasgow",
   "metadata": {},
   "source": [
    "### Scores"
   ]
  },
  {
   "cell_type": "code",
   "execution_count": 174,
   "id": "experimental-connectivity",
   "metadata": {},
   "outputs": [
    {
     "data": {
      "text/plain": [
       "Index(['competitorid', 'age', 'time_2', 'time_3', 'time_4', 'time_5',\n",
       "       'w1_reps_total', 'w2_reps_total', 'w2_reps_t2b', 'w2_reps_du',\n",
       "       'w2_reps_sqcl', 'w2_rounds_completed', 'w2_tiebreak', 'w3_reps_total',\n",
       "       'w3_tiebreak', 'w4_reps_total', 'w4_reps_bmu', 'w4_tiebreak',\n",
       "       'w5_reps_total'],\n",
       "      dtype='object')"
      ]
     },
     "execution_count": 174,
     "metadata": {},
     "output_type": "execute_result"
    }
   ],
   "source": [
    "X_train_sc.columns"
   ]
  },
  {
   "cell_type": "code",
   "execution_count": 175,
   "id": "former-survivor",
   "metadata": {},
   "outputs": [],
   "source": [
    "features_sc = ['competitorid', 'age', 'time_2', 'time_3', 'time_4', 'time_5',\n",
    "       'w1_reps_total', 'w2_reps_total', 'w2_reps_t2b', 'w2_reps_du',\n",
    "       'w2_reps_sqcl', 'w2_rounds_completed', 'w2_tiebreak', 'w3_reps_total',\n",
    "       'w3_tiebreak', 'w4_reps_total', 'w4_reps_bmu', 'w4_tiebreak',\n",
    "       'w5_reps_total']"
   ]
  },
  {
   "cell_type": "code",
   "execution_count": 187,
   "id": "musical-maine",
   "metadata": {},
   "outputs": [],
   "source": [
    "my_list = [0]*len(features_sc)\n",
    "my_array = np.asarray([my_list])\n",
    "result = model_sc.predict(my_array)\n",
    "rank_ref = result[0]\n",
    "\n",
    "list_pos_1 = []\n",
    "list_pos_2 = []\n",
    "list_pos_2_add = []\n",
    "list_neg_1 = []\n",
    "list_neg_2 = []\n",
    "list_neg_2_add = []\n",
    "\n",
    "for i in range(len(features_sc)):\n",
    "    \n",
    "    my_list[i] = 0.1\n",
    "    my_array = np.asarray([my_list])\n",
    "    result = model_sc.predict(my_array)\n",
    "    a = round(((rank_ref - result[0])*100 / rank_ref),1)\n",
    "    list_pos_1.append(a)\n",
    "    my_list = [0]*len(features_sc)\n",
    "    \n",
    "    my_list[i] = 0.2\n",
    "    my_array = np.asarray([my_list])\n",
    "    result = model_sc.predict(my_array)\n",
    "    b = round(((rank_ref - result[0])*100 / rank_ref),1)\n",
    "    list_pos_2.append(b)\n",
    "    list_pos_2_add.append(b-a)\n",
    "    my_list = [0]*len(features_sc)\n",
    "    \n",
    "    my_list[i] = -0.1\n",
    "    my_array = np.asarray([my_list])\n",
    "    result = model_sc.predict(my_array)\n",
    "    c = round(((rank_ref - result[0])*100 / rank_ref),1)\n",
    "    list_neg_1.append(c)\n",
    "    my_list = [0]*len(features_sc)\n",
    "    \n",
    "    my_list[i] = -0.2\n",
    "    my_array = np.asarray([my_list])\n",
    "    result = model_sc.predict(my_array)\n",
    "    d = round(((rank_ref - result[0])*100 / rank_ref),1)\n",
    "    list_neg_2.append(d)\n",
    "    list_neg_2_add.append(d-c)\n",
    "    my_list = [0]*len(features_sc)\n",
    "    \n",
    "df_sens_sc = pd.DataFrame(index=features_sc,data=list(zip(list_pos_1,list_pos_2_add,list_neg_1,list_neg_2_add)),columns=['+0.5 sigma','+1 sigma','-0.5 sigma','-1 sigma'])"
   ]
  },
  {
   "cell_type": "code",
   "execution_count": 188,
   "id": "recovered-blogger",
   "metadata": {},
   "outputs": [
    {
     "data": {
      "text/html": [
       "<div>\n",
       "<style scoped>\n",
       "    .dataframe tbody tr th:only-of-type {\n",
       "        vertical-align: middle;\n",
       "    }\n",
       "\n",
       "    .dataframe tbody tr th {\n",
       "        vertical-align: top;\n",
       "    }\n",
       "\n",
       "    .dataframe thead th {\n",
       "        text-align: right;\n",
       "    }\n",
       "</style>\n",
       "<table border=\"1\" class=\"dataframe\">\n",
       "  <thead>\n",
       "    <tr style=\"text-align: right;\">\n",
       "      <th></th>\n",
       "      <th>+0.5 sigma</th>\n",
       "      <th>+1 sigma</th>\n",
       "      <th>-0.5 sigma</th>\n",
       "      <th>-1 sigma</th>\n",
       "    </tr>\n",
       "  </thead>\n",
       "  <tbody>\n",
       "    <tr>\n",
       "      <th>w4_tiebreak</th>\n",
       "      <td>0.0</td>\n",
       "      <td>0.0</td>\n",
       "      <td>0.3</td>\n",
       "      <td>0.3</td>\n",
       "    </tr>\n",
       "    <tr>\n",
       "      <th>w3_tiebreak</th>\n",
       "      <td>-0.1</td>\n",
       "      <td>-0.2</td>\n",
       "      <td>0.1</td>\n",
       "      <td>0.0</td>\n",
       "    </tr>\n",
       "    <tr>\n",
       "      <th>time_2</th>\n",
       "      <td>0.0</td>\n",
       "      <td>0.0</td>\n",
       "      <td>0.0</td>\n",
       "      <td>0.0</td>\n",
       "    </tr>\n",
       "    <tr>\n",
       "      <th>time_3</th>\n",
       "      <td>0.0</td>\n",
       "      <td>0.0</td>\n",
       "      <td>0.0</td>\n",
       "      <td>0.0</td>\n",
       "    </tr>\n",
       "    <tr>\n",
       "      <th>time_4</th>\n",
       "      <td>0.0</td>\n",
       "      <td>0.0</td>\n",
       "      <td>0.0</td>\n",
       "      <td>0.0</td>\n",
       "    </tr>\n",
       "    <tr>\n",
       "      <th>time_5</th>\n",
       "      <td>0.0</td>\n",
       "      <td>0.0</td>\n",
       "      <td>0.0</td>\n",
       "      <td>0.0</td>\n",
       "    </tr>\n",
       "    <tr>\n",
       "      <th>w2_reps_t2b</th>\n",
       "      <td>0.0</td>\n",
       "      <td>0.0</td>\n",
       "      <td>0.0</td>\n",
       "      <td>0.0</td>\n",
       "    </tr>\n",
       "    <tr>\n",
       "      <th>competitorid</th>\n",
       "      <td>0.0</td>\n",
       "      <td>-0.1</td>\n",
       "      <td>-0.1</td>\n",
       "      <td>-0.1</td>\n",
       "    </tr>\n",
       "    <tr>\n",
       "      <th>age</th>\n",
       "      <td>0.0</td>\n",
       "      <td>0.2</td>\n",
       "      <td>-0.1</td>\n",
       "      <td>0.0</td>\n",
       "    </tr>\n",
       "    <tr>\n",
       "      <th>w2_reps_sqcl</th>\n",
       "      <td>0.0</td>\n",
       "      <td>3.4</td>\n",
       "      <td>-0.1</td>\n",
       "      <td>-0.6</td>\n",
       "    </tr>\n",
       "    <tr>\n",
       "      <th>w2_tiebreak</th>\n",
       "      <td>-1.0</td>\n",
       "      <td>-0.5</td>\n",
       "      <td>-0.2</td>\n",
       "      <td>0.4</td>\n",
       "    </tr>\n",
       "    <tr>\n",
       "      <th>w2_reps_du</th>\n",
       "      <td>0.2</td>\n",
       "      <td>0.0</td>\n",
       "      <td>-0.3</td>\n",
       "      <td>-0.7</td>\n",
       "    </tr>\n",
       "    <tr>\n",
       "      <th>w4_reps_total</th>\n",
       "      <td>0.9</td>\n",
       "      <td>0.7</td>\n",
       "      <td>-0.7</td>\n",
       "      <td>-0.2</td>\n",
       "    </tr>\n",
       "    <tr>\n",
       "      <th>w4_reps_bmu</th>\n",
       "      <td>0.2</td>\n",
       "      <td>0.6</td>\n",
       "      <td>-0.7</td>\n",
       "      <td>-0.8</td>\n",
       "    </tr>\n",
       "    <tr>\n",
       "      <th>w3_reps_total</th>\n",
       "      <td>1.2</td>\n",
       "      <td>1.0</td>\n",
       "      <td>-3.2</td>\n",
       "      <td>-1.5</td>\n",
       "    </tr>\n",
       "    <tr>\n",
       "      <th>w1_reps_total</th>\n",
       "      <td>2.3</td>\n",
       "      <td>1.7</td>\n",
       "      <td>-3.7</td>\n",
       "      <td>-4.8</td>\n",
       "    </tr>\n",
       "    <tr>\n",
       "      <th>w2_rounds_completed</th>\n",
       "      <td>5.9</td>\n",
       "      <td>0.0</td>\n",
       "      <td>-3.8</td>\n",
       "      <td>-0.4</td>\n",
       "    </tr>\n",
       "    <tr>\n",
       "      <th>w2_reps_total</th>\n",
       "      <td>5.2</td>\n",
       "      <td>0.0</td>\n",
       "      <td>-3.9</td>\n",
       "      <td>-0.6</td>\n",
       "    </tr>\n",
       "    <tr>\n",
       "      <th>w5_reps_total</th>\n",
       "      <td>1.5</td>\n",
       "      <td>1.2</td>\n",
       "      <td>-8.4</td>\n",
       "      <td>-2.5</td>\n",
       "    </tr>\n",
       "  </tbody>\n",
       "</table>\n",
       "</div>"
      ],
      "text/plain": [
       "                     +0.5 sigma  +1 sigma  -0.5 sigma  -1 sigma\n",
       "w4_tiebreak                 0.0       0.0         0.3       0.3\n",
       "w3_tiebreak                -0.1      -0.2         0.1       0.0\n",
       "time_2                      0.0       0.0         0.0       0.0\n",
       "time_3                      0.0       0.0         0.0       0.0\n",
       "time_4                      0.0       0.0         0.0       0.0\n",
       "time_5                      0.0       0.0         0.0       0.0\n",
       "w2_reps_t2b                 0.0       0.0         0.0       0.0\n",
       "competitorid                0.0      -0.1        -0.1      -0.1\n",
       "age                         0.0       0.2        -0.1       0.0\n",
       "w2_reps_sqcl                0.0       3.4        -0.1      -0.6\n",
       "w2_tiebreak                -1.0      -0.5        -0.2       0.4\n",
       "w2_reps_du                  0.2       0.0        -0.3      -0.7\n",
       "w4_reps_total               0.9       0.7        -0.7      -0.2\n",
       "w4_reps_bmu                 0.2       0.6        -0.7      -0.8\n",
       "w3_reps_total               1.2       1.0        -3.2      -1.5\n",
       "w1_reps_total               2.3       1.7        -3.7      -4.8\n",
       "w2_rounds_completed         5.9       0.0        -3.8      -0.4\n",
       "w2_reps_total               5.2       0.0        -3.9      -0.6\n",
       "w5_reps_total               1.5       1.2        -8.4      -2.5"
      ]
     },
     "execution_count": 188,
     "metadata": {},
     "output_type": "execute_result"
    }
   ],
   "source": [
    "df_sens_sc_ordered = df_sens_sc.sort_values(by='-0.5 sigma',ascending=False)\n",
    "df_sens_sc_ordered"
   ]
  },
  {
   "cell_type": "code",
   "execution_count": 189,
   "id": "understood-syndicate",
   "metadata": {},
   "outputs": [
    {
     "data": {
      "image/png": "[encoded data removed]",
      "text/plain": [
       "<Figure size 720x1080 with 1 Axes>"
      ]
     },
     "metadata": {
      "needs_background": "light"
     },
     "output_type": "display_data"
    }
   ],
   "source": [
    "sens_colors = ['lightcoral','red','lightgreen','darkgreen']\n",
    "df_sens_sc_ordered.plot.barh(stacked=True, edgecolor='black', color=sens_colors, legend=False);"
   ]
  },
  {
   "cell_type": "markdown",
   "id": "together-objective",
   "metadata": {},
   "source": [
    "### + benchmark statistics"
   ]
  },
  {
   "cell_type": "code",
   "execution_count": 190,
   "id": "beautiful-failing",
   "metadata": {},
   "outputs": [
    {
     "data": {
      "text/plain": [
       "Index(['competitorid', 'age', 'time_2', 'time_3', 'time_4', 'time_5',\n",
       "       'w1_reps_total', 'w2_reps_total', 'w2_reps_t2b', 'w2_reps_du',\n",
       "       'w2_reps_sqcl', 'w2_rounds_completed', 'w2_tiebreak', 'w3_reps_total',\n",
       "       'w3_tiebreak', 'w4_reps_total', 'w4_reps_bmu', 'w4_tiebreak',\n",
       "       'w5_reps_total', 'bs_backsquat', 'bs_cleanandjerk', 'bs_snatch',\n",
       "       'bs_deadlift', 'bs_fightgonebad', 'bs_maxpull_ups', 'bs_fran',\n",
       "       'bs_grace', 'bs_helen', 'bs_filthy50', 'bs_sprint400m', 'bs_run5k'],\n",
       "      dtype='object')"
      ]
     },
     "execution_count": 190,
     "metadata": {},
     "output_type": "execute_result"
    }
   ],
   "source": [
    "X_train_bs.columns"
   ]
  },
  {
   "cell_type": "code",
   "execution_count": 191,
   "id": "direct-composer",
   "metadata": {},
   "outputs": [],
   "source": [
    "features_bs = ['competitorid', 'age', 'time_2', 'time_3', 'time_4', 'time_5',\n",
    "       'w1_reps_total', 'w2_reps_total', 'w2_reps_t2b', 'w2_reps_du',\n",
    "       'w2_reps_sqcl', 'w2_rounds_completed', 'w2_tiebreak', 'w3_reps_total',\n",
    "       'w3_tiebreak', 'w4_reps_total', 'w4_reps_bmu', 'w4_tiebreak',\n",
    "       'w5_reps_total', 'bs_backsquat', 'bs_cleanandjerk', 'bs_snatch',\n",
    "       'bs_deadlift', 'bs_fightgonebad', 'bs_maxpull_ups', 'bs_fran',\n",
    "       'bs_grace', 'bs_helen', 'bs_filthy50', 'bs_sprint400m', 'bs_run5k']"
   ]
  },
  {
   "cell_type": "code",
   "execution_count": 192,
   "id": "hawaiian-bouquet",
   "metadata": {},
   "outputs": [],
   "source": [
    "my_list = [0]*len(features_bs)\n",
    "my_array = np.asarray([my_list])\n",
    "result = model_bs.predict(my_array)\n",
    "rank_ref = result[0]\n",
    "\n",
    "list_pos_1 = []\n",
    "list_pos_2 = []\n",
    "list_pos_2_add = []\n",
    "list_neg_1 = []\n",
    "list_neg_2 = []\n",
    "list_neg_2_add = []\n",
    "\n",
    "for i in range(len(features_bs)):\n",
    "    \n",
    "    my_list[i] = 0.1\n",
    "    my_array = np.asarray([my_list])\n",
    "    result = model_bs.predict(my_array)\n",
    "    a = round(((rank_ref - result[0])*100 / rank_ref),1)\n",
    "    list_pos_1.append(a)\n",
    "    my_list = [0]*len(features_bs)\n",
    "    \n",
    "    my_list[i] = 0.2\n",
    "    my_array = np.asarray([my_list])\n",
    "    result = model_bs.predict(my_array)\n",
    "    b = round(((rank_ref - result[0])*100 / rank_ref),1)\n",
    "    list_pos_2.append(b)\n",
    "    list_pos_2_add.append(b-a)\n",
    "    my_list = [0]*len(features_bs)\n",
    "    \n",
    "    my_list[i] = -0.1\n",
    "    my_array = np.asarray([my_list])\n",
    "    result = model_bs.predict(my_array)\n",
    "    c = round(((rank_ref - result[0])*100 / rank_ref),1)\n",
    "    list_neg_1.append(c)\n",
    "    my_list = [0]*len(features_bs)\n",
    "    \n",
    "    my_list[i] = -0.2\n",
    "    my_array = np.asarray([my_list])\n",
    "    result = model_bs.predict(my_array)\n",
    "    d = round(((rank_ref - result[0])*100 / rank_ref),1)\n",
    "    list_neg_2.append(d)\n",
    "    list_neg_2_add.append(d-c)\n",
    "    my_list = [0]*len(features_bs)\n",
    "    \n",
    "df_sens_bs = pd.DataFrame(index=features_bs,data=list(zip(list_pos_1,list_pos_2_add,list_neg_1,list_neg_2_add)),columns=['+0.5 sigma','+1 sigma','-0.5 sigma','-1 sigma'])"
   ]
  },
  {
   "cell_type": "code",
   "execution_count": 197,
   "id": "social-soccer",
   "metadata": {},
   "outputs": [
    {
     "data": {
      "text/html": [
       "<div>\n",
       "<style scoped>\n",
       "    .dataframe tbody tr th:only-of-type {\n",
       "        vertical-align: middle;\n",
       "    }\n",
       "\n",
       "    .dataframe tbody tr th {\n",
       "        vertical-align: top;\n",
       "    }\n",
       "\n",
       "    .dataframe thead th {\n",
       "        text-align: right;\n",
       "    }\n",
       "</style>\n",
       "<table border=\"1\" class=\"dataframe\">\n",
       "  <thead>\n",
       "    <tr style=\"text-align: right;\">\n",
       "      <th></th>\n",
       "      <th>+0.5 sigma</th>\n",
       "      <th>+1 sigma</th>\n",
       "      <th>-0.5 sigma</th>\n",
       "      <th>-1 sigma</th>\n",
       "    </tr>\n",
       "  </thead>\n",
       "  <tbody>\n",
       "    <tr>\n",
       "      <th>bs_backsquat</th>\n",
       "      <td>-0.3</td>\n",
       "      <td>0.0</td>\n",
       "      <td>0.2</td>\n",
       "      <td>0.0</td>\n",
       "    </tr>\n",
       "    <tr>\n",
       "      <th>bs_helen</th>\n",
       "      <td>0.0</td>\n",
       "      <td>-0.1</td>\n",
       "      <td>0.1</td>\n",
       "      <td>0.1</td>\n",
       "    </tr>\n",
       "    <tr>\n",
       "      <th>bs_run5k</th>\n",
       "      <td>-0.0</td>\n",
       "      <td>0.0</td>\n",
       "      <td>0.1</td>\n",
       "      <td>-0.2</td>\n",
       "    </tr>\n",
       "    <tr>\n",
       "      <th>bs_deadlift</th>\n",
       "      <td>-0.1</td>\n",
       "      <td>0.0</td>\n",
       "      <td>0.0</td>\n",
       "      <td>0.7</td>\n",
       "    </tr>\n",
       "    <tr>\n",
       "      <th>bs_fightgonebad</th>\n",
       "      <td>0.0</td>\n",
       "      <td>0.0</td>\n",
       "      <td>0.0</td>\n",
       "      <td>-0.5</td>\n",
       "    </tr>\n",
       "    <tr>\n",
       "      <th>bs_maxpull_ups</th>\n",
       "      <td>-0.1</td>\n",
       "      <td>0.0</td>\n",
       "      <td>0.0</td>\n",
       "      <td>0.1</td>\n",
       "    </tr>\n",
       "    <tr>\n",
       "      <th>bs_fran</th>\n",
       "      <td>0.1</td>\n",
       "      <td>0.4</td>\n",
       "      <td>-0.0</td>\n",
       "      <td>0.0</td>\n",
       "    </tr>\n",
       "    <tr>\n",
       "      <th>bs_grace</th>\n",
       "      <td>0.0</td>\n",
       "      <td>-0.1</td>\n",
       "      <td>-0.0</td>\n",
       "      <td>0.0</td>\n",
       "    </tr>\n",
       "    <tr>\n",
       "      <th>bs_filthy50</th>\n",
       "      <td>-0.5</td>\n",
       "      <td>0.0</td>\n",
       "      <td>0.0</td>\n",
       "      <td>0.0</td>\n",
       "    </tr>\n",
       "    <tr>\n",
       "      <th>bs_sprint400m</th>\n",
       "      <td>0.0</td>\n",
       "      <td>0.5</td>\n",
       "      <td>0.0</td>\n",
       "      <td>-0.1</td>\n",
       "    </tr>\n",
       "    <tr>\n",
       "      <th>bs_cleanandjerk</th>\n",
       "      <td>0.0</td>\n",
       "      <td>0.0</td>\n",
       "      <td>-1.7</td>\n",
       "      <td>0.0</td>\n",
       "    </tr>\n",
       "    <tr>\n",
       "      <th>bs_snatch</th>\n",
       "      <td>2.5</td>\n",
       "      <td>0.1</td>\n",
       "      <td>-2.7</td>\n",
       "      <td>0.0</td>\n",
       "    </tr>\n",
       "  </tbody>\n",
       "</table>\n",
       "</div>"
      ],
      "text/plain": [
       "                 +0.5 sigma  +1 sigma  -0.5 sigma  -1 sigma\n",
       "bs_backsquat           -0.3       0.0         0.2       0.0\n",
       "bs_helen                0.0      -0.1         0.1       0.1\n",
       "bs_run5k               -0.0       0.0         0.1      -0.2\n",
       "bs_deadlift            -0.1       0.0         0.0       0.7\n",
       "bs_fightgonebad         0.0       0.0         0.0      -0.5\n",
       "bs_maxpull_ups         -0.1       0.0         0.0       0.1\n",
       "bs_fran                 0.1       0.4        -0.0       0.0\n",
       "bs_grace                0.0      -0.1        -0.0       0.0\n",
       "bs_filthy50            -0.5       0.0         0.0       0.0\n",
       "bs_sprint400m           0.0       0.5         0.0      -0.1\n",
       "bs_cleanandjerk         0.0       0.0        -1.7       0.0\n",
       "bs_snatch               2.5       0.1        -2.7       0.0"
      ]
     },
     "execution_count": 197,
     "metadata": {},
     "output_type": "execute_result"
    }
   ],
   "source": [
    "sens_bs_cols = ['bs_backsquat', 'bs_cleanandjerk', 'bs_snatch',\n",
    "       'bs_deadlift', 'bs_fightgonebad', 'bs_maxpull_ups', 'bs_fran',\n",
    "       'bs_grace', 'bs_helen', 'bs_filthy50', 'bs_sprint400m', 'bs_run5k']\n",
    "df_sens_bs_filtered = df_sens_bs.loc[sens_bs_cols]\n",
    "df_sens_bs_ordered = df_sens_bs_filtered.sort_values(by='-0.5 sigma',ascending=False)\n",
    "df_sens_bs_ordered"
   ]
  },
  {
   "cell_type": "code",
   "execution_count": 198,
   "id": "daily-graduation",
   "metadata": {},
   "outputs": [
    {
     "data": {
      "image/png": "[encoded data removed]",
      "text/plain": [
       "<Figure size 720x1080 with 1 Axes>"
      ]
     },
     "metadata": {
      "needs_background": "light"
     },
     "output_type": "display_data"
    }
   ],
   "source": [
    "sens_colors = ['lightcoral','red','lightgreen','darkgreen']\n",
    "df_sens_bs_ordered.plot.barh(stacked=True, edgecolor='black', color=sens_colors, legend=False);"
   ]
  },
  {
   "cell_type": "code",
   "execution_count": null,
   "id": "primary-working",
   "metadata": {},
   "outputs": [],
   "source": []
  }
 ],
 "metadata": {
  "kernelspec": {
   "display_name": "Python 3",
   "language": "python",
   "name": "python3"
  },
  "language_info": {
   "codemirror_mode": {
    "name": "ipython",
    "version": 3
   },
   "file_extension": ".py",
   "mimetype": "text/x-python",
   "name": "python",
   "nbconvert_exporter": "python",
   "pygments_lexer": "ipython3",
   "version": "3.8.5"
  }
 },
 "nbformat": 4,
 "nbformat_minor": 5
}
