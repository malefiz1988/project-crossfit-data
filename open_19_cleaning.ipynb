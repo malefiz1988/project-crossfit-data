{
 "cells": [
  {
   "cell_type": "markdown",
   "id": "rocky-confusion",
   "metadata": {},
   "source": [
    "# Data Cleaning Process"
   ]
  },
  {
   "cell_type": "code",
   "execution_count": 2,
   "id": "unsigned-style",
   "metadata": {},
   "outputs": [],
   "source": [
    "# import relevant libraries\n",
    "\n",
    "import pandas as pd\n",
    "import seaborn as sns\n",
    "\n",
    "import warnings"
   ]
  },
  {
   "cell_type": "code",
   "execution_count": 3,
   "id": "certified-traveler",
   "metadata": {},
   "outputs": [],
   "source": [
    "# set options\n",
    "\n",
    "warnings.filterwarnings('ignore')\n",
    "pd.set_option('display.max_columns', None)"
   ]
  },
  {
   "cell_type": "code",
   "execution_count": 4,
   "id": "confident-subcommittee",
   "metadata": {},
   "outputs": [],
   "source": [
    "# read the two datasets of 2019 - Open Athletes & Open Scores\n",
    "\n",
    "df_19_ath = pd.read_csv('./data/2019_opens_athletes.csv')\n",
    "df_19_sco = pd.read_csv('./data/2019_opens_scores.csv')"
   ]
  },
  {
   "cell_type": "markdown",
   "id": "trying-african",
   "metadata": {},
   "source": [
    "---"
   ]
  },
  {
   "cell_type": "markdown",
   "id": "attractive-mexican",
   "metadata": {},
   "source": [
    "#### drop neglected features:"
   ]
  },
  {
   "cell_type": "code",
   "execution_count": 5,
   "id": "detected-oliver",
   "metadata": {},
   "outputs": [],
   "source": [
    "# from raw data description, following features can be dropped in advance:\n",
    "\n",
    "# athletes data: competitorname, postcompstatus, profilepics3key, countryoforiginname & divisionid\n",
    "ath_drop = ['competitorname', 'postcompstatus', 'profilepics3key', 'countryoforiginname', 'divisionid']\n",
    "df_19_ath.drop(columns=ath_drop, axis=1, inplace=True)\n",
    "\n",
    "# score data: judge & scoreidentifier\n",
    "sco_drop = ['judge', 'scoreidentifier']\n",
    "df_19_sco.drop(columns=sco_drop, axis=1, inplace=True)"
   ]
  },
  {
   "cell_type": "markdown",
   "id": "graphic-drilling",
   "metadata": {},
   "source": [
    "---"
   ]
  },
  {
   "cell_type": "markdown",
   "id": "understood-change",
   "metadata": {},
   "source": [
    "## Reshaping Score Dataset"
   ]
  },
  {
   "cell_type": "markdown",
   "id": "documentary-heath",
   "metadata": {},
   "source": [
    "* reshape the score dataset in a way that each athlete become just one observation (=row) in the dataset\n",
    "* thus, the score dataframe receives more features (=columns)"
   ]
  },
  {
   "cell_type": "code",
   "execution_count": 8,
   "id": "valid-dialogue",
   "metadata": {},
   "outputs": [],
   "source": [
    "# create a new dataframe (rs - reshape):\n",
    "df_19_sco_rs = df_19_sco.copy()"
   ]
  },
  {
   "cell_type": "markdown",
   "id": "casual-frontier",
   "metadata": {},
   "source": [
    "### extract data from rows & create new features"
   ]
  },
  {
   "cell_type": "markdown",
   "id": "cultural-somewhere",
   "metadata": {},
   "source": [
    "for each ordinal value, create following features and append to the dataframe:\n",
    "* breakdown\n",
    "* rank\n",
    "* scaled\n",
    "* score\n",
    "* scoredisplay\n",
    "* time"
   ]
  },
  {
   "cell_type": "code",
   "execution_count": 9,
   "id": "sporting-journalist",
   "metadata": {},
   "outputs": [],
   "source": [
    "# create lists of feature values per observation\n",
    "ordinal = df_19_sco_rs.ordinal.to_list()\n",
    "breakdown = df_19_sco_rs.breakdown.to_list()\n",
    "rank = df_19_sco_rs['rank'].to_list()\n",
    "scoredisplay = df_19_sco_rs.scoredisplay.to_list()\n",
    "time = df_19_sco_rs.time.to_list()\n",
    "scaled = df_19_sco_rs.scaled.to_list()\n",
    "score = df_19_sco_rs.score.to_list()\n",
    "\n",
    "# create empty lists for new features\n",
    "breakdown_1,breakdown_2,breakdown_3,breakdown_4,breakdown_5 = [],[],[],[],[]\n",
    "rank_1,rank_2,rank_3,rank_4,rank_5 = [],[],[],[],[]\n",
    "scoredisplay_1,scoredisplay_2,scoredisplay_3,scoredisplay_4,scoredisplay_5 = [],[],[],[],[]\n",
    "time_1,time_2,time_3,time_4,time_5 = [],[],[],[],[]\n",
    "scaled_1,scaled_2,scaled_3,scaled_4,scaled_5 = [],[],[],[],[]\n",
    "score_1,score_2,score_3,score_4,score_5 = [],[],[],[],[]\n",
    "\n",
    "# for each ordinal number fill new feature lists with data\n",
    "for i in range(len(ordinal)):\n",
    "    if ordinal[i] == 1:\n",
    "        breakdown_1.append(breakdown[i])\n",
    "        rank_1.append(rank[i])\n",
    "        scoredisplay_1.append(scoredisplay[i])\n",
    "        time_1.append(time[i])\n",
    "        scaled_1.append(scaled[i])\n",
    "        score_1.append(score[i])\n",
    "    elif ordinal[i] == 2:\n",
    "        breakdown_2.append(breakdown[i])\n",
    "        rank_2.append(rank[i])\n",
    "        scoredisplay_2.append(scoredisplay[i])\n",
    "        time_2.append(time[i])\n",
    "        scaled_2.append(scaled[i])\n",
    "        score_2.append(score[i])\n",
    "    elif ordinal[i] == 3:\n",
    "        breakdown_3.append(breakdown[i])\n",
    "        rank_3.append(rank[i])\n",
    "        scoredisplay_3.append(scoredisplay[i])\n",
    "        time_3.append(time[i])\n",
    "        scaled_3.append(scaled[i])\n",
    "        score_3.append(score[i])\n",
    "    elif ordinal[i] == 4:\n",
    "        breakdown_4.append(breakdown[i])\n",
    "        rank_4.append(rank[i])\n",
    "        scoredisplay_4.append(scoredisplay[i])\n",
    "        time_4.append(time[i])\n",
    "        scaled_4.append(scaled[i])\n",
    "        score_4.append(score[i])\n",
    "    elif ordinal[i] == 5:\n",
    "        breakdown_5.append(breakdown[i])\n",
    "        rank_5.append(rank[i])\n",
    "        scoredisplay_5.append(scoredisplay[i])\n",
    "        time_5.append(time[i])\n",
    "        scaled_5.append(scaled[i])\n",
    "        score_5.append(score[i])\n",
    "\n",
    "# drop features whose data has been extracted\n",
    "df_19_sco_rs.drop(columns='breakdown',axis=1,inplace=True)\n",
    "df_19_sco_rs.drop(columns='rank',axis=1,inplace=True)\n",
    "df_19_sco_rs.drop(columns='scoredisplay',axis=1,inplace=True)\n",
    "df_19_sco_rs.drop(columns='time',axis=1,inplace=True)\n",
    "df_19_sco_rs.drop(columns='scaled',axis=1,inplace=True)\n",
    "df_19_sco_rs.drop(columns='score',axis=1,inplace=True)\n",
    "\n",
    "# drop all observations with ordinal numbers besides 1\n",
    "df_19_sco_rs.drop(df_19_sco_rs.loc[df_19_sco_rs['ordinal']!=1].index, inplace=True)\n",
    "df_19_sco_rs.drop(columns='ordinal',axis=1,inplace=True)\n",
    "\n",
    "# add breakdown features for each workout to dataframe\n",
    "df_19_sco_rs['breakdown_1'] = breakdown_1\n",
    "df_19_sco_rs['breakdown_2'] = breakdown_2\n",
    "df_19_sco_rs['breakdown_3'] = breakdown_3\n",
    "df_19_sco_rs['breakdown_4'] = breakdown_4\n",
    "df_19_sco_rs['breakdown_5'] = breakdown_5\n",
    "\n",
    "# add rank features for each workout to dataframe\n",
    "df_19_sco_rs['rank_1'] = rank_1\n",
    "df_19_sco_rs['rank_2'] = rank_2\n",
    "df_19_sco_rs['rank_3'] = rank_3\n",
    "df_19_sco_rs['rank_4'] = rank_4\n",
    "df_19_sco_rs['rank_5'] = rank_5\n",
    "\n",
    "# add scoredisplay features for each workout to dataframe\n",
    "df_19_sco_rs['scoredisplay_1'] = scoredisplay_1\n",
    "df_19_sco_rs['scoredisplay_2'] = scoredisplay_2\n",
    "df_19_sco_rs['scoredisplay_3'] = scoredisplay_3\n",
    "df_19_sco_rs['scoredisplay_4'] = scoredisplay_4\n",
    "df_19_sco_rs['scoredisplay_5'] = scoredisplay_5\n",
    "\n",
    "# add time features for each workout to dataframe\n",
    "df_19_sco_rs['time_1'] = time_1\n",
    "df_19_sco_rs['time_2'] = time_2\n",
    "df_19_sco_rs['time_3'] = time_3\n",
    "df_19_sco_rs['time_4'] = time_4\n",
    "df_19_sco_rs['time_5'] = time_5\n",
    "\n",
    "# add scaled features for each workout to dataframe\n",
    "df_19_sco_rs['scaled_1'] = scaled_1\n",
    "df_19_sco_rs['scaled_2'] = scaled_2\n",
    "df_19_sco_rs['scaled_3'] = scaled_3\n",
    "df_19_sco_rs['scaled_4'] = scaled_4\n",
    "df_19_sco_rs['scaled_5'] = scaled_5\n",
    "\n",
    "# add score features for each workout to dataframe\n",
    "df_19_sco_rs['score_1'] = score_1\n",
    "df_19_sco_rs['score_2'] = score_2\n",
    "df_19_sco_rs['score_3'] = score_3\n",
    "df_19_sco_rs['score_4'] = score_4\n",
    "df_19_sco_rs['score_5'] = score_5\n",
    "\n",
    "# reset index of reshaped dataframe\n",
    "df_19_sco_rs.reset_index(inplace=True)"
   ]
  },
  {
   "cell_type": "markdown",
   "id": "resident-kuwait",
   "metadata": {},
   "source": [
    "---"
   ]
  },
  {
   "cell_type": "markdown",
   "id": "naked-bailey",
   "metadata": {},
   "source": [
    "## Drop redundant information from dataframes"
   ]
  },
  {
   "cell_type": "markdown",
   "id": "enhanced-vatican",
   "metadata": {},
   "source": [
    "In both datasets there are many double competitorid values because of some divisions counted twice for athlete who belong to two divisions. Because of those divisions there are different values for overallscore and overallrank (in the athlete dataset) and for the ranks of each competition. We will drop double counted rows after overriding the values in a way that only the superordinate division (Men or Women) counts."
   ]
  },
  {
   "cell_type": "code",
   "execution_count": 13,
   "id": "silent-excitement",
   "metadata": {},
   "outputs": [],
   "source": [
    "# create dataframes with sorted values (by competitorid)\n",
    "\n",
    "df_19_ath_precomb = df_19_ath.sort_values(by=['competitorid','division'])\n",
    "df_19_ath_precomb = df_19_ath_precomb.reset_index(drop=True)\n",
    "\n",
    "df_19_sco_precomb = df_19_sco_rs.sort_values(by=['competitorid','division'])\n",
    "df_19_sco_precomb = df_19_sco_precomb.reset_index(drop=True)"
   ]
  },
  {
   "cell_type": "code",
   "execution_count": 14,
   "id": "color-nickel",
   "metadata": {},
   "outputs": [],
   "source": [
    "# create index-list for droping redundant division rows\n",
    "# and override values for same competitorid\n",
    "competitorid = df_19_ath_precomb['competitorid'].to_list()\n",
    "idx = []\n",
    "i = 0\n",
    "while i < len(competitorid)-1:\n",
    "    if competitorid[i] == competitorid[i+1]:\n",
    "        idx.append(i)\n",
    "        df_19_sco_precomb.at[i+1,'rank_1'] = df_19_sco_precomb.at[i,'rank_1']\n",
    "        df_19_sco_precomb.at[i+1,'rank_2'] = df_19_sco_precomb.at[i,'rank_2']\n",
    "        df_19_sco_precomb.at[i+1,'rank_3'] = df_19_sco_precomb.at[i,'rank_3']\n",
    "        df_19_sco_precomb.at[i+1,'rank_4'] = df_19_sco_precomb.at[i,'rank_4']\n",
    "        df_19_sco_precomb.at[i+1,'rank_5'] = df_19_sco_precomb.at[i,'rank_5']\n",
    "        df_19_ath_precomb.at[i+1,'overallrank'] = df_19_ath_precomb.at[i,'overallrank']\n",
    "        df_19_ath_precomb.at[i+1,'overallscore'] = df_19_ath_precomb.at[i,'overallscore']   \n",
    "    i = i+1"
   ]
  },
  {
   "cell_type": "code",
   "execution_count": 15,
   "id": "broke-clearing",
   "metadata": {},
   "outputs": [],
   "source": [
    "# dataframe with unique competitorid values\n",
    "df_19_ath_precomb.drop(index=idx, inplace=True)\n",
    "df_19_sco_precomb.drop(index=idx, inplace=True)"
   ]
  },
  {
   "cell_type": "code",
   "execution_count": 16,
   "id": "otherwise-safety",
   "metadata": {},
   "outputs": [
    {
     "data": {
      "text/plain": [
       "(355418, 35)"
      ]
     },
     "execution_count": 16,
     "metadata": {},
     "output_type": "execute_result"
    }
   ],
   "source": [
    "df_19_sco_precomb.shape"
   ]
  },
  {
   "cell_type": "code",
   "execution_count": 17,
   "id": "induced-sending",
   "metadata": {},
   "outputs": [
    {
     "data": {
      "text/plain": [
       "(355418, 14)"
      ]
     },
     "execution_count": 17,
     "metadata": {},
     "output_type": "execute_result"
    }
   ],
   "source": [
    "df_19_ath_precomb.shape"
   ]
  },
  {
   "cell_type": "code",
   "execution_count": 18,
   "id": "statewide-speech",
   "metadata": {},
   "outputs": [
    {
     "data": {
      "text/plain": [
       "355418"
      ]
     },
     "execution_count": 18,
     "metadata": {},
     "output_type": "execute_result"
    }
   ],
   "source": [
    "df_19_sco_precomb['competitorid'].nunique()"
   ]
  },
  {
   "cell_type": "code",
   "execution_count": 19,
   "id": "signed-membrane",
   "metadata": {},
   "outputs": [
    {
     "data": {
      "text/plain": [
       "355418"
      ]
     },
     "execution_count": 19,
     "metadata": {},
     "output_type": "execute_result"
    }
   ],
   "source": [
    "df_19_ath_precomb['competitorid'].nunique()"
   ]
  },
  {
   "cell_type": "markdown",
   "id": "competent-yesterday",
   "metadata": {},
   "source": [
    "---"
   ]
  },
  {
   "cell_type": "markdown",
   "id": "talented-snapshot",
   "metadata": {},
   "source": [
    "## Combine both dataframes"
   ]
  },
  {
   "cell_type": "code",
   "execution_count": 20,
   "id": "classical-manor",
   "metadata": {},
   "outputs": [],
   "source": [
    "df_19 = pd.merge(df_19_ath_precomb, df_19_sco_precomb, on=['competitorid', 'is_scaled', 'division'], how='inner')"
   ]
  },
  {
   "cell_type": "code",
   "execution_count": 21,
   "id": "prerequisite-storage",
   "metadata": {},
   "outputs": [
    {
     "data": {
      "text/plain": [
       "(355418, 46)"
      ]
     },
     "execution_count": 21,
     "metadata": {},
     "output_type": "execute_result"
    }
   ],
   "source": [
    "df_19.shape"
   ]
  },
  {
   "cell_type": "markdown",
   "id": "spectacular-visit",
   "metadata": {},
   "source": [
    "---"
   ]
  },
  {
   "cell_type": "markdown",
   "id": "productive-helen",
   "metadata": {},
   "source": [
    "## Extract Breakdown Information"
   ]
  },
  {
   "cell_type": "markdown",
   "id": "british-married",
   "metadata": {},
   "source": [
    "---"
   ]
  },
  {
   "cell_type": "markdown",
   "id": "collected-convert",
   "metadata": {},
   "source": [
    "### 19.1 - wallball shots & rowing"
   ]
  },
  {
   "cell_type": "markdown",
   "id": "provincial-titanium",
   "metadata": {},
   "source": [
    "extract:\n",
    "* reps wbs\n",
    "* cals row\n",
    "* number of rounds completed"
   ]
  },
  {
   "cell_type": "code",
   "execution_count": 22,
   "id": "collaborative-platform",
   "metadata": {},
   "outputs": [],
   "source": [
    "# create a list of scoredisplay for the 1st workout\n",
    "sc1 = df_19.scoredisplay_1.to_list()"
   ]
  },
  {
   "cell_type": "code",
   "execution_count": 23,
   "id": "outer-jersey",
   "metadata": {},
   "outputs": [],
   "source": [
    "# create empty lists for the new features\n",
    "w1_reps_wbs = [] # workout 1 reps of wallball shots\n",
    "w1_cals_row = [] # workout 1 cals of rowing\n",
    "w1_rounds_completed = [] # workout 1 number of completed rounds"
   ]
  },
  {
   "cell_type": "code",
   "execution_count": 24,
   "id": "central-glossary",
   "metadata": {},
   "outputs": [],
   "source": [
    "# get integer numbers for the amount of reps\n",
    "for i in range(len(sc1)):\n",
    "    if sc1[i] != 'nan' and type(sc1[i]) == str:\n",
    "        x = sc1[i].split()\n",
    "        sc1[i] = int(x[0])"
   ]
  },
  {
   "cell_type": "code",
   "execution_count": 25,
   "id": "animal-rider",
   "metadata": {},
   "outputs": [],
   "source": [
    "# filling the empty lists with results\n",
    "for i in sc1:\n",
    "    if i != 'nan':\n",
    "        rounds = i//38\n",
    "        rest = i%38\n",
    "        if rest > 19:\n",
    "            result = (rounds+1)*19\n",
    "        else:\n",
    "            result = rounds*19 + rest\n",
    "        w1_reps_wbs.append(result)\n",
    "        w1_cals_row.append(i-result)\n",
    "        w1_rounds_completed.append(round(rounds+rest/38,2))\n",
    "    else:\n",
    "        w1_reps_wbs.append('nan')\n",
    "        w1_rounds_completed.append('nan')"
   ]
  },
  {
   "cell_type": "markdown",
   "id": "changed-medicine",
   "metadata": {},
   "source": [
    "---"
   ]
  },
  {
   "cell_type": "markdown",
   "id": "opened-robertson",
   "metadata": {},
   "source": [
    "### 19.2 - T2B, DU & Squat-Clean"
   ]
  },
  {
   "cell_type": "markdown",
   "id": "superb-retention",
   "metadata": {},
   "source": [
    "extract:\n",
    "* reps t2b\n",
    "* reps du\n",
    "* reps sqcl\n",
    "* rounds completed (1-5 per weight of sqcl)\n",
    "* tie break (after last round du)"
   ]
  },
  {
   "cell_type": "code",
   "execution_count": 31,
   "id": "ultimate-express",
   "metadata": {},
   "outputs": [],
   "source": [
    "# create lists of breakdown and scoredisplay for the 2nd workout\n",
    "b2 = df_19.breakdown_2.to_list()\n",
    "sc2 = df_19.scoredisplay_2.to_list()"
   ]
  },
  {
   "cell_type": "code",
   "execution_count": 32,
   "id": "parallel-affairs",
   "metadata": {},
   "outputs": [],
   "source": [
    "# create empty lists for the new features\n",
    "w2_reps_t2b = [] # workout 2 reps of toes to bar\n",
    "w2_reps_du = [] # workout 2 reps of double unders\n",
    "w2_reps_sqcl = [] # workout 2 reps of squat-cleans\n",
    "w2_rounds_completed = [] # number of rounds completed (one round completed after last rep of squat cleans)\n",
    "w2_tiebreak = [] # workout 2 tiebreak time (after last round double unders completed)"
   ]
  },
  {
   "cell_type": "code",
   "execution_count": 33,
   "id": "conceptual-cricket",
   "metadata": {},
   "outputs": [],
   "source": [
    "# get integer numbers for the amount of reps\n",
    "for i in range(len(sc2)):\n",
    "    if sc2[i] != 'nan' and type(sc2[i]) == str:\n",
    "        if ':' not in sc2[i]:\n",
    "            x = sc2[i].split()\n",
    "            sc2[i] = int(x[0])\n",
    "        else:\n",
    "            sc2[i] = 430"
   ]
  },
  {
   "cell_type": "code",
   "execution_count": 34,
   "id": "honey-bracket",
   "metadata": {},
   "outputs": [],
   "source": [
    "# filling the empty lists with results (reps of exercises)\n",
    "for i in sc2:\n",
    "    if type(i) == float:\n",
    "        w2_reps_t2b.append('nan')\n",
    "        w2_reps_du.append('nan')\n",
    "        w2_reps_sqcl.append('nan')\n",
    "    elif i <= 25:\n",
    "        w2_reps_t2b.append(i)\n",
    "        w2_reps_du.append(0)\n",
    "        w2_reps_sqcl.append(0)\n",
    "    elif i > 25 and i <= 75:\n",
    "        w2_reps_t2b.append(25)\n",
    "        w2_reps_du.append(i-25)\n",
    "        w2_reps_sqcl.append(0)\n",
    "    elif i > 75 and i <= 90:\n",
    "        w2_reps_t2b.append(25)\n",
    "        w2_reps_du.append(50)\n",
    "        w2_reps_sqcl.append(i-90)\n",
    "    elif i > 90 and i <= 115:\n",
    "        w2_reps_t2b.append(25+i-90)\n",
    "        w2_reps_du.append(50)\n",
    "        w2_reps_sqcl.append(15)\n",
    "    elif i > 115 and i <= 165:\n",
    "        w2_reps_t2b.append(50)\n",
    "        w2_reps_du.append(50+i-115)\n",
    "        w2_reps_sqcl.append(15)\n",
    "    elif i > 165 and i <= 178:\n",
    "        w2_reps_t2b.append(50)\n",
    "        w2_reps_du.append(100)\n",
    "        w2_reps_sqcl.append(15+i-165)\n",
    "    elif i > 178 and i <= 203:\n",
    "        w2_reps_t2b.append(50+i-178)\n",
    "        w2_reps_du.append(100)\n",
    "        w2_reps_sqcl.append(28)\n",
    "    elif i > 203 and i <= 253:\n",
    "        w2_reps_t2b.append(75)\n",
    "        w2_reps_du.append(100+i-203)\n",
    "        w2_reps_sqcl.append(28)\n",
    "    elif i > 253 and i <= 264:\n",
    "        w2_reps_t2b.append(75)\n",
    "        w2_reps_du.append(150)\n",
    "        w2_reps_sqcl.append(28+i-253)\n",
    "    elif i > 264 and i <= 289:\n",
    "        w2_reps_t2b.append(75+i-264)\n",
    "        w2_reps_du.append(150)\n",
    "        w2_reps_sqcl.append(39)\n",
    "    elif i > 289 and i <= 339:\n",
    "        w2_reps_t2b.append(100)\n",
    "        w2_reps_du.append(150+i-289)\n",
    "        w2_reps_sqcl.append(39)\n",
    "    elif i > 339 and i <= 348:\n",
    "        w2_reps_t2b.append(100)\n",
    "        w2_reps_du.append(200)\n",
    "        w2_reps_sqcl.append(39+i-339)\n",
    "    elif i > 348 and i <= 373:\n",
    "        w2_reps_t2b.append(100+i-348)\n",
    "        w2_reps_du.append(200)\n",
    "        w2_reps_sqcl.append(48)\n",
    "    elif i > 373 and i <= 423:\n",
    "        w2_reps_t2b.append(125)\n",
    "        w2_reps_du.append(200+i-373)\n",
    "        w2_reps_sqcl.append(48)\n",
    "    elif i > 423 and i <= 430:\n",
    "        w2_reps_t2b.append(125)\n",
    "        w2_reps_du.append(250)\n",
    "        w2_reps_sqcl.append(48+i-423)"
   ]
  },
  {
   "cell_type": "code",
   "execution_count": 35,
   "id": "welcome-lancaster",
   "metadata": {},
   "outputs": [],
   "source": [
    "# filling the empty list with rounds completed\n",
    "for i in sc2:\n",
    "    if type(i) == float:\n",
    "        w2_rounds_completed.append('nan')\n",
    "    elif i < 90:\n",
    "        w2_rounds_completed.append(round(i/90,2))\n",
    "    elif i >= 90 and i <178:\n",
    "        w2_rounds_completed.append(round(1 + (i-90)/88,2))\n",
    "    elif i >= 178 and i <264:\n",
    "        w2_rounds_completed.append(round(2 + (i-178)/86,2))\n",
    "    elif i >= 264 and i <348:\n",
    "        w2_rounds_completed.append(round(3 + (i-264)/84,2))\n",
    "    elif i >= 348 and i <430:\n",
    "        w2_rounds_completed.append(round(4 + (i-348)/82,2))\n",
    "    elif i == 430:\n",
    "        w2_rounds_completed.append(5.0)"
   ]
  },
  {
   "cell_type": "code",
   "execution_count": 36,
   "id": "lovely-imperial",
   "metadata": {},
   "outputs": [],
   "source": [
    "# filling the empty list with tiebreak times\n",
    "for i in b2:\n",
    "    if type(i) == float:\n",
    "        w2_tiebreak.append('nan')\n",
    "    else:\n",
    "        x = i.split()\n",
    "        w2_tiebreak.append(x[-1])"
   ]
  },
  {
   "cell_type": "markdown",
   "id": "frequent-atlas",
   "metadata": {},
   "source": [
    "---"
   ]
  },
  {
   "cell_type": "markdown",
   "id": "experimental-product",
   "metadata": {},
   "source": [
    "### 19.3 - OH-Lunges, DB-Box-Stepups, strict HSPU & HS-Walk"
   ]
  },
  {
   "cell_type": "markdown",
   "id": "objective-packing",
   "metadata": {},
   "source": [
    "extract:\n",
    "* 5ft reps ohl (40 total)\n",
    "* reps dbbsu (50 total)\n",
    "* reps hspu (50 total)\n",
    "* 5ft reps hsw (40 total)\n",
    "* rounds completed (1-4 exercises)\n",
    "* tiebreak (after dbbsu)"
   ]
  },
  {
   "cell_type": "code",
   "execution_count": 49,
   "id": "piano-closure",
   "metadata": {},
   "outputs": [],
   "source": [
    "# create lists of breakdown and scoredisplay for the 3rd workout\n",
    "b3 = df_19.breakdown_3.to_list()\n",
    "sc3 = df_19.scoredisplay_3.to_list()"
   ]
  },
  {
   "cell_type": "code",
   "execution_count": 50,
   "id": "cubic-violation",
   "metadata": {},
   "outputs": [],
   "source": [
    "# create empty lists for the new features\n",
    "w3_5ft_reps_ohl = [] # workout 3 5ft lane reps of walking OH-lunges\n",
    "w3_reps_dbbsu = [] # workout 3 reps of DB Box Step-Ups\n",
    "w3_reps_hspu = [] # workout 3 reps of strict HSPU\n",
    "w3_5ft_reps_hsw = [] # workout 3 5ft lane reps of HS-Walk\n",
    "w3_rounds_completed = [] # workout 3 number of rounds completed (after last rep of exercise)\n",
    "w3_tiebreak = [] # workout 3 tiebreak time (after last rep of DB Box-Stepups)"
   ]
  },
  {
   "cell_type": "code",
   "execution_count": 51,
   "id": "labeled-dayton",
   "metadata": {},
   "outputs": [],
   "source": [
    "# get integer numbers for the amount of reps\n",
    "for i in range(len(sc3)):\n",
    "    if sc3[i] != 'nan' and type(sc3[i]) == str:\n",
    "        if ':' not in sc3[i]:\n",
    "            x = sc3[i].split()\n",
    "            sc3[i] = int(x[0])\n",
    "        else:\n",
    "            sc3[i] = 180"
   ]
  },
  {
   "cell_type": "code",
   "execution_count": 52,
   "id": "handled-addition",
   "metadata": {},
   "outputs": [],
   "source": [
    "# filling the empty lists with results (reps of exercises and rounds completed)\n",
    "for i in sc3:\n",
    "    if type(i) == float:\n",
    "        w3_5ft_reps_ohl.append('nan')\n",
    "        w3_reps_dbbsu.append('nan')\n",
    "        w3_reps_hspu.append('nan')\n",
    "        w3_5ft_reps_hsw.append('nan')\n",
    "        w3_rounds_completed.append('nan')\n",
    "    elif i <= 40:\n",
    "        w3_5ft_reps_ohl.append(i)\n",
    "        w3_reps_dbbsu.append(0)\n",
    "        w3_reps_hspu.append(0)\n",
    "        w3_5ft_reps_hsw.append(0)\n",
    "        w3_rounds_completed.append(round(i/40,2))\n",
    "    elif i > 40 and i <= 90:\n",
    "        w3_5ft_reps_ohl.append(40)\n",
    "        w3_reps_dbbsu.append(i-40)\n",
    "        w3_reps_hspu.append(0)\n",
    "        w3_5ft_reps_hsw.append(0)\n",
    "        w3_rounds_completed.append(round(1+(i-40)/50,2))\n",
    "    elif i > 90 and i <= 140:\n",
    "        w3_5ft_reps_ohl.append(40)\n",
    "        w3_reps_dbbsu.append(50)\n",
    "        w3_reps_hspu.append(i-90)\n",
    "        w3_5ft_reps_hsw.append(0)\n",
    "        w3_rounds_completed.append(round(2+(i-90)/50,2))\n",
    "    elif i > 140 and i <= 180:\n",
    "        w3_5ft_reps_ohl.append(40)\n",
    "        w3_reps_dbbsu.append(50)\n",
    "        w3_reps_hspu.append(50)\n",
    "        w3_5ft_reps_hsw.append(i-140)\n",
    "        w3_rounds_completed.append(round(3+(i-140)/40,2))"
   ]
  },
  {
   "cell_type": "code",
   "execution_count": 53,
   "id": "alpha-wonder",
   "metadata": {},
   "outputs": [],
   "source": [
    "# filling empty list with tiebreak time (after last rep of DB Box-Stepups)\n",
    "for i in b3:\n",
    "    if type(i) == float:\n",
    "        w3_tiebreak.append('nan')\n",
    "    else:\n",
    "        x = i.split()\n",
    "        w3_tiebreak.append(x[-1])"
   ]
  },
  {
   "cell_type": "markdown",
   "id": "floral-musical",
   "metadata": {},
   "source": [
    "---"
   ]
  },
  {
   "cell_type": "markdown",
   "id": "continent-horizontal",
   "metadata": {},
   "source": [
    "### 19.4 - Snatches, Bar-facing Burpees & Bar-MuscleUps"
   ]
  },
  {
   "cell_type": "markdown",
   "id": "tender-communications",
   "metadata": {},
   "source": [
    "extract:\n",
    "* reps sn\n",
    "* reps bp1 & bp2\n",
    "* reps bmu\n",
    "* rounds completed (total 2 rounds)\n",
    "* tiebreak (after last bp1)"
   ]
  },
  {
   "cell_type": "code",
   "execution_count": 54,
   "id": "legitimate-savage",
   "metadata": {},
   "outputs": [],
   "source": [
    "# create lists of breakdown and scoredisplay for the 4th workout\n",
    "b4 = df_19.breakdown_4.to_list()\n",
    "sc4 = df_19.scoredisplay_4.to_list()"
   ]
  },
  {
   "cell_type": "code",
   "execution_count": 56,
   "id": "occupational-promotion",
   "metadata": {},
   "outputs": [],
   "source": [
    "# create empty lists for the new features\n",
    "w4_reps_sn = [] # workout 4 reps of Snatches\n",
    "w4_reps_bp = [] # workout 4 reps of barfacing burpees\n",
    "w4_reps_bmu = [] # workout 4 reps of bar MUs\n",
    "w4_rounds_completed = [] # workout 4 number of rounds completed (two parts,\n",
    "                         # first round ends after last burpee before first MU)\n",
    "w4_tiebreak = [] # workout 4 tiebreak time (after last rep of burpees before MU part)\n",
    "                 # Note: if the entire workout is completed, there's no tiebreak entry (nan)"
   ]
  },
  {
   "cell_type": "code",
   "execution_count": 57,
   "id": "artificial-rates",
   "metadata": {},
   "outputs": [],
   "source": [
    "# get integer numbers for the amount of reps\n",
    "for i in range(len(sc4)):\n",
    "    if sc4[i] != 'nan' and type(sc4[i]) == str:\n",
    "        if ':' not in sc4[i]:\n",
    "            x = sc4[i].split()\n",
    "            sc4[i] = int(x[0])\n",
    "        else:\n",
    "            sc4[i] = 132"
   ]
  },
  {
   "cell_type": "code",
   "execution_count": 58,
   "id": "technological-mechanism",
   "metadata": {},
   "outputs": [],
   "source": [
    "# filling the empty lists with results (reps of exercises and rounds completed)\n",
    "for i in sc4:\n",
    "    if type(i) == float:\n",
    "        w4_reps_sn.append('nan')\n",
    "        w4_reps_bp.append('nan')\n",
    "        w4_reps_bmu.append('nan')\n",
    "        w4_rounds_completed.append('nan')\n",
    "    elif i <= 10:\n",
    "        w4_reps_sn.append(i)\n",
    "        w4_reps_bp.append(0)\n",
    "        w4_reps_bmu.append(0)\n",
    "        w4_rounds_completed.append(round(i/66,2))\n",
    "    elif i > 10 and i <= 22:\n",
    "        w4_reps_sn.append(10)\n",
    "        w4_reps_bp.append(i-10)\n",
    "        w4_reps_bmu.append(0)\n",
    "        w4_rounds_completed.append(round(i/66,2))\n",
    "    elif i > 22 and i <= 32:\n",
    "        w4_reps_sn.append(10+i-22)\n",
    "        w4_reps_bp.append(12)\n",
    "        w4_reps_bmu.append(0)\n",
    "        w4_rounds_completed.append(round(i/66,2))\n",
    "    elif i > 32 and i <= 44:\n",
    "        w4_reps_sn.append(20)\n",
    "        w4_reps_bp.append(12+i-32)\n",
    "        w4_reps_bmu.append(0)\n",
    "        w4_rounds_completed.append(round(i/66,2))\n",
    "    elif i > 44 and i <= 54:\n",
    "        w4_reps_sn.append(20+i-44)\n",
    "        w4_reps_bp.append(24)\n",
    "        w4_reps_bmu.append(0)\n",
    "        w4_rounds_completed.append(round(i/66,2))\n",
    "    elif i > 54 and i <= 66:\n",
    "        w4_reps_sn.append(30)\n",
    "        w4_reps_bp.append(24+i-54)\n",
    "        w4_reps_bmu.append(0)\n",
    "        w4_rounds_completed.append(round(i/66,2))\n",
    "    elif i > 66 and i <= 76:\n",
    "        w4_reps_sn.append(30)\n",
    "        w4_reps_bp.append(36)\n",
    "        w4_reps_bmu.append(i-66)\n",
    "        w4_rounds_completed.append(round(1+(i-66)/66,2))\n",
    "    elif i > 76 and i <= 88:\n",
    "        w4_reps_sn.append(30)\n",
    "        w4_reps_bp.append(36+i-76)\n",
    "        w4_reps_bmu.append(10)\n",
    "        w4_rounds_completed.append(round(1+(i-66)/66,2))\n",
    "    elif i > 88 and i <= 98:\n",
    "        w4_reps_sn.append(30)\n",
    "        w4_reps_bp.append(48)\n",
    "        w4_reps_bmu.append(10+i-88)\n",
    "        w4_rounds_completed.append(round(1+(i-66)/66,2))\n",
    "    elif i > 98 and i <= 110:\n",
    "        w4_reps_sn.append(30)\n",
    "        w4_reps_bp.append(48+i-98)\n",
    "        w4_reps_bmu.append(20)\n",
    "        w4_rounds_completed.append(round(1+(i-66)/66,2))\n",
    "    elif i > 110 and i <= 120:\n",
    "        w4_reps_sn.append(30)\n",
    "        w4_reps_bp.append(60)\n",
    "        w4_reps_bmu.append(20+i-110)\n",
    "        w4_rounds_completed.append(round(1+(i-66)/66,2))\n",
    "    elif i > 120 and i <= 132:\n",
    "        w4_reps_sn.append(30)\n",
    "        w4_reps_bp.append(60+i-120)\n",
    "        w4_reps_bmu.append(30)\n",
    "        w4_rounds_completed.append(round(1+(i-66)/66,2))"
   ]
  },
  {
   "cell_type": "code",
   "execution_count": 60,
   "id": "variable-liberia",
   "metadata": {},
   "outputs": [],
   "source": [
    "# filling empty list with tiebreak time (after last burpee before first MU)\n",
    "for i in b4:\n",
    "    if type(i) == float:\n",
    "        w4_tiebreak.append('nan')\n",
    "    else:\n",
    "        x = i.split()\n",
    "        if x[-1] == 'rounds':\n",
    "            w4_tiebreak.append('nan')\n",
    "        else:\n",
    "            w4_tiebreak.append(x[-1])"
   ]
  },
  {
   "cell_type": "markdown",
   "id": "dying-regression",
   "metadata": {},
   "source": [
    "---"
   ]
  },
  {
   "cell_type": "markdown",
   "id": "checked-environment",
   "metadata": {},
   "source": [
    "### 19.5 - Thrusters & C2B-PullUps"
   ]
  },
  {
   "cell_type": "markdown",
   "id": "joint-drive",
   "metadata": {},
   "source": [
    "extract:\n",
    "* reps thr\n",
    "* reps c2bpu\n",
    "* rounds completed (one round consists of two consecutive exercises)"
   ]
  },
  {
   "cell_type": "code",
   "execution_count": 66,
   "id": "tired-heading",
   "metadata": {},
   "outputs": [],
   "source": [
    "# create a list of scoredisplay for the 5th workout\n",
    "sc5 = df_19.scoredisplay_5.to_list()"
   ]
  },
  {
   "cell_type": "code",
   "execution_count": 67,
   "id": "constitutional-chair",
   "metadata": {},
   "outputs": [],
   "source": [
    "# create empty lists for the new features\n",
    "w5_reps_thr = [] # workout 5 reps of Thrusters\n",
    "w5_reps_c2bpu = [] # workout 5 reps of Chest2Bar PullUps\n",
    "w5_rounds_completed = [] # workout 5 number of rounds completed (5 rounds total)"
   ]
  },
  {
   "cell_type": "code",
   "execution_count": 68,
   "id": "whole-lexington",
   "metadata": {},
   "outputs": [],
   "source": [
    "# get integer numbers for the amount of reps\n",
    "for i in range(len(sc5)):\n",
    "    if sc5[i] != 'nan' and type(sc5[i]) == str:\n",
    "        if ':' not in sc5[i]:\n",
    "            x = sc5[i].split()\n",
    "            sc5[i] = int(x[0])\n",
    "        else:\n",
    "            sc5[i] = 210"
   ]
  },
  {
   "cell_type": "code",
   "execution_count": 69,
   "id": "thousand-criterion",
   "metadata": {},
   "outputs": [],
   "source": [
    "# filling the empty lists with results (reps of exercises and rounds completed)\n",
    "for i in sc5:\n",
    "    if type(i) == float:\n",
    "        w5_reps_thr.append('nan')\n",
    "        w5_reps_c2bpu.append('nan')\n",
    "        w5_rounds_completed.append('nan')\n",
    "    elif i <= 33:\n",
    "        w5_reps_thr.append(i)\n",
    "        w5_reps_c2bpu.append(0)\n",
    "        w5_rounds_completed.append(round(i/66,2))\n",
    "    elif i > 33 and i <= 66:\n",
    "        w5_reps_thr.append(33)\n",
    "        w5_reps_c2bpu.append(i-33)\n",
    "        w5_rounds_completed.append(round(i/66,2))\n",
    "    elif i > 66 and i <= 93:\n",
    "        w5_reps_thr.append(33+i-66)\n",
    "        w5_reps_c2bpu.append(33)\n",
    "        w5_rounds_completed.append(round(1+(i-66)/54,2))\n",
    "    elif i > 93 and i <= 120:\n",
    "        w5_reps_thr.append(60)\n",
    "        w5_reps_c2bpu.append(33+i-93)\n",
    "        w5_rounds_completed.append(round(1+(i-66)/54,2))\n",
    "    elif i > 120 and i <= 141:\n",
    "        w5_reps_thr.append(60+i-120)\n",
    "        w5_reps_c2bpu.append(60)\n",
    "        w5_rounds_completed.append(round(2+(i-120)/42,2))\n",
    "    elif i > 141 and i <= 162:\n",
    "        w5_reps_thr.append(81)\n",
    "        w5_reps_c2bpu.append(60+i-141)\n",
    "        w5_rounds_completed.append(round(2+(i-120)/42,2))\n",
    "    elif i > 162 and i <= 177:\n",
    "        w5_reps_thr.append(81+i-162)\n",
    "        w5_reps_c2bpu.append(81)\n",
    "        w5_rounds_completed.append(round(3+(i-162)/30,2))\n",
    "    elif i > 177 and i <= 192:\n",
    "        w5_reps_thr.append(96)\n",
    "        w5_reps_c2bpu.append(81+i-177)\n",
    "        w5_rounds_completed.append(round(3+(i-162)/30,2))\n",
    "    elif i > 192 and i <= 201:\n",
    "        w5_reps_thr.append(96+i-192)\n",
    "        w5_reps_c2bpu.append(96)\n",
    "        w5_rounds_completed.append(round(4+(i-192)/18,2))\n",
    "    elif i > 201 and i <= 210:\n",
    "        w5_reps_thr.append(105)\n",
    "        w5_reps_c2bpu.append(96+i-201)\n",
    "        w5_rounds_completed.append(round(4+(i-192)/18,2))"
   ]
  },
  {
   "cell_type": "markdown",
   "id": "unlikely-layer",
   "metadata": {},
   "source": [
    "---"
   ]
  },
  {
   "cell_type": "code",
   "execution_count": null,
   "id": "affiliated-board",
   "metadata": {},
   "outputs": [],
   "source": []
  }
 ],
 "metadata": {
  "kernelspec": {
   "display_name": "Python 3",
   "language": "python",
   "name": "python3"
  },
  "language_info": {
   "codemirror_mode": {
    "name": "ipython",
    "version": 3
   },
   "file_extension": ".py",
   "mimetype": "text/x-python",
   "name": "python",
   "nbconvert_exporter": "python",
   "pygments_lexer": "ipython3",
   "version": "3.8.5"
  }
 },
 "nbformat": 4,
 "nbformat_minor": 5
}
