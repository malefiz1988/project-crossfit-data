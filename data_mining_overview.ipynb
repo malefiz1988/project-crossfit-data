{
 "cells": [
  {
   "cell_type": "code",
   "execution_count": 16,
   "id": "anonymous-mining",
   "metadata": {},
   "outputs": [
    {
     "data": {
      "text/plain": [
       "<Response [200]>"
      ]
     },
     "execution_count": 16,
     "metadata": {},
     "output_type": "execute_result"
    }
   ],
   "source": [
    "import requests\n",
    "page = requests.get(\"http://dataquestio.github.io/web-scraping-pages/simple.html\")\n",
    "page"
   ]
  },
  {
   "cell_type": "code",
   "execution_count": 2,
   "id": "medical-respect",
   "metadata": {},
   "outputs": [
    {
     "data": {
      "text/plain": [
       "200"
      ]
     },
     "execution_count": 2,
     "metadata": {},
     "output_type": "execute_result"
    }
   ],
   "source": [
    "page.status_code"
   ]
  },
  {
   "cell_type": "code",
   "execution_count": 3,
   "id": "supreme-might",
   "metadata": {},
   "outputs": [
    {
     "data": {
      "text/plain": [
       "b'<!DOCTYPE html>\\n<html>\\n    <head>\\n        <title>A simple example page</title>\\n    </head>\\n    <body>\\n        <p>Here is some simple content for this page.</p>\\n    </body>\\n</html>'"
      ]
     },
     "execution_count": 3,
     "metadata": {},
     "output_type": "execute_result"
    }
   ],
   "source": [
    "page.content"
   ]
  },
  {
   "cell_type": "code",
   "execution_count": null,
   "id": "major-killer",
   "metadata": {},
   "outputs": [],
   "source": [
    "#! pip install bs4"
   ]
  },
  {
   "cell_type": "code",
   "execution_count": 46,
   "id": "paperback-extension",
   "metadata": {},
   "outputs": [],
   "source": [
    "from bs4 import BeautifulSoup as bs"
   ]
  },
  {
   "cell_type": "code",
   "execution_count": 47,
   "id": "developmental-submission",
   "metadata": {},
   "outputs": [],
   "source": [
    "soup = bs(page.content, 'html.parser')"
   ]
  },
  {
   "cell_type": "code",
   "execution_count": 19,
   "id": "tender-banana",
   "metadata": {},
   "outputs": [
    {
     "name": "stdout",
     "output_type": "stream",
     "text": [
      "<!DOCTYPE html>\n",
      "<html>\n",
      " <head>\n",
      "  <title>\n",
      "   A simple example page\n",
      "  </title>\n",
      " </head>\n",
      " <body>\n",
      "  <p>\n",
      "   Here is some simple content for this page.\n",
      "  </p>\n",
      " </body>\n",
      "</html>\n"
     ]
    }
   ],
   "source": [
    "print(soup.prettify())"
   ]
  },
  {
   "cell_type": "code",
   "execution_count": 20,
   "id": "fitting-halloween",
   "metadata": {},
   "outputs": [
    {
     "data": {
      "text/plain": [
       "['html',\n",
       " '\\n',\n",
       " <html>\n",
       " <head>\n",
       " <title>A simple example page</title>\n",
       " </head>\n",
       " <body>\n",
       " <p>Here is some simple content for this page.</p>\n",
       " </body>\n",
       " </html>]"
      ]
     },
     "execution_count": 20,
     "metadata": {},
     "output_type": "execute_result"
    }
   ],
   "source": [
    "list(soup.children)"
   ]
  },
  {
   "cell_type": "code",
   "execution_count": 21,
   "id": "formed-lincoln",
   "metadata": {},
   "outputs": [
    {
     "data": {
      "text/plain": [
       "[bs4.element.Doctype, bs4.element.NavigableString, bs4.element.Tag]"
      ]
     },
     "execution_count": 21,
     "metadata": {},
     "output_type": "execute_result"
    }
   ],
   "source": [
    "[type(item) for item in list(soup.children)]"
   ]
  },
  {
   "cell_type": "code",
   "execution_count": 22,
   "id": "coral-coalition",
   "metadata": {},
   "outputs": [],
   "source": [
    "html = list(soup.children)[2]"
   ]
  },
  {
   "cell_type": "code",
   "execution_count": 23,
   "id": "centered-musical",
   "metadata": {},
   "outputs": [
    {
     "data": {
      "text/plain": [
       "<html>\n",
       "<head>\n",
       "<title>A simple example page</title>\n",
       "</head>\n",
       "<body>\n",
       "<p>Here is some simple content for this page.</p>\n",
       "</body>\n",
       "</html>"
      ]
     },
     "execution_count": 23,
     "metadata": {},
     "output_type": "execute_result"
    }
   ],
   "source": [
    "html"
   ]
  },
  {
   "cell_type": "code",
   "execution_count": 24,
   "id": "tutorial-bulgaria",
   "metadata": {},
   "outputs": [
    {
     "data": {
      "text/plain": [
       "['\\n',\n",
       " <head>\n",
       " <title>A simple example page</title>\n",
       " </head>,\n",
       " '\\n',\n",
       " <body>\n",
       " <p>Here is some simple content for this page.</p>\n",
       " </body>,\n",
       " '\\n']"
      ]
     },
     "execution_count": 24,
     "metadata": {},
     "output_type": "execute_result"
    }
   ],
   "source": [
    "list(html.children)"
   ]
  },
  {
   "cell_type": "code",
   "execution_count": 25,
   "id": "contained-venue",
   "metadata": {},
   "outputs": [],
   "source": [
    "body = list(html.children)[3]"
   ]
  },
  {
   "cell_type": "code",
   "execution_count": 26,
   "id": "flexible-march",
   "metadata": {},
   "outputs": [
    {
     "data": {
      "text/plain": [
       "<body>\n",
       "<p>Here is some simple content for this page.</p>\n",
       "</body>"
      ]
     },
     "execution_count": 26,
     "metadata": {},
     "output_type": "execute_result"
    }
   ],
   "source": [
    "body"
   ]
  },
  {
   "cell_type": "code",
   "execution_count": 27,
   "id": "animal-cooper",
   "metadata": {},
   "outputs": [
    {
     "data": {
      "text/plain": [
       "['\\n', <p>Here is some simple content for this page.</p>, '\\n']"
      ]
     },
     "execution_count": 27,
     "metadata": {},
     "output_type": "execute_result"
    }
   ],
   "source": [
    "list(body.children)"
   ]
  },
  {
   "cell_type": "code",
   "execution_count": 28,
   "id": "center-option",
   "metadata": {},
   "outputs": [],
   "source": [
    "p = list(body.children)[1]"
   ]
  },
  {
   "cell_type": "code",
   "execution_count": 29,
   "id": "rotary-finish",
   "metadata": {},
   "outputs": [
    {
     "data": {
      "text/plain": [
       "<p>Here is some simple content for this page.</p>"
      ]
     },
     "execution_count": 29,
     "metadata": {},
     "output_type": "execute_result"
    }
   ],
   "source": [
    "p"
   ]
  },
  {
   "cell_type": "code",
   "execution_count": 30,
   "id": "tamil-metropolitan",
   "metadata": {},
   "outputs": [
    {
     "data": {
      "text/plain": [
       "'Here is some simple content for this page.'"
      ]
     },
     "execution_count": 30,
     "metadata": {},
     "output_type": "execute_result"
    }
   ],
   "source": [
    "p.get_text()"
   ]
  },
  {
   "cell_type": "code",
   "execution_count": 31,
   "id": "north-ontario",
   "metadata": {},
   "outputs": [
    {
     "data": {
      "text/plain": [
       "[<p>Here is some simple content for this page.</p>]"
      ]
     },
     "execution_count": 31,
     "metadata": {},
     "output_type": "execute_result"
    }
   ],
   "source": [
    "soup = BeautifulSoup(page.content, 'html.parser')\n",
    "soup.find_all('p')"
   ]
  },
  {
   "cell_type": "code",
   "execution_count": 32,
   "id": "elect-antenna",
   "metadata": {},
   "outputs": [
    {
     "data": {
      "text/plain": [
       "'Here is some simple content for this page.'"
      ]
     },
     "execution_count": 32,
     "metadata": {},
     "output_type": "execute_result"
    }
   ],
   "source": [
    "soup.find_all('p')[0].get_text()"
   ]
  },
  {
   "cell_type": "code",
   "execution_count": 33,
   "id": "outside-panama",
   "metadata": {},
   "outputs": [
    {
     "data": {
      "text/plain": [
       "<p>Here is some simple content for this page.</p>"
      ]
     },
     "execution_count": 33,
     "metadata": {},
     "output_type": "execute_result"
    }
   ],
   "source": [
    "soup.find('p')"
   ]
  },
  {
   "cell_type": "code",
   "execution_count": 34,
   "id": "urban-wagon",
   "metadata": {},
   "outputs": [
    {
     "data": {
      "text/plain": [
       "<html>\n",
       "<head>\n",
       "<title>A simple example page</title>\n",
       "</head>\n",
       "<body>\n",
       "<div>\n",
       "<p class=\"inner-text first-item\" id=\"first\">\n",
       "                First paragraph.\n",
       "            </p>\n",
       "<p class=\"inner-text\">\n",
       "                Second paragraph.\n",
       "            </p>\n",
       "</div>\n",
       "<p class=\"outer-text first-item\" id=\"second\">\n",
       "<b>\n",
       "                First outer paragraph.\n",
       "            </b>\n",
       "</p>\n",
       "<p class=\"outer-text\">\n",
       "<b>\n",
       "                Second outer paragraph.\n",
       "            </b>\n",
       "</p>\n",
       "</body>\n",
       "</html>"
      ]
     },
     "execution_count": 34,
     "metadata": {},
     "output_type": "execute_result"
    }
   ],
   "source": [
    "page = requests.get(\"http://dataquestio.github.io/web-scraping-pages/ids_and_classes.html\")\n",
    "soup = BeautifulSoup(page.content, 'html.parser')\n",
    "soup"
   ]
  },
  {
   "cell_type": "code",
   "execution_count": 35,
   "id": "recent-dutch",
   "metadata": {},
   "outputs": [
    {
     "data": {
      "text/plain": [
       "[<p class=\"outer-text first-item\" id=\"second\">\n",
       " <b>\n",
       "                 First outer paragraph.\n",
       "             </b>\n",
       " </p>,\n",
       " <p class=\"outer-text\">\n",
       " <b>\n",
       "                 Second outer paragraph.\n",
       "             </b>\n",
       " </p>]"
      ]
     },
     "execution_count": 35,
     "metadata": {},
     "output_type": "execute_result"
    }
   ],
   "source": [
    "soup.find_all('p', class_='outer-text')"
   ]
  },
  {
   "cell_type": "code",
   "execution_count": 36,
   "id": "aggressive-mongolia",
   "metadata": {},
   "outputs": [
    {
     "data": {
      "text/plain": [
       "[<p class=\"outer-text first-item\" id=\"second\">\n",
       " <b>\n",
       "                 First outer paragraph.\n",
       "             </b>\n",
       " </p>,\n",
       " <p class=\"outer-text\">\n",
       " <b>\n",
       "                 Second outer paragraph.\n",
       "             </b>\n",
       " </p>]"
      ]
     },
     "execution_count": 36,
     "metadata": {},
     "output_type": "execute_result"
    }
   ],
   "source": [
    "soup.find_all(class_=\"outer-text\")"
   ]
  },
  {
   "cell_type": "code",
   "execution_count": 37,
   "id": "constant-bradford",
   "metadata": {},
   "outputs": [
    {
     "data": {
      "text/plain": [
       "[<p class=\"inner-text first-item\" id=\"first\">\n",
       "                 First paragraph.\n",
       "             </p>]"
      ]
     },
     "execution_count": 37,
     "metadata": {},
     "output_type": "execute_result"
    }
   ],
   "source": [
    "soup.find_all(id=\"first\")"
   ]
  },
  {
   "cell_type": "code",
   "execution_count": 38,
   "id": "distant-browse",
   "metadata": {},
   "outputs": [
    {
     "data": {
      "text/plain": [
       "[<p class=\"inner-text first-item\" id=\"first\">\n",
       "                 First paragraph.\n",
       "             </p>,\n",
       " <p class=\"inner-text\">\n",
       "                 Second paragraph.\n",
       "             </p>]"
      ]
     },
     "execution_count": 38,
     "metadata": {},
     "output_type": "execute_result"
    }
   ],
   "source": [
    "soup.select(\"div p\")"
   ]
  },
  {
   "cell_type": "code",
   "execution_count": 69,
   "id": "english-classification",
   "metadata": {},
   "outputs": [],
   "source": [
    "\"\"\"\n",
    "Function to get the data from the page of one athlete\n",
    "\"\"\"\n",
    "def get_athletesdetails(competitorid):\n",
    "    dict_athlete={}\n",
    "    # Get the url\n",
    "    url_profile=\"https://games.crossfit.com/athlete/{}\".format(competitorid)\n",
    "\n",
    "    # Get the data from the page\n",
    "    response=requests.get(url_profile)\n",
    "    soup = bs(\n",
    "        response.content,\n",
    "        #features=\"lxml\"\n",
    "    )\n",
    "\n",
    "    # Select the data in the infobar (details on the athlete)\n",
    "    infobar=soup.find(\"ul\", {\"class\": \"infobar\"})\n",
    "    # information in the infobar\n",
    "    if not infobar is None:\n",
    "\n",
    "        #Get name\n",
    "        name=soup.find(\"h3\",{\"class\":\"c-heading-page-cover\"})\n",
    "        firstname=name.find(\"small\").text\n",
    "        lastname=name.text.replace(firstname,\"\").replace(\"\\n\",\"\").replace(\" \",\"\")\n",
    "        #print(firstname,lastname)\n",
    "        dict_athlete['name']=firstname+\" \"+lastname\n",
    "\n",
    "        # Get the different columns\n",
    "        for item in infobar.find_all(\"li\"):\n",
    "            field=item.find(\"div\",{\"class\": \"item-label\"}).text.replace(\"\\n\",\"\").replace(\" \",\"\").lower()\n",
    "            dict_athlete[field]=item.find(\"div\",{\"class\": \"text\"}).text.replace(\"\\n\",\"\").replace(\" \",\"\")\n",
    "\n",
    "        # Get benchmark exercice\n",
    "        stats=soup.find(\"ul\",{\"class\": \"stats-container\"})\n",
    "        if not stats is None:\n",
    "            for item in stats.find_all(\"tr\"):\n",
    "                exercice=\"bs_\"+item.find(\"th\",{\"class\": \"stats-header\"}).text.replace(\"\\n\",\"\").replace(\" \",\"\").lower()\n",
    "                dict_athlete[exercice]=item.find(\"td\").text.replace(\"\\n\",\"\").replace(\" \",\"\")\n",
    "    time.sleep(0.5)\n",
    "    return dict_athlete"
   ]
  },
  {
   "cell_type": "code",
   "execution_count": 70,
   "id": "reserved-miller",
   "metadata": {},
   "outputs": [
    {
     "data": {
      "text/plain": [
       "{'name': 'Justin Bergh',\n",
       " '': 'UnitedStates',\n",
       " 'cfid': '86',\n",
       " 'division': 'Men(35-39)',\n",
       " 'age': '39',\n",
       " 'height': '6\\'5\"',\n",
       " 'weight': '225lb',\n",
       " 'affiliate': 'CrossFitSS(SouthSide)',\n",
       " 'bs_backsquat': '335lb',\n",
       " 'bs_cleanandjerk': '265lb',\n",
       " 'bs_snatch': '210lb',\n",
       " 'bs_deadlift': '415lb',\n",
       " 'bs_fightgonebad': '393',\n",
       " 'bs_maxpull-ups': '32',\n",
       " 'bs_fran': '3:46',\n",
       " 'bs_grace': '2:54',\n",
       " 'bs_helen': '8:16',\n",
       " 'bs_filthy50': '21:27',\n",
       " 'bs_sprint400m': '1:04',\n",
       " 'bs_run5k': '22:05'}"
      ]
     },
     "execution_count": 70,
     "metadata": {},
     "output_type": "execute_result"
    }
   ],
   "source": [
    "#get_athletesdetails(1580961)\n",
    "dict_86 = get_athletesdetails(86)\n",
    "dict_86"
   ]
  },
  {
   "cell_type": "code",
   "execution_count": null,
   "id": "framed-board",
   "metadata": {},
   "outputs": [],
   "source": []
  },
  {
   "cell_type": "code",
   "execution_count": 64,
   "id": "formal-coordination",
   "metadata": {},
   "outputs": [],
   "source": [
    "import pandas as pd"
   ]
  },
  {
   "cell_type": "code",
   "execution_count": null,
   "id": "speaking-woman",
   "metadata": {},
   "outputs": [],
   "source": []
  },
  {
   "cell_type": "code",
   "execution_count": null,
   "id": "administrative-cursor",
   "metadata": {},
   "outputs": [],
   "source": []
  },
  {
   "cell_type": "code",
   "execution_count": null,
   "id": "urban-legislation",
   "metadata": {},
   "outputs": [],
   "source": []
  },
  {
   "cell_type": "code",
   "execution_count": null,
   "id": "respiratory-killer",
   "metadata": {},
   "outputs": [],
   "source": []
  },
  {
   "cell_type": "code",
   "execution_count": 61,
   "id": "russian-administration",
   "metadata": {},
   "outputs": [
    {
     "name": "stdout",
     "output_type": "stream",
     "text": [
      "{'name': 'Justin Bergh', '': 'UnitedStates', 'cfid': '86', 'division': 'Men(35-39)', 'age': '39', 'height': '6\\'5\"', 'weight': '225lb', 'affiliate': 'CrossFitSS(SouthSide)', 'bs_backsquat': '335lb', 'bs_cleanandjerk': '265lb', 'bs_snatch': '210lb', 'bs_deadlift': '415lb', 'bs_fightgonebad': '393', 'bs_maxpull-ups': '32', 'bs_fran': '3:46', 'bs_grace': '2:54', 'bs_helen': '8:16', 'bs_filthy50': '21:27', 'bs_sprint400m': '1:04', 'bs_run5k': '22:05'}\n",
      "{'name': 'Cary Hair', '': 'UnitedStates', 'cfid': '88', 'division': 'Men(35-39)', 'age': '36', 'height': '6\\'0\"', 'weight': '191lb', 'affiliate': 'CrossFitRoots', 'bs_backsquat': '455lb', 'bs_cleanandjerk': '315lb', 'bs_snatch': '265lb', 'bs_deadlift': '518lb', 'bs_fightgonebad': '407', 'bs_maxpull-ups': '54', 'bs_fran': '2:20', 'bs_grace': '1:49', 'bs_helen': '7:28', 'bs_filthy50': '18:23', 'bs_sprint400m': '0:54', 'bs_run5k': '21:34'}\n",
      "{'name': 'Tim Chan', '': 'UnitedStates', 'cfid': '92', 'division': 'Men(50-54)', 'age': '51', 'height': '5\\'6\"', 'weight': '161lb', 'affiliate': 'CrossFitSoCal', 'bs_backsquat': '225lb', 'bs_cleanandjerk': '205lb', 'bs_snatch': '155lb', 'bs_deadlift': '305lb', 'bs_fightgonebad': '--', 'bs_maxpull-ups': '35', 'bs_fran': '4:22', 'bs_grace': '4:41', 'bs_helen': '10:45', 'bs_filthy50': '27:41', 'bs_sprint400m': '--', 'bs_run5k': '--'}\n",
      "{'name': 'Leif Edmundson', '': 'UnitedStates', 'cfid': '93', 'division': 'Men(35-39)', 'age': '38', 'height': '6\\'0\"', 'weight': '205lb', 'affiliate': 'CrossFitHomeOfficeScottsValley', 'bs_backsquat': '305lb', 'bs_cleanandjerk': '235lb', 'bs_snatch': '185lb', 'bs_deadlift': '355lb', 'bs_fightgonebad': '403', 'bs_maxpull-ups': '45', 'bs_fran': '3:40', 'bs_grace': '2:34', 'bs_helen': '8:13', 'bs_filthy50': '25:00', 'bs_sprint400m': '1:02', 'bs_run5k': '20:39'}\n",
      "{'name': 'John Mclaughlin', '': 'UnitedStates', 'cfid': '1617', 'division': 'Men(50-54)', 'age': '53', 'height': '5\\'10\"', 'weight': '187lb', 'affiliate': '--', 'bs_backsquat': '355lb', 'bs_cleanandjerk': '255lb', 'bs_snatch': '195lb', 'bs_deadlift': '435lb', 'bs_fightgonebad': '--', 'bs_maxpull-ups': '50', 'bs_fran': '2:26', 'bs_grace': '2:34', 'bs_helen': '7:24', 'bs_filthy50': '--', 'bs_sprint400m': '--', 'bs_run5k': '--'}\n"
     ]
    }
   ],
   "source": [
    "for i in competitor_list:\n",
    "    print(get_athletesdetails(i))"
   ]
  },
  {
   "cell_type": "code",
   "execution_count": null,
   "id": "suited-greene",
   "metadata": {},
   "outputs": [],
   "source": [
    "name,country,cfid,division,age,height,weight,affiliate = [],[],[],[],[],[],[],[]\n",
    "bs_backsquat,bs_cleanandjerk,bs_snatch,bs_deadlift,bs_fightgonebad,bs_maxpull_ups = [],[],[],[],[],[]\n",
    "bs_fran,bs_grace,bs_helen,bs_filthy50,bs_sprint400m,bs_run5k = [],[],[],[],[],[]"
   ]
  },
  {
   "cell_type": "code",
   "execution_count": 72,
   "id": "african-kazakhstan",
   "metadata": {},
   "outputs": [],
   "source": [
    "competitorid = 86"
   ]
  },
  {
   "cell_type": "code",
   "execution_count": 73,
   "id": "interior-sandwich",
   "metadata": {},
   "outputs": [
    {
     "data": {
      "text/plain": [
       "'https://games.crossfit.com/athlete/86'"
      ]
     },
     "execution_count": 73,
     "metadata": {},
     "output_type": "execute_result"
    }
   ],
   "source": [
    "# Get the url\n",
    "url_profile=\"https://games.crossfit.com/athlete/{}\".format(competitorid)\n",
    "url_profile"
   ]
  },
  {
   "cell_type": "code",
   "execution_count": 76,
   "id": "absolute-identification",
   "metadata": {},
   "outputs": [],
   "source": [
    "# Get the data from the page\n",
    "response=requests.get(url_profile)\n",
    "soup = bs(response.content)"
   ]
  },
  {
   "cell_type": "code",
   "execution_count": 77,
   "id": "taken-cameroon",
   "metadata": {},
   "outputs": [],
   "source": [
    "# Select the data in the infobar (details on the athlete)\n",
    "infobar=soup.find(\"ul\", {\"class\": \"infobar\"})"
   ]
  },
  {
   "cell_type": "code",
   "execution_count": 91,
   "id": "painful-coffee",
   "metadata": {},
   "outputs": [],
   "source": [
    "competitor_86 = []"
   ]
  },
  {
   "cell_type": "code",
   "execution_count": 92,
   "id": "sunset-viking",
   "metadata": {},
   "outputs": [
    {
     "name": "stdout",
     "output_type": "stream",
     "text": [
      "Justin Bergh\n"
     ]
    }
   ],
   "source": [
    "#Get name\n",
    "name=soup.find(\"h3\",{\"class\":\"c-heading-page-cover\"})\n",
    "firstname=name.find(\"small\").text\n",
    "lastname=name.text.replace(firstname,\"\").replace(\"\\n\",\"\").replace(\" \",\"\")\n",
    "print(firstname,lastname)\n",
    "competitor_86.append(firstname+' '+lastname)"
   ]
  },
  {
   "cell_type": "code",
   "execution_count": 93,
   "id": "affiliated-lebanon",
   "metadata": {},
   "outputs": [
    {
     "name": "stdout",
     "output_type": "stream",
     "text": [
      " UnitedStates\n",
      "cfid 86\n",
      "division Men(35-39)\n",
      "age 39\n",
      "height 6'5\"\n",
      "weight 225lb\n",
      "affiliate CrossFitSS(SouthSide)\n"
     ]
    }
   ],
   "source": [
    "# Get the different columns\n",
    "for i in infobar.find_all(\"li\"):\n",
    "    field=i.find(\"div\",{\"class\": \"item-label\"}).text.replace(\"\\n\",\"\").replace(\" \",\"\").lower()\n",
    "    value=i.find(\"div\",{\"class\": \"text\"}).text.replace(\"\\n\",\"\").replace(\" \",\"\")\n",
    "    print(field, value)\n",
    "    competitor_86.append(value)"
   ]
  },
  {
   "cell_type": "code",
   "execution_count": 94,
   "id": "miniature-aquatic",
   "metadata": {},
   "outputs": [
    {
     "name": "stdout",
     "output_type": "stream",
     "text": [
      "bs_backsquat 335lb\n",
      "bs_cleanandjerk 265lb\n",
      "bs_snatch 210lb\n",
      "bs_deadlift 415lb\n",
      "bs_fightgonebad 393\n",
      "bs_maxpull-ups 32\n",
      "bs_fran 3:46\n",
      "bs_grace 2:54\n",
      "bs_helen 8:16\n",
      "bs_filthy50 21:27\n",
      "bs_sprint400m 1:04\n",
      "bs_run5k 22:05\n"
     ]
    }
   ],
   "source": [
    "# Get benchmark exercice\n",
    "stats=soup.find(\"ul\",{\"class\": \"stats-container\"})\n",
    "for i in stats.find_all(\"tr\"):\n",
    "    exercise=\"bs_\"+i.find(\"th\",{\"class\": \"stats-header\"}).text.replace(\"\\n\",\"\").replace(\" \",\"\").lower()\n",
    "    value=i.find(\"td\").text.replace(\"\\n\",\"\").replace(\" \",\"\")\n",
    "    print(exercise, value)\n",
    "    competitor_86.append(value)"
   ]
  },
  {
   "cell_type": "code",
   "execution_count": 95,
   "id": "solved-infection",
   "metadata": {},
   "outputs": [
    {
     "data": {
      "text/plain": [
       "['Justin Bergh',\n",
       " 'UnitedStates',\n",
       " '86',\n",
       " 'Men(35-39)',\n",
       " '39',\n",
       " '6\\'5\"',\n",
       " '225lb',\n",
       " 'CrossFitSS(SouthSide)',\n",
       " '335lb',\n",
       " '265lb',\n",
       " '210lb',\n",
       " '415lb',\n",
       " '393',\n",
       " '32',\n",
       " '3:46',\n",
       " '2:54',\n",
       " '8:16',\n",
       " '21:27',\n",
       " '1:04',\n",
       " '22:05']"
      ]
     },
     "execution_count": 95,
     "metadata": {},
     "output_type": "execute_result"
    }
   ],
   "source": [
    "competitor_86"
   ]
  },
  {
   "cell_type": "code",
   "execution_count": 97,
   "id": "cellular-delight",
   "metadata": {},
   "outputs": [],
   "source": [
    "bs_cols = [\n",
    "    'fullname', 'countryoforigin', 'competitorid', 'division', 'age', 'height', 'weight', 'affiliate', \\\n",
    "    'bs_backsquat', 'bs_cleanandjerk', 'bs_snatch', 'bs_deadlift', 'bs_fightgonebad', 'bs_maxpull_ups', \\\n",
    "    'bs_fran', 'bs_grace', 'bs_helen', 'bs_filthy50', 'bs_sprint400m', 'bs_run5k'\n",
    "]"
   ]
  },
  {
   "cell_type": "code",
   "execution_count": 101,
   "id": "dress-encyclopedia",
   "metadata": {},
   "outputs": [],
   "source": [
    "df_bs = pd.DataFrame(columns=bs_cols)"
   ]
  },
  {
   "cell_type": "code",
   "execution_count": 103,
   "id": "smooth-partition",
   "metadata": {},
   "outputs": [
    {
     "data": {
      "text/html": [
       "<div>\n",
       "<style scoped>\n",
       "    .dataframe tbody tr th:only-of-type {\n",
       "        vertical-align: middle;\n",
       "    }\n",
       "\n",
       "    .dataframe tbody tr th {\n",
       "        vertical-align: top;\n",
       "    }\n",
       "\n",
       "    .dataframe thead th {\n",
       "        text-align: right;\n",
       "    }\n",
       "</style>\n",
       "<table border=\"1\" class=\"dataframe\">\n",
       "  <thead>\n",
       "    <tr style=\"text-align: right;\">\n",
       "      <th></th>\n",
       "      <th>fullname</th>\n",
       "      <th>countryoforigin</th>\n",
       "      <th>competitorid</th>\n",
       "      <th>division</th>\n",
       "      <th>age</th>\n",
       "      <th>height</th>\n",
       "      <th>weight</th>\n",
       "      <th>affiliate</th>\n",
       "      <th>bs_backsquat</th>\n",
       "      <th>bs_cleanandjerk</th>\n",
       "      <th>bs_snatch</th>\n",
       "      <th>bs_deadlift</th>\n",
       "      <th>bs_fightgonebad</th>\n",
       "      <th>bs_maxpull_ups</th>\n",
       "      <th>bs_fran</th>\n",
       "      <th>bs_grace</th>\n",
       "      <th>bs_helen</th>\n",
       "      <th>bs_filthy50</th>\n",
       "      <th>bs_sprint400m</th>\n",
       "      <th>bs_run5k</th>\n",
       "    </tr>\n",
       "  </thead>\n",
       "  <tbody>\n",
       "    <tr>\n",
       "      <th>0</th>\n",
       "      <td>Justin Bergh</td>\n",
       "      <td>UnitedStates</td>\n",
       "      <td>86</td>\n",
       "      <td>Men(35-39)</td>\n",
       "      <td>39</td>\n",
       "      <td>6'5\"</td>\n",
       "      <td>225lb</td>\n",
       "      <td>CrossFitSS(SouthSide)</td>\n",
       "      <td>335lb</td>\n",
       "      <td>265lb</td>\n",
       "      <td>210lb</td>\n",
       "      <td>415lb</td>\n",
       "      <td>393</td>\n",
       "      <td>32</td>\n",
       "      <td>3:46</td>\n",
       "      <td>2:54</td>\n",
       "      <td>8:16</td>\n",
       "      <td>21:27</td>\n",
       "      <td>1:04</td>\n",
       "      <td>22:05</td>\n",
       "    </tr>\n",
       "  </tbody>\n",
       "</table>\n",
       "</div>"
      ],
      "text/plain": [
       "       fullname countryoforigin competitorid    division age height weight  \\\n",
       "0  Justin Bergh    UnitedStates           86  Men(35-39)  39   6'5\"  225lb   \n",
       "\n",
       "               affiliate bs_backsquat bs_cleanandjerk bs_snatch bs_deadlift  \\\n",
       "0  CrossFitSS(SouthSide)        335lb           265lb     210lb       415lb   \n",
       "\n",
       "  bs_fightgonebad bs_maxpull_ups bs_fran bs_grace bs_helen bs_filthy50  \\\n",
       "0             393             32    3:46     2:54     8:16       21:27   \n",
       "\n",
       "  bs_sprint400m bs_run5k  \n",
       "0          1:04    22:05  "
      ]
     },
     "execution_count": 103,
     "metadata": {},
     "output_type": "execute_result"
    }
   ],
   "source": [
    "df_bs.append(pd.Series(competitor_86, index=bs_cols), ignore_index=True)"
   ]
  },
  {
   "cell_type": "code",
   "execution_count": 129,
   "id": "federal-trustee",
   "metadata": {},
   "outputs": [],
   "source": [
    "df_19 = pd.read_csv('./data/2019_opens_clean.csv')"
   ]
  },
  {
   "cell_type": "code",
   "execution_count": 231,
   "id": "useful-poster",
   "metadata": {},
   "outputs": [
    {
     "data": {
      "text/plain": [
       "(338538, 63)"
      ]
     },
     "execution_count": 231,
     "metadata": {},
     "output_type": "execute_result"
    }
   ],
   "source": [
    "df_19.shape"
   ]
  },
  {
   "cell_type": "code",
   "execution_count": 234,
   "id": "breathing-substance",
   "metadata": {},
   "outputs": [],
   "source": [
    "amount=1000\n",
    "competitor_list = df_19.competitorid[:amount].to_list()"
   ]
  },
  {
   "cell_type": "code",
   "execution_count": 235,
   "id": "premium-establishment",
   "metadata": {},
   "outputs": [
    {
     "name": "stdout",
     "output_type": "stream",
     "text": [
      "100.0 % done\r"
     ]
    }
   ],
   "source": [
    "# create column names for benchmark stats dataframe\n",
    "bs_cols = [\n",
    "    'fullname', 'countryoforigin', 'competitorid', 'division', 'age', 'height', 'weight', 'affiliate', \\\n",
    "    'bs_backsquat', 'bs_cleanandjerk', 'bs_snatch', 'bs_deadlift', 'bs_fightgonebad', 'bs_maxpull_ups', \\\n",
    "    'bs_fran', 'bs_grace', 'bs_helen', 'bs_filthy50', 'bs_sprint400m', 'bs_run5k'\n",
    "]\n",
    "\n",
    "# create empty dataframe with above declared columns\n",
    "df_bs = pd.DataFrame(columns=bs_cols)\n",
    "\n",
    "count = 1\n",
    "for competitor in competitor_list:\n",
    "    \n",
    "    # Get the url\n",
    "    url_profile=\"https://games.crossfit.com/athlete/{}\".format(competitor)\n",
    "    \n",
    "    # Get the data from the page\n",
    "    response=requests.get(url_profile)\n",
    "    soup = bs(response.content)\n",
    "    \n",
    "    # Select the data in the infobar (details on the athlete)\n",
    "    infobar=soup.find(\"ul\", {\"class\": \"infobar\"})\n",
    "    \n",
    "    # information in the infobar\n",
    "    if not infobar is None:\n",
    "        \n",
    "        # Set empty list for actual competitor\n",
    "        competitor_i = []\n",
    "        \n",
    "        #Get name\n",
    "        name=soup.find(\"h3\",{\"class\":\"c-heading-page-cover\"})\n",
    "        firstname=name.find(\"small\").text\n",
    "        lastname=name.text.replace(firstname,\"\").replace(\"\\n\",\"\").replace(\" \",\"\")\n",
    "        competitor_i.append(firstname+' '+lastname)\n",
    "        \n",
    "        # Get the different columns\n",
    "        for i in infobar.find_all(\"li\"):\n",
    "            field=i.find(\"div\",{\"class\": \"item-label\"}).text.replace(\"\\n\",\"\").replace(\" \",\"\").lower()\n",
    "            value=i.find(\"div\",{\"class\": \"text\"}).text.replace(\"\\n\",\"\").replace(\" \",\"\")\n",
    "            competitor_i.append(value)\n",
    "            \n",
    "        # Get benchmark exercice\n",
    "        stats=soup.find(\"ul\",{\"class\": \"stats-container\"})\n",
    "        for i in stats.find_all(\"tr\"):\n",
    "            exercise=\"bs_\"+i.find(\"th\",{\"class\": \"stats-header\"}).text.replace(\"\\n\",\"\").replace(\" \",\"\").lower()\n",
    "            value=i.find(\"td\").text.replace(\"\\n\",\"\").replace(\" \",\"\")\n",
    "            competitor_i.append(value)\n",
    "            \n",
    "        # Add new observation to benchmark stats dataframe\n",
    "        df_bs = df_bs.append(pd.Series(competitor_i, index=bs_cols), ignore_index=True)\n",
    "        \n",
    "        count=count+1\n",
    "        print(round(100*count/amount,2),\"% done\", end = \"\\r\")"
   ]
  },
  {
   "cell_type": "code",
   "execution_count": 236,
   "id": "corresponding-circular",
   "metadata": {},
   "outputs": [
    {
     "data": {
      "text/html": [
       "<div>\n",
       "<style scoped>\n",
       "    .dataframe tbody tr th:only-of-type {\n",
       "        vertical-align: middle;\n",
       "    }\n",
       "\n",
       "    .dataframe tbody tr th {\n",
       "        vertical-align: top;\n",
       "    }\n",
       "\n",
       "    .dataframe thead th {\n",
       "        text-align: right;\n",
       "    }\n",
       "</style>\n",
       "<table border=\"1\" class=\"dataframe\">\n",
       "  <thead>\n",
       "    <tr style=\"text-align: right;\">\n",
       "      <th></th>\n",
       "      <th>fullname</th>\n",
       "      <th>countryoforigin</th>\n",
       "      <th>competitorid</th>\n",
       "      <th>division</th>\n",
       "      <th>age</th>\n",
       "      <th>height</th>\n",
       "      <th>weight</th>\n",
       "      <th>affiliate</th>\n",
       "      <th>bs_backsquat</th>\n",
       "      <th>bs_cleanandjerk</th>\n",
       "      <th>bs_snatch</th>\n",
       "      <th>bs_deadlift</th>\n",
       "      <th>bs_fightgonebad</th>\n",
       "      <th>bs_maxpull_ups</th>\n",
       "      <th>bs_fran</th>\n",
       "      <th>bs_grace</th>\n",
       "      <th>bs_helen</th>\n",
       "      <th>bs_filthy50</th>\n",
       "      <th>bs_sprint400m</th>\n",
       "      <th>bs_run5k</th>\n",
       "    </tr>\n",
       "  </thead>\n",
       "  <tbody>\n",
       "    <tr>\n",
       "      <th>0</th>\n",
       "      <td>Justin Bergh</td>\n",
       "      <td>UnitedStates</td>\n",
       "      <td>86</td>\n",
       "      <td>Men(35-39)</td>\n",
       "      <td>39</td>\n",
       "      <td>6'5\"</td>\n",
       "      <td>225lb</td>\n",
       "      <td>CrossFitSS(SouthSide)</td>\n",
       "      <td>335lb</td>\n",
       "      <td>265lb</td>\n",
       "      <td>210lb</td>\n",
       "      <td>415lb</td>\n",
       "      <td>393</td>\n",
       "      <td>32</td>\n",
       "      <td>3:46</td>\n",
       "      <td>2:54</td>\n",
       "      <td>8:16</td>\n",
       "      <td>21:27</td>\n",
       "      <td>1:04</td>\n",
       "      <td>22:05</td>\n",
       "    </tr>\n",
       "    <tr>\n",
       "      <th>1</th>\n",
       "      <td>Cary Hair</td>\n",
       "      <td>UnitedStates</td>\n",
       "      <td>88</td>\n",
       "      <td>Men(35-39)</td>\n",
       "      <td>36</td>\n",
       "      <td>6'0\"</td>\n",
       "      <td>191lb</td>\n",
       "      <td>CrossFitRoots</td>\n",
       "      <td>455lb</td>\n",
       "      <td>315lb</td>\n",
       "      <td>265lb</td>\n",
       "      <td>518lb</td>\n",
       "      <td>407</td>\n",
       "      <td>54</td>\n",
       "      <td>2:20</td>\n",
       "      <td>1:49</td>\n",
       "      <td>7:28</td>\n",
       "      <td>18:23</td>\n",
       "      <td>0:54</td>\n",
       "      <td>21:34</td>\n",
       "    </tr>\n",
       "    <tr>\n",
       "      <th>2</th>\n",
       "      <td>Tim Chan</td>\n",
       "      <td>UnitedStates</td>\n",
       "      <td>92</td>\n",
       "      <td>Men(50-54)</td>\n",
       "      <td>51</td>\n",
       "      <td>5'6\"</td>\n",
       "      <td>161lb</td>\n",
       "      <td>CrossFitSoCal</td>\n",
       "      <td>225lb</td>\n",
       "      <td>205lb</td>\n",
       "      <td>155lb</td>\n",
       "      <td>305lb</td>\n",
       "      <td>--</td>\n",
       "      <td>35</td>\n",
       "      <td>4:22</td>\n",
       "      <td>4:41</td>\n",
       "      <td>10:45</td>\n",
       "      <td>27:41</td>\n",
       "      <td>--</td>\n",
       "      <td>--</td>\n",
       "    </tr>\n",
       "    <tr>\n",
       "      <th>3</th>\n",
       "      <td>Leif Edmundson</td>\n",
       "      <td>UnitedStates</td>\n",
       "      <td>93</td>\n",
       "      <td>Men(35-39)</td>\n",
       "      <td>38</td>\n",
       "      <td>6'0\"</td>\n",
       "      <td>205lb</td>\n",
       "      <td>CrossFitHomeOfficeScottsValley</td>\n",
       "      <td>305lb</td>\n",
       "      <td>235lb</td>\n",
       "      <td>185lb</td>\n",
       "      <td>355lb</td>\n",
       "      <td>403</td>\n",
       "      <td>45</td>\n",
       "      <td>3:40</td>\n",
       "      <td>2:34</td>\n",
       "      <td>8:13</td>\n",
       "      <td>25:00</td>\n",
       "      <td>1:02</td>\n",
       "      <td>20:39</td>\n",
       "    </tr>\n",
       "    <tr>\n",
       "      <th>4</th>\n",
       "      <td>John Mclaughlin</td>\n",
       "      <td>UnitedStates</td>\n",
       "      <td>1617</td>\n",
       "      <td>Men(50-54)</td>\n",
       "      <td>53</td>\n",
       "      <td>5'10\"</td>\n",
       "      <td>187lb</td>\n",
       "      <td>--</td>\n",
       "      <td>355lb</td>\n",
       "      <td>255lb</td>\n",
       "      <td>195lb</td>\n",
       "      <td>435lb</td>\n",
       "      <td>--</td>\n",
       "      <td>50</td>\n",
       "      <td>2:26</td>\n",
       "      <td>2:34</td>\n",
       "      <td>7:24</td>\n",
       "      <td>--</td>\n",
       "      <td>--</td>\n",
       "      <td>--</td>\n",
       "    </tr>\n",
       "  </tbody>\n",
       "</table>\n",
       "</div>"
      ],
      "text/plain": [
       "          fullname countryoforigin competitorid    division age height weight  \\\n",
       "0     Justin Bergh    UnitedStates           86  Men(35-39)  39   6'5\"  225lb   \n",
       "1        Cary Hair    UnitedStates           88  Men(35-39)  36   6'0\"  191lb   \n",
       "2         Tim Chan    UnitedStates           92  Men(50-54)  51   5'6\"  161lb   \n",
       "3   Leif Edmundson    UnitedStates           93  Men(35-39)  38   6'0\"  205lb   \n",
       "4  John Mclaughlin    UnitedStates         1617  Men(50-54)  53  5'10\"  187lb   \n",
       "\n",
       "                        affiliate bs_backsquat bs_cleanandjerk bs_snatch  \\\n",
       "0           CrossFitSS(SouthSide)        335lb           265lb     210lb   \n",
       "1                   CrossFitRoots        455lb           315lb     265lb   \n",
       "2                   CrossFitSoCal        225lb           205lb     155lb   \n",
       "3  CrossFitHomeOfficeScottsValley        305lb           235lb     185lb   \n",
       "4                              --        355lb           255lb     195lb   \n",
       "\n",
       "  bs_deadlift bs_fightgonebad bs_maxpull_ups bs_fran bs_grace bs_helen  \\\n",
       "0       415lb             393             32    3:46     2:54     8:16   \n",
       "1       518lb             407             54    2:20     1:49     7:28   \n",
       "2       305lb              --             35    4:22     4:41    10:45   \n",
       "3       355lb             403             45    3:40     2:34     8:13   \n",
       "4       435lb              --             50    2:26     2:34     7:24   \n",
       "\n",
       "  bs_filthy50 bs_sprint400m bs_run5k  \n",
       "0       21:27          1:04    22:05  \n",
       "1       18:23          0:54    21:34  \n",
       "2       27:41            --       --  \n",
       "3       25:00          1:02    20:39  \n",
       "4          --            --       --  "
      ]
     },
     "execution_count": 236,
     "metadata": {},
     "output_type": "execute_result"
    }
   ],
   "source": [
    "df_bs.head()"
   ]
  },
  {
   "cell_type": "code",
   "execution_count": 237,
   "id": "challenging-frost",
   "metadata": {},
   "outputs": [
    {
     "data": {
      "text/plain": [
       "(999, 20)"
      ]
     },
     "execution_count": 237,
     "metadata": {},
     "output_type": "execute_result"
    }
   ],
   "source": [
    "df_bs.shape"
   ]
  },
  {
   "cell_type": "code",
   "execution_count": 238,
   "id": "adult-hunter",
   "metadata": {},
   "outputs": [],
   "source": [
    "df_bs.to_csv('./data/2019_opens_bs.csv')"
   ]
  },
  {
   "cell_type": "code",
   "execution_count": null,
   "id": "motivated-pension",
   "metadata": {},
   "outputs": [],
   "source": []
  }
 ],
 "metadata": {
  "kernelspec": {
   "display_name": "Python 3",
   "language": "python",
   "name": "python3"
  },
  "language_info": {
   "codemirror_mode": {
    "name": "ipython",
    "version": 3
   },
   "file_extension": ".py",
   "mimetype": "text/x-python",
   "name": "python",
   "nbconvert_exporter": "python",
   "pygments_lexer": "ipython3",
   "version": "3.8.5"
  }
 },
 "nbformat": 4,
 "nbformat_minor": 5
}
