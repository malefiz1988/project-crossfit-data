{
 "cells": [
  {
   "cell_type": "markdown",
   "id": "moving-lindsay",
   "metadata": {},
   "source": [
    "# Classification of HSPU Ability"
   ]
  },
  {
   "cell_type": "code",
   "execution_count": 79,
   "id": "affiliated-mills",
   "metadata": {},
   "outputs": [],
   "source": [
    "# import relevant libraries\n",
    "import pandas as pd\n",
    "import numpy as np\n",
    "import matplotlib.pyplot as plt\n",
    "import seaborn as sns\n",
    "\n",
    "from sklearn.model_selection import train_test_split\n",
    "from sklearn.preprocessing import StandardScaler\n",
    "from sklearn.model_selection import KFold\n",
    "from sklearn.model_selection import cross_val_score\n",
    "from sklearn.linear_model import LogisticRegression\n",
    "from sklearn.tree import DecisionTreeClassifier\n",
    "from sklearn.neighbors import KNeighborsClassifier\n",
    "from sklearn.ensemble import RandomForestClassifier\n",
    "from sklearn.naive_bayes import GaussianNB\n",
    "from sklearn.impute import KNNImputer\n",
    "from sklearn.metrics import accuracy_score\n",
    "from sklearn.model_selection import GridSearchCV\n",
    "from sklearn.metrics import confusion_matrix\n",
    "\n",
    "import warnings\n",
    "warnings.filterwarnings('ignore')\n",
    "\n",
    "# set options\n",
    "pd.set_option('display.max_columns', None)\n",
    "pd.set_option('display.max_rows', None)\n",
    "\n",
    "RSEED = 42"
   ]
  },
  {
   "cell_type": "markdown",
   "id": "alien-jerusalem",
   "metadata": {},
   "source": [
    "# Selection of ML Algorithm"
   ]
  },
  {
   "cell_type": "markdown",
   "id": "magnetic-denial",
   "metadata": {},
   "source": [
    "In this section one of the 12 datasets (with data of workout scores, body measurements and olympic lifts including imputation of missing data) is taken to find an appropriate classification algorithm."
   ]
  },
  {
   "cell_type": "code",
   "execution_count": 26,
   "id": "homeless-blind",
   "metadata": {},
   "outputs": [],
   "source": [
    "# load dataset\n",
    "df = pd.read_csv('./data/prep_hspu_12_19imp_hw_bsimp.csv')\n",
    "df = df.loc[:, ~df.columns.str.contains('^Unnamed')]"
   ]
  },
  {
   "cell_type": "code",
   "execution_count": 28,
   "id": "requested-natural",
   "metadata": {},
   "outputs": [
    {
     "name": "stdout",
     "output_type": "stream",
     "text": [
      "Logistic Regression: Mean Accuracy = 88.69% - SD Accuracy = 0.15%\n",
      "K Nearest Neighbor: Mean Accuracy = 87.19% - SD Accuracy = 0.14%\n",
      "Naive Bayes: Mean Accuracy = 76.85% - SD Accuracy = 0.07%\n",
      "Decision Tree: Mean Accuracy = 84.30% - SD Accuracy = 0.21%\n",
      "Random Forest: Mean Accuracy = 88.95% - SD Accuracy = 0.14%\n"
     ]
    }
   ],
   "source": [
    "# create train and test sets\n",
    "train_set, test_set = train_test_split(df, test_size=0.3, random_state=RSEED)\n",
    "\n",
    "# define target and features\n",
    "y = train_set['w3_hspu_status']\n",
    "X = train_set.drop(axis=1,columns='w3_hspu_status')\n",
    "\n",
    "# train test split for model evaluation\n",
    "X_train, X_test, y_train, y_test = train_test_split(X, y, random_state=RSEED)\n",
    "\n",
    "# define numerical features for scaling\n",
    "scale_cols = ['age', \\\n",
    "              'height','weight', \\\n",
    "              'bs_backsquat','bs_cleanandjerk','bs_snatch','bs_deadlift', \\\n",
    "              'w1_reps_total', \\\n",
    "              'w2_reps_t2b','w2_reps_du','w2_reps_sqcl', \\\n",
    "              'w4_reps_sn','w4_reps_bp','w4_reps_bmu', \\\n",
    "              'w5_reps_total']\n",
    "\n",
    "# scaling numerical features\n",
    "scaler = StandardScaler()\n",
    "X_train_scaled = scaler.fit_transform(X_train[scale_cols])\n",
    "X_test_scaled = scaler.transform(X_test[scale_cols])\n",
    "\n",
    "# imputing missing features via KNN\n",
    "imputer = KNNImputer()\n",
    "X_train_imputed = imputer.fit_transform(X_train_scaled)\n",
    "X_test_imputed = imputer.fit_transform(X_test_scaled)\n",
    "    \n",
    "# concatenate numerical and categorical features\n",
    "X_train_prep = np.concatenate([X_train_imputed, X_train.drop(scale_cols,axis=1)], axis=1)\n",
    "X_test_prep = np.concatenate([X_test_imputed, X_test.drop(scale_cols,axis=1)], axis=1)\n",
    "\n",
    "class_models = []\n",
    "class_models.append(('Logistic Regression', LogisticRegression(solver=\"liblinear\")))\n",
    "class_models.append(('K Nearest Neighbor', KNeighborsClassifier(n_neighbors=5, metric=\"minkowski\",p=2)))\n",
    "class_models.append(('Naive Bayes', GaussianNB()))\n",
    "class_models.append(('Decision Tree', DecisionTreeClassifier(criterion = \"entropy\")))\n",
    "class_models.append(('Random Forest', RandomForestClassifier(n_estimators=100, criterion=\"entropy\")))\n",
    "\n",
    "results_models = []\n",
    "names = []\n",
    "for name, model in class_models:\n",
    "    kfold = KFold(n_splits=5, random_state=RSEED, shuffle=True)\n",
    "    result = cross_val_score(model, X_train_prep, y_train, cv=kfold, scoring='accuracy')\n",
    "    results_models.append(result)\n",
    "    names.append(name)\n",
    "    print(\"%s: Mean Accuracy = %.2f%% - SD Accuracy = %.2f%%\" % (name, result.mean()*100, result.std()*100))"
   ]
  },
  {
   "cell_type": "code",
   "execution_count": 31,
   "id": "portuguese-heating",
   "metadata": {},
   "outputs": [
    {
     "data": {
      "image/png": "[encoded data removed]",
      "text/plain": [
       "<Figure size 720x360 with 1 Axes>"
      ]
     },
     "metadata": {
      "needs_background": "light"
     },
     "output_type": "display_data"
    }
   ],
   "source": [
    "plt.rcParams.update({'figure.figsize': (10,5)})\n",
    "plt.rcParams.update({'font.size': 14})\n",
    "# Compare Algorithms\n",
    "fig = plt.figure()\n",
    "fig.suptitle('Algorithm Comparison for HSPU Classification')\n",
    "ax = fig.add_subplot(111)\n",
    "plt.boxplot(results_models)\n",
    "plt.xticks(rotation = 90)\n",
    "ax.set_xticklabels(names)\n",
    "plt.show()"
   ]
  },
  {
   "cell_type": "markdown",
   "id": "suspended-estonia",
   "metadata": {},
   "source": [
    "The best Classifier for this task seems to be Logistic Regression, KNN and the Random Forest Classifier. In the following sections the Random Forest Algorithm will be used because of better interpretability and an accuracy of almost 89%."
   ]
  },
  {
   "cell_type": "markdown",
   "id": "closed-praise",
   "metadata": {},
   "source": [
    "---\n",
    "## Selection of best Dataset"
   ]
  },
  {
   "cell_type": "markdown",
   "id": "cloudy-topic",
   "metadata": {},
   "source": [
    "In this section several combinations of data from Data Preparation Notebook are used for the Random Forest algorithm to show the impact of each dataset. At the end the best data combination will be used for the final HSPU classification model."
   ]
  },
  {
   "cell_type": "code",
   "execution_count": 99,
   "id": "future-basics",
   "metadata": {},
   "outputs": [],
   "source": [
    "# define filenames of the datasets in a list\n",
    "dataset_names = ['prep_hspu_01_19','prep_hspu_02_19imp','prep_hspu_03_19_hw', \\\n",
    "                 'prep_hspu_04_19imp_hw','prep_hspu_05_19_bs','prep_hspu_06_19imp_bs', \\\n",
    "                 'prep_hspu_07_19_hw_bs','prep_hspu_08_19imp_hw_bs','prep_hspu_09_19_bsimp', \\\n",
    "                 'prep_hspu_10_19imp_bsimp','prep_hspu_11_19_hw_bsimp', \\\n",
    "                 'prep_hspu_12_19imp_hw_bsimp']"
   ]
  },
  {
   "cell_type": "code",
   "execution_count": 100,
   "id": "enabling-train",
   "metadata": {},
   "outputs": [
    {
     "name": "stdout",
     "output_type": "stream",
     "text": [
      "prep_hspu_01_19: 0.866843 (0.002157)\n",
      "prep_hspu_02_19imp: 0.882501 (0.001649)\n",
      "prep_hspu_03_19_hw: 0.873380 (0.001566)\n",
      "prep_hspu_04_19imp_hw: 0.888889 (0.001453)\n",
      "prep_hspu_05_19_bs: 0.868755 (0.001764)\n",
      "prep_hspu_06_19imp_bs: 0.873359 (0.001150)\n",
      "prep_hspu_07_19_hw_bs: 0.877184 (0.002236)\n",
      "prep_hspu_08_19imp_hw_bs: 0.882566 (0.002240)\n",
      "prep_hspu_09_19_bsimp: 0.870537 (0.001967)\n",
      "prep_hspu_10_19imp_bsimp: 0.886325 (0.001359)\n",
      "prep_hspu_11_19_hw_bsimp: 0.874528 (0.001465)\n",
      "prep_hspu_12_19imp_hw_bsimp: 0.889980 (0.001889)\n"
     ]
    }
   ],
   "source": [
    "results = []\n",
    "\n",
    "for i in range(len(dataset_names)):\n",
    "\n",
    "    # import dataset\n",
    "    df = pd.read_csv(f'./data/{dataset_names[i]}.csv')\n",
    "    df = df.loc[:, ~df.columns.str.contains('^Unnamed')]\n",
    "    \n",
    "    # define target and features\n",
    "    y = df['w3_hspu_status']\n",
    "    X = df.drop(axis=1,columns='w3_hspu_status')\n",
    "    \n",
    "    # train test split for model evaluation\n",
    "    X_train, X_test, y_train, y_test = train_test_split(X, y, random_state=RSEED)\n",
    "        \n",
    "    # define numerical features for scaling\n",
    "    scale_cols = ['age', \\\n",
    "                  'w1_reps_total', \\\n",
    "                  'w2_reps_t2b','w2_reps_du','w2_reps_sqcl', \\\n",
    "                  'w4_reps_sn','w4_reps_bp','w4_reps_bmu', \\\n",
    "                  'w5_reps_total']\n",
    "    # add heights and weights if necessary\n",
    "    if 'hw' in dataset_names[i]:\n",
    "        scale_cols.append('height')\n",
    "        scale_cols.append('weight')\n",
    "    # add olympic lifts if necessary\n",
    "    if 'bs' in dataset_names[i]:\n",
    "        scale_cols.append('bs_backsquat')\n",
    "        scale_cols.append('bs_cleanandjerk')\n",
    "        scale_cols.append('bs_snatch')\n",
    "        scale_cols.append('bs_deadlift')\n",
    "    \n",
    "    # scaling numerical features\n",
    "    scaler = StandardScaler()\n",
    "    X_train_scaled = scaler.fit_transform(X_train[scale_cols])\n",
    "    X_test_scaled = scaler.transform(X_test[scale_cols])\n",
    "    \n",
    "    # imputing missing features via KNN\n",
    "    imputer = KNNImputer()\n",
    "    X_train_imputed = imputer.fit_transform(X_train_scaled)\n",
    "    X_test_imputed = imputer.fit_transform(X_test_scaled)\n",
    "    \n",
    "    # concatenate numerical and categorical features\n",
    "    X_train_prep = np.concatenate([X_train_imputed, X_train.drop(scale_cols,axis=1)], axis=1)\n",
    "    X_test_prep = np.concatenate([X_test_imputed, X_test.drop(scale_cols,axis=1)], axis=1)\n",
    "    \n",
    "    # define and fit the model\n",
    "    model = RandomForestClassifier(n_estimators=100)\n",
    "    scoring = 'accuracy'\n",
    "    kfold = KFold(n_splits=5, random_state=RSEED, shuffle=True)\n",
    "    cv_results = cross_val_score(model, X_train_prep, y_train, cv=kfold, scoring=scoring)\n",
    "    results.append(cv_results)\n",
    "    msg = \"%s: %f (%f)\" % (dataset_names[i], cv_results.mean(), cv_results.std())\n",
    "    print(msg)"
   ]
  },
  {
   "cell_type": "code",
   "execution_count": 102,
   "id": "differential-bench",
   "metadata": {},
   "outputs": [
    {
     "data": {
      "image/png": "[encoded data removed]",
      "text/plain": [
       "<Figure size 1080x360 with 1 Axes>"
      ]
     },
     "metadata": {
      "needs_background": "light"
     },
     "output_type": "display_data"
    }
   ],
   "source": [
    "plt.rcParams.update({'figure.figsize': (15,5)})\n",
    "plt.rcParams.update({'font.size': 14})\n",
    "# Compare Dataframes\n",
    "fig = plt.figure()\n",
    "fig.suptitle('Dataframe Comparison for HSPU Classification')\n",
    "ax = fig.add_subplot(111)\n",
    "plt.boxplot(results)\n",
    "plt.xticks(rotation = 90)\n",
    "ax.set_xticklabels(dataset_names)\n",
    "plt.show()"
   ]
  },
  {
   "cell_type": "markdown",
   "id": "maritime-disabled",
   "metadata": {},
   "source": [
    "Here, imputed missing values for the Open workout results seem to be better than the complete case analysis. The best score is achieved when all dataframes are considered (with imputed workout results and imputed olympic benchmark lifts) - dataframe Nr. 12."
   ]
  },
  {
   "cell_type": "markdown",
   "id": "explicit-embassy",
   "metadata": {},
   "source": [
    "---\n",
    "## Model Building"
   ]
  },
  {
   "cell_type": "markdown",
   "id": "continuous-medium",
   "metadata": {},
   "source": [
    "With the help of the selected algorithm and the most promising dataset, in this section the first Random Forest Classification model is build and analyzed."
   ]
  },
  {
   "cell_type": "code",
   "execution_count": 106,
   "id": "prescribed-vanilla",
   "metadata": {},
   "outputs": [],
   "source": [
    "# load the dataset\n",
    "df_cl = pd.read_csv('./data/prep_hspu_12_19imp_hw_bsimp.csv')\n",
    "df_cl = df_cl.loc[:, ~df_cl.columns.str.contains('^Unnamed')]\n",
    "# create train and test sets\n",
    "train_set, test_set = train_test_split(df_cl,test_size=0.3,random_state=RSEED)\n",
    "# define target and features\n",
    "y = train_set['w3_hspu_status']\n",
    "X = train_set.drop(axis=1,columns='w3_hspu_status')\n",
    "# train test split for model evaluation\n",
    "X_train, X_test, y_train, y_test = train_test_split(X, y, random_state=RSEED)\n",
    "# define numerical features for scaling\n",
    "scale_cols = ['age', \\\n",
    "              'bs_backsquat','bs_cleanandjerk','bs_snatch','bs_deadlift', \\\n",
    "              'height','weight', \\\n",
    "              'w1_reps_total', \\\n",
    "              'w2_reps_t2b','w2_reps_du','w2_reps_sqcl', \\\n",
    "              'w4_reps_sn','w4_reps_bp','w4_reps_bmu', \\\n",
    "              'w5_reps_total']\n",
    "# scaling numerical features\n",
    "scaler = StandardScaler()\n",
    "X_train_scaled = scaler.fit_transform(X_train[scale_cols])\n",
    "X_test_scaled = scaler.transform(X_test[scale_cols])\n",
    "# imputing missing features via KNN\n",
    "imputer = KNNImputer()\n",
    "X_train_imputed = imputer.fit_transform(X_train_scaled)\n",
    "X_test_imputed = imputer.fit_transform(X_test_scaled)\n",
    "# concatenate numerical and categorical features\n",
    "X_train_prep = np.concatenate([X_train_imputed,X_train.drop(scale_cols,axis=1)],axis=1)\n",
    "X_test_prep = np.concatenate([X_test_imputed,X_test.drop(scale_cols,axis=1)],axis=1)"
   ]
  },
  {
   "cell_type": "code",
   "execution_count": 107,
   "id": "cordless-delicious",
   "metadata": {},
   "outputs": [
    {
     "name": "stdout",
     "output_type": "stream",
     "text": [
      "Dummy Classifier:\n",
      "Accuracy to beat: 65.62 %\n"
     ]
    }
   ],
   "source": [
    "print('Dummy Classifier:')\n",
    "print('Accuracy to beat:',\n",
    "      round(100*df_cl[df_cl['w3_hspu_status']==0]['w3_hspu_status'].count()/df_cl['w3_hspu_status'].count(),2),\n",
    "      '%')"
   ]
  },
  {
   "cell_type": "code",
   "execution_count": 108,
   "id": "ranging-drove",
   "metadata": {},
   "outputs": [
    {
     "data": {
      "text/plain": [
       "RandomForestClassifier(n_jobs=-1, oob_score=True, random_state=42)"
      ]
     },
     "execution_count": 108,
     "metadata": {},
     "output_type": "execute_result"
    }
   ],
   "source": [
    "# define the classification model\n",
    "model_cl = RandomForestClassifier(n_estimators = 100, n_jobs = -1, oob_score = True, \\\n",
    "                                  bootstrap = True, random_state=RSEED)\n",
    "model_cl.fit(X_train_prep, y_train)"
   ]
  },
  {
   "cell_type": "code",
   "execution_count": 109,
   "id": "surgical-manchester",
   "metadata": {},
   "outputs": [
    {
     "name": "stdout",
     "output_type": "stream",
     "text": [
      "Training Accuracy: 0.9997 \n",
      "OOB Accuracy: 0.8880 \n",
      "Validation Accuracy: 0.8900\n"
     ]
    }
   ],
   "source": [
    "print('Training Accuracy: {:.4f} \\nOOB Accuracy: {:.4f} \\nValidation Accuracy: {:.4f}'.format(model_cl.score(X_train_prep, y_train), \n",
    "                                                                                              model_cl.oob_score_,\n",
    "                                                                                              model_cl.score(X_test_prep, y_test)))"
   ]
  },
  {
   "cell_type": "markdown",
   "id": "falling-california",
   "metadata": {},
   "source": [
    "With the given scores, the model seems to be overfitted. Thus, hyperparameter tuning will be carried out."
   ]
  },
  {
   "cell_type": "markdown",
   "id": "drawn-master",
   "metadata": {},
   "source": [
    "---\n",
    "## Hyperparameter Tuning"
   ]
  },
  {
   "cell_type": "code",
   "execution_count": 110,
   "id": "southeast-absence",
   "metadata": {},
   "outputs": [],
   "source": [
    "# Defining parameter grid (as dictionary)\n",
    "param_grid = {\"max_depth\" : [10,12,15,17,20],\n",
    "              \"max_features\" : [2,4,5,7,10],\n",
    "              \"max_leaf_nodes\" : [400,450,500,550,600],\n",
    "              \"max_samples\" : [None],\n",
    "              #\"min_impurity_decrease\" : [0.001],\n",
    "              #\"min_impurity_split\" : [10],\n",
    "              #\"min_samples_leaf\" : [1],\n",
    "              #\"min_samples_split\" : [2],\n",
    "              #\"min_weight_fraction_leaf\" : [0.00000000001],\n",
    "              #\"n_estimators\" : [100]\n",
    "             }\n",
    "scoring = 'accuracy'\n",
    "# Instantiate gridsearch and define the metric to optimize \n",
    "gs = GridSearchCV(model_cl, param_grid, cv=5, verbose=5, n_jobs=-1, scoring=scoring)"
   ]
  },
  {
   "cell_type": "code",
   "execution_count": 111,
   "id": "about-african",
   "metadata": {},
   "outputs": [
    {
     "name": "stdout",
     "output_type": "stream",
     "text": [
      "Fitting 5 folds for each of 125 candidates, totalling 625 fits\n"
     ]
    },
    {
     "data": {
      "text/plain": [
       "GridSearchCV(cv=5,\n",
       "             estimator=RandomForestClassifier(n_jobs=-1, oob_score=True,\n",
       "                                              random_state=42),\n",
       "             n_jobs=-1,\n",
       "             param_grid={'max_depth': [10, 12, 15, 17, 20],\n",
       "                         'max_features': [2, 4, 5, 7, 10],\n",
       "                         'max_leaf_nodes': [400, 450, 500, 550, 600],\n",
       "                         'max_samples': [None]},\n",
       "             scoring='accuracy', verbose=5)"
      ]
     },
     "execution_count": 111,
     "metadata": {},
     "output_type": "execute_result"
    }
   ],
   "source": [
    "gs.fit(X_train_prep, y_train)"
   ]
  },
  {
   "cell_type": "code",
   "execution_count": 112,
   "id": "manufactured-domain",
   "metadata": {},
   "outputs": [
    {
     "name": "stdout",
     "output_type": "stream",
     "text": [
      " Results from Grid Search \n",
      "\n",
      " The best estimator across ALL searched params:\n",
      " RandomForestClassifier(max_depth=17, max_features=10, max_leaf_nodes=500,\n",
      "                       n_jobs=-1, oob_score=True, random_state=42)\n",
      "\n",
      " The best score across ALL searched params:\n",
      " 0.8908506722019915\n",
      "\n",
      " The best parameters across ALL searched params:\n",
      " {'max_depth': 17, 'max_features': 10, 'max_leaf_nodes': 500, 'max_samples': None}\n"
     ]
    }
   ],
   "source": [
    "print(\" Results from Grid Search \" )\n",
    "print(\"\\n The best estimator across ALL searched params:\\n\",gs.best_estimator_)\n",
    "print(\"\\n The best score across ALL searched params:\\n\",gs.best_score_)\n",
    "print(\"\\n The best parameters across ALL searched params:\\n\",gs.best_params_)"
   ]
  },
  {
   "cell_type": "code",
   "execution_count": 115,
   "id": "amino-sensitivity",
   "metadata": {},
   "outputs": [
    {
     "data": {
      "text/plain": [
       "RandomForestClassifier(max_depth=17, max_features=10, max_leaf_nodes=500,\n",
       "                       n_jobs=-1, oob_score=True, random_state=42)"
      ]
     },
     "execution_count": 115,
     "metadata": {},
     "output_type": "execute_result"
    }
   ],
   "source": [
    "model = RandomForestClassifier(\n",
    "    max_depth = 17,\n",
    "    max_features = 10,\n",
    "    max_leaf_nodes = 500,\n",
    "    max_samples = None,\n",
    "    n_estimators = 100,\n",
    "    n_jobs = -1,\n",
    "    oob_score = True,\n",
    "    bootstrap = True,\n",
    "    random_state = 42\n",
    ")\n",
    "model.fit(X_train_prep, y_train)"
   ]
  },
  {
   "cell_type": "code",
   "execution_count": 116,
   "id": "responsible-chosen",
   "metadata": {},
   "outputs": [
    {
     "name": "stdout",
     "output_type": "stream",
     "text": [
      "Training Accuracy: 0.9027 \n",
      "OOB Accuracy: 0.8908 \n",
      "Validation Accuracy: 0.8910\n"
     ]
    }
   ],
   "source": [
    "print('Training Accuracy: {:.4f} \\nOOB Accuracy: {:.4f} \\nValidation Accuracy: {:.4f}'.format(model.score(X_train_prep, y_train), \n",
    "                                                                                              model.oob_score_,\n",
    "                                                                                              model.score(X_test_prep, y_test)))"
   ]
  },
  {
   "cell_type": "markdown",
   "id": "commercial-necessity",
   "metadata": {},
   "source": [
    "Now, the model isn't overfitted anymore and we can use the test set to evaluate the found random forest model."
   ]
  },
  {
   "cell_type": "markdown",
   "id": "revolutionary-maintenance",
   "metadata": {},
   "source": [
    "---\n",
    "## Visualization"
   ]
  },
  {
   "cell_type": "code",
   "execution_count": 117,
   "id": "alternate-pipeline",
   "metadata": {},
   "outputs": [],
   "source": [
    "# get score for test set\n",
    "y_test_set = test_set['w3_hspu_status']\n",
    "X_test_set = test_set.drop(axis=1,columns='w3_hspu_status')\n",
    "X_test_set_scaled = scaler.transform(X_test_set[scale_cols])\n",
    "X_test_set_imputed = imputer.fit_transform(X_test_set_scaled)\n",
    "X_test_set_prep = np.concatenate([X_test_set_imputed,X_test_set.drop(scale_cols,axis=1)],axis=1)\n",
    "y_pred = model.predict(X_test_set_prep)"
   ]
  },
  {
   "cell_type": "code",
   "execution_count": 118,
   "id": "external-ready",
   "metadata": {},
   "outputs": [
    {
     "data": {
      "text/plain": [
       "0.8915528598576226"
      ]
     },
     "execution_count": 118,
     "metadata": {},
     "output_type": "execute_result"
    }
   ],
   "source": [
    "model.score(X_test_set_prep, y_test_set)"
   ]
  },
  {
   "cell_type": "code",
   "execution_count": 119,
   "id": "animated-journal",
   "metadata": {},
   "outputs": [
    {
     "data": {
      "text/plain": [
       "array([[61637,  4873],\n",
       "       [ 6141, 28910]])"
      ]
     },
     "execution_count": 119,
     "metadata": {},
     "output_type": "execute_result"
    }
   ],
   "source": [
    "matrix = confusion_matrix(y_test_set, y_pred)\n",
    "matrix"
   ]
  },
  {
   "cell_type": "code",
   "execution_count": 121,
   "id": "judicial-adoption",
   "metadata": {},
   "outputs": [
    {
     "data": {
      "image/png": "[encoded data removed]",
      "text/plain": [
       "<Figure size 504x360 with 2 Axes>"
      ]
     },
     "metadata": {
      "needs_background": "light"
     },
     "output_type": "display_data"
    }
   ],
   "source": [
    "plt.rcParams.update({'figure.figsize': (7,5)})\n",
    "plt.rcParams.update({'font.size': 14})\n",
    "sns.heatmap(matrix/np.sum(matrix), annot=True, fmt='.1%', cmap='Blues');"
   ]
  },
  {
   "cell_type": "markdown",
   "id": "considered-mercury",
   "metadata": {},
   "source": [
    "The model has an accuracy of over 89%. Just 5-6% of the data are predicted false negative/positive. It has been shown that outcomes of a CrossFit workout - performing minimum one Strict Handstand Push-Up - is predictable with score much better than the dummy classifier. Unfortunately data of body measurements and benchmark statistics do not contribute as much as expected. A reason for that could be the high amount of missing data."
   ]
  }
 ],
 "metadata": {
  "kernelspec": {
   "display_name": "Python 3",
   "language": "python",
   "name": "python3"
  },
  "language_info": {
   "codemirror_mode": {
    "name": "ipython",
    "version": 3
   },
   "file_extension": ".py",
   "mimetype": "text/x-python",
   "name": "python",
   "nbconvert_exporter": "python",
   "pygments_lexer": "ipython3",
   "version": "3.8.5"
  }
 },
 "nbformat": 4,
 "nbformat_minor": 5
}
