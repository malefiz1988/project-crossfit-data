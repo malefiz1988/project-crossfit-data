{
 "cells": [
  {
   "cell_type": "code",
   "execution_count": 1,
   "id": "satisfactory-metallic",
   "metadata": {},
   "outputs": [],
   "source": [
    "import numpy as np\n",
    "import pandas as pd\n",
    "\n",
    "import matplotlib.pyplot as plt\n",
    "import seaborn as sns\n",
    "\n",
    "from sklearn.model_selection import train_test_split\n",
    "from sklearn.preprocessing import StandardScaler\n",
    "from sklearn.model_selection import KFold\n",
    "from sklearn.model_selection import cross_val_score\n",
    "from sklearn.linear_model import LogisticRegression\n",
    "from sklearn.tree import DecisionTreeClassifier\n",
    "from sklearn.neighbors import KNeighborsClassifier\n",
    "from sklearn.ensemble import RandomForestClassifier\n",
    "from sklearn.naive_bayes import GaussianNB\n",
    "from sklearn.svm import SVC\n",
    "from sklearn.metrics import accuracy_score\n",
    "from sklearn.model_selection import GridSearchCV\n",
    "from sklearn.metrics import confusion_matrix"
   ]
  },
  {
   "cell_type": "code",
   "execution_count": 2,
   "id": "contemporary-sharp",
   "metadata": {},
   "outputs": [],
   "source": [
    "df = pd.read_csv('./data/2019_opens_clean.csv')"
   ]
  },
  {
   "cell_type": "markdown",
   "id": "compact-brother",
   "metadata": {},
   "source": [
    "## Data Cleaning"
   ]
  },
  {
   "cell_type": "code",
   "execution_count": 3,
   "id": "pharmaceutical-burke",
   "metadata": {},
   "outputs": [],
   "source": [
    "# drop column \"Unnamed\"\n",
    "df = df.loc[:, ~df.columns.str.contains('^Unnamed')]"
   ]
  },
  {
   "cell_type": "markdown",
   "id": "precise-eleven",
   "metadata": {},
   "source": [
    "#### Scores dataframe"
   ]
  },
  {
   "cell_type": "code",
   "execution_count": 5,
   "id": "adopted-carroll",
   "metadata": {},
   "outputs": [],
   "source": [
    "# dataframe without benchmarks or height & weight\n",
    "# consider workout scores before 19.4\n",
    "scores_cols = ['competitorid', 'gender', 'age', \\\n",
    "               'time_2', 'time_3', \\\n",
    "               'scaled_1', 'scaled_2', \\\n",
    "               'w1_reps_total', \\\n",
    "               'w2_reps_total', 'w2_reps_t2b', 'w2_reps_du', \\\n",
    "               'w2_reps_sqcl', 'w2_rounds_completed', 'w2_tiebreak', \\\n",
    "               'w3_reps_total', 'w3_5ft_reps_ohl', 'w3_reps_dbbsu', 'w3_reps_hspu', \\\n",
    "               'w3_5ft_reps_hsw', 'w3_rounds_completed', 'w3_tiebreak', \\\n",
    "               'w4_reps_total', 'w4_bmu_status'\n",
    "              ]\n",
    "df_scores = df[scores_cols]\n",
    "\n",
    "# drop rows with missing age values\n",
    "df_scores = df_scores[df_scores['age'].notna()]\n",
    "# keep just rows with workouts 19.1-19.4 participated\n",
    "df_scores = df_scores[df_scores['w1_reps_total'].notna()]\n",
    "df_scores = df_scores[df_scores['w2_reps_total'].notna()]\n",
    "df_scores = df_scores[df_scores['w3_reps_total'].notna()]\n",
    "df_scores = df_scores[df_scores['w4_reps_total'].notna()]\n",
    "# drop data from 4th workout\n",
    "df_scores.drop(index=1,columns='w4_reps_total',inplace=True)\n",
    "# drop rows with missing time values\n",
    "df_scores = df_scores[df_scores['time_2'].notna()]\n",
    "df_scores = df_scores[df_scores['time_3'].notna()]\n",
    "# set missing tiebreak values to zero\n",
    "df_scores['w2_tiebreak'].replace(np.NaN,0,inplace=True)\n",
    "df_scores['w3_tiebreak'].replace(np.NaN,0,inplace=True)\n",
    "# set categorical gender values to 1/0\n",
    "df_scores['gender'].replace(['M','F'],[1,0],inplace=True)\n",
    "# drop rows with unknown bmu status\n",
    "df_scores = df_scores[df_scores['w4_bmu_status'].notna()]\n",
    "# numeric values of hspu status as integer\n",
    "df_scores['w4_bmu_status'] = df_scores['w4_bmu_status'].astype(int)"
   ]
  },
  {
   "cell_type": "code",
   "execution_count": 6,
   "id": "capital-import",
   "metadata": {},
   "outputs": [
    {
     "data": {
      "text/plain": [
       "(246133, 22)"
      ]
     },
     "execution_count": 6,
     "metadata": {},
     "output_type": "execute_result"
    }
   ],
   "source": [
    "df_scores.shape"
   ]
  },
  {
   "cell_type": "code",
   "execution_count": 8,
   "id": "superb-ladder",
   "metadata": {},
   "outputs": [],
   "source": [
    "df_scores.to_csv('./data/bmu_classification_model_input_scores.csv')"
   ]
  },
  {
   "cell_type": "markdown",
   "id": "headed-poverty",
   "metadata": {},
   "source": [
    "#### height&weight dataframe"
   ]
  },
  {
   "cell_type": "code",
   "execution_count": null,
   "id": "confident-panel",
   "metadata": {},
   "outputs": [],
   "source": [
    "# dataframe without heights & weights\n",
    "hw_cols = ['w3_hspu_status', 'height', 'weight', 'gender', 'age']\n",
    "df_hw = df[hw_cols]\n",
    "\n",
    "# drop rows with missing values\n",
    "df_hw = df_hw[df_hw['height'].notna()]\n",
    "df_hw = df_hw[df_hw['weight'].notna()]\n",
    "df_hw = df_hw[df_hw['age'].notna()]\n",
    "df_hw = df_hw[df_hw['w3_hspu_status'].notna()]\n",
    "# set categorical gender values to 1/0\n",
    "df_hw['gender'].replace(['M','F'],[1,0],inplace=True)\n",
    "# numeric values of hspu status as integer\n",
    "df_hw['w3_hspu_status'] = df_hw['w3_hspu_status'].astype(int)"
   ]
  },
  {
   "cell_type": "code",
   "execution_count": null,
   "id": "spatial-occasion",
   "metadata": {},
   "outputs": [],
   "source": [
    "df_hw.shape"
   ]
  },
  {
   "cell_type": "code",
   "execution_count": null,
   "id": "legitimate-praise",
   "metadata": {},
   "outputs": [],
   "source": [
    "df_hw.to_csv('./data/classification_model_input_hw.csv')"
   ]
  },
  {
   "cell_type": "markdown",
   "id": "solid-military",
   "metadata": {},
   "source": [
    "#### Scores +hw dataframe"
   ]
  },
  {
   "cell_type": "code",
   "execution_count": null,
   "id": "religious-drawing",
   "metadata": {},
   "outputs": [],
   "source": [
    "# dataframe without benchmarks\n",
    "# including heights and weights statistics\n",
    "# consider workout scores before 19.3\n",
    "sc_hw_cols = ['competitorid', 'gender', 'age', \\\n",
    "              'time_2', 'scaled_1', 'scaled_2', \\\n",
    "              'w1_reps_total', 'w2_reps_total', 'w2_reps_t2b', 'w2_reps_du', 'w2_reps_sqcl', \\\n",
    "              'w2_rounds_completed', 'w2_tiebreak', 'w3_reps_total', 'w3_hspu_status', \\\n",
    "              'height', 'weight']\n",
    "df_sc_hw = df[sc_hw_cols]\n",
    "\n",
    "# drop rows with missing age values\n",
    "df_sc_hw = df_sc_hw[df_sc_hw['age'].notna()]\n",
    "# keep just rows with workouts 19.1-19.3 participated\n",
    "df_sc_hw = df_sc_hw[df_sc_hw['w1_reps_total'].notna()]\n",
    "df_sc_hw = df_sc_hw[df_sc_hw['w2_reps_total'].notna()]\n",
    "df_sc_hw = df_sc_hw[df_sc_hw['w3_reps_total'].notna()]\n",
    "# drop data from 3rd workout\n",
    "df_sc_hw.drop(index=1,columns='w3_reps_total',inplace=True)\n",
    "# drop rows with missing time values\n",
    "df_sc_hw = df_sc_hw[df_sc_hw['time_2'].notna()]\n",
    "# set missing tiebreak values to zero\n",
    "df_sc_hw['w2_tiebreak'].replace(np.NaN,0,inplace=True)\n",
    "# set categorical gender values to 1/0\n",
    "df_sc_hw['gender'].replace(['M','F'],[1,0],inplace=True)\n",
    "# drop rows with unknown hspu status\n",
    "df_sc_hw = df_sc_hw[df_sc_hw['w3_hspu_status'].notna()]\n",
    "# numeric values of hspu status as integer\n",
    "df_sc_hw['w3_hspu_status'] = df_sc_hw['w3_hspu_status'].astype(int)\n",
    "\n",
    "# drop rows with missing heights and weights\n",
    "df_sc_hw = df_sc_hw[df_sc_hw['height'].notna()]\n",
    "df_sc_hw = df_sc_hw[df_sc_hw['weight'].notna()]"
   ]
  },
  {
   "cell_type": "code",
   "execution_count": null,
   "id": "limiting-pottery",
   "metadata": {},
   "outputs": [],
   "source": [
    "df_sc_hw.shape"
   ]
  },
  {
   "cell_type": "code",
   "execution_count": null,
   "id": "stainless-census",
   "metadata": {},
   "outputs": [],
   "source": [
    "df_sc_hw.to_csv('./data/classification_model_input_sc_hw.csv')"
   ]
  },
  {
   "cell_type": "markdown",
   "id": "returning-greenhouse",
   "metadata": {},
   "source": [
    "#### benchmark dataframe"
   ]
  },
  {
   "cell_type": "code",
   "execution_count": null,
   "id": "mobile-injection",
   "metadata": {},
   "outputs": [],
   "source": [
    "# dataframe with benchmark statistics\n",
    "bs_cols = [\n",
    "    'gender', 'w3_hspu_status', \\\n",
    "    'bs_backsquat', 'bs_cleanandjerk', 'bs_snatch', 'bs_deadlift', \\\n",
    "    'bs_fightgonebad', 'bs_maxpull_ups', 'bs_fran', 'bs_grace', 'bs_helen', \\\n",
    "    'bs_filthy50', 'bs_sprint400m', 'bs_run5k']\n",
    "df_bs = df[bs_cols]\n",
    "\n",
    "# drop na\n",
    "df_bs = df_bs.dropna()\n",
    "\n",
    "# set categorical gender values to 1/0\n",
    "df_bs['gender'].replace(['M','F'],[1,0],inplace=True)\n",
    "# numeric values of hspu status as integer\n",
    "df_bs['w3_hspu_status'] = df_bs['w3_hspu_status'].astype(int)"
   ]
  },
  {
   "cell_type": "code",
   "execution_count": null,
   "id": "measured-hospital",
   "metadata": {},
   "outputs": [],
   "source": [
    "df_bs.shape"
   ]
  },
  {
   "cell_type": "code",
   "execution_count": null,
   "id": "disabled-ballet",
   "metadata": {},
   "outputs": [],
   "source": [
    "df_bs.to_csv('./data/classification_model_input_bs.csv')"
   ]
  },
  {
   "cell_type": "markdown",
   "id": "prime-vaccine",
   "metadata": {},
   "source": [
    "#### all data"
   ]
  },
  {
   "cell_type": "code",
   "execution_count": null,
   "id": "removed-trainer",
   "metadata": {},
   "outputs": [],
   "source": [
    "# dataframe with benchmark statistics\n",
    "all_cols = [\n",
    "    'competitorid', 'gender', 'age', \\\n",
    "    'time_2', 'scaled_1', 'scaled_2', \\\n",
    "    'w1_reps_total', 'w2_reps_total', 'w2_reps_t2b', 'w2_reps_du', 'w2_reps_sqcl', \\\n",
    "    'w2_rounds_completed', 'w2_tiebreak', 'w3_reps_total', 'w3_hspu_status', \\\n",
    "    'height', 'weight', \\\n",
    "    'bs_backsquat', 'bs_cleanandjerk', 'bs_snatch', 'bs_deadlift', \\\n",
    "    'bs_fightgonebad', 'bs_maxpull_ups', 'bs_fran', 'bs_grace', 'bs_helen', \\\n",
    "    'bs_filthy50', 'bs_sprint400m', 'bs_run5k']\n",
    "df_all = df[all_cols]\n",
    "\n",
    "# drop rows with missing age values\n",
    "df_all = df_all[df_all['age'].notna()]\n",
    "# keep just rows with workouts 19.1-19.3 participated\n",
    "df_all = df_all[df_all['w1_reps_total'].notna()]\n",
    "df_all = df_all[df_all['w2_reps_total'].notna()]\n",
    "df_all = df_all[df_all['w3_reps_total'].notna()]\n",
    "# drop data from 3rd workout\n",
    "df_all.drop(index=1,columns='w3_reps_total',inplace=True)\n",
    "# drop rows with missing time values\n",
    "df_all = df_all[df_all['time_2'].notna()]\n",
    "# set missing tiebreak values to zero\n",
    "df_all['w2_tiebreak'].replace(np.NaN,0,inplace=True)\n",
    "# set categorical gender values to 1/0\n",
    "df_all['gender'].replace(['M','F'],[1,0],inplace=True)\n",
    "# drop rows with unknown hspu status\n",
    "df_all = df_all[df_all['w3_hspu_status'].notna()]\n",
    "# numeric values of hspu status as integer\n",
    "df_all['w3_hspu_status'] = df_all['w3_hspu_status'].astype(int)\n",
    "\n",
    "# drop rows with missing heights and weights\n",
    "df_all = df_all[df_all['height'].notna()]\n",
    "df_all = df_all[df_all['weight'].notna()]\n",
    "\n",
    "# drop na\n",
    "df_all = df_all.dropna()"
   ]
  },
  {
   "cell_type": "code",
   "execution_count": null,
   "id": "bibliographic-female",
   "metadata": {},
   "outputs": [],
   "source": [
    "df_all.shape"
   ]
  },
  {
   "cell_type": "code",
   "execution_count": null,
   "id": "sitting-presence",
   "metadata": {},
   "outputs": [],
   "source": [
    "df_all.to_csv('./data/classification_model_input_all.csv')"
   ]
  },
  {
   "cell_type": "markdown",
   "id": "functional-residence",
   "metadata": {},
   "source": [
    "## Preprocessing"
   ]
  },
  {
   "cell_type": "markdown",
   "id": "premium-israel",
   "metadata": {},
   "source": [
    "#### Scores dataframe"
   ]
  },
  {
   "cell_type": "code",
   "execution_count": 9,
   "id": "greater-ministry",
   "metadata": {},
   "outputs": [],
   "source": [
    "# create train and test sets\n",
    "train_set_sc, test_set_sc = train_test_split(df_scores, test_size=0.3, random_state=42)\n",
    "\n",
    "# define target and features\n",
    "y_sc = df_scores['w4_bmu_status']\n",
    "X_sc = df_scores.drop(axis=1,columns='w4_bmu_status')\n",
    "\n",
    "# train test split for model evaluation\n",
    "X_train_sc, X_test_sc, y_train_sc, y_test_sc = train_test_split(X_sc, y_sc, random_state=42)"
   ]
  },
  {
   "cell_type": "code",
   "execution_count": 10,
   "id": "activated-review",
   "metadata": {},
   "outputs": [],
   "source": [
    "# define numerical features for scaling\n",
    "scale_cols = ['competitorid', 'age', \\\n",
    "               'time_2', 'time_3', \\\n",
    "               'w1_reps_total', \\\n",
    "               'w2_reps_total', 'w2_reps_t2b', 'w2_reps_du', \\\n",
    "               'w2_reps_sqcl', 'w2_rounds_completed', 'w2_tiebreak', \\\n",
    "               'w3_reps_total', 'w3_5ft_reps_ohl', 'w3_reps_dbbsu', 'w3_reps_hspu', \\\n",
    "               'w3_5ft_reps_hsw', 'w3_rounds_completed', 'w3_tiebreak']\n",
    "\n",
    "# scaling numerical features\n",
    "scaler = StandardScaler()\n",
    "X_train_scaled_sc = scaler.fit_transform(X_train_sc[scale_cols])\n",
    "X_test_scaled_sc = scaler.transform(X_test_sc[scale_cols])\n",
    "\n",
    "X_train_preprocessed_sc = np.concatenate([X_train_scaled_sc, X_train_sc.drop(scale_cols, axis=1)], axis=1)\n",
    "X_test_preprocessed_sc = np.concatenate([X_test_scaled_sc, X_test_sc.drop(scale_cols, axis=1)], axis=1)"
   ]
  },
  {
   "cell_type": "markdown",
   "id": "plain-winner",
   "metadata": {},
   "source": [
    "#### height&weight dataframe"
   ]
  },
  {
   "cell_type": "code",
   "execution_count": null,
   "id": "active-oriental",
   "metadata": {},
   "outputs": [],
   "source": [
    "# create train and test sets\n",
    "train_set_hw, test_set_hw = train_test_split(df_hw, test_size=0.3, random_state=42)\n",
    "\n",
    "# define target and features\n",
    "y_hw = df_hw['w3_hspu_status']\n",
    "X_hw = df_hw.drop(axis=1,columns='w3_hspu_status')\n",
    "\n",
    "# train test split for model evaluation\n",
    "X_train_hw, X_test_hw, y_train_hw, y_test_hw = train_test_split(X_hw, y_hw, random_state=42)\n",
    "\n",
    "# define numerical features for scaling\n",
    "scale_cols = ['age','weight','height']\n",
    "\n",
    "# scaling numerical features\n",
    "scaler = StandardScaler()\n",
    "X_train_scaled_hw = scaler.fit_transform(X_train_hw[scale_cols])\n",
    "X_test_scaled_hw = scaler.transform(X_test_hw[scale_cols])\n",
    "\n",
    "X_train_preprocessed_hw = np.concatenate([X_train_scaled_hw, X_train_hw.drop(scale_cols, axis=1)], axis=1)\n",
    "X_test_preprocessed_hw = np.concatenate([X_test_scaled_hw, X_test_hw.drop(scale_cols, axis=1)], axis=1)"
   ]
  },
  {
   "cell_type": "markdown",
   "id": "copyrighted-labor",
   "metadata": {},
   "source": [
    "#### Scores +hw dataframe"
   ]
  },
  {
   "cell_type": "code",
   "execution_count": null,
   "id": "authorized-jonathan",
   "metadata": {},
   "outputs": [],
   "source": [
    "# create train and test sets\n",
    "train_set_sc_hw, test_set_sc_hw = train_test_split(df_sc_hw, test_size=0.3, random_state=42)\n",
    "\n",
    "# define target and features\n",
    "y_sc_hw = df_sc_hw['w3_hspu_status']\n",
    "X_sc_hw = df_sc_hw.drop(axis=1,columns='w3_hspu_status')\n",
    "\n",
    "# train test split for model evaluation\n",
    "X_train_sc_hw, X_test_sc_hw, y_train_sc_hw, y_test_sc_hw = train_test_split(X_sc_hw, y_sc_hw, random_state=42)\n",
    "\n",
    "# define numerical features for scaling\n",
    "scale_cols = ['competitorid','age','time_2', \\\n",
    "              'w1_reps_total', 'w2_reps_total', 'w2_reps_t2b', \\\n",
    "              'w2_reps_du', 'w2_reps_sqcl', 'w2_rounds_completed', 'w2_tiebreak', \\\n",
    "              'weight', 'height']\n",
    "\n",
    "# scaling numerical features\n",
    "scaler = StandardScaler()\n",
    "X_train_scaled_sc_hw = scaler.fit_transform(X_train_sc_hw[scale_cols])\n",
    "X_test_scaled_sc_hw = scaler.transform(X_test_sc_hw[scale_cols])\n",
    "\n",
    "X_train_preprocessed_sc_hw = np.concatenate([X_train_scaled_sc_hw, X_train_sc_hw.drop(scale_cols, axis=1)], axis=1)\n",
    "X_test_preprocessed_sc_hw = np.concatenate([X_test_scaled_sc_hw, X_test_sc_hw.drop(scale_cols, axis=1)], axis=1)"
   ]
  },
  {
   "cell_type": "markdown",
   "id": "disabled-berry",
   "metadata": {},
   "source": [
    "#### Benchmark dataframe"
   ]
  },
  {
   "cell_type": "code",
   "execution_count": null,
   "id": "wicked-digest",
   "metadata": {},
   "outputs": [],
   "source": [
    "# create train and test sets\n",
    "train_set_bs, test_set_bs = train_test_split(df_bs, test_size=0.3, random_state=42, stratify=df_bs[['w3_hspu_status']])\n",
    "\n",
    "# define target and features\n",
    "y_bs = df_bs['w3_hspu_status']\n",
    "X_bs = df_bs.drop(axis=1,columns='w3_hspu_status')\n",
    "\n",
    "# train test split for model evaluation\n",
    "X_train_bs, X_test_bs, y_train_bs, y_test_bs = train_test_split(X_bs, y_bs, random_state=42, stratify=df_bs[['w3_hspu_status']])\n",
    "\n",
    "# define numerical features for scaling\n",
    "scale_cols = [\n",
    "    'bs_backsquat', 'bs_cleanandjerk', 'bs_snatch', 'bs_deadlift', \\\n",
    "    'bs_fightgonebad', 'bs_maxpull_ups', 'bs_fran', 'bs_grace', 'bs_helen', \\\n",
    "    'bs_filthy50', 'bs_sprint400m', 'bs_run5k']\n",
    "\n",
    "# scaling numerical features\n",
    "scaler = StandardScaler()\n",
    "X_train_scaled_bs = scaler.fit_transform(X_train_bs[scale_cols])\n",
    "X_test_scaled_bs = scaler.transform(X_test_bs[scale_cols])\n",
    "\n",
    "X_train_preprocessed_bs = np.concatenate([X_train_scaled_bs, X_train_bs.drop(scale_cols, axis=1)], axis=1)\n",
    "X_test_preprocessed_bs = np.concatenate([X_test_scaled_bs, X_test_bs.drop(scale_cols, axis=1)], axis=1)"
   ]
  },
  {
   "cell_type": "markdown",
   "id": "forced-injury",
   "metadata": {},
   "source": [
    "#### all data"
   ]
  },
  {
   "cell_type": "code",
   "execution_count": null,
   "id": "superior-amateur",
   "metadata": {},
   "outputs": [],
   "source": [
    "# create train and test sets\n",
    "train_set_all, test_set_all = train_test_split(df_all, test_size=0.3, random_state=42, stratify=df_all[['w3_hspu_status']])\n",
    "\n",
    "# define target and features\n",
    "y_all = df_all['w3_hspu_status']\n",
    "X_all = df_all.drop(axis=1,columns='w3_hspu_status')\n",
    "\n",
    "# train test split for model evaluation\n",
    "X_train_all, X_test_all, y_train_all, y_test_all = train_test_split(X_all, y_all, random_state=42, stratify=df_all[['w3_hspu_status']])\n",
    "\n",
    "# define numerical features for scaling\n",
    "scale_cols = [\n",
    "    'competitorid','age','time_2', \\\n",
    "    'w1_reps_total', 'w2_reps_total', 'w2_reps_t2b', \\\n",
    "    'w2_reps_du', 'w2_reps_sqcl', 'w2_rounds_completed', 'w2_tiebreak', \\\n",
    "    'weight', 'height', \\\n",
    "    'bs_backsquat', 'bs_cleanandjerk', 'bs_snatch', 'bs_deadlift', \\\n",
    "    'bs_fightgonebad', 'bs_maxpull_ups', 'bs_fran', 'bs_grace', 'bs_helen', \\\n",
    "    'bs_filthy50', 'bs_sprint400m', 'bs_run5k']\n",
    "\n",
    "# scaling numerical features\n",
    "scaler = StandardScaler()\n",
    "X_train_scaled_all = scaler.fit_transform(X_train_all[scale_cols])\n",
    "X_test_scaled_all = scaler.transform(X_test_all[scale_cols])\n",
    "\n",
    "X_train_preprocessed_all = np.concatenate([X_train_scaled_all, X_train_all.drop(scale_cols, axis=1)], axis=1)\n",
    "X_test_preprocessed_all = np.concatenate([X_test_scaled_all, X_test_all.drop(scale_cols, axis=1)], axis=1)"
   ]
  },
  {
   "cell_type": "markdown",
   "id": "threaded-headset",
   "metadata": {},
   "source": [
    "## Model Selection"
   ]
  },
  {
   "cell_type": "markdown",
   "id": "floral-hardwood",
   "metadata": {},
   "source": [
    "### Dummy Accuracy"
   ]
  },
  {
   "cell_type": "code",
   "execution_count": 11,
   "id": "substantial-underwear",
   "metadata": {},
   "outputs": [
    {
     "data": {
      "text/plain": [
       "0    131943\n",
       "1    114190\n",
       "Name: w4_bmu_status, dtype: int64"
      ]
     },
     "execution_count": 11,
     "metadata": {},
     "output_type": "execute_result"
    }
   ],
   "source": [
    "df_scores['w4_bmu_status'].value_counts()"
   ]
  },
  {
   "cell_type": "code",
   "execution_count": 12,
   "id": "creative-socket",
   "metadata": {},
   "outputs": [
    {
     "data": {
      "text/plain": [
       "0.536063835406061"
      ]
     },
     "execution_count": 12,
     "metadata": {},
     "output_type": "execute_result"
    }
   ],
   "source": [
    "131943/(131943+114190)"
   ]
  },
  {
   "cell_type": "code",
   "execution_count": null,
   "id": "irish-poverty",
   "metadata": {},
   "outputs": [],
   "source": [
    "df_hw['w3_hspu_status'].value_counts()"
   ]
  },
  {
   "cell_type": "code",
   "execution_count": null,
   "id": "stock-assurance",
   "metadata": {},
   "outputs": [],
   "source": [
    "93604/(93604+61694)"
   ]
  },
  {
   "cell_type": "code",
   "execution_count": null,
   "id": "informative-asbestos",
   "metadata": {},
   "outputs": [],
   "source": [
    "df_sc_hw['w3_hspu_status'].value_counts()"
   ]
  },
  {
   "cell_type": "code",
   "execution_count": null,
   "id": "danish-chambers",
   "metadata": {},
   "outputs": [],
   "source": [
    "88088/(88088+57396)"
   ]
  },
  {
   "cell_type": "code",
   "execution_count": null,
   "id": "nonprofit-valuation",
   "metadata": {},
   "outputs": [],
   "source": [
    "df_bs['w3_hspu_status'].value_counts()"
   ]
  },
  {
   "cell_type": "code",
   "execution_count": null,
   "id": "contrary-extraction",
   "metadata": {},
   "outputs": [],
   "source": [
    "1530/(1530+417)"
   ]
  },
  {
   "cell_type": "code",
   "execution_count": null,
   "id": "micro-canada",
   "metadata": {},
   "outputs": [],
   "source": [
    "df_all['w3_hspu_status'].value_counts()"
   ]
  },
  {
   "cell_type": "code",
   "execution_count": null,
   "id": "hourly-luxembourg",
   "metadata": {},
   "outputs": [],
   "source": [
    "1469/(1469+386)"
   ]
  },
  {
   "cell_type": "markdown",
   "id": "nonprofit-produce",
   "metadata": {},
   "source": [
    "##### to beat: Scores - 54% | hw - XX% | sc+hw - XX% | bs - XX% | all - XX%"
   ]
  },
  {
   "cell_type": "markdown",
   "id": "auburn-louis",
   "metadata": {},
   "source": [
    "### Comparison of Algorithms"
   ]
  },
  {
   "cell_type": "markdown",
   "id": "immediate-trout",
   "metadata": {},
   "source": [
    "#### Scores Dataframe"
   ]
  },
  {
   "cell_type": "code",
   "execution_count": 29,
   "id": "excess-player",
   "metadata": {},
   "outputs": [
    {
     "name": "stdout",
     "output_type": "stream",
     "text": [
      "73.60386851106828\n",
      "0.29084722793466194\n"
     ]
    }
   ],
   "source": [
    "from sklearn.neural_network import MLPClassifier\n",
    "\n",
    "mlp = MLPClassifier(hidden_layer_sizes=(8,8,8), activation='relu', solver='adam', max_iter=500)\n",
    "result = cross_val_score(mlp, X_train_preprocessed_sc, y_train_sc, cv=5, scoring='accuracy')\n",
    "\n",
    "print(result.mean()*100)\n",
    "print(result.std()*100)"
   ]
  },
  {
   "cell_type": "code",
   "execution_count": 30,
   "id": "suited-annotation",
   "metadata": {},
   "outputs": [],
   "source": [
    "#mlp.fit(X_train_preprocessed_sc, y_train_sc)\n",
    "#predict_train = mlp.predict(X_train_preprocessed_sc)\n",
    "#predict_test = mlp.predict(X_test_preprocessed_sc)"
   ]
  },
  {
   "cell_type": "code",
   "execution_count": null,
   "id": "mechanical-understanding",
   "metadata": {},
   "outputs": [],
   "source": []
  },
  {
   "cell_type": "code",
   "execution_count": 14,
   "id": "operational-transition",
   "metadata": {},
   "outputs": [
    {
     "name": "stdout",
     "output_type": "stream",
     "text": [
      "Logistic Regression: Mean Accuracy = 69.74% - SD Accuracy = 0.27%\n",
      "K Nearest Neighbor: Mean Accuracy = 69.01% - SD Accuracy = 0.21%\n",
      "Naive Bayes: Mean Accuracy = 68.77% - SD Accuracy = 0.25%\n",
      "Decision Tree: Mean Accuracy = 69.13% - SD Accuracy = 0.12%\n",
      "Random Forest: Mean Accuracy = 73.84% - SD Accuracy = 0.16%\n"
     ]
    }
   ],
   "source": [
    "classification_models_sc = []\n",
    "classification_models_sc.append(('Logistic Regression', LogisticRegression(solver=\"liblinear\")))\n",
    "classification_models_sc.append(('K Nearest Neighbor', KNeighborsClassifier(n_neighbors=5, metric=\"minkowski\",p=2)))\n",
    "#classification_models_sc.append(('Kernel SVM', SVC(kernel = 'rbf',gamma='scale')))\n",
    "classification_models_sc.append(('Naive Bayes', GaussianNB()))\n",
    "classification_models_sc.append(('Decision Tree', DecisionTreeClassifier(criterion = \"entropy\")))\n",
    "classification_models_sc.append(('Random Forest', RandomForestClassifier(n_estimators=100, criterion=\"entropy\")))\n",
    "\n",
    "results_sc = []\n",
    "names_sc = []\n",
    "for name, model in classification_models_sc:\n",
    "    kfold = KFold(n_splits=5, random_state=42, shuffle=True)\n",
    "    result = cross_val_score(model, X_train_preprocessed_sc, y_train_sc, cv=kfold, scoring='accuracy')\n",
    "    results_sc.append(result)\n",
    "    names_sc.append(name)\n",
    "    print(\"%s: Mean Accuracy = %.2f%% - SD Accuracy = %.2f%%\" % (name, result.mean()*100, result.std()*100))"
   ]
  },
  {
   "cell_type": "code",
   "execution_count": 15,
   "id": "excessive-brook",
   "metadata": {},
   "outputs": [
    {
     "data": {
      "image/png": "[encoded data removed]",
      "text/plain": [
       "<Figure size 1008x360 with 1 Axes>"
      ]
     },
     "metadata": {
      "needs_background": "light"
     },
     "output_type": "display_data"
    }
   ],
   "source": [
    "plt.rcParams.update({'figure.figsize': (14, 5)})\n",
    "plt.rcParams.update({'font.size': 14})\n",
    "\n",
    "# Compare Algorithms\n",
    "fig = plt.figure()\n",
    "fig.suptitle('Algorithm Comparison for Workout Score Datasets')\n",
    "ax = fig.add_subplot(111)\n",
    "plt.boxplot(results_sc)\n",
    "ax.set_xticklabels(names_sc)\n",
    "plt.show()"
   ]
  },
  {
   "cell_type": "markdown",
   "id": "solved-large",
   "metadata": {},
   "source": [
    "#### height&weight dataframe"
   ]
  },
  {
   "cell_type": "code",
   "execution_count": null,
   "id": "silent-seating",
   "metadata": {},
   "outputs": [],
   "source": [
    "classification_models_hw = []\n",
    "classification_models_hw.append(('Logistic Regression', LogisticRegression(solver=\"liblinear\")))\n",
    "classification_models_hw.append(('K Nearest Neighbor', KNeighborsClassifier(n_neighbors=5, metric=\"minkowski\",p=2)))\n",
    "#classification_models_hw.append(('Kernel SVM', SVC(kernel = 'rbf',gamma='scale')))\n",
    "classification_models_hw.append(('Naive Bayes', GaussianNB()))\n",
    "classification_models_hw.append(('Decision Tree', DecisionTreeClassifier(criterion = \"entropy\")))\n",
    "classification_models_hw.append(('Random Forest', RandomForestClassifier(n_estimators=100, criterion=\"entropy\")))\n",
    "\n",
    "results_hw = []\n",
    "names_hw = []\n",
    "for name, model in classification_models_hw:\n",
    "    kfold = KFold(n_splits=5, random_state=42, shuffle=True)\n",
    "    result = cross_val_score(model, X_train_preprocessed_hw, y_train_hw, cv=kfold, scoring='accuracy')\n",
    "    results_hw.append(result)\n",
    "    names_hw.append(name)\n",
    "    print(\"%s: Mean Accuracy = %.2f%% - SD Accuracy = %.2f%%\" % (name, result.mean()*100, result.std()*100))"
   ]
  },
  {
   "cell_type": "code",
   "execution_count": null,
   "id": "expected-breathing",
   "metadata": {},
   "outputs": [],
   "source": [
    "plt.rcParams.update({'figure.figsize': (14, 5)})\n",
    "plt.rcParams.update({'font.size': 14})\n",
    "\n",
    "# Compare Algorithms\n",
    "fig = plt.figure()\n",
    "fig.suptitle('Algorithm Comparison for Workout Score Datasets')\n",
    "ax = fig.add_subplot(111)\n",
    "plt.boxplot(results_hw)\n",
    "ax.set_xticklabels(names_hw)\n",
    "plt.show()"
   ]
  },
  {
   "cell_type": "markdown",
   "id": "sticky-burner",
   "metadata": {},
   "source": [
    "#### Scores +hw dataframe"
   ]
  },
  {
   "cell_type": "code",
   "execution_count": null,
   "id": "smoking-plane",
   "metadata": {},
   "outputs": [],
   "source": [
    "classification_models_sc_hw = []\n",
    "classification_models_sc_hw.append(('Logistic Regression', LogisticRegression(solver=\"liblinear\")))\n",
    "classification_models_sc_hw.append(('K Nearest Neighbor', KNeighborsClassifier(n_neighbors=5, metric=\"minkowski\",p=2)))\n",
    "#classification_models_sc_hw.append(('Kernel SVM', SVC(kernel = 'rbf',gamma='scale')))\n",
    "classification_models_sc_hw.append(('Naive Bayes', GaussianNB()))\n",
    "classification_models_sc_hw.append(('Decision Tree', DecisionTreeClassifier(criterion = \"entropy\")))\n",
    "classification_models_sc_hw.append(('Random Forest', RandomForestClassifier(n_estimators=100, criterion=\"entropy\")))\n",
    "\n",
    "results_sc_hw = []\n",
    "names_sc_hw = []\n",
    "for name, model in classification_models_sc_hw:\n",
    "    kfold = KFold(n_splits=5, random_state=42, shuffle=True)\n",
    "    result = cross_val_score(model, X_train_preprocessed_sc_hw, y_train_sc_hw, cv=kfold, scoring='accuracy')\n",
    "    results_sc_hw.append(result)\n",
    "    names_sc_hw.append(name)\n",
    "    print(\"%s: Mean Accuracy = %.2f%% - SD Accuracy = %.2f%%\" % (name, result.mean()*100, result.std()*100))"
   ]
  },
  {
   "cell_type": "code",
   "execution_count": null,
   "id": "satellite-mechanics",
   "metadata": {},
   "outputs": [],
   "source": [
    "plt.rcParams.update({'figure.figsize': (14, 5)})\n",
    "plt.rcParams.update({'font.size': 14})\n",
    "\n",
    "# Compare Algorithms\n",
    "fig = plt.figure()\n",
    "fig.suptitle('Algorithm Comparison for Workout Score Datasets')\n",
    "ax = fig.add_subplot(111)\n",
    "plt.boxplot(results_sc_hw)\n",
    "ax.set_xticklabels(names_sc_hw)\n",
    "plt.show()"
   ]
  },
  {
   "cell_type": "markdown",
   "id": "narrow-metallic",
   "metadata": {},
   "source": [
    "#### benchmark dataframe"
   ]
  },
  {
   "cell_type": "code",
   "execution_count": null,
   "id": "accepting-bleeding",
   "metadata": {},
   "outputs": [],
   "source": [
    "classification_models_bs = []\n",
    "classification_models_bs.append(('Logistic Regression', LogisticRegression(solver=\"liblinear\")))\n",
    "classification_models_bs.append(('K Nearest Neighbor', KNeighborsClassifier(n_neighbors=5, metric=\"minkowski\",p=2)))\n",
    "#classification_models_bs.append(('Kernel SVM', SVC(kernel = 'rbf',gamma='scale')))\n",
    "classification_models_bs.append(('Naive Bayes', GaussianNB()))\n",
    "classification_models_bs.append(('Decision Tree', DecisionTreeClassifier(criterion = \"entropy\")))\n",
    "classification_models_bs.append(('Random Forest', RandomForestClassifier(n_estimators=100, criterion=\"entropy\")))\n",
    "\n",
    "results_bs = []\n",
    "names_bs = []\n",
    "for name, model in classification_models_bs:\n",
    "    kfold = KFold(n_splits=5, random_state=42, shuffle=True)\n",
    "    result = cross_val_score(model, X_train_preprocessed_bs, y_train_bs, cv=kfold, scoring='accuracy')\n",
    "    results_bs.append(result)\n",
    "    names_bs.append(name)\n",
    "    print(\"%s: Mean Accuracy = %.2f%% - SD Accuracy = %.2f%%\" % (name, result.mean()*100, result.std()*100))"
   ]
  },
  {
   "cell_type": "code",
   "execution_count": null,
   "id": "fresh-agreement",
   "metadata": {},
   "outputs": [],
   "source": [
    "plt.rcParams.update({'figure.figsize': (14, 5)})\n",
    "plt.rcParams.update({'font.size': 14})\n",
    "\n",
    "# Compare Algorithms\n",
    "fig = plt.figure()\n",
    "fig.suptitle('Algorithm Comparison for Workout Score Datasets')\n",
    "ax = fig.add_subplot(111)\n",
    "plt.boxplot(results_bs)\n",
    "ax.set_xticklabels(names_bs)\n",
    "plt.show()"
   ]
  },
  {
   "cell_type": "markdown",
   "id": "pressed-representative",
   "metadata": {},
   "source": [
    "#### all data"
   ]
  },
  {
   "cell_type": "code",
   "execution_count": null,
   "id": "assigned-guinea",
   "metadata": {},
   "outputs": [],
   "source": [
    "classification_models_all = []\n",
    "classification_models_all.append(('Logistic Regression', LogisticRegression(solver=\"liblinear\")))\n",
    "classification_models_all.append(('K Nearest Neighbor', KNeighborsClassifier(n_neighbors=5, metric=\"minkowski\",p=2)))\n",
    "classification_models_all.append(('Kernel SVM', SVC(kernel = 'rbf',gamma='scale')))\n",
    "classification_models_all.append(('Naive Bayes', GaussianNB()))\n",
    "classification_models_all.append(('Decision Tree', DecisionTreeClassifier(criterion = \"entropy\")))\n",
    "classification_models_all.append(('Random Forest', RandomForestClassifier(n_estimators=100, criterion=\"entropy\")))\n",
    "\n",
    "results_all = []\n",
    "names_all = []\n",
    "for name, model in classification_models_all:\n",
    "    kfold = KFold(n_splits=5, random_state=42, shuffle=True)\n",
    "    result = cross_val_score(model, X_train_preprocessed_all, y_train_all, cv=kfold, scoring='accuracy')\n",
    "    results_all.append(result)\n",
    "    names_all.append(name)\n",
    "    print(\"%s: Mean Accuracy = %.2f%% - SD Accuracy = %.2f%%\" % (name, result.mean()*100, result.std()*100))"
   ]
  },
  {
   "cell_type": "code",
   "execution_count": null,
   "id": "vanilla-charter",
   "metadata": {},
   "outputs": [],
   "source": [
    "plt.rcParams.update({'figure.figsize': (14, 5)})\n",
    "plt.rcParams.update({'font.size': 14})\n",
    "\n",
    "# Compare Algorithms\n",
    "fig = plt.figure()\n",
    "fig.suptitle('Algorithm Comparison for Workout Score Datasets')\n",
    "ax = fig.add_subplot(111)\n",
    "plt.boxplot(results_all)\n",
    "ax.set_xticklabels(names_all)\n",
    "plt.show()"
   ]
  },
  {
   "cell_type": "markdown",
   "id": "hidden-protein",
   "metadata": {},
   "source": [
    "## Fine Tune Model"
   ]
  },
  {
   "cell_type": "markdown",
   "id": "surface-front",
   "metadata": {},
   "source": [
    "#### Scores dataframe"
   ]
  },
  {
   "cell_type": "code",
   "execution_count": 16,
   "id": "familiar-protection",
   "metadata": {},
   "outputs": [
    {
     "data": {
      "text/plain": [
       "RandomForestClassifier(n_jobs=-1, oob_score=True, random_state=42)"
      ]
     },
     "execution_count": 16,
     "metadata": {},
     "output_type": "execute_result"
    }
   ],
   "source": [
    "model_sc = RandomForestClassifier(\n",
    "    n_estimators = 100,\n",
    "    n_jobs = -1,\n",
    "    oob_score = True,\n",
    "    bootstrap = True,\n",
    "    random_state = 42\n",
    ")\n",
    "model_sc.fit(X_train_preprocessed_sc, y_train_sc)"
   ]
  },
  {
   "cell_type": "code",
   "execution_count": 17,
   "id": "finished-chance",
   "metadata": {},
   "outputs": [
    {
     "name": "stdout",
     "output_type": "stream",
     "text": [
      "Training Accuracy: 1.0000 \n",
      "OOB Accuracy: 0.7356 \n",
      "Validation Accuracy: 0.7399\n"
     ]
    }
   ],
   "source": [
    "print('Training Accuracy: {:.4f} \\nOOB Accuracy: {:.4f} \\nValidation Accuracy: {:.4f}'.format(model_sc.score(X_train_preprocessed_sc, y_train_sc), \n",
    "                                                                                              model_sc.oob_score_,\n",
    "                                                                                              model_sc.score(X_test_preprocessed_sc, y_test_sc)))"
   ]
  },
  {
   "cell_type": "code",
   "execution_count": 18,
   "id": "level-reverse",
   "metadata": {},
   "outputs": [],
   "source": [
    "# Defining parameter grid (as dictionary)\n",
    "param_grid = {\"max_depth\" : [10],\n",
    "              \"max_features\" : [10],\n",
    "              \"max_leaf_nodes\" : [500],\n",
    "              \"max_samples\" : [None],\n",
    "              #\"min_impurity_decrease\" : [0.001],\n",
    "              #\"min_impurity_split\" : [10],\n",
    "              #\"min_samples_leaf\" : [1],\n",
    "              #\"min_samples_split\" : [2],\n",
    "              #\"min_weight_fraction_leaf\" : [0.00000000001],\n",
    "              \"n_estimators\" : [100]\n",
    "             }\n",
    "scoring = 'accuracy'\n",
    "# Instantiate gridsearch and define the metric to optimize \n",
    "gs = GridSearchCV(model_sc, param_grid, cv=5, verbose=5, n_jobs=-1, scoring=scoring)"
   ]
  },
  {
   "cell_type": "code",
   "execution_count": 19,
   "id": "structured-blackjack",
   "metadata": {},
   "outputs": [
    {
     "name": "stdout",
     "output_type": "stream",
     "text": [
      "Fitting 5 folds for each of 1 candidates, totalling 5 fits\n"
     ]
    },
    {
     "data": {
      "text/plain": [
       "GridSearchCV(cv=5,\n",
       "             estimator=RandomForestClassifier(n_jobs=-1, oob_score=True,\n",
       "                                              random_state=42),\n",
       "             n_jobs=-1,\n",
       "             param_grid={'max_depth': [10], 'max_features': [10],\n",
       "                         'max_leaf_nodes': [500], 'max_samples': [None],\n",
       "                         'n_estimators': [100]},\n",
       "             scoring='accuracy', verbose=5)"
      ]
     },
     "execution_count": 19,
     "metadata": {},
     "output_type": "execute_result"
    }
   ],
   "source": [
    "gs.fit(X_train_preprocessed_sc, y_train_sc)"
   ]
  },
  {
   "cell_type": "code",
   "execution_count": 20,
   "id": "disciplinary-stranger",
   "metadata": {},
   "outputs": [
    {
     "name": "stdout",
     "output_type": "stream",
     "text": [
      " Results from Grid Search \n",
      "\n",
      " The best estimator across ALL searched params:\n",
      " RandomForestClassifier(max_depth=10, max_features=10, max_leaf_nodes=500,\n",
      "                       n_jobs=-1, oob_score=True, random_state=42)\n",
      "\n",
      " The best score across ALL searched params:\n",
      " 0.7527451405505837\n",
      "\n",
      " The best parameters across ALL searched params:\n",
      " {'max_depth': 10, 'max_features': 10, 'max_leaf_nodes': 500, 'max_samples': None, 'n_estimators': 100}\n"
     ]
    }
   ],
   "source": [
    "print(\" Results from Grid Search \" )\n",
    "print(\"\\n The best estimator across ALL searched params:\\n\",gs.best_estimator_)\n",
    "print(\"\\n The best score across ALL searched params:\\n\",gs.best_score_)\n",
    "print(\"\\n The best parameters across ALL searched params:\\n\",gs.best_params_)"
   ]
  },
  {
   "cell_type": "code",
   "execution_count": 21,
   "id": "proved-screw",
   "metadata": {},
   "outputs": [],
   "source": [
    "# XXX"
   ]
  },
  {
   "cell_type": "code",
   "execution_count": 22,
   "id": "radical-unknown",
   "metadata": {},
   "outputs": [
    {
     "data": {
      "text/plain": [
       "RandomForestClassifier(max_depth=10, max_features=10, max_leaf_nodes=500,\n",
       "                       n_jobs=-1, oob_score=True, random_state=42)"
      ]
     },
     "execution_count": 22,
     "metadata": {},
     "output_type": "execute_result"
    }
   ],
   "source": [
    "model_sc = RandomForestClassifier(\n",
    "    max_depth = 10,\n",
    "    max_features = 10,\n",
    "    max_leaf_nodes = 500,\n",
    "    max_samples = None,\n",
    "    n_estimators = 100,\n",
    "    n_jobs = -1,\n",
    "    oob_score = True,\n",
    "    bootstrap = True,\n",
    "    random_state = 42\n",
    ")\n",
    "model_sc.fit(X_train_preprocessed_sc, y_train_sc)"
   ]
  },
  {
   "cell_type": "code",
   "execution_count": 23,
   "id": "local-prague",
   "metadata": {},
   "outputs": [
    {
     "name": "stdout",
     "output_type": "stream",
     "text": [
      "Training Accuracy: 0.7670 \n",
      "OOB Accuracy: 0.7532 \n",
      "Validation Accuracy: 0.7534\n"
     ]
    }
   ],
   "source": [
    "print('Training Accuracy: {:.4f} \\nOOB Accuracy: {:.4f} \\nValidation Accuracy: {:.4f}'.format(model_sc.score(X_train_preprocessed_sc, y_train_sc), \n",
    "                                                                                              model_sc.oob_score_,\n",
    "                                                                                              model_sc.score(X_test_preprocessed_sc, y_test_sc)))"
   ]
  },
  {
   "cell_type": "markdown",
   "id": "active-listening",
   "metadata": {},
   "source": [
    "#### height&weight dataframe"
   ]
  },
  {
   "cell_type": "code",
   "execution_count": null,
   "id": "heard-hungarian",
   "metadata": {},
   "outputs": [],
   "source": [
    "model_hw = LogisticRegression(random_state = 42)\n",
    "model_hw.fit(X_train_preprocessed_hw, y_train_hw)"
   ]
  },
  {
   "cell_type": "code",
   "execution_count": null,
   "id": "continued-robert",
   "metadata": {},
   "outputs": [],
   "source": [
    "print('Training Accuracy: {:.4f} \\nValidation Accuracy: {:.4f}'.format(model_hw.score(X_train_preprocessed_hw, y_train_hw),\n",
    "                                                                       model_hw.score(X_test_preprocessed_hw, y_test_hw)))"
   ]
  },
  {
   "cell_type": "code",
   "execution_count": null,
   "id": "arctic-egyptian",
   "metadata": {},
   "outputs": [],
   "source": [
    "#LogisticRegression().get_params()"
   ]
  },
  {
   "cell_type": "code",
   "execution_count": null,
   "id": "median-spring",
   "metadata": {},
   "outputs": [],
   "source": [
    "# Defining parameter grid (as dictionary)\n",
    "param_grid = {\n",
    "    'C' : [5.0],\n",
    "    #'multi_class' : ['auto'],\n",
    "    'penalty' : ['l2'],\n",
    "    #'solver' : ['lbfgs'],\n",
    "    'tol' : [0.0001]\n",
    "             }\n",
    "scoring = 'accuracy'\n",
    "# Instantiate gridsearch and define the metric to optimize \n",
    "gs = GridSearchCV(model_hw, param_grid, cv=5, verbose=5, n_jobs=-1, scoring=scoring)\n",
    "\n",
    "gs.fit(X_train_preprocessed_hw, y_train_hw)"
   ]
  },
  {
   "cell_type": "code",
   "execution_count": null,
   "id": "soviet-waterproof",
   "metadata": {},
   "outputs": [],
   "source": [
    "print(\" Results from Grid Search \" )\n",
    "print(\"\\n The best estimator across ALL searched params:\\n\",gs.best_estimator_)\n",
    "print(\"\\n The best score across ALL searched params:\\n\",gs.best_score_)\n",
    "print(\"\\n The best parameters across ALL searched params:\\n\",gs.best_params_)"
   ]
  },
  {
   "cell_type": "code",
   "execution_count": null,
   "id": "international-folder",
   "metadata": {},
   "outputs": [],
   "source": [
    "# 0.6691250567855411"
   ]
  },
  {
   "cell_type": "code",
   "execution_count": null,
   "id": "respected-serbia",
   "metadata": {},
   "outputs": [],
   "source": [
    "model_hw = LogisticRegression(random_state = 42)\n",
    "model_hw.fit(X_train_preprocessed_hw, y_train_hw)"
   ]
  },
  {
   "cell_type": "code",
   "execution_count": null,
   "id": "behavioral-objective",
   "metadata": {},
   "outputs": [],
   "source": [
    "print('Training Accuracy: {:.4f} \\nValidation Accuracy: {:.4f}'.format(model_hw.score(X_train_preprocessed_hw, y_train_hw),\n",
    "                                                                       model_hw.score(X_test_preprocessed_hw, y_test_hw)))"
   ]
  },
  {
   "cell_type": "markdown",
   "id": "documentary-winning",
   "metadata": {},
   "source": [
    "#### Scores +hw dataframe"
   ]
  },
  {
   "cell_type": "code",
   "execution_count": null,
   "id": "restricted-template",
   "metadata": {},
   "outputs": [],
   "source": [
    "model_sc_hw = RandomForestClassifier(\n",
    "    n_estimators = 100,\n",
    "    n_jobs = -1,\n",
    "    oob_score = True,\n",
    "    bootstrap = True,\n",
    "    random_state = 42\n",
    ")\n",
    "model_sc_hw.fit(X_train_preprocessed_sc_hw, y_train_sc_hw)"
   ]
  },
  {
   "cell_type": "code",
   "execution_count": null,
   "id": "announced-stone",
   "metadata": {},
   "outputs": [],
   "source": [
    "print('Training Accuracy: {:.4f} \\nOOB Accuracy: {:.4f} \\nValidation Accuracy: {:.4f}'.format(model_sc_hw.score(X_train_preprocessed_sc_hw, y_train_sc_hw), \n",
    "                                                                                              model_sc_hw.oob_score_,\n",
    "                                                                                              model_sc_hw.score(X_test_preprocessed_sc_hw, y_test_sc_hw)))"
   ]
  },
  {
   "cell_type": "code",
   "execution_count": null,
   "id": "together-corps",
   "metadata": {},
   "outputs": [],
   "source": [
    "# Defining parameter grid (as dictionary)\n",
    "param_grid = {\"max_depth\" : [15],\n",
    "              \"max_features\" : [3],\n",
    "              #\"max_leaf_nodes\" : [800],\n",
    "              #\"max_samples\" : [None],\n",
    "              #\"min_impurity_decrease\" : [0.00001],\n",
    "              #\"min_impurity_split\" : [],\n",
    "              #\"min_samples_leaf\" : [1],\n",
    "              \"min_samples_split\" : [50],\n",
    "              #\"min_weight_fraction_leaf\" : [0.00000000001],\n",
    "              \"n_estimators\" : [100]\n",
    "             }\n",
    "scoring = 'accuracy'\n",
    "# Instantiate gridsearch and define the metric to optimize \n",
    "gs = GridSearchCV(model_sc_hw, param_grid, cv=5, verbose=5, n_jobs=-1, scoring=scoring)\n",
    "gs.fit(X_train_preprocessed_sc_hw, y_train_sc_hw)"
   ]
  },
  {
   "cell_type": "code",
   "execution_count": null,
   "id": "intense-powell",
   "metadata": {},
   "outputs": [],
   "source": [
    "print(\" Results from Grid Search \" )\n",
    "print(\"\\n The best estimator across ALL searched params:\\n\",gs.best_estimator_)\n",
    "print(\"\\n The best score across ALL searched params:\\n\",gs.best_score_)\n",
    "print(\"\\n The best parameters across ALL searched params:\\n\",gs.best_params_)"
   ]
  },
  {
   "cell_type": "code",
   "execution_count": null,
   "id": "pacific-arthur",
   "metadata": {},
   "outputs": [],
   "source": [
    "# 0.8010135980713142"
   ]
  },
  {
   "cell_type": "code",
   "execution_count": null,
   "id": "alive-ontario",
   "metadata": {},
   "outputs": [],
   "source": [
    "model_sc_hw = RandomForestClassifier(\n",
    "    max_depth = 15,\n",
    "    max_features = 3,\n",
    "    min_samples_split = 50,\n",
    "    n_estimators = 100,\n",
    "    n_jobs = -1,\n",
    "    oob_score = True,\n",
    "    bootstrap = True,\n",
    "    random_state = 42\n",
    ")\n",
    "model_sc_hw.fit(X_train_preprocessed_sc_hw, y_train_sc_hw)"
   ]
  },
  {
   "cell_type": "code",
   "execution_count": null,
   "id": "forced-inquiry",
   "metadata": {},
   "outputs": [],
   "source": [
    "print('Training Accuracy: {:.4f} \\nOOB Accuracy: {:.4f} \\nValidation Accuracy: {:.4f}'.format(model_sc_hw.score(X_train_preprocessed_sc_hw, y_train_sc_hw), \n",
    "                                                                                              model_sc_hw.oob_score_,\n",
    "                                                                                              model_sc_hw.score(X_test_preprocessed_sc_hw, y_test_sc_hw)))"
   ]
  },
  {
   "cell_type": "markdown",
   "id": "included-assets",
   "metadata": {},
   "source": [
    "#### Benchmark dataframe"
   ]
  },
  {
   "cell_type": "code",
   "execution_count": null,
   "id": "described-india",
   "metadata": {},
   "outputs": [],
   "source": [
    "model_bs = RandomForestClassifier(\n",
    "    n_estimators = 100,\n",
    "    n_jobs = -1,\n",
    "    oob_score = True,\n",
    "    bootstrap = True,\n",
    "    random_state = 42\n",
    ")\n",
    "model_bs.fit(X_train_preprocessed_bs, y_train_bs)"
   ]
  },
  {
   "cell_type": "code",
   "execution_count": null,
   "id": "educational-norfolk",
   "metadata": {},
   "outputs": [],
   "source": [
    "print('Training Accuracy: {:.4f} \\nOOB Accuracy: {:.4f} \\nValidation Accuracy: {:.4f}'.format(model_bs.score(X_train_preprocessed_bs, y_train_bs), \n",
    "                                                                                              model_bs.oob_score_,\n",
    "                                                                                              model_bs.score(X_test_preprocessed_bs, y_test_bs)))"
   ]
  },
  {
   "cell_type": "code",
   "execution_count": null,
   "id": "collaborative-chrome",
   "metadata": {},
   "outputs": [],
   "source": [
    "# Defining parameter grid (as dictionary)\n",
    "param_grid = {\"max_depth\" : [16,17,18,19,20],\n",
    "              \"max_features\" : [1,2,3,4],\n",
    "              #\"max_leaf_nodes\" : [155],\n",
    "              #\"max_samples\" : [None],\n",
    "              #\"min_impurity_decrease\" : [1e-5],\n",
    "              #\"min_impurity_split\" : [],\n",
    "              #\"min_samples_leaf\" : [1],\n",
    "              #\"min_samples_split\" : [50],\n",
    "              #\"min_weight_fraction_leaf\" : [0.00000000001],\n",
    "              \"n_estimators\" : [100]\n",
    "             }\n",
    "scoring = 'accuracy'\n",
    "# Instantiate gridsearch and define the metric to optimize \n",
    "gs = GridSearchCV(model_bs, param_grid, cv=5, verbose=5, n_jobs=-1, scoring=scoring)\n",
    "gs.fit(X_train_preprocessed_bs, y_train_bs)"
   ]
  },
  {
   "cell_type": "code",
   "execution_count": null,
   "id": "virgin-coupon",
   "metadata": {},
   "outputs": [],
   "source": [
    "print(\" Results from Grid Search \" )\n",
    "print(\"\\n The best estimator across ALL searched params:\\n\",gs.best_estimator_)\n",
    "print(\"\\n The best score across ALL searched params:\\n\",gs.best_score_)\n",
    "print(\"\\n The best parameters across ALL searched params:\\n\",gs.best_params_)"
   ]
  },
  {
   "cell_type": "code",
   "execution_count": null,
   "id": "competitive-large",
   "metadata": {},
   "outputs": [],
   "source": [
    "# 0.8589041095890411"
   ]
  },
  {
   "cell_type": "code",
   "execution_count": null,
   "id": "eleven-identifier",
   "metadata": {},
   "outputs": [],
   "source": [
    "model_bs = RandomForestClassifier(\n",
    "    max_depth = 18,\n",
    "    max_features = 2,\n",
    "    n_estimators = 100,\n",
    "    n_jobs = -1,\n",
    "    oob_score = True,\n",
    "    bootstrap = True,\n",
    "    random_state = 42\n",
    ")\n",
    "model_bs.fit(X_train_preprocessed_bs, y_train_bs)"
   ]
  },
  {
   "cell_type": "code",
   "execution_count": null,
   "id": "precise-magnet",
   "metadata": {},
   "outputs": [],
   "source": [
    "print('Training Accuracy: {:.4f} \\nOOB Accuracy: {:.4f} \\nValidation Accuracy: {:.4f}'.format(model_bs.score(X_train_preprocessed_bs, y_train_bs), \n",
    "                                                                                              model_bs.oob_score_,\n",
    "                                                                                              model_bs.score(X_test_preprocessed_bs, y_test_bs)))"
   ]
  },
  {
   "cell_type": "markdown",
   "id": "meaning-mobile",
   "metadata": {},
   "source": [
    "#### all data"
   ]
  },
  {
   "cell_type": "code",
   "execution_count": null,
   "id": "liquid-receptor",
   "metadata": {},
   "outputs": [],
   "source": [
    "model_all = RandomForestClassifier(\n",
    "    n_estimators = 100,\n",
    "    n_jobs = -1,\n",
    "    oob_score = True,\n",
    "    bootstrap = True,\n",
    "    random_state = 42\n",
    ")\n",
    "model_all.fit(X_train_preprocessed_all, y_train_all)"
   ]
  },
  {
   "cell_type": "code",
   "execution_count": null,
   "id": "choice-double",
   "metadata": {},
   "outputs": [],
   "source": [
    "print('Training Accuracy: {:.4f} \\nOOB Accuracy: {:.4f} \\nValidation Accuracy: {:.4f}'.format(model_all.score(X_train_preprocessed_all, y_train_all), \n",
    "                                                                                              model_all.oob_score_,\n",
    "                                                                                              model_all.score(X_test_preprocessed_all, y_test_all)))"
   ]
  },
  {
   "cell_type": "code",
   "execution_count": null,
   "id": "stopped-warning",
   "metadata": {},
   "outputs": [],
   "source": [
    "# Defining parameter grid (as dictionary)\n",
    "param_grid = {\"max_depth\" : [18],\n",
    "              \"max_features\" : [6],\n",
    "              #\"max_leaf_nodes\" : [100],\n",
    "              #\"max_samples\" : [None],\n",
    "              #\"min_impurity_decrease\" : [1e-5],\n",
    "              #\"min_impurity_split\" : [],\n",
    "              #\"min_samples_leaf\" : [1],\n",
    "              #\"min_samples_split\" : [50],\n",
    "              #\"min_weight_fraction_leaf\" : [0.00000000001],\n",
    "              \"n_estimators\" : [100]\n",
    "             }\n",
    "scoring = 'accuracy'\n",
    "# Instantiate gridsearch and define the metric to optimize \n",
    "gs = GridSearchCV(model_all, param_grid, cv=5, verbose=5, n_jobs=-1, scoring=scoring)\n",
    "gs.fit(X_train_preprocessed_all, y_train_all)"
   ]
  },
  {
   "cell_type": "code",
   "execution_count": null,
   "id": "extended-absence",
   "metadata": {},
   "outputs": [],
   "source": [
    "print(\" Results from Grid Search \" )\n",
    "print(\"\\n The best estimator across ALL searched params:\\n\",gs.best_estimator_)\n",
    "print(\"\\n The best score across ALL searched params:\\n\",gs.best_score_)\n",
    "print(\"\\n The best parameters across ALL searched params:\\n\",gs.best_params_)"
   ]
  },
  {
   "cell_type": "code",
   "execution_count": null,
   "id": "arranged-tractor",
   "metadata": {},
   "outputs": [],
   "source": [
    "# 0.8569299399190324"
   ]
  },
  {
   "cell_type": "code",
   "execution_count": null,
   "id": "accessible-scanning",
   "metadata": {},
   "outputs": [],
   "source": [
    "model_all = RandomForestClassifier(\n",
    "    max_depth = 18,\n",
    "    max_features = 6,\n",
    "    n_estimators = 100,\n",
    "    n_jobs = -1,\n",
    "    oob_score = True,\n",
    "    bootstrap = True,\n",
    "    random_state = 42\n",
    ")\n",
    "model_all.fit(X_train_preprocessed_all, y_train_all)"
   ]
  },
  {
   "cell_type": "code",
   "execution_count": null,
   "id": "interpreted-memory",
   "metadata": {},
   "outputs": [],
   "source": [
    "print('Training Accuracy: {:.4f} \\nOOB Accuracy: {:.4f} \\nValidation Accuracy: {:.4f}'.format(model_all.score(X_train_preprocessed_all, y_train_all), \n",
    "                                                                                              model_all.oob_score_,\n",
    "                                                                                              model_all.score(X_test_preprocessed_all, y_test_all)))"
   ]
  },
  {
   "cell_type": "markdown",
   "id": "precious-chuck",
   "metadata": {},
   "source": [
    "## Visualization"
   ]
  },
  {
   "cell_type": "markdown",
   "id": "negative-instrumentation",
   "metadata": {},
   "source": [
    "#### Scores dataframe"
   ]
  },
  {
   "cell_type": "code",
   "execution_count": 24,
   "id": "varying-still",
   "metadata": {},
   "outputs": [],
   "source": [
    "y_pred_sc = model_sc.predict(X_test_preprocessed_sc)"
   ]
  },
  {
   "cell_type": "code",
   "execution_count": 25,
   "id": "incorporate-moisture",
   "metadata": {},
   "outputs": [
    {
     "data": {
      "text/plain": [
       "array([[26869,  6274],\n",
       "       [ 8900, 19491]])"
      ]
     },
     "execution_count": 25,
     "metadata": {},
     "output_type": "execute_result"
    }
   ],
   "source": [
    "cf_sc = confusion_matrix(y_test_sc, y_pred_sc)\n",
    "cf_sc"
   ]
  },
  {
   "cell_type": "code",
   "execution_count": 26,
   "id": "optical-breed",
   "metadata": {},
   "outputs": [
    {
     "data": {
      "image/png": "[encoded data removed]",
      "text/plain": [
       "<Figure size 360x216 with 2 Axes>"
      ]
     },
     "metadata": {},
     "output_type": "display_data"
    }
   ],
   "source": [
    "plt.rcParams.update({'figure.figsize': (5, 3)})\n",
    "plt.rcParams.update({'font.size': 14})\n",
    "\n",
    "sns.set(font_scale=1.4) # for label size\n",
    "sns.heatmap(cf_sc, annot=True, annot_kws={\"size\": 16}) # font size\n",
    "\n",
    "plt.show()"
   ]
  },
  {
   "cell_type": "markdown",
   "id": "drawn-actor",
   "metadata": {},
   "source": [
    "#### height&weight dataframe"
   ]
  },
  {
   "cell_type": "code",
   "execution_count": null,
   "id": "large-stewart",
   "metadata": {},
   "outputs": [],
   "source": [
    "y_pred_hw = model_hw.predict(X_test_preprocessed_hw)\n",
    "cf_hw = confusion_matrix(y_test_hw, y_pred_hw)\n",
    "cf_hw"
   ]
  },
  {
   "cell_type": "code",
   "execution_count": null,
   "id": "israeli-natural",
   "metadata": {},
   "outputs": [],
   "source": [
    "plt.rcParams.update({'figure.figsize': (5, 3)})\n",
    "plt.rcParams.update({'font.size': 14})\n",
    "\n",
    "sns.set(font_scale=1.4) # for label size\n",
    "sns.heatmap(cf_hw, annot=True, annot_kws={\"size\": 16}) # font size\n",
    "\n",
    "plt.show()"
   ]
  },
  {
   "cell_type": "markdown",
   "id": "found-defense",
   "metadata": {},
   "source": [
    "#### Scores +hw dataframe"
   ]
  },
  {
   "cell_type": "code",
   "execution_count": null,
   "id": "decimal-penetration",
   "metadata": {},
   "outputs": [],
   "source": [
    "y_pred_sc_hw = model_sc_hw.predict(X_test_preprocessed_sc_hw)\n",
    "cf_sc_hw = confusion_matrix(y_test_sc_hw, y_pred_sc_hw)\n",
    "cf_sc_hw"
   ]
  },
  {
   "cell_type": "code",
   "execution_count": null,
   "id": "current-bicycle",
   "metadata": {},
   "outputs": [],
   "source": [
    "plt.rcParams.update({'figure.figsize': (5, 3)})\n",
    "plt.rcParams.update({'font.size': 14})\n",
    "\n",
    "sns.set(font_scale=1.4) # for label size\n",
    "sns.heatmap(cf_sc_hw, annot=True, annot_kws={\"size\": 16}) # font size\n",
    "\n",
    "plt.show()"
   ]
  },
  {
   "cell_type": "markdown",
   "id": "twelve-calcium",
   "metadata": {},
   "source": [
    "#### benchmark dataframe"
   ]
  },
  {
   "cell_type": "code",
   "execution_count": null,
   "id": "trying-principal",
   "metadata": {},
   "outputs": [],
   "source": [
    "y_pred_bs = model_bs.predict(X_test_preprocessed_bs)\n",
    "cf_bs = confusion_matrix(y_test_bs, y_pred_bs)\n",
    "cf_bs"
   ]
  },
  {
   "cell_type": "code",
   "execution_count": null,
   "id": "formal-given",
   "metadata": {},
   "outputs": [],
   "source": [
    "plt.rcParams.update({'figure.figsize': (5, 3)})\n",
    "plt.rcParams.update({'font.size': 14})\n",
    "\n",
    "sns.set(font_scale=1.4) # for label size\n",
    "sns.heatmap(cf_bs, annot=True, annot_kws={\"size\": 16}) # font size\n",
    "\n",
    "plt.show()"
   ]
  },
  {
   "cell_type": "markdown",
   "id": "spiritual-channel",
   "metadata": {},
   "source": [
    "#### all data"
   ]
  },
  {
   "cell_type": "code",
   "execution_count": null,
   "id": "greatest-patent",
   "metadata": {},
   "outputs": [],
   "source": [
    "y_pred_all = model_all.predict(X_test_preprocessed_all)\n",
    "cf_all = confusion_matrix(y_test_all, y_pred_all)\n",
    "cf_all"
   ]
  },
  {
   "cell_type": "code",
   "execution_count": null,
   "id": "connected-crossing",
   "metadata": {},
   "outputs": [],
   "source": [
    "plt.rcParams.update({'figure.figsize': (5, 3)})\n",
    "plt.rcParams.update({'font.size': 14})\n",
    "\n",
    "sns.set(font_scale=1.4) # for label size\n",
    "sns.heatmap(cf_all, annot=True, annot_kws={\"size\": 16}) # font size\n",
    "\n",
    "plt.show()"
   ]
  },
  {
   "cell_type": "markdown",
   "id": "desperate-serum",
   "metadata": {},
   "source": [
    "## Feature Importance"
   ]
  },
  {
   "cell_type": "markdown",
   "id": "unknown-angola",
   "metadata": {},
   "source": [
    "#### Scores dataframe"
   ]
  },
  {
   "cell_type": "code",
   "execution_count": 27,
   "id": "attempted-bathroom",
   "metadata": {},
   "outputs": [],
   "source": [
    "importance_sc = model_sc.feature_importances_"
   ]
  },
  {
   "cell_type": "code",
   "execution_count": 28,
   "id": "confident-relief",
   "metadata": {},
   "outputs": [
    {
     "data": {
      "image/png": "[encoded data removed]",
      "text/plain": [
       "<Figure size 720x720 with 1 Axes>"
      ]
     },
     "metadata": {},
     "output_type": "display_data"
    }
   ],
   "source": [
    "plt.rcParams.update({'figure.figsize': (10.0, 10.0)})\n",
    "plt.rcParams.update({'font.size': 14})\n",
    "\n",
    "sorted_idx = importance_sc.argsort()\n",
    "plt.barh(X_sc.columns[sorted_idx], importance_sc[sorted_idx])\n",
    "plt.xlabel(\"Random Forest Feature Importance\");"
   ]
  },
  {
   "cell_type": "markdown",
   "id": "apart-fellowship",
   "metadata": {},
   "source": [
    "#### height&weight dataframe"
   ]
  },
  {
   "cell_type": "code",
   "execution_count": null,
   "id": "pending-sheep",
   "metadata": {},
   "outputs": [],
   "source": []
  },
  {
   "cell_type": "markdown",
   "id": "manual-circulation",
   "metadata": {},
   "source": [
    "#### Scores +hw dataframe"
   ]
  },
  {
   "cell_type": "code",
   "execution_count": null,
   "id": "established-fight",
   "metadata": {},
   "outputs": [],
   "source": [
    "importance_sc_hw = model_sc_hw.feature_importances_\n",
    "\n",
    "sorted_idx = importance_sc_hw.argsort()\n",
    "plt.barh(X_sc_hw.columns[sorted_idx], importance_sc_hw[sorted_idx])\n",
    "plt.xlabel(\"Random Forest Feature Importance\");"
   ]
  },
  {
   "cell_type": "markdown",
   "id": "former-intention",
   "metadata": {},
   "source": [
    "#### benchmark dataframe"
   ]
  },
  {
   "cell_type": "code",
   "execution_count": null,
   "id": "proved-miller",
   "metadata": {},
   "outputs": [],
   "source": [
    "importance_bs = model_bs.feature_importances_\n",
    "\n",
    "sorted_idx = importance_bs.argsort()\n",
    "plt.barh(X_bs.columns[sorted_idx], importance_bs[sorted_idx])\n",
    "plt.xlabel(\"Random Forest Feature Importance\");"
   ]
  },
  {
   "cell_type": "markdown",
   "id": "olympic-springfield",
   "metadata": {},
   "source": [
    "#### all data"
   ]
  },
  {
   "cell_type": "code",
   "execution_count": null,
   "id": "seven-chicken",
   "metadata": {},
   "outputs": [],
   "source": [
    "importance_all = model_all.feature_importances_\n",
    "\n",
    "sorted_idx = importance_all.argsort()\n",
    "plt.barh(X_all.columns[sorted_idx], importance_all[sorted_idx])\n",
    "plt.xlabel(\"Random Forest Feature Importance\");"
   ]
  },
  {
   "cell_type": "code",
   "execution_count": null,
   "id": "comparative-isolation",
   "metadata": {},
   "outputs": [],
   "source": []
  }
 ],
 "metadata": {
  "kernelspec": {
   "display_name": "Python 3",
   "language": "python",
   "name": "python3"
  },
  "language_info": {
   "codemirror_mode": {
    "name": "ipython",
    "version": 3
   },
   "file_extension": ".py",
   "mimetype": "text/x-python",
   "name": "python",
   "nbconvert_exporter": "python",
   "pygments_lexer": "ipython3",
   "version": "3.8.5"
  }
 },
 "nbformat": 4,
 "nbformat_minor": 5
}
