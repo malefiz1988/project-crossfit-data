{
 "cells": [
  {
   "cell_type": "code",
   "execution_count": 78,
   "id": "occasional-glossary",
   "metadata": {},
   "outputs": [],
   "source": [
    "import numpy as np\n",
    "import pandas as pd\n",
    "\n",
    "import matplotlib.pyplot as plt\n",
    "import seaborn as sns\n",
    "\n",
    "from sklearn.model_selection import train_test_split\n",
    "from sklearn.preprocessing import StandardScaler\n",
    "from sklearn.model_selection import KFold\n",
    "from sklearn.model_selection import cross_val_score\n",
    "from sklearn.linear_model import LogisticRegression\n",
    "from sklearn.tree import DecisionTreeClassifier\n",
    "from sklearn.neighbors import KNeighborsClassifier\n",
    "from sklearn.ensemble import RandomForestClassifier\n",
    "from sklearn.naive_bayes import GaussianNB\n",
    "from sklearn.svm import SVC\n",
    "from sklearn.metrics import accuracy_score\n",
    "from sklearn.model_selection import GridSearchCV\n",
    "from sklearn.metrics import confusion_matrix"
   ]
  },
  {
   "cell_type": "code",
   "execution_count": 2,
   "id": "toxic-highway",
   "metadata": {},
   "outputs": [],
   "source": [
    "df = pd.read_csv('./data/2019_opens_clean.csv')"
   ]
  },
  {
   "cell_type": "markdown",
   "id": "nuclear-twelve",
   "metadata": {},
   "source": [
    "## Data Cleaning"
   ]
  },
  {
   "cell_type": "code",
   "execution_count": 3,
   "id": "fewer-count",
   "metadata": {},
   "outputs": [],
   "source": [
    "# drop column \"Unnamed\"\n",
    "df = df.loc[:, ~df.columns.str.contains('^Unnamed')]"
   ]
  },
  {
   "cell_type": "markdown",
   "id": "resident-exclusion",
   "metadata": {},
   "source": [
    "#### Scores dataframe"
   ]
  },
  {
   "cell_type": "code",
   "execution_count": 4,
   "id": "silent-voluntary",
   "metadata": {},
   "outputs": [],
   "source": [
    "# dataframe without benchmarks or height & weight\n",
    "# consider workout scores before 19.3\n",
    "scores_cols = ['competitorid', 'gender', 'age', \\\n",
    "               'time_2', \\\n",
    "               'scaled_1', 'scaled_2', \\\n",
    "               'w1_reps_total', \\\n",
    "               'w2_reps_total', 'w2_reps_t2b', 'w2_reps_du', \\\n",
    "               'w2_reps_sqcl', 'w2_rounds_completed', 'w2_tiebreak', \\\n",
    "               'w3_reps_total', 'w3_hspu_status']\n",
    "df_scores = df[scores_cols]\n",
    "\n",
    "# drop rows with missing age values\n",
    "df_scores = df_scores[df_scores['age'].notna()]\n",
    "# keep just rows with workouts 19.1-19.3 participated\n",
    "df_scores = df_scores[df_scores['w1_reps_total'].notna()]\n",
    "df_scores = df_scores[df_scores['w2_reps_total'].notna()]\n",
    "df_scores = df_scores[df_scores['w3_reps_total'].notna()]\n",
    "# drop data from 3rd workout\n",
    "df_scores.drop(index=1,columns='w3_reps_total',inplace=True)\n",
    "# drop rows with missing time values\n",
    "df_scores = df_scores[df_scores['time_2'].notna()]\n",
    "# set missing tiebreak values to zero\n",
    "df_scores['w2_tiebreak'].replace(np.NaN,0,inplace=True)\n",
    "# set categorical gender values to 1/0\n",
    "df_scores['gender'].replace(['M','F'],[1,0],inplace=True)\n",
    "# drop rows with unknown hspu status\n",
    "df_scores = df_scores[df_scores['w3_hspu_status'].notna()]\n",
    "# numeric values of hspu status as integer\n",
    "df_scores['w3_hspu_status'] = df_scores['w3_hspu_status'].astype(int)"
   ]
  },
  {
   "cell_type": "code",
   "execution_count": 5,
   "id": "dependent-concept",
   "metadata": {},
   "outputs": [
    {
     "data": {
      "text/plain": [
       "(267408, 14)"
      ]
     },
     "execution_count": 5,
     "metadata": {},
     "output_type": "execute_result"
    }
   ],
   "source": [
    "df_scores.shape"
   ]
  },
  {
   "cell_type": "code",
   "execution_count": 6,
   "id": "advisory-usage",
   "metadata": {},
   "outputs": [],
   "source": [
    "df_scores.to_csv('./data/classification_model_input_scores.csv')"
   ]
  },
  {
   "cell_type": "markdown",
   "id": "comfortable-cosmetic",
   "metadata": {},
   "source": [
    "#### height&weight dataframe"
   ]
  },
  {
   "cell_type": "code",
   "execution_count": 102,
   "id": "cultural-cornell",
   "metadata": {},
   "outputs": [],
   "source": [
    "# dataframe without heights & weights\n",
    "hw_cols = ['w3_hspu_status', 'height', 'weight', 'gender', 'age']\n",
    "df_hw = df[hw_cols]\n",
    "\n",
    "# drop rows with missing values\n",
    "df_hw = df_hw[df_hw['height'].notna()]\n",
    "df_hw = df_hw[df_hw['weight'].notna()]\n",
    "df_hw = df_hw[df_hw['age'].notna()]\n",
    "df_hw = df_hw[df_hw['w3_hspu_status'].notna()]\n",
    "# set categorical gender values to 1/0\n",
    "df_hw['gender'].replace(['M','F'],[1,0],inplace=True)\n",
    "# numeric values of hspu status as integer\n",
    "df_hw['w3_hspu_status'] = df_hw['w3_hspu_status'].astype(int)"
   ]
  },
  {
   "cell_type": "code",
   "execution_count": 103,
   "id": "buried-bachelor",
   "metadata": {},
   "outputs": [
    {
     "data": {
      "text/plain": [
       "(155298, 5)"
      ]
     },
     "execution_count": 103,
     "metadata": {},
     "output_type": "execute_result"
    }
   ],
   "source": [
    "df_hw.shape"
   ]
  },
  {
   "cell_type": "code",
   "execution_count": 105,
   "id": "smooth-private",
   "metadata": {},
   "outputs": [],
   "source": [
    "df_hw.to_csv('./data/classification_model_input_hw.csv')"
   ]
  },
  {
   "cell_type": "markdown",
   "id": "funky-thong",
   "metadata": {},
   "source": [
    "#### Scores +hw dataframe"
   ]
  },
  {
   "cell_type": "code",
   "execution_count": 152,
   "id": "divided-gamma",
   "metadata": {},
   "outputs": [],
   "source": [
    "# dataframe without benchmarks\n",
    "# including heights and weights statistics\n",
    "# consider workout scores before 19.3\n",
    "sc_hw_cols = ['competitorid', 'gender', 'age', \\\n",
    "              'time_2', 'scaled_1', 'scaled_2', \\\n",
    "              'w1_reps_total', 'w2_reps_total', 'w2_reps_t2b', 'w2_reps_du', 'w2_reps_sqcl', \\\n",
    "              'w2_rounds_completed', 'w2_tiebreak', 'w3_reps_total', 'w3_hspu_status', \\\n",
    "              'height', 'weight']\n",
    "df_sc_hw = df[sc_hw_cols]\n",
    "\n",
    "# drop rows with missing age values\n",
    "df_sc_hw = df_sc_hw[df_sc_hw['age'].notna()]\n",
    "# keep just rows with workouts 19.1-19.3 participated\n",
    "df_sc_hw = df_sc_hw[df_sc_hw['w1_reps_total'].notna()]\n",
    "df_sc_hw = df_sc_hw[df_sc_hw['w2_reps_total'].notna()]\n",
    "df_sc_hw = df_sc_hw[df_sc_hw['w3_reps_total'].notna()]\n",
    "# drop data from 3rd workout\n",
    "df_sc_hw.drop(index=1,columns='w3_reps_total',inplace=True)\n",
    "# drop rows with missing time values\n",
    "df_sc_hw = df_sc_hw[df_sc_hw['time_2'].notna()]\n",
    "# set missing tiebreak values to zero\n",
    "df_sc_hw['w2_tiebreak'].replace(np.NaN,0,inplace=True)\n",
    "# set categorical gender values to 1/0\n",
    "df_sc_hw['gender'].replace(['M','F'],[1,0],inplace=True)\n",
    "# drop rows with unknown hspu status\n",
    "df_sc_hw = df_sc_hw[df_sc_hw['w3_hspu_status'].notna()]\n",
    "# numeric values of hspu status as integer\n",
    "df_sc_hw['w3_hspu_status'] = df_sc_hw['w3_hspu_status'].astype(int)\n",
    "\n",
    "# drop rows with missing heights and weights\n",
    "df_sc_hw = df_sc_hw[df_sc_hw['height'].notna()]\n",
    "df_sc_hw = df_sc_hw[df_sc_hw['weight'].notna()]"
   ]
  },
  {
   "cell_type": "code",
   "execution_count": 153,
   "id": "physical-twenty",
   "metadata": {},
   "outputs": [
    {
     "data": {
      "text/plain": [
       "(145484, 16)"
      ]
     },
     "execution_count": 153,
     "metadata": {},
     "output_type": "execute_result"
    }
   ],
   "source": [
    "df_sc_hw.shape"
   ]
  },
  {
   "cell_type": "code",
   "execution_count": 155,
   "id": "miniature-sport",
   "metadata": {},
   "outputs": [],
   "source": [
    "df_sc_hw.to_csv('./data/classification_model_input_sc_hw.csv')"
   ]
  },
  {
   "cell_type": "markdown",
   "id": "perfect-little",
   "metadata": {},
   "source": [
    "#### benchmark dataframe"
   ]
  },
  {
   "cell_type": "code",
   "execution_count": 225,
   "id": "heard-evening",
   "metadata": {},
   "outputs": [],
   "source": [
    "# dataframe with benchmark statistics\n",
    "bs_cols = [\n",
    "    'gender', 'w3_hspu_status', \\\n",
    "    'bs_backsquat', 'bs_cleanandjerk', 'bs_snatch', 'bs_deadlift', \\\n",
    "    'bs_fightgonebad', 'bs_maxpull_ups', 'bs_fran', 'bs_grace', 'bs_helen', \\\n",
    "    'bs_filthy50', 'bs_sprint400m', 'bs_run5k']\n",
    "df_bs = df[bs_cols]\n",
    "\n",
    "# drop na\n",
    "df_bs = df_bs.dropna()\n",
    "\n",
    "# set categorical gender values to 1/0\n",
    "df_bs['gender'].replace(['M','F'],[1,0],inplace=True)\n",
    "# numeric values of hspu status as integer\n",
    "df_bs['w3_hspu_status'] = df_bs['w3_hspu_status'].astype(int)"
   ]
  },
  {
   "cell_type": "code",
   "execution_count": 226,
   "id": "indie-colon",
   "metadata": {},
   "outputs": [
    {
     "data": {
      "text/plain": [
       "(1947, 14)"
      ]
     },
     "execution_count": 226,
     "metadata": {},
     "output_type": "execute_result"
    }
   ],
   "source": [
    "df_bs.shape"
   ]
  },
  {
   "cell_type": "code",
   "execution_count": 228,
   "id": "contrary-compatibility",
   "metadata": {},
   "outputs": [],
   "source": [
    "df_bs.to_csv('./data/classification_model_input_bs.csv')"
   ]
  },
  {
   "cell_type": "markdown",
   "id": "aquatic-replica",
   "metadata": {},
   "source": [
    "#### all data"
   ]
  },
  {
   "cell_type": "code",
   "execution_count": 315,
   "id": "critical-burlington",
   "metadata": {},
   "outputs": [],
   "source": [
    "# dataframe with benchmark statistics\n",
    "all_cols = [\n",
    "    'competitorid', 'gender', 'age', \\\n",
    "    'time_2', 'scaled_1', 'scaled_2', \\\n",
    "    'w1_reps_total', 'w2_reps_total', 'w2_reps_t2b', 'w2_reps_du', 'w2_reps_sqcl', \\\n",
    "    'w2_rounds_completed', 'w2_tiebreak', 'w3_reps_total', 'w3_hspu_status', \\\n",
    "    'height', 'weight', \\\n",
    "    'bs_backsquat', 'bs_cleanandjerk', 'bs_snatch', 'bs_deadlift', \\\n",
    "    'bs_fightgonebad', 'bs_maxpull_ups', 'bs_fran', 'bs_grace', 'bs_helen', \\\n",
    "    'bs_filthy50', 'bs_sprint400m', 'bs_run5k']\n",
    "df_all = df[all_cols]\n",
    "\n",
    "# drop rows with missing age values\n",
    "df_all = df_all[df_all['age'].notna()]\n",
    "# keep just rows with workouts 19.1-19.3 participated\n",
    "df_all = df_all[df_all['w1_reps_total'].notna()]\n",
    "df_all = df_all[df_all['w2_reps_total'].notna()]\n",
    "df_all = df_all[df_all['w3_reps_total'].notna()]\n",
    "# drop data from 3rd workout\n",
    "df_all.drop(index=1,columns='w3_reps_total',inplace=True)\n",
    "# drop rows with missing time values\n",
    "df_all = df_all[df_all['time_2'].notna()]\n",
    "# set missing tiebreak values to zero\n",
    "df_all['w2_tiebreak'].replace(np.NaN,0,inplace=True)\n",
    "# set categorical gender values to 1/0\n",
    "df_all['gender'].replace(['M','F'],[1,0],inplace=True)\n",
    "# drop rows with unknown hspu status\n",
    "df_all = df_all[df_all['w3_hspu_status'].notna()]\n",
    "# numeric values of hspu status as integer\n",
    "df_all['w3_hspu_status'] = df_all['w3_hspu_status'].astype(int)\n",
    "\n",
    "# drop rows with missing heights and weights\n",
    "df_all = df_all[df_all['height'].notna()]\n",
    "df_all = df_all[df_all['weight'].notna()]\n",
    "\n",
    "# drop na\n",
    "df_all = df_all.dropna()"
   ]
  },
  {
   "cell_type": "code",
   "execution_count": 316,
   "id": "lyric-amino",
   "metadata": {},
   "outputs": [
    {
     "data": {
      "text/plain": [
       "(1855, 28)"
      ]
     },
     "execution_count": 316,
     "metadata": {},
     "output_type": "execute_result"
    }
   ],
   "source": [
    "df_all.shape"
   ]
  },
  {
   "cell_type": "code",
   "execution_count": 318,
   "id": "forward-folks",
   "metadata": {},
   "outputs": [],
   "source": [
    "df_all.to_csv('./data/classification_model_input_all.csv')"
   ]
  },
  {
   "cell_type": "markdown",
   "id": "faced-commonwealth",
   "metadata": {},
   "source": [
    "## Preprocessing"
   ]
  },
  {
   "cell_type": "markdown",
   "id": "imported-conversion",
   "metadata": {},
   "source": [
    "#### Scores dataframe"
   ]
  },
  {
   "cell_type": "code",
   "execution_count": 7,
   "id": "temporal-little",
   "metadata": {},
   "outputs": [],
   "source": [
    "# create train and test sets\n",
    "train_set_sc, test_set_sc = train_test_split(df_scores, test_size=0.3, random_state=42)\n",
    "\n",
    "# define target and features\n",
    "y_sc = df_scores['w3_hspu_status']\n",
    "X_sc = df_scores.drop(axis=1,columns='w3_hspu_status')\n",
    "\n",
    "# train test split for model evaluation\n",
    "X_train_sc, X_test_sc, y_train_sc, y_test_sc = train_test_split(X_sc, y_sc, random_state=42)"
   ]
  },
  {
   "cell_type": "code",
   "execution_count": 23,
   "id": "supposed-terrorism",
   "metadata": {},
   "outputs": [],
   "source": [
    "# define numerical features for scaling\n",
    "scale_cols = ['competitorid','age','time_2', \\\n",
    "              'w1_reps_total', 'w2_reps_total', 'w2_reps_t2b', \\\n",
    "              'w2_reps_du', 'w2_reps_sqcl', 'w2_rounds_completed', 'w2_tiebreak']\n",
    "\n",
    "# scaling numerical features\n",
    "scaler = StandardScaler()\n",
    "X_train_scaled_sc = scaler.fit_transform(X_train_sc[scale_cols])\n",
    "X_test_scaled_sc = scaler.transform(X_test_sc[scale_cols])\n",
    "\n",
    "X_train_preprocessed_sc = np.concatenate([X_train_scaled_sc, X_train_sc.drop(scale_cols, axis=1)], axis=1)\n",
    "X_test_preprocessed_sc = np.concatenate([X_test_scaled_sc, X_test_sc.drop(scale_cols, axis=1)], axis=1)"
   ]
  },
  {
   "cell_type": "markdown",
   "id": "toxic-trash",
   "metadata": {},
   "source": [
    "#### height&weight dataframe"
   ]
  },
  {
   "cell_type": "code",
   "execution_count": 106,
   "id": "younger-supplement",
   "metadata": {},
   "outputs": [],
   "source": [
    "# create train and test sets\n",
    "train_set_hw, test_set_hw = train_test_split(df_hw, test_size=0.3, random_state=42)\n",
    "\n",
    "# define target and features\n",
    "y_hw = df_hw['w3_hspu_status']\n",
    "X_hw = df_hw.drop(axis=1,columns='w3_hspu_status')\n",
    "\n",
    "# train test split for model evaluation\n",
    "X_train_hw, X_test_hw, y_train_hw, y_test_hw = train_test_split(X_hw, y_hw, random_state=42)\n",
    "\n",
    "# define numerical features for scaling\n",
    "scale_cols = ['age','weight','height']\n",
    "\n",
    "# scaling numerical features\n",
    "scaler = StandardScaler()\n",
    "X_train_scaled_hw = scaler.fit_transform(X_train_hw[scale_cols])\n",
    "X_test_scaled_hw = scaler.transform(X_test_hw[scale_cols])\n",
    "\n",
    "X_train_preprocessed_hw = np.concatenate([X_train_scaled_hw, X_train_hw.drop(scale_cols, axis=1)], axis=1)\n",
    "X_test_preprocessed_hw = np.concatenate([X_test_scaled_hw, X_test_hw.drop(scale_cols, axis=1)], axis=1)"
   ]
  },
  {
   "cell_type": "markdown",
   "id": "burning-phrase",
   "metadata": {},
   "source": [
    "#### Scores +hw dataframe"
   ]
  },
  {
   "cell_type": "code",
   "execution_count": 156,
   "id": "weird-field",
   "metadata": {},
   "outputs": [],
   "source": [
    "# create train and test sets\n",
    "train_set_sc_hw, test_set_sc_hw = train_test_split(df_sc_hw, test_size=0.3, random_state=42)\n",
    "\n",
    "# define target and features\n",
    "y_sc_hw = df_sc_hw['w3_hspu_status']\n",
    "X_sc_hw = df_sc_hw.drop(axis=1,columns='w3_hspu_status')\n",
    "\n",
    "# train test split for model evaluation\n",
    "X_train_sc_hw, X_test_sc_hw, y_train_sc_hw, y_test_sc_hw = train_test_split(X_sc_hw, y_sc_hw, random_state=42)\n",
    "\n",
    "# define numerical features for scaling\n",
    "scale_cols = ['competitorid','age','time_2', \\\n",
    "              'w1_reps_total', 'w2_reps_total', 'w2_reps_t2b', \\\n",
    "              'w2_reps_du', 'w2_reps_sqcl', 'w2_rounds_completed', 'w2_tiebreak', \\\n",
    "              'weight', 'height']\n",
    "\n",
    "# scaling numerical features\n",
    "scaler = StandardScaler()\n",
    "X_train_scaled_sc_hw = scaler.fit_transform(X_train_sc_hw[scale_cols])\n",
    "X_test_scaled_sc_hw = scaler.transform(X_test_sc_hw[scale_cols])\n",
    "\n",
    "X_train_preprocessed_sc_hw = np.concatenate([X_train_scaled_sc_hw, X_train_sc_hw.drop(scale_cols, axis=1)], axis=1)\n",
    "X_test_preprocessed_sc_hw = np.concatenate([X_test_scaled_sc_hw, X_test_sc_hw.drop(scale_cols, axis=1)], axis=1)"
   ]
  },
  {
   "cell_type": "markdown",
   "id": "split-killer",
   "metadata": {},
   "source": [
    "#### Benchmark dataframe"
   ]
  },
  {
   "cell_type": "code",
   "execution_count": 236,
   "id": "weekly-uganda",
   "metadata": {},
   "outputs": [],
   "source": [
    "# create train and test sets\n",
    "train_set_bs, test_set_bs = train_test_split(df_bs, test_size=0.3, random_state=42, stratify=df_bs[['w3_hspu_status']])\n",
    "\n",
    "# define target and features\n",
    "y_bs = df_bs['w3_hspu_status']\n",
    "X_bs = df_bs.drop(axis=1,columns='w3_hspu_status')\n",
    "\n",
    "# train test split for model evaluation\n",
    "X_train_bs, X_test_bs, y_train_bs, y_test_bs = train_test_split(X_bs, y_bs, random_state=42, stratify=df_bs[['w3_hspu_status']])\n",
    "\n",
    "# define numerical features for scaling\n",
    "scale_cols = [\n",
    "    'bs_backsquat', 'bs_cleanandjerk', 'bs_snatch', 'bs_deadlift', \\\n",
    "    'bs_fightgonebad', 'bs_maxpull_ups', 'bs_fran', 'bs_grace', 'bs_helen', \\\n",
    "    'bs_filthy50', 'bs_sprint400m', 'bs_run5k']\n",
    "\n",
    "# scaling numerical features\n",
    "scaler = StandardScaler()\n",
    "X_train_scaled_bs = scaler.fit_transform(X_train_bs[scale_cols])\n",
    "X_test_scaled_bs = scaler.transform(X_test_bs[scale_cols])\n",
    "\n",
    "X_train_preprocessed_bs = np.concatenate([X_train_scaled_bs, X_train_bs.drop(scale_cols, axis=1)], axis=1)\n",
    "X_test_preprocessed_bs = np.concatenate([X_test_scaled_bs, X_test_bs.drop(scale_cols, axis=1)], axis=1)"
   ]
  },
  {
   "cell_type": "markdown",
   "id": "negative-athens",
   "metadata": {},
   "source": [
    "#### all data"
   ]
  },
  {
   "cell_type": "code",
   "execution_count": 319,
   "id": "defined-thriller",
   "metadata": {},
   "outputs": [],
   "source": [
    "# create train and test sets\n",
    "train_set_all, test_set_all = train_test_split(df_all, test_size=0.3, random_state=42, stratify=df_all[['w3_hspu_status']])\n",
    "\n",
    "# define target and features\n",
    "y_all = df_all['w3_hspu_status']\n",
    "X_all = df_all.drop(axis=1,columns='w3_hspu_status')\n",
    "\n",
    "# train test split for model evaluation\n",
    "X_train_all, X_test_all, y_train_all, y_test_all = train_test_split(X_all, y_all, random_state=42, stratify=df_all[['w3_hspu_status']])\n",
    "\n",
    "# define numerical features for scaling\n",
    "scale_cols = [\n",
    "    'competitorid','age','time_2', \\\n",
    "    'w1_reps_total', 'w2_reps_total', 'w2_reps_t2b', \\\n",
    "    'w2_reps_du', 'w2_reps_sqcl', 'w2_rounds_completed', 'w2_tiebreak', \\\n",
    "    'weight', 'height', \\\n",
    "    'bs_backsquat', 'bs_cleanandjerk', 'bs_snatch', 'bs_deadlift', \\\n",
    "    'bs_fightgonebad', 'bs_maxpull_ups', 'bs_fran', 'bs_grace', 'bs_helen', \\\n",
    "    'bs_filthy50', 'bs_sprint400m', 'bs_run5k']\n",
    "\n",
    "# scaling numerical features\n",
    "scaler = StandardScaler()\n",
    "X_train_scaled_all = scaler.fit_transform(X_train_all[scale_cols])\n",
    "X_test_scaled_all = scaler.transform(X_test_all[scale_cols])\n",
    "\n",
    "X_train_preprocessed_all = np.concatenate([X_train_scaled_all, X_train_all.drop(scale_cols, axis=1)], axis=1)\n",
    "X_test_preprocessed_all = np.concatenate([X_test_scaled_all, X_test_all.drop(scale_cols, axis=1)], axis=1)"
   ]
  },
  {
   "cell_type": "markdown",
   "id": "expensive-sword",
   "metadata": {},
   "source": [
    "## Model Selection"
   ]
  },
  {
   "cell_type": "markdown",
   "id": "interpreted-mapping",
   "metadata": {},
   "source": [
    "### Dummy Accuracy"
   ]
  },
  {
   "cell_type": "code",
   "execution_count": 10,
   "id": "northern-comparative",
   "metadata": {},
   "outputs": [
    {
     "data": {
      "text/plain": [
       "1    138648\n",
       "0    128760\n",
       "Name: w3_hspu_status, dtype: int64"
      ]
     },
     "execution_count": 10,
     "metadata": {},
     "output_type": "execute_result"
    }
   ],
   "source": [
    "df_scores['w3_hspu_status'].value_counts()"
   ]
  },
  {
   "cell_type": "code",
   "execution_count": 11,
   "id": "loaded-bridge",
   "metadata": {},
   "outputs": [
    {
     "data": {
      "text/plain": [
       "0.5184886016873093"
      ]
     },
     "execution_count": 11,
     "metadata": {},
     "output_type": "execute_result"
    }
   ],
   "source": [
    "138648/(138648+128760)"
   ]
  },
  {
   "cell_type": "code",
   "execution_count": 107,
   "id": "naked-information",
   "metadata": {},
   "outputs": [
    {
     "data": {
      "text/plain": [
       "1    93604\n",
       "0    61694\n",
       "Name: w3_hspu_status, dtype: int64"
      ]
     },
     "execution_count": 107,
     "metadata": {},
     "output_type": "execute_result"
    }
   ],
   "source": [
    "df_hw['w3_hspu_status'].value_counts()"
   ]
  },
  {
   "cell_type": "code",
   "execution_count": 108,
   "id": "liquid-trainer",
   "metadata": {},
   "outputs": [
    {
     "data": {
      "text/plain": [
       "0.602737961853984"
      ]
     },
     "execution_count": 108,
     "metadata": {},
     "output_type": "execute_result"
    }
   ],
   "source": [
    "93604/(93604+61694)"
   ]
  },
  {
   "cell_type": "code",
   "execution_count": 157,
   "id": "powered-confirmation",
   "metadata": {},
   "outputs": [
    {
     "data": {
      "text/plain": [
       "1    88088\n",
       "0    57396\n",
       "Name: w3_hspu_status, dtype: int64"
      ]
     },
     "execution_count": 157,
     "metadata": {},
     "output_type": "execute_result"
    }
   ],
   "source": [
    "df_sc_hw['w3_hspu_status'].value_counts()"
   ]
  },
  {
   "cell_type": "code",
   "execution_count": 158,
   "id": "confirmed-reviewer",
   "metadata": {},
   "outputs": [
    {
     "data": {
      "text/plain": [
       "0.6054823898160623"
      ]
     },
     "execution_count": 158,
     "metadata": {},
     "output_type": "execute_result"
    }
   ],
   "source": [
    "88088/(88088+57396)"
   ]
  },
  {
   "cell_type": "code",
   "execution_count": 230,
   "id": "institutional-factory",
   "metadata": {},
   "outputs": [
    {
     "data": {
      "text/plain": [
       "1    1530\n",
       "0     417\n",
       "Name: w3_hspu_status, dtype: int64"
      ]
     },
     "execution_count": 230,
     "metadata": {},
     "output_type": "execute_result"
    }
   ],
   "source": [
    "df_bs['w3_hspu_status'].value_counts()"
   ]
  },
  {
   "cell_type": "code",
   "execution_count": 231,
   "id": "welcome-details",
   "metadata": {},
   "outputs": [
    {
     "data": {
      "text/plain": [
       "0.785824345146379"
      ]
     },
     "execution_count": 231,
     "metadata": {},
     "output_type": "execute_result"
    }
   ],
   "source": [
    "1530/(1530+417)"
   ]
  },
  {
   "cell_type": "code",
   "execution_count": 320,
   "id": "delayed-traffic",
   "metadata": {},
   "outputs": [
    {
     "data": {
      "text/plain": [
       "1    1469\n",
       "0     386\n",
       "Name: w3_hspu_status, dtype: int64"
      ]
     },
     "execution_count": 320,
     "metadata": {},
     "output_type": "execute_result"
    }
   ],
   "source": [
    "df_all['w3_hspu_status'].value_counts()"
   ]
  },
  {
   "cell_type": "code",
   "execution_count": 321,
   "id": "simplified-network",
   "metadata": {},
   "outputs": [
    {
     "data": {
      "text/plain": [
       "0.7919137466307278"
      ]
     },
     "execution_count": 321,
     "metadata": {},
     "output_type": "execute_result"
    }
   ],
   "source": [
    "1469/(1469+386)"
   ]
  },
  {
   "cell_type": "markdown",
   "id": "connected-armenia",
   "metadata": {},
   "source": [
    "##### to beat: Scores - 52% | hw - 60% | sc+hw - 61% | bs - 79% | all - 79%"
   ]
  },
  {
   "cell_type": "markdown",
   "id": "magnetic-weekend",
   "metadata": {},
   "source": [
    "### Comparison of Algorithms"
   ]
  },
  {
   "cell_type": "markdown",
   "id": "temporal-hybrid",
   "metadata": {},
   "source": [
    "#### Scores Dataframe"
   ]
  },
  {
   "cell_type": "code",
   "execution_count": 24,
   "id": "developing-jurisdiction",
   "metadata": {},
   "outputs": [
    {
     "name": "stdout",
     "output_type": "stream",
     "text": [
      "Logistic Regression: Mean Accuracy = 75.23% - SD Accuracy = 0.06%\n",
      "K Nearest Neighbor: Mean Accuracy = 74.39% - SD Accuracy = 0.15%\n",
      "Naive Bayes: Mean Accuracy = 71.88% - SD Accuracy = 0.16%\n",
      "Decision Tree: Mean Accuracy = 69.24% - SD Accuracy = 0.22%\n",
      "Random Forest: Mean Accuracy = 76.25% - SD Accuracy = 0.07%\n"
     ]
    }
   ],
   "source": [
    "classification_models_sc = []\n",
    "classification_models_sc.append(('Logistic Regression', LogisticRegression(solver=\"liblinear\")))\n",
    "classification_models_sc.append(('K Nearest Neighbor', KNeighborsClassifier(n_neighbors=5, metric=\"minkowski\",p=2)))\n",
    "#classification_models_sc.append(('Kernel SVM', SVC(kernel = 'rbf',gamma='scale')))\n",
    "classification_models_sc.append(('Naive Bayes', GaussianNB()))\n",
    "classification_models_sc.append(('Decision Tree', DecisionTreeClassifier(criterion = \"entropy\")))\n",
    "classification_models_sc.append(('Random Forest', RandomForestClassifier(n_estimators=100, criterion=\"entropy\")))\n",
    "\n",
    "results_sc = []\n",
    "names_sc = []\n",
    "for name, model in classification_models:\n",
    "    kfold = KFold(n_splits=5, random_state=42, shuffle=True)\n",
    "    result = cross_val_score(model, X_train_preprocessed_sc, y_train_sc, cv=kfold, scoring='accuracy')\n",
    "    results_sc.append(result)\n",
    "    names_sc.append(name)\n",
    "    print(\"%s: Mean Accuracy = %.2f%% - SD Accuracy = %.2f%%\" % (name, result.mean()*100, result.std()*100))"
   ]
  },
  {
   "cell_type": "code",
   "execution_count": 25,
   "id": "velvet-austria",
   "metadata": {},
   "outputs": [],
   "source": [
    "# results from unscaled data\n",
    "\n",
    "    #Logistic Regression: Mean Accuracy = 71.04% - SD Accuracy = 0.27%\n",
    "    #K Nearest Neighbor: Mean Accuracy = 62.73% - SD Accuracy = 0.19%\n",
    "    #Naive Bayes: Mean Accuracy = 68.46% - SD Accuracy = 0.14%\n",
    "    #Decision Tree: Mean Accuracy = 69.22% - SD Accuracy = 0.16%\n",
    "    #Random Forest: Mean Accuracy = 76.34% - SD Accuracy = 0.11%\n",
    "    \n",
    "# results from scaled data\n",
    "\n",
    "    #Logistic Regression: Mean Accuracy = 75.23% - SD Accuracy = 0.06%\n",
    "    #K Nearest Neighbor: Mean Accuracy = 74.39% - SD Accuracy = 0.15%\n",
    "    #Naive Bayes: Mean Accuracy = 71.88% - SD Accuracy = 0.16%\n",
    "    #Decision Tree: Mean Accuracy = 69.24% - SD Accuracy = 0.22%\n",
    "    #Random Forest: Mean Accuracy = 76.25% - SD Accuracy = 0.07%"
   ]
  },
  {
   "cell_type": "code",
   "execution_count": 26,
   "id": "satisfied-screen",
   "metadata": {},
   "outputs": [
    {
     "data": {
      "image/png": "[encoded data removed]",
      "text/plain": [
       "<Figure size 1008x360 with 1 Axes>"
      ]
     },
     "metadata": {
      "needs_background": "light"
     },
     "output_type": "display_data"
    }
   ],
   "source": [
    "plt.rcParams.update({'figure.figsize': (14, 5)})\n",
    "plt.rcParams.update({'font.size': 14})\n",
    "\n",
    "# Compare Algorithms\n",
    "fig = plt.figure()\n",
    "fig.suptitle('Algorithm Comparison for Workout Score Datasets')\n",
    "ax = fig.add_subplot(111)\n",
    "plt.boxplot(results_sc)\n",
    "ax.set_xticklabels(names_sc)\n",
    "plt.show()"
   ]
  },
  {
   "cell_type": "markdown",
   "id": "brutal-donna",
   "metadata": {},
   "source": [
    "#### height&weight dataframe"
   ]
  },
  {
   "cell_type": "code",
   "execution_count": 109,
   "id": "spiritual-likelihood",
   "metadata": {},
   "outputs": [
    {
     "name": "stdout",
     "output_type": "stream",
     "text": [
      "Logistic Regression: Mean Accuracy = 66.91% - SD Accuracy = 0.25%\n",
      "K Nearest Neighbor: Mean Accuracy = 64.43% - SD Accuracy = 0.18%\n",
      "Naive Bayes: Mean Accuracy = 63.76% - SD Accuracy = 0.20%\n",
      "Decision Tree: Mean Accuracy = 61.04% - SD Accuracy = 0.35%\n",
      "Random Forest: Mean Accuracy = 63.76% - SD Accuracy = 0.24%\n"
     ]
    }
   ],
   "source": [
    "classification_models_hw = []\n",
    "classification_models_hw.append(('Logistic Regression', LogisticRegression(solver=\"liblinear\")))\n",
    "classification_models_hw.append(('K Nearest Neighbor', KNeighborsClassifier(n_neighbors=5, metric=\"minkowski\",p=2)))\n",
    "#classification_models_hw.append(('Kernel SVM', SVC(kernel = 'rbf',gamma='scale')))\n",
    "classification_models_hw.append(('Naive Bayes', GaussianNB()))\n",
    "classification_models_hw.append(('Decision Tree', DecisionTreeClassifier(criterion = \"entropy\")))\n",
    "classification_models_hw.append(('Random Forest', RandomForestClassifier(n_estimators=100, criterion=\"entropy\")))\n",
    "\n",
    "results_hw = []\n",
    "names_hw = []\n",
    "for name, model in classification_models_hw:\n",
    "    kfold = KFold(n_splits=5, random_state=42, shuffle=True)\n",
    "    result = cross_val_score(model, X_train_preprocessed_hw, y_train_hw, cv=kfold, scoring='accuracy')\n",
    "    results_hw.append(result)\n",
    "    names_hw.append(name)\n",
    "    print(\"%s: Mean Accuracy = %.2f%% - SD Accuracy = %.2f%%\" % (name, result.mean()*100, result.std()*100))"
   ]
  },
  {
   "cell_type": "code",
   "execution_count": 110,
   "id": "aquatic-tiffany",
   "metadata": {},
   "outputs": [
    {
     "data": {
      "image/png": "[encoded data removed]",
      "text/plain": [
       "<Figure size 1008x360 with 1 Axes>"
      ]
     },
     "metadata": {},
     "output_type": "display_data"
    }
   ],
   "source": [
    "plt.rcParams.update({'figure.figsize': (14, 5)})\n",
    "plt.rcParams.update({'font.size': 14})\n",
    "\n",
    "# Compare Algorithms\n",
    "fig = plt.figure()\n",
    "fig.suptitle('Algorithm Comparison for Workout Score Datasets')\n",
    "ax = fig.add_subplot(111)\n",
    "plt.boxplot(results_hw)\n",
    "ax.set_xticklabels(names_hw)\n",
    "plt.show()"
   ]
  },
  {
   "cell_type": "markdown",
   "id": "elegant-viking",
   "metadata": {},
   "source": [
    "#### Scores +hw dataframe"
   ]
  },
  {
   "cell_type": "code",
   "execution_count": 159,
   "id": "greek-insured",
   "metadata": {},
   "outputs": [
    {
     "name": "stdout",
     "output_type": "stream",
     "text": [
      "Logistic Regression: Mean Accuracy = 78.11% - SD Accuracy = 0.13%\n",
      "K Nearest Neighbor: Mean Accuracy = 77.15% - SD Accuracy = 0.18%\n",
      "Naive Bayes: Mean Accuracy = 73.52% - SD Accuracy = 0.24%\n",
      "Decision Tree: Mean Accuracy = 72.59% - SD Accuracy = 0.29%\n",
      "Random Forest: Mean Accuracy = 79.55% - SD Accuracy = 0.09%\n"
     ]
    }
   ],
   "source": [
    "classification_models_sc_hw = []\n",
    "classification_models_sc_hw.append(('Logistic Regression', LogisticRegression(solver=\"liblinear\")))\n",
    "classification_models_sc_hw.append(('K Nearest Neighbor', KNeighborsClassifier(n_neighbors=5, metric=\"minkowski\",p=2)))\n",
    "#classification_models_sc_hw.append(('Kernel SVM', SVC(kernel = 'rbf',gamma='scale')))\n",
    "classification_models_sc_hw.append(('Naive Bayes', GaussianNB()))\n",
    "classification_models_sc_hw.append(('Decision Tree', DecisionTreeClassifier(criterion = \"entropy\")))\n",
    "classification_models_sc_hw.append(('Random Forest', RandomForestClassifier(n_estimators=100, criterion=\"entropy\")))\n",
    "\n",
    "results_sc_hw = []\n",
    "names_sc_hw = []\n",
    "for name, model in classification_models_sc_hw:\n",
    "    kfold = KFold(n_splits=5, random_state=42, shuffle=True)\n",
    "    result = cross_val_score(model, X_train_preprocessed_sc_hw, y_train_sc_hw, cv=kfold, scoring='accuracy')\n",
    "    results_sc_hw.append(result)\n",
    "    names_sc_hw.append(name)\n",
    "    print(\"%s: Mean Accuracy = %.2f%% - SD Accuracy = %.2f%%\" % (name, result.mean()*100, result.std()*100))"
   ]
  },
  {
   "cell_type": "code",
   "execution_count": 160,
   "id": "otherwise-target",
   "metadata": {},
   "outputs": [
    {
     "data": {
      "image/png": "[encoded data removed]",
      "text/plain": [
       "<Figure size 1008x360 with 1 Axes>"
      ]
     },
     "metadata": {},
     "output_type": "display_data"
    }
   ],
   "source": [
    "plt.rcParams.update({'figure.figsize': (14, 5)})\n",
    "plt.rcParams.update({'font.size': 14})\n",
    "\n",
    "# Compare Algorithms\n",
    "fig = plt.figure()\n",
    "fig.suptitle('Algorithm Comparison for Workout Score Datasets')\n",
    "ax = fig.add_subplot(111)\n",
    "plt.boxplot(results_sc_hw)\n",
    "ax.set_xticklabels(names_sc_hw)\n",
    "plt.show()"
   ]
  },
  {
   "cell_type": "markdown",
   "id": "vulnerable-supervisor",
   "metadata": {},
   "source": [
    "#### benchmark dataframe"
   ]
  },
  {
   "cell_type": "code",
   "execution_count": 237,
   "id": "pleased-intelligence",
   "metadata": {},
   "outputs": [
    {
     "name": "stdout",
     "output_type": "stream",
     "text": [
      "Logistic Regression: Mean Accuracy = 84.25% - SD Accuracy = 3.20%\n",
      "K Nearest Neighbor: Mean Accuracy = 83.08% - SD Accuracy = 2.08%\n",
      "Naive Bayes: Mean Accuracy = 80.75% - SD Accuracy = 2.15%\n",
      "Decision Tree: Mean Accuracy = 77.47% - SD Accuracy = 2.67%\n",
      "Random Forest: Mean Accuracy = 84.38% - SD Accuracy = 2.79%\n"
     ]
    }
   ],
   "source": [
    "classification_models_bs = []\n",
    "classification_models_bs.append(('Logistic Regression', LogisticRegression(solver=\"liblinear\")))\n",
    "classification_models_bs.append(('K Nearest Neighbor', KNeighborsClassifier(n_neighbors=5, metric=\"minkowski\",p=2)))\n",
    "#classification_models_bs.append(('Kernel SVM', SVC(kernel = 'rbf',gamma='scale')))\n",
    "classification_models_bs.append(('Naive Bayes', GaussianNB()))\n",
    "classification_models_bs.append(('Decision Tree', DecisionTreeClassifier(criterion = \"entropy\")))\n",
    "classification_models_bs.append(('Random Forest', RandomForestClassifier(n_estimators=100, criterion=\"entropy\")))\n",
    "\n",
    "results_bs = []\n",
    "names_bs = []\n",
    "for name, model in classification_models_bs:\n",
    "    kfold = KFold(n_splits=5, random_state=42, shuffle=True)\n",
    "    result = cross_val_score(model, X_train_preprocessed_bs, y_train_bs, cv=kfold, scoring='accuracy')\n",
    "    results_bs.append(result)\n",
    "    names_bs.append(name)\n",
    "    print(\"%s: Mean Accuracy = %.2f%% - SD Accuracy = %.2f%%\" % (name, result.mean()*100, result.std()*100))"
   ]
  },
  {
   "cell_type": "code",
   "execution_count": 238,
   "id": "marked-shade",
   "metadata": {},
   "outputs": [
    {
     "data": {
      "image/png": "[encoded data removed]",
      "text/plain": [
       "<Figure size 1008x360 with 1 Axes>"
      ]
     },
     "metadata": {},
     "output_type": "display_data"
    }
   ],
   "source": [
    "plt.rcParams.update({'figure.figsize': (14, 5)})\n",
    "plt.rcParams.update({'font.size': 14})\n",
    "\n",
    "# Compare Algorithms\n",
    "fig = plt.figure()\n",
    "fig.suptitle('Algorithm Comparison for Workout Score Datasets')\n",
    "ax = fig.add_subplot(111)\n",
    "plt.boxplot(results_bs)\n",
    "ax.set_xticklabels(names_bs)\n",
    "plt.show()"
   ]
  },
  {
   "cell_type": "markdown",
   "id": "vertical-manhattan",
   "metadata": {},
   "source": [
    "#### all data"
   ]
  },
  {
   "cell_type": "code",
   "execution_count": 323,
   "id": "configured-functionality",
   "metadata": {},
   "outputs": [
    {
     "name": "stdout",
     "output_type": "stream",
     "text": [
      "Logistic Regression: Mean Accuracy = 85.48% - SD Accuracy = 1.03%\n",
      "K Nearest Neighbor: Mean Accuracy = 84.18% - SD Accuracy = 1.37%\n",
      "Kernel SVM: Mean Accuracy = 85.91% - SD Accuracy = 1.79%\n",
      "Naive Bayes: Mean Accuracy = 80.16% - SD Accuracy = 1.88%\n",
      "Decision Tree: Mean Accuracy = 81.09% - SD Accuracy = 1.39%\n",
      "Random Forest: Mean Accuracy = 85.48% - SD Accuracy = 1.08%\n"
     ]
    }
   ],
   "source": [
    "classification_models_all = []\n",
    "classification_models_all.append(('Logistic Regression', LogisticRegression(solver=\"liblinear\")))\n",
    "classification_models_all.append(('K Nearest Neighbor', KNeighborsClassifier(n_neighbors=5, metric=\"minkowski\",p=2)))\n",
    "classification_models_all.append(('Kernel SVM', SVC(kernel = 'rbf',gamma='scale')))\n",
    "classification_models_all.append(('Naive Bayes', GaussianNB()))\n",
    "classification_models_all.append(('Decision Tree', DecisionTreeClassifier(criterion = \"entropy\")))\n",
    "classification_models_all.append(('Random Forest', RandomForestClassifier(n_estimators=100, criterion=\"entropy\")))\n",
    "\n",
    "results_all = []\n",
    "names_all = []\n",
    "for name, model in classification_models_all:\n",
    "    kfold = KFold(n_splits=5, random_state=42, shuffle=True)\n",
    "    result = cross_val_score(model, X_train_preprocessed_all, y_train_all, cv=kfold, scoring='accuracy')\n",
    "    results_all.append(result)\n",
    "    names_all.append(name)\n",
    "    print(\"%s: Mean Accuracy = %.2f%% - SD Accuracy = %.2f%%\" % (name, result.mean()*100, result.std()*100))"
   ]
  },
  {
   "cell_type": "code",
   "execution_count": 324,
   "id": "vietnamese-listing",
   "metadata": {},
   "outputs": [
    {
     "data": {
      "image/png": "[encoded data removed]",
      "text/plain": [
       "<Figure size 1008x360 with 1 Axes>"
      ]
     },
     "metadata": {},
     "output_type": "display_data"
    }
   ],
   "source": [
    "plt.rcParams.update({'figure.figsize': (14, 5)})\n",
    "plt.rcParams.update({'font.size': 14})\n",
    "\n",
    "# Compare Algorithms\n",
    "fig = plt.figure()\n",
    "fig.suptitle('Algorithm Comparison for Workout Score Datasets')\n",
    "ax = fig.add_subplot(111)\n",
    "plt.boxplot(results_all)\n",
    "ax.set_xticklabels(names_all)\n",
    "plt.show()"
   ]
  },
  {
   "cell_type": "markdown",
   "id": "biological-butter",
   "metadata": {},
   "source": [
    "## Fine Tune Model"
   ]
  },
  {
   "cell_type": "markdown",
   "id": "large-slope",
   "metadata": {},
   "source": [
    "#### Scores dataframe"
   ]
  },
  {
   "cell_type": "code",
   "execution_count": 344,
   "id": "decimal-controversy",
   "metadata": {},
   "outputs": [
    {
     "data": {
      "text/plain": [
       "RandomForestClassifier(n_jobs=-1, oob_score=True, random_state=42)"
      ]
     },
     "execution_count": 344,
     "metadata": {},
     "output_type": "execute_result"
    }
   ],
   "source": [
    "model_sc = RandomForestClassifier(\n",
    "    n_estimators = 100,\n",
    "    n_jobs = -1,\n",
    "    oob_score = True,\n",
    "    bootstrap = True,\n",
    "    random_state = 42\n",
    ")\n",
    "model_sc.fit(X_train_preprocessed_sc, y_train_sc)"
   ]
  },
  {
   "cell_type": "code",
   "execution_count": 345,
   "id": "yellow-revision",
   "metadata": {},
   "outputs": [
    {
     "name": "stdout",
     "output_type": "stream",
     "text": [
      "Training Accuracy: 1.0000 \n",
      "OOB Accuracy: 0.7597 \n",
      "Validation Accuracy: 0.7607\n"
     ]
    }
   ],
   "source": [
    "print('Training Accuracy: {:.4f} \\nOOB Accuracy: {:.4f} \\nValidation Accuracy: {:.4f}'.format(model_sc.score(X_train_preprocessed_sc, y_train_sc), \n",
    "                                                                                              model_sc.oob_score_,\n",
    "                                                                                              model_sc.score(X_test_preprocessed_sc, y_test_sc)))"
   ]
  },
  {
   "cell_type": "code",
   "execution_count": 346,
   "id": "english-south",
   "metadata": {},
   "outputs": [],
   "source": [
    "# Defining parameter grid (as dictionary)\n",
    "param_grid = {\"max_depth\" : [10],\n",
    "              \"max_features\" : [10],\n",
    "              \"max_leaf_nodes\" : [500],\n",
    "              \"max_samples\" : [None],\n",
    "              #\"min_impurity_decrease\" : [0.001],\n",
    "              #\"min_impurity_split\" : [10],\n",
    "              #\"min_samples_leaf\" : [1],\n",
    "              #\"min_samples_split\" : [2],\n",
    "              #\"min_weight_fraction_leaf\" : [0.00000000001],\n",
    "              \"n_estimators\" : [100]\n",
    "             }\n",
    "scoring = 'accuracy'\n",
    "# Instantiate gridsearch and define the metric to optimize \n",
    "gs = GridSearchCV(model_sc, param_grid, cv=5, verbose=5, n_jobs=-1, scoring=scoring)"
   ]
  },
  {
   "cell_type": "code",
   "execution_count": 347,
   "id": "rental-settlement",
   "metadata": {},
   "outputs": [
    {
     "name": "stdout",
     "output_type": "stream",
     "text": [
      "Fitting 5 folds for each of 1 candidates, totalling 5 fits\n"
     ]
    },
    {
     "data": {
      "text/plain": [
       "GridSearchCV(cv=5,\n",
       "             estimator=RandomForestClassifier(n_jobs=-1, oob_score=True,\n",
       "                                              random_state=42),\n",
       "             n_jobs=-1,\n",
       "             param_grid={'max_depth': [10], 'max_features': [10],\n",
       "                         'max_leaf_nodes': [500], 'max_samples': [None],\n",
       "                         'n_estimators': [100]},\n",
       "             scoring='accuracy', verbose=5)"
      ]
     },
     "execution_count": 347,
     "metadata": {},
     "output_type": "execute_result"
    }
   ],
   "source": [
    "gs.fit(X_train_preprocessed_sc, y_train_sc)"
   ]
  },
  {
   "cell_type": "code",
   "execution_count": 72,
   "id": "ethical-toilet",
   "metadata": {},
   "outputs": [
    {
     "name": "stdout",
     "output_type": "stream",
     "text": [
      " Results from Grid Search \n",
      "\n",
      " The best estimator across ALL searched params:\n",
      " RandomForestClassifier(max_depth=10, max_features=10, max_leaf_nodes=500,\n",
      "                       min_impurity_decrease=0.001, n_jobs=-1, oob_score=True,\n",
      "                       random_state=42)\n",
      "\n",
      " The best score across ALL searched params:\n",
      " 0.7659357016429389\n",
      "\n",
      " The best parameters across ALL searched params:\n",
      " {'max_depth': 10, 'max_features': 10, 'max_leaf_nodes': 500, 'max_samples': None, 'min_impurity_decrease': 0.001, 'n_estimators': 100}\n"
     ]
    }
   ],
   "source": [
    "print(\" Results from Grid Search \" )\n",
    "print(\"\\n The best estimator across ALL searched params:\\n\",gs.best_estimator_)\n",
    "print(\"\\n The best score across ALL searched params:\\n\",gs.best_score_)\n",
    "print(\"\\n The best parameters across ALL searched params:\\n\",gs.best_params_)"
   ]
  },
  {
   "cell_type": "code",
   "execution_count": null,
   "id": "serial-reconstruction",
   "metadata": {},
   "outputs": [],
   "source": [
    "# 0.7755439973628426"
   ]
  },
  {
   "cell_type": "code",
   "execution_count": 348,
   "id": "actual-canal",
   "metadata": {},
   "outputs": [
    {
     "data": {
      "text/plain": [
       "RandomForestClassifier(max_depth=10, max_features=10, max_leaf_nodes=500,\n",
       "                       n_jobs=-1, oob_score=True, random_state=42)"
      ]
     },
     "execution_count": 348,
     "metadata": {},
     "output_type": "execute_result"
    }
   ],
   "source": [
    "model_sc = RandomForestClassifier(\n",
    "    max_depth = 10,\n",
    "    max_features = 10,\n",
    "    max_leaf_nodes = 500,\n",
    "    max_samples = None,\n",
    "    n_estimators = 100,\n",
    "    n_jobs = -1,\n",
    "    oob_score = True,\n",
    "    bootstrap = True,\n",
    "    random_state = 42\n",
    ")\n",
    "model_sc.fit(X_train_preprocessed_sc, y_train_sc)"
   ]
  },
  {
   "cell_type": "code",
   "execution_count": 349,
   "id": "assumed-proxy",
   "metadata": {},
   "outputs": [
    {
     "name": "stdout",
     "output_type": "stream",
     "text": [
      "Training Accuracy: 0.7841 \n",
      "OOB Accuracy: 0.7752 \n",
      "Validation Accuracy: 0.7738\n"
     ]
    }
   ],
   "source": [
    "print('Training Accuracy: {:.4f} \\nOOB Accuracy: {:.4f} \\nValidation Accuracy: {:.4f}'.format(model_sc.score(X_train_preprocessed_sc, y_train_sc), \n",
    "                                                                                              model_sc.oob_score_,\n",
    "                                                                                              model_sc.score(X_test_preprocessed_sc, y_test_sc)))"
   ]
  },
  {
   "cell_type": "markdown",
   "id": "expired-bobby",
   "metadata": {},
   "source": [
    "#### height&weight dataframe"
   ]
  },
  {
   "cell_type": "code",
   "execution_count": 113,
   "id": "earned-progress",
   "metadata": {},
   "outputs": [
    {
     "data": {
      "text/plain": [
       "LogisticRegression(random_state=42)"
      ]
     },
     "execution_count": 113,
     "metadata": {},
     "output_type": "execute_result"
    }
   ],
   "source": [
    "model_hw = LogisticRegression(random_state = 42)\n",
    "model_hw.fit(X_train_preprocessed_hw, y_train_hw)"
   ]
  },
  {
   "cell_type": "code",
   "execution_count": 115,
   "id": "chief-charlotte",
   "metadata": {},
   "outputs": [
    {
     "name": "stdout",
     "output_type": "stream",
     "text": [
      "Training Accuracy: 0.6692 \n",
      "Validation Accuracy: 0.6714\n"
     ]
    }
   ],
   "source": [
    "print('Training Accuracy: {:.4f} \\nValidation Accuracy: {:.4f}'.format(model_hw.score(X_train_preprocessed_hw, y_train_hw),\n",
    "                                                                       model_hw.score(X_test_preprocessed_hw, y_test_hw)))"
   ]
  },
  {
   "cell_type": "code",
   "execution_count": 146,
   "id": "excess-veteran",
   "metadata": {},
   "outputs": [],
   "source": [
    "#LogisticRegression().get_params()"
   ]
  },
  {
   "cell_type": "code",
   "execution_count": 144,
   "id": "dimensional-belle",
   "metadata": {},
   "outputs": [
    {
     "name": "stdout",
     "output_type": "stream",
     "text": [
      "Fitting 5 folds for each of 1 candidates, totalling 5 fits\n"
     ]
    },
    {
     "data": {
      "text/plain": [
       "GridSearchCV(cv=5, estimator=LogisticRegression(random_state=42), n_jobs=-1,\n",
       "             param_grid={'C': [5.0], 'penalty': ['l2'], 'tol': [0.0001]},\n",
       "             scoring='accuracy', verbose=5)"
      ]
     },
     "execution_count": 144,
     "metadata": {},
     "output_type": "execute_result"
    }
   ],
   "source": [
    "# Defining parameter grid (as dictionary)\n",
    "param_grid = {\n",
    "    'C' : [5.0],\n",
    "    #'multi_class' : ['auto'],\n",
    "    'penalty' : ['l2'],\n",
    "    #'solver' : ['lbfgs'],\n",
    "    'tol' : [0.0001]\n",
    "             }\n",
    "scoring = 'accuracy'\n",
    "# Instantiate gridsearch and define the metric to optimize \n",
    "gs = GridSearchCV(model_hw, param_grid, cv=5, verbose=5, n_jobs=-1, scoring=scoring)\n",
    "\n",
    "gs.fit(X_train_preprocessed_hw, y_train_hw)"
   ]
  },
  {
   "cell_type": "code",
   "execution_count": 145,
   "id": "tutorial-intention",
   "metadata": {},
   "outputs": [
    {
     "name": "stdout",
     "output_type": "stream",
     "text": [
      " Results from Grid Search \n",
      "\n",
      " The best estimator across ALL searched params:\n",
      " LogisticRegression(C=5.0, random_state=42)\n",
      "\n",
      " The best score across ALL searched params:\n",
      " 0.6691250567855411\n",
      "\n",
      " The best parameters across ALL searched params:\n",
      " {'C': 5.0, 'penalty': 'l2', 'tol': 0.0001}\n"
     ]
    }
   ],
   "source": [
    "print(\" Results from Grid Search \" )\n",
    "print(\"\\n The best estimator across ALL searched params:\\n\",gs.best_estimator_)\n",
    "print(\"\\n The best score across ALL searched params:\\n\",gs.best_score_)\n",
    "print(\"\\n The best parameters across ALL searched params:\\n\",gs.best_params_)"
   ]
  },
  {
   "cell_type": "code",
   "execution_count": 143,
   "id": "crude-atlas",
   "metadata": {},
   "outputs": [],
   "source": [
    "# 0.6691250567855411"
   ]
  },
  {
   "cell_type": "code",
   "execution_count": 147,
   "id": "square-fourth",
   "metadata": {},
   "outputs": [
    {
     "data": {
      "text/plain": [
       "LogisticRegression(random_state=42)"
      ]
     },
     "execution_count": 147,
     "metadata": {},
     "output_type": "execute_result"
    }
   ],
   "source": [
    "model_hw = LogisticRegression(random_state = 42)\n",
    "model_hw.fit(X_train_preprocessed_hw, y_train_hw)"
   ]
  },
  {
   "cell_type": "code",
   "execution_count": 148,
   "id": "victorian-transformation",
   "metadata": {},
   "outputs": [
    {
     "name": "stdout",
     "output_type": "stream",
     "text": [
      "Training Accuracy: 0.6692 \n",
      "Validation Accuracy: 0.6714\n"
     ]
    }
   ],
   "source": [
    "print('Training Accuracy: {:.4f} \\nValidation Accuracy: {:.4f}'.format(model_hw.score(X_train_preprocessed_hw, y_train_hw),\n",
    "                                                                       model_hw.score(X_test_preprocessed_hw, y_test_hw)))"
   ]
  },
  {
   "cell_type": "markdown",
   "id": "stuffed-memorabilia",
   "metadata": {},
   "source": [
    "#### Scores +hw dataframe"
   ]
  },
  {
   "cell_type": "code",
   "execution_count": 161,
   "id": "forced-leader",
   "metadata": {},
   "outputs": [
    {
     "data": {
      "text/plain": [
       "RandomForestClassifier(n_jobs=-1, oob_score=True, random_state=42)"
      ]
     },
     "execution_count": 161,
     "metadata": {},
     "output_type": "execute_result"
    }
   ],
   "source": [
    "model_sc_hw = RandomForestClassifier(\n",
    "    n_estimators = 100,\n",
    "    n_jobs = -1,\n",
    "    oob_score = True,\n",
    "    bootstrap = True,\n",
    "    random_state = 42\n",
    ")\n",
    "model_sc_hw.fit(X_train_preprocessed_sc_hw, y_train_sc_hw)"
   ]
  },
  {
   "cell_type": "code",
   "execution_count": 162,
   "id": "based-pregnancy",
   "metadata": {},
   "outputs": [
    {
     "name": "stdout",
     "output_type": "stream",
     "text": [
      "Training Accuracy: 1.0000 \n",
      "OOB Accuracy: 0.7916 \n",
      "Validation Accuracy: 0.7978\n"
     ]
    }
   ],
   "source": [
    "print('Training Accuracy: {:.4f} \\nOOB Accuracy: {:.4f} \\nValidation Accuracy: {:.4f}'.format(model_sc_hw.score(X_train_preprocessed_sc_hw, y_train_sc_hw), \n",
    "                                                                                              model_sc_hw.oob_score_,\n",
    "                                                                                              model_sc_hw.score(X_test_preprocessed_sc_hw, y_test_sc_hw)))"
   ]
  },
  {
   "cell_type": "code",
   "execution_count": 216,
   "id": "broke-visibility",
   "metadata": {},
   "outputs": [
    {
     "name": "stdout",
     "output_type": "stream",
     "text": [
      "Fitting 5 folds for each of 3 candidates, totalling 15 fits\n"
     ]
    },
    {
     "data": {
      "text/plain": [
       "GridSearchCV(cv=5,\n",
       "             estimator=RandomForestClassifier(n_jobs=-1, oob_score=True,\n",
       "                                              random_state=42),\n",
       "             n_jobs=-1,\n",
       "             param_grid={'max_depth': [15], 'max_features': [3],\n",
       "                         'min_samples_split': [40, 50, 60],\n",
       "                         'n_estimators': [100]},\n",
       "             scoring='accuracy', verbose=5)"
      ]
     },
     "execution_count": 216,
     "metadata": {},
     "output_type": "execute_result"
    }
   ],
   "source": [
    "# Defining parameter grid (as dictionary)\n",
    "param_grid = {\"max_depth\" : [15],\n",
    "              \"max_features\" : [3],\n",
    "              #\"max_leaf_nodes\" : [800],\n",
    "              #\"max_samples\" : [None],\n",
    "              #\"min_impurity_decrease\" : [0.00001],\n",
    "              #\"min_impurity_split\" : [],\n",
    "              #\"min_samples_leaf\" : [1],\n",
    "              \"min_samples_split\" : [50],\n",
    "              #\"min_weight_fraction_leaf\" : [0.00000000001],\n",
    "              \"n_estimators\" : [100]\n",
    "             }\n",
    "scoring = 'accuracy'\n",
    "# Instantiate gridsearch and define the metric to optimize \n",
    "gs = GridSearchCV(model_sc_hw, param_grid, cv=5, verbose=5, n_jobs=-1, scoring=scoring)\n",
    "gs.fit(X_train_preprocessed_sc_hw, y_train_sc_hw)"
   ]
  },
  {
   "cell_type": "code",
   "execution_count": 217,
   "id": "selected-prophet",
   "metadata": {},
   "outputs": [
    {
     "name": "stdout",
     "output_type": "stream",
     "text": [
      " Results from Grid Search \n",
      "\n",
      " The best estimator across ALL searched params:\n",
      " RandomForestClassifier(max_depth=15, max_features=3, min_samples_split=50,\n",
      "                       n_jobs=-1, oob_score=True, random_state=42)\n",
      "\n",
      " The best score across ALL searched params:\n",
      " 0.8010135980713142\n",
      "\n",
      " The best parameters across ALL searched params:\n",
      " {'max_depth': 15, 'max_features': 3, 'min_samples_split': 50, 'n_estimators': 100}\n"
     ]
    }
   ],
   "source": [
    "print(\" Results from Grid Search \" )\n",
    "print(\"\\n The best estimator across ALL searched params:\\n\",gs.best_estimator_)\n",
    "print(\"\\n The best score across ALL searched params:\\n\",gs.best_score_)\n",
    "print(\"\\n The best parameters across ALL searched params:\\n\",gs.best_params_)"
   ]
  },
  {
   "cell_type": "code",
   "execution_count": 177,
   "id": "invalid-cloud",
   "metadata": {},
   "outputs": [],
   "source": [
    "# 0.8010135980713142"
   ]
  },
  {
   "cell_type": "code",
   "execution_count": 218,
   "id": "blocked-information",
   "metadata": {},
   "outputs": [
    {
     "data": {
      "text/plain": [
       "RandomForestClassifier(max_depth=15, max_features=3, min_samples_split=50,\n",
       "                       n_jobs=-1, oob_score=True, random_state=42)"
      ]
     },
     "execution_count": 218,
     "metadata": {},
     "output_type": "execute_result"
    }
   ],
   "source": [
    "model_sc_hw = RandomForestClassifier(\n",
    "    max_depth = 15,\n",
    "    max_features = 3,\n",
    "    min_samples_split = 50,\n",
    "    n_estimators = 100,\n",
    "    n_jobs = -1,\n",
    "    oob_score = True,\n",
    "    bootstrap = True,\n",
    "    random_state = 42\n",
    ")\n",
    "model_sc_hw.fit(X_train_preprocessed_sc_hw, y_train_sc_hw)"
   ]
  },
  {
   "cell_type": "code",
   "execution_count": 219,
   "id": "driving-taylor",
   "metadata": {},
   "outputs": [
    {
     "name": "stdout",
     "output_type": "stream",
     "text": [
      "Training Accuracy: 0.8344 \n",
      "OOB Accuracy: 0.8008 \n",
      "Validation Accuracy: 0.8020\n"
     ]
    }
   ],
   "source": [
    "print('Training Accuracy: {:.4f} \\nOOB Accuracy: {:.4f} \\nValidation Accuracy: {:.4f}'.format(model_sc_hw.score(X_train_preprocessed_sc_hw, y_train_sc_hw), \n",
    "                                                                                              model_sc_hw.oob_score_,\n",
    "                                                                                              model_sc_hw.score(X_test_preprocessed_sc_hw, y_test_sc_hw)))"
   ]
  },
  {
   "cell_type": "markdown",
   "id": "english-hypothetical",
   "metadata": {},
   "source": [
    "#### Benchmark dataframe"
   ]
  },
  {
   "cell_type": "code",
   "execution_count": 239,
   "id": "synthetic-coaching",
   "metadata": {},
   "outputs": [
    {
     "data": {
      "text/plain": [
       "RandomForestClassifier(n_jobs=-1, oob_score=True, random_state=42)"
      ]
     },
     "execution_count": 239,
     "metadata": {},
     "output_type": "execute_result"
    }
   ],
   "source": [
    "model_bs = RandomForestClassifier(\n",
    "    n_estimators = 100,\n",
    "    n_jobs = -1,\n",
    "    oob_score = True,\n",
    "    bootstrap = True,\n",
    "    random_state = 42\n",
    ")\n",
    "model_bs.fit(X_train_preprocessed_bs, y_train_bs)"
   ]
  },
  {
   "cell_type": "code",
   "execution_count": 241,
   "id": "heavy-cream",
   "metadata": {},
   "outputs": [
    {
     "name": "stdout",
     "output_type": "stream",
     "text": [
      "Training Accuracy: 1.0000 \n",
      "OOB Accuracy: 0.8404 \n",
      "Validation Accuracy: 0.8234\n"
     ]
    }
   ],
   "source": [
    "print('Training Accuracy: {:.4f} \\nOOB Accuracy: {:.4f} \\nValidation Accuracy: {:.4f}'.format(model_bs.score(X_train_preprocessed_bs, y_train_bs), \n",
    "                                                                                              model_bs.oob_score_,\n",
    "                                                                                              model_bs.score(X_test_preprocessed_bs, y_test_bs)))"
   ]
  },
  {
   "cell_type": "code",
   "execution_count": 305,
   "id": "civilian-growth",
   "metadata": {},
   "outputs": [
    {
     "name": "stdout",
     "output_type": "stream",
     "text": [
      "Fitting 5 folds for each of 20 candidates, totalling 100 fits\n"
     ]
    },
    {
     "data": {
      "text/plain": [
       "GridSearchCV(cv=5,\n",
       "             estimator=RandomForestClassifier(n_jobs=-1, oob_score=True,\n",
       "                                              random_state=42),\n",
       "             n_jobs=-1,\n",
       "             param_grid={'max_depth': [16, 17, 18, 19, 20],\n",
       "                         'max_features': [1, 2, 3, 4], 'n_estimators': [100]},\n",
       "             scoring='accuracy', verbose=5)"
      ]
     },
     "execution_count": 305,
     "metadata": {},
     "output_type": "execute_result"
    }
   ],
   "source": [
    "# Defining parameter grid (as dictionary)\n",
    "param_grid = {\"max_depth\" : [16,17,18,19,20],\n",
    "              \"max_features\" : [1,2,3,4],\n",
    "              #\"max_leaf_nodes\" : [155],\n",
    "              #\"max_samples\" : [None],\n",
    "              #\"min_impurity_decrease\" : [1e-5],\n",
    "              #\"min_impurity_split\" : [],\n",
    "              #\"min_samples_leaf\" : [1],\n",
    "              #\"min_samples_split\" : [50],\n",
    "              #\"min_weight_fraction_leaf\" : [0.00000000001],\n",
    "              \"n_estimators\" : [100]\n",
    "             }\n",
    "scoring = 'accuracy'\n",
    "# Instantiate gridsearch and define the metric to optimize \n",
    "gs = GridSearchCV(model_bs, param_grid, cv=5, verbose=5, n_jobs=-1, scoring=scoring)\n",
    "gs.fit(X_train_preprocessed_bs, y_train_bs)"
   ]
  },
  {
   "cell_type": "code",
   "execution_count": 306,
   "id": "biblical-tissue",
   "metadata": {},
   "outputs": [
    {
     "name": "stdout",
     "output_type": "stream",
     "text": [
      " Results from Grid Search \n",
      "\n",
      " The best estimator across ALL searched params:\n",
      " RandomForestClassifier(max_depth=18, max_features=2, n_jobs=-1, oob_score=True,\n",
      "                       random_state=42)\n",
      "\n",
      " The best score across ALL searched params:\n",
      " 0.8589041095890411\n",
      "\n",
      " The best parameters across ALL searched params:\n",
      " {'max_depth': 18, 'max_features': 2, 'n_estimators': 100}\n"
     ]
    }
   ],
   "source": [
    "print(\" Results from Grid Search \" )\n",
    "print(\"\\n The best estimator across ALL searched params:\\n\",gs.best_estimator_)\n",
    "print(\"\\n The best score across ALL searched params:\\n\",gs.best_score_)\n",
    "print(\"\\n The best parameters across ALL searched params:\\n\",gs.best_params_)"
   ]
  },
  {
   "cell_type": "code",
   "execution_count": 307,
   "id": "authentic-breakfast",
   "metadata": {},
   "outputs": [],
   "source": [
    "# 0.8589041095890411"
   ]
  },
  {
   "cell_type": "code",
   "execution_count": 308,
   "id": "incoming-naples",
   "metadata": {},
   "outputs": [
    {
     "data": {
      "text/plain": [
       "RandomForestClassifier(max_depth=18, max_features=2, n_jobs=-1, oob_score=True,\n",
       "                       random_state=42)"
      ]
     },
     "execution_count": 308,
     "metadata": {},
     "output_type": "execute_result"
    }
   ],
   "source": [
    "model_bs = RandomForestClassifier(\n",
    "    max_depth = 18,\n",
    "    max_features = 2,\n",
    "    n_estimators = 100,\n",
    "    n_jobs = -1,\n",
    "    oob_score = True,\n",
    "    bootstrap = True,\n",
    "    random_state = 42\n",
    ")\n",
    "model_bs.fit(X_train_preprocessed_bs, y_train_bs)"
   ]
  },
  {
   "cell_type": "code",
   "execution_count": 309,
   "id": "smoking-bearing",
   "metadata": {},
   "outputs": [
    {
     "name": "stdout",
     "output_type": "stream",
     "text": [
      "Training Accuracy: 1.0000 \n",
      "OOB Accuracy: 0.8466 \n",
      "Validation Accuracy: 0.8296\n"
     ]
    }
   ],
   "source": [
    "print('Training Accuracy: {:.4f} \\nOOB Accuracy: {:.4f} \\nValidation Accuracy: {:.4f}'.format(model_bs.score(X_train_preprocessed_bs, y_train_bs), \n",
    "                                                                                              model_bs.oob_score_,\n",
    "                                                                                              model_bs.score(X_test_preprocessed_bs, y_test_bs)))"
   ]
  },
  {
   "cell_type": "markdown",
   "id": "restricted-great",
   "metadata": {},
   "source": [
    "#### all data"
   ]
  },
  {
   "cell_type": "code",
   "execution_count": 325,
   "id": "based-pharmacy",
   "metadata": {},
   "outputs": [
    {
     "data": {
      "text/plain": [
       "RandomForestClassifier(n_jobs=-1, oob_score=True, random_state=42)"
      ]
     },
     "execution_count": 325,
     "metadata": {},
     "output_type": "execute_result"
    }
   ],
   "source": [
    "model_all = RandomForestClassifier(\n",
    "    n_estimators = 100,\n",
    "    n_jobs = -1,\n",
    "    oob_score = True,\n",
    "    bootstrap = True,\n",
    "    random_state = 42\n",
    ")\n",
    "model_all.fit(X_train_preprocessed_all, y_train_all)"
   ]
  },
  {
   "cell_type": "code",
   "execution_count": 326,
   "id": "broad-chancellor",
   "metadata": {},
   "outputs": [
    {
     "name": "stdout",
     "output_type": "stream",
     "text": [
      "Training Accuracy: 1.0000 \n",
      "OOB Accuracy: 0.8584 \n",
      "Validation Accuracy: 0.8513\n"
     ]
    }
   ],
   "source": [
    "print('Training Accuracy: {:.4f} \\nOOB Accuracy: {:.4f} \\nValidation Accuracy: {:.4f}'.format(model_all.score(X_train_preprocessed_all, y_train_all), \n",
    "                                                                                              model_all.oob_score_,\n",
    "                                                                                              model_all.score(X_test_preprocessed_all, y_test_all)))"
   ]
  },
  {
   "cell_type": "code",
   "execution_count": 337,
   "id": "alternative-rouge",
   "metadata": {},
   "outputs": [
    {
     "name": "stdout",
     "output_type": "stream",
     "text": [
      "Fitting 5 folds for each of 3 candidates, totalling 15 fits\n"
     ]
    },
    {
     "data": {
      "text/plain": [
       "GridSearchCV(cv=5,\n",
       "             estimator=RandomForestClassifier(n_jobs=-1, oob_score=True,\n",
       "                                              random_state=42),\n",
       "             n_jobs=-1,\n",
       "             param_grid={'max_depth': [18], 'max_features': [6],\n",
       "                         'max_leaf_nodes': [90, 100, 110],\n",
       "                         'n_estimators': [100]},\n",
       "             scoring='accuracy', verbose=5)"
      ]
     },
     "execution_count": 337,
     "metadata": {},
     "output_type": "execute_result"
    }
   ],
   "source": [
    "# Defining parameter grid (as dictionary)\n",
    "param_grid = {\"max_depth\" : [18],\n",
    "              \"max_features\" : [6],\n",
    "              #\"max_leaf_nodes\" : [100],\n",
    "              #\"max_samples\" : [None],\n",
    "              #\"min_impurity_decrease\" : [1e-5],\n",
    "              #\"min_impurity_split\" : [],\n",
    "              #\"min_samples_leaf\" : [1],\n",
    "              #\"min_samples_split\" : [50],\n",
    "              #\"min_weight_fraction_leaf\" : [0.00000000001],\n",
    "              \"n_estimators\" : [100]\n",
    "             }\n",
    "scoring = 'accuracy'\n",
    "# Instantiate gridsearch and define the metric to optimize \n",
    "gs = GridSearchCV(model_all, param_grid, cv=5, verbose=5, n_jobs=-1, scoring=scoring)\n",
    "gs.fit(X_train_preprocessed_all, y_train_all)"
   ]
  },
  {
   "cell_type": "code",
   "execution_count": 338,
   "id": "color-constant",
   "metadata": {},
   "outputs": [
    {
     "name": "stdout",
     "output_type": "stream",
     "text": [
      " Results from Grid Search \n",
      "\n",
      " The best estimator across ALL searched params:\n",
      " RandomForestClassifier(max_depth=18, max_features=6, max_leaf_nodes=100,\n",
      "                       n_jobs=-1, oob_score=True, random_state=42)\n",
      "\n",
      " The best score across ALL searched params:\n",
      " 0.8540393491658286\n",
      "\n",
      " The best parameters across ALL searched params:\n",
      " {'max_depth': 18, 'max_features': 6, 'max_leaf_nodes': 100, 'n_estimators': 100}\n"
     ]
    }
   ],
   "source": [
    "print(\" Results from Grid Search \" )\n",
    "print(\"\\n The best estimator across ALL searched params:\\n\",gs.best_estimator_)\n",
    "print(\"\\n The best score across ALL searched params:\\n\",gs.best_score_)\n",
    "print(\"\\n The best parameters across ALL searched params:\\n\",gs.best_params_)"
   ]
  },
  {
   "cell_type": "code",
   "execution_count": null,
   "id": "terminal-anatomy",
   "metadata": {},
   "outputs": [],
   "source": [
    "# 0.8569299399190324"
   ]
  },
  {
   "cell_type": "code",
   "execution_count": 339,
   "id": "important-contents",
   "metadata": {},
   "outputs": [
    {
     "data": {
      "text/plain": [
       "RandomForestClassifier(max_depth=18, max_features=6, n_jobs=-1, oob_score=True,\n",
       "                       random_state=42)"
      ]
     },
     "execution_count": 339,
     "metadata": {},
     "output_type": "execute_result"
    }
   ],
   "source": [
    "model_all = RandomForestClassifier(\n",
    "    max_depth = 18,\n",
    "    max_features = 6,\n",
    "    n_estimators = 100,\n",
    "    n_jobs = -1,\n",
    "    oob_score = True,\n",
    "    bootstrap = True,\n",
    "    random_state = 42\n",
    ")\n",
    "model_all.fit(X_train_preprocessed_all, y_train_all)"
   ]
  },
  {
   "cell_type": "code",
   "execution_count": 340,
   "id": "independent-signal",
   "metadata": {},
   "outputs": [
    {
     "name": "stdout",
     "output_type": "stream",
     "text": [
      "Training Accuracy: 1.0000 \n",
      "OOB Accuracy: 0.8505 \n",
      "Validation Accuracy: 0.8534\n"
     ]
    }
   ],
   "source": [
    "print('Training Accuracy: {:.4f} \\nOOB Accuracy: {:.4f} \\nValidation Accuracy: {:.4f}'.format(model_all.score(X_train_preprocessed_all, y_train_all), \n",
    "                                                                                              model_all.oob_score_,\n",
    "                                                                                              model_all.score(X_test_preprocessed_all, y_test_all)))"
   ]
  },
  {
   "cell_type": "markdown",
   "id": "honey-polls",
   "metadata": {},
   "source": [
    "## Visualization"
   ]
  },
  {
   "cell_type": "markdown",
   "id": "maritime-sound",
   "metadata": {},
   "source": [
    "#### Scores dataframe"
   ]
  },
  {
   "cell_type": "code",
   "execution_count": 350,
   "id": "loving-treasury",
   "metadata": {},
   "outputs": [],
   "source": [
    "y_pred_sc = model_sc.predict(X_test_preprocessed_sc)"
   ]
  },
  {
   "cell_type": "code",
   "execution_count": 351,
   "id": "endangered-favor",
   "metadata": {},
   "outputs": [
    {
     "data": {
      "text/plain": [
       "array([[26349,  5832],\n",
       "       [ 9291, 25380]])"
      ]
     },
     "execution_count": 351,
     "metadata": {},
     "output_type": "execute_result"
    }
   ],
   "source": [
    "cf_sc = confusion_matrix(y_test_sc, y_pred_sc)\n",
    "cf_sc"
   ]
  },
  {
   "cell_type": "code",
   "execution_count": 352,
   "id": "recorded-average",
   "metadata": {},
   "outputs": [
    {
     "data": {
      "image/png": "[encoded data removed]",
      "text/plain": [
       "<Figure size 360x216 with 2 Axes>"
      ]
     },
     "metadata": {},
     "output_type": "display_data"
    }
   ],
   "source": [
    "plt.rcParams.update({'figure.figsize': (5, 3)})\n",
    "plt.rcParams.update({'font.size': 14})\n",
    "\n",
    "sns.set(font_scale=1.4) # for label size\n",
    "sns.heatmap(cf_sc, annot=True, annot_kws={\"size\": 16}) # font size\n",
    "\n",
    "plt.show()"
   ]
  },
  {
   "cell_type": "markdown",
   "id": "excessive-cemetery",
   "metadata": {},
   "source": [
    "#### height&weight dataframe"
   ]
  },
  {
   "cell_type": "code",
   "execution_count": 149,
   "id": "executive-feeding",
   "metadata": {},
   "outputs": [
    {
     "data": {
      "text/plain": [
       "array([[ 6719,  8783],\n",
       "       [ 3973, 19350]])"
      ]
     },
     "execution_count": 149,
     "metadata": {},
     "output_type": "execute_result"
    }
   ],
   "source": [
    "y_pred_hw = model_hw.predict(X_test_preprocessed_hw)\n",
    "cf_hw = confusion_matrix(y_test_hw, y_pred_hw)\n",
    "cf_hw"
   ]
  },
  {
   "cell_type": "code",
   "execution_count": 150,
   "id": "processed-crack",
   "metadata": {},
   "outputs": [
    {
     "data": {
      "image/png": "[encoded data removed]",
      "text/plain": [
       "<Figure size 360x216 with 2 Axes>"
      ]
     },
     "metadata": {},
     "output_type": "display_data"
    }
   ],
   "source": [
    "plt.rcParams.update({'figure.figsize': (5, 3)})\n",
    "plt.rcParams.update({'font.size': 14})\n",
    "\n",
    "sns.set(font_scale=1.4) # for label size\n",
    "sns.heatmap(cf_hw, annot=True, annot_kws={\"size\": 16}) # font size\n",
    "\n",
    "plt.show()"
   ]
  },
  {
   "cell_type": "markdown",
   "id": "fatal-mexican",
   "metadata": {},
   "source": [
    "#### Scores +hw dataframe"
   ]
  },
  {
   "cell_type": "code",
   "execution_count": 220,
   "id": "strategic-heaven",
   "metadata": {},
   "outputs": [
    {
     "data": {
      "text/plain": [
       "array([[10770,  3658],\n",
       "       [ 3543, 18400]])"
      ]
     },
     "execution_count": 220,
     "metadata": {},
     "output_type": "execute_result"
    }
   ],
   "source": [
    "y_pred_sc_hw = model_sc_hw.predict(X_test_preprocessed_sc_hw)\n",
    "cf_sc_hw = confusion_matrix(y_test_sc_hw, y_pred_sc_hw)\n",
    "cf_sc_hw"
   ]
  },
  {
   "cell_type": "code",
   "execution_count": 221,
   "id": "popular-click",
   "metadata": {},
   "outputs": [
    {
     "data": {
      "image/png": "[encoded data removed]",
      "text/plain": [
       "<Figure size 360x216 with 2 Axes>"
      ]
     },
     "metadata": {},
     "output_type": "display_data"
    }
   ],
   "source": [
    "plt.rcParams.update({'figure.figsize': (5, 3)})\n",
    "plt.rcParams.update({'font.size': 14})\n",
    "\n",
    "sns.set(font_scale=1.4) # for label size\n",
    "sns.heatmap(cf_sc_hw, annot=True, annot_kws={\"size\": 16}) # font size\n",
    "\n",
    "plt.show()"
   ]
  },
  {
   "cell_type": "markdown",
   "id": "compact-silence",
   "metadata": {},
   "source": [
    "#### benchmark dataframe"
   ]
  },
  {
   "cell_type": "code",
   "execution_count": 310,
   "id": "heard-patrol",
   "metadata": {},
   "outputs": [
    {
     "data": {
      "text/plain": [
       "array([[ 48,  56],\n",
       "       [ 27, 356]])"
      ]
     },
     "execution_count": 310,
     "metadata": {},
     "output_type": "execute_result"
    }
   ],
   "source": [
    "y_pred_bs = model_bs.predict(X_test_preprocessed_bs)\n",
    "cf_bs = confusion_matrix(y_test_bs, y_pred_bs)\n",
    "cf_bs"
   ]
  },
  {
   "cell_type": "code",
   "execution_count": 311,
   "id": "aggressive-argument",
   "metadata": {},
   "outputs": [
    {
     "data": {
      "image/png": "[encoded data removed]",
      "text/plain": [
       "<Figure size 360x216 with 2 Axes>"
      ]
     },
     "metadata": {},
     "output_type": "display_data"
    }
   ],
   "source": [
    "plt.rcParams.update({'figure.figsize': (5, 3)})\n",
    "plt.rcParams.update({'font.size': 14})\n",
    "\n",
    "sns.set(font_scale=1.4) # for label size\n",
    "sns.heatmap(cf_bs, annot=True, annot_kws={\"size\": 16}) # font size\n",
    "\n",
    "plt.show()"
   ]
  },
  {
   "cell_type": "markdown",
   "id": "pleasant-lewis",
   "metadata": {},
   "source": [
    "#### all data"
   ]
  },
  {
   "cell_type": "code",
   "execution_count": 341,
   "id": "entitled-advice",
   "metadata": {},
   "outputs": [
    {
     "data": {
      "text/plain": [
       "array([[ 55,  42],\n",
       "       [ 26, 341]])"
      ]
     },
     "execution_count": 341,
     "metadata": {},
     "output_type": "execute_result"
    }
   ],
   "source": [
    "y_pred_all = model_all.predict(X_test_preprocessed_all)\n",
    "cf_all = confusion_matrix(y_test_all, y_pred_all)\n",
    "cf_all"
   ]
  },
  {
   "cell_type": "code",
   "execution_count": 342,
   "id": "young-parking",
   "metadata": {},
   "outputs": [
    {
     "data": {
      "image/png": "[encoded data removed]",
      "text/plain": [
       "<Figure size 360x216 with 2 Axes>"
      ]
     },
     "metadata": {},
     "output_type": "display_data"
    }
   ],
   "source": [
    "plt.rcParams.update({'figure.figsize': (5, 3)})\n",
    "plt.rcParams.update({'font.size': 14})\n",
    "\n",
    "sns.set(font_scale=1.4) # for label size\n",
    "sns.heatmap(cf_all, annot=True, annot_kws={\"size\": 16}) # font size\n",
    "\n",
    "plt.show()"
   ]
  },
  {
   "cell_type": "markdown",
   "id": "choice-contrary",
   "metadata": {},
   "source": [
    "## Feature Importance"
   ]
  },
  {
   "cell_type": "markdown",
   "id": "rental-cradle",
   "metadata": {},
   "source": [
    "#### Scores dataframe"
   ]
  },
  {
   "cell_type": "code",
   "execution_count": 353,
   "id": "behavioral-australian",
   "metadata": {},
   "outputs": [],
   "source": [
    "importance_sc = model_sc.feature_importances_"
   ]
  },
  {
   "cell_type": "code",
   "execution_count": 361,
   "id": "color-wagner",
   "metadata": {},
   "outputs": [
    {
     "data": {
      "image/png": "[encoded data removed]",
      "text/plain": [
       "<Figure size 720x720 with 1 Axes>"
      ]
     },
     "metadata": {},
     "output_type": "display_data"
    }
   ],
   "source": [
    "plt.rcParams.update({'figure.figsize': (10.0, 10.0)})\n",
    "plt.rcParams.update({'font.size': 14})\n",
    "\n",
    "sorted_idx = importance_sc.argsort()\n",
    "plt.barh(X_sc.columns[sorted_idx], importance_sc[sorted_idx])\n",
    "plt.xlabel(\"Random Forest Feature Importance\");"
   ]
  },
  {
   "cell_type": "markdown",
   "id": "random-tragedy",
   "metadata": {},
   "source": [
    "#### height&weight dataframe"
   ]
  },
  {
   "cell_type": "code",
   "execution_count": null,
   "id": "inappropriate-cornell",
   "metadata": {},
   "outputs": [],
   "source": []
  },
  {
   "cell_type": "markdown",
   "id": "typical-nancy",
   "metadata": {},
   "source": [
    "#### Scores +hw dataframe"
   ]
  },
  {
   "cell_type": "code",
   "execution_count": 362,
   "id": "wound-wichita",
   "metadata": {},
   "outputs": [
    {
     "data": {
      "image/png": "[encoded data removed]",
      "text/plain": [
       "<Figure size 720x720 with 1 Axes>"
      ]
     },
     "metadata": {},
     "output_type": "display_data"
    }
   ],
   "source": [
    "importance_sc_hw = model_sc_hw.feature_importances_\n",
    "\n",
    "sorted_idx = importance_sc_hw.argsort()\n",
    "plt.barh(X_sc_hw.columns[sorted_idx], importance_sc_hw[sorted_idx])\n",
    "plt.xlabel(\"Random Forest Feature Importance\");"
   ]
  },
  {
   "cell_type": "markdown",
   "id": "insured-techno",
   "metadata": {},
   "source": [
    "#### benchmark dataframe"
   ]
  },
  {
   "cell_type": "code",
   "execution_count": 363,
   "id": "fatal-house",
   "metadata": {},
   "outputs": [
    {
     "data": {
      "image/png": "[encoded data removed]",
      "text/plain": [
       "<Figure size 720x720 with 1 Axes>"
      ]
     },
     "metadata": {},
     "output_type": "display_data"
    }
   ],
   "source": [
    "importance_bs = model_bs.feature_importances_\n",
    "\n",
    "sorted_idx = importance_bs.argsort()\n",
    "plt.barh(X_bs.columns[sorted_idx], importance_bs[sorted_idx])\n",
    "plt.xlabel(\"Random Forest Feature Importance\");"
   ]
  },
  {
   "cell_type": "markdown",
   "id": "bearing-playlist",
   "metadata": {},
   "source": [
    "#### all data"
   ]
  },
  {
   "cell_type": "code",
   "execution_count": 364,
   "id": "abstract-review",
   "metadata": {},
   "outputs": [
    {
     "data": {
      "image/png": "[encoded data removed]",
      "text/plain": [
       "<Figure size 720x720 with 1 Axes>"
      ]
     },
     "metadata": {},
     "output_type": "display_data"
    }
   ],
   "source": [
    "importance_all = model_all.feature_importances_\n",
    "\n",
    "sorted_idx = importance_all.argsort()\n",
    "plt.barh(X_all.columns[sorted_idx], importance_all[sorted_idx])\n",
    "plt.xlabel(\"Random Forest Feature Importance\");"
   ]
  },
  {
   "cell_type": "code",
   "execution_count": null,
   "id": "excellent-ancient",
   "metadata": {},
   "outputs": [],
   "source": []
  }
 ],
 "metadata": {
  "kernelspec": {
   "display_name": "Python 3",
   "language": "python",
   "name": "python3"
  },
  "language_info": {
   "codemirror_mode": {
    "name": "ipython",
    "version": 3
   },
   "file_extension": ".py",
   "mimetype": "text/x-python",
   "name": "python",
   "nbconvert_exporter": "python",
   "pygments_lexer": "ipython3",
   "version": "3.8.5"
  }
 },
 "nbformat": 4,
 "nbformat_minor": 5
}
